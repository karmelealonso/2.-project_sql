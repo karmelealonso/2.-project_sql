{
 "cells": [
  {
   "cell_type": "markdown",
   "id": "21d7b9e5",
   "metadata": {},
   "source": [
    "# Building mySQL Data-base"
   ]
  },
  {
   "cell_type": "code",
   "execution_count": 1,
   "id": "a7615b68",
   "metadata": {},
   "outputs": [],
   "source": [
    "import pandas as pd\n",
    "pd.set_option('display.max_columns', None)\n",
    "\n",
    "\n",
    "import numpy as np\n",
    "\n",
    "import warnings\n",
    "warnings.filterwarnings('ignore')\n",
    "\n",
    "\n",
    "import pylab as plt  # import matplotlib.pyplot as plt\n",
    "import seaborn as sns"
   ]
  },
  {
   "cell_type": "markdown",
   "id": "fe94b8ee",
   "metadata": {},
   "source": [
    "# 1. Exploración inicial."
   ]
  },
  {
   "cell_type": "markdown",
   "id": "0766be55",
   "metadata": {},
   "source": [
    "# 1.1 DataFrame Actor. (LIMPIA)"
   ]
  },
  {
   "cell_type": "code",
   "execution_count": 2,
   "id": "cdb87e98",
   "metadata": {},
   "outputs": [],
   "source": [
    "df_original_actor = pd.read_csv('data/actor.csv', encoding='latin1')\n",
    "df_actor = df_original_actor.copy()"
   ]
  },
  {
   "cell_type": "code",
   "execution_count": 3,
   "id": "d1fcb9fc",
   "metadata": {},
   "outputs": [
    {
     "data": {
      "text/plain": [
       "(200, 4)"
      ]
     },
     "execution_count": 3,
     "metadata": {},
     "output_type": "execute_result"
    }
   ],
   "source": [
    "dim_original_actor = df_actor.shape # De esta forma guardo las dimensiones del data frame original.\n",
    "df_actor.shape"
   ]
  },
  {
   "cell_type": "code",
   "execution_count": 4,
   "id": "e9b10e44",
   "metadata": {},
   "outputs": [
    {
     "data": {
      "text/html": [
       "<div>\n",
       "<style scoped>\n",
       "    .dataframe tbody tr th:only-of-type {\n",
       "        vertical-align: middle;\n",
       "    }\n",
       "\n",
       "    .dataframe tbody tr th {\n",
       "        vertical-align: top;\n",
       "    }\n",
       "\n",
       "    .dataframe thead th {\n",
       "        text-align: right;\n",
       "    }\n",
       "</style>\n",
       "<table border=\"1\" class=\"dataframe\">\n",
       "  <thead>\n",
       "    <tr style=\"text-align: right;\">\n",
       "      <th></th>\n",
       "      <th>actor_id</th>\n",
       "      <th>first_name</th>\n",
       "      <th>last_name</th>\n",
       "      <th>last_update</th>\n",
       "    </tr>\n",
       "  </thead>\n",
       "  <tbody>\n",
       "    <tr>\n",
       "      <th>0</th>\n",
       "      <td>1</td>\n",
       "      <td>PENELOPE</td>\n",
       "      <td>GUINESS</td>\n",
       "      <td>2006-02-15 04:34:33</td>\n",
       "    </tr>\n",
       "    <tr>\n",
       "      <th>1</th>\n",
       "      <td>2</td>\n",
       "      <td>NICK</td>\n",
       "      <td>WAHLBERG</td>\n",
       "      <td>2006-02-15 04:34:33</td>\n",
       "    </tr>\n",
       "    <tr>\n",
       "      <th>2</th>\n",
       "      <td>3</td>\n",
       "      <td>ED</td>\n",
       "      <td>CHASE</td>\n",
       "      <td>2006-02-15 04:34:33</td>\n",
       "    </tr>\n",
       "    <tr>\n",
       "      <th>3</th>\n",
       "      <td>4</td>\n",
       "      <td>JENNIFER</td>\n",
       "      <td>DAVIS</td>\n",
       "      <td>2006-02-15 04:34:33</td>\n",
       "    </tr>\n",
       "    <tr>\n",
       "      <th>4</th>\n",
       "      <td>5</td>\n",
       "      <td>JOHNNY</td>\n",
       "      <td>LOLLOBRIGIDA</td>\n",
       "      <td>2006-02-15 04:34:33</td>\n",
       "    </tr>\n",
       "  </tbody>\n",
       "</table>\n",
       "</div>"
      ],
      "text/plain": [
       "   actor_id first_name     last_name          last_update\n",
       "0         1   PENELOPE       GUINESS  2006-02-15 04:34:33\n",
       "1         2       NICK      WAHLBERG  2006-02-15 04:34:33\n",
       "2         3         ED         CHASE  2006-02-15 04:34:33\n",
       "3         4   JENNIFER         DAVIS  2006-02-15 04:34:33\n",
       "4         5     JOHNNY  LOLLOBRIGIDA  2006-02-15 04:34:33"
      ]
     },
     "execution_count": 4,
     "metadata": {},
     "output_type": "execute_result"
    }
   ],
   "source": [
    "df_actor.head()"
   ]
  },
  {
   "cell_type": "code",
   "execution_count": 5,
   "id": "0749aa49",
   "metadata": {},
   "outputs": [
    {
     "name": "stdout",
     "output_type": "stream",
     "text": [
      "<class 'pandas.core.frame.DataFrame'>\n",
      "RangeIndex: 200 entries, 0 to 199\n",
      "Data columns (total 4 columns):\n",
      " #   Column       Non-Null Count  Dtype \n",
      "---  ------       --------------  ----- \n",
      " 0   actor_id     200 non-null    int64 \n",
      " 1   first_name   200 non-null    object\n",
      " 2   last_name    200 non-null    object\n",
      " 3   last_update  200 non-null    object\n",
      "dtypes: int64(1), object(3)\n",
      "memory usage: 6.4+ KB\n"
     ]
    }
   ],
   "source": [
    "df_actor.info()"
   ]
  },
  {
   "cell_type": "code",
   "execution_count": 6,
   "id": "659137ab",
   "metadata": {},
   "outputs": [
    {
     "data": {
      "text/plain": [
       "array([  1,   2,   3,   4,   5,   6,   7,   8,   9,  10,  11,  12,  13,\n",
       "        14,  15,  16,  17,  18,  19,  20,  21,  22,  23,  24,  25,  26,\n",
       "        27,  28,  29,  30,  31,  32,  33,  34,  35,  36,  37,  38,  39,\n",
       "        40,  41,  42,  43,  44,  45,  46,  47,  48,  49,  50,  51,  52,\n",
       "        53,  54,  55,  56,  57,  58,  59,  60,  61,  62,  63,  64,  65,\n",
       "        66,  67,  68,  69,  70,  71,  72,  73,  74,  75,  76,  77,  78,\n",
       "        79,  80,  81,  82,  83,  84,  85,  86,  87,  88,  89,  90,  91,\n",
       "        92,  93,  94,  95,  96,  97,  98,  99, 100, 101, 102, 103, 104,\n",
       "       105, 106, 107, 108, 109, 110, 111, 112, 113, 114, 115, 116, 117,\n",
       "       118, 119, 120, 121, 122, 123, 124, 125, 126, 127, 128, 129, 130,\n",
       "       131, 132, 133, 134, 135, 136, 137, 138, 139, 140, 141, 142, 143,\n",
       "       144, 145, 146, 147, 148, 149, 150, 151, 152, 153, 154, 155, 156,\n",
       "       157, 158, 159, 160, 161, 162, 163, 164, 165, 166, 167, 168, 169,\n",
       "       170, 171, 172, 173, 174, 175, 176, 177, 178, 179, 180, 181, 182,\n",
       "       183, 184, 185, 186, 187, 188, 189, 190, 191, 192, 193, 194, 195,\n",
       "       196, 197, 198, 199, 200])"
      ]
     },
     "execution_count": 6,
     "metadata": {},
     "output_type": "execute_result"
    }
   ],
   "source": [
    "df_actor.actor_id.unique()"
   ]
  },
  {
   "cell_type": "code",
   "execution_count": 7,
   "id": "9a52254c",
   "metadata": {},
   "outputs": [
    {
     "data": {
      "text/plain": [
       "array(['PENELOPE', 'NICK', 'ED', 'JENNIFER', 'JOHNNY', 'BETTE', 'GRACE',\n",
       "       'MATTHEW', 'JOE', 'CHRISTIAN', 'ZERO', 'KARL', 'UMA', 'VIVIEN',\n",
       "       'CUBA', 'FRED', 'HELEN', 'DAN', 'BOB', 'LUCILLE', 'KIRSTEN',\n",
       "       'ELVIS', 'SANDRA', 'CAMERON', 'KEVIN', 'RIP', 'JULIA', 'WOODY',\n",
       "       'ALEC', 'SISSY', 'TIM', 'MILLA', 'AUDREY', 'JUDY', 'BURT', 'VAL',\n",
       "       'TOM', 'GOLDIE', 'JODIE', 'KIRK', 'REESE', 'PARKER', 'FRANCES',\n",
       "       'ANNE', 'NATALIE', 'GARY', 'CARMEN', 'MENA', 'FAY', 'JUDE',\n",
       "       'DUSTIN', 'HENRY', 'JAYNE', 'RAY', 'ANGELA', 'MARY', 'JESSICA',\n",
       "       'KENNETH', 'MICHELLE', 'ADAM', 'SEAN', 'ANGELINA', 'CARY',\n",
       "       'GROUCHO', 'MAE', 'RALPH', 'SCARLETT', 'BEN', 'JAMES', 'MINNIE',\n",
       "       'GREG', 'SPENCER', 'CHARLIZE', 'CHRISTOPHER', 'ELLEN', 'DARYL',\n",
       "       'GENE', 'MEG', 'CHRIS', 'JIM', 'SUSAN', 'WALTER', 'SIDNEY', 'GINA',\n",
       "       'WARREN', 'SYLVESTER', 'RUSSELL', 'MORGAN', 'HARRISON', 'RENEE',\n",
       "       'LIZA', 'SALMA', 'JULIANNE', 'ALBERT', 'CATE', 'GRETA', 'JANE',\n",
       "       'RICHARD', 'RITA', 'EWAN', 'WHOOPI', 'JADA', 'RIVER', 'KIM',\n",
       "       'EMILY', 'GEOFFREY', 'MERYL', 'IAN', 'LAURA', 'HARVEY', 'OPRAH',\n",
       "       'HUMPHREY', 'AL', 'LAURENCE', 'WILL', 'OLYMPIA', 'ALAN', 'MICHAEL',\n",
       "       'WILLIAM', 'JON', 'LISA', 'JEFF', 'DEBBIE', 'ROCK', 'GREGORY',\n",
       "       'JOHN', 'BELA', 'THORA'], dtype=object)"
      ]
     },
     "execution_count": 7,
     "metadata": {},
     "output_type": "execute_result"
    }
   ],
   "source": [
    "df_actor.first_name.unique()"
   ]
  },
  {
   "cell_type": "code",
   "execution_count": 8,
   "id": "3fb3e804",
   "metadata": {},
   "outputs": [
    {
     "data": {
      "text/plain": [
       "array(['GUINESS', 'WAHLBERG', 'CHASE', 'DAVIS', 'LOLLOBRIGIDA',\n",
       "       'NICHOLSON', 'MOSTEL', 'JOHANSSON', 'SWANK', 'GABLE', 'CAGE',\n",
       "       'BERRY', 'WOOD', 'BERGEN', 'OLIVIER', 'COSTNER', 'VOIGHT', 'TORN',\n",
       "       'FAWCETT', 'TRACY', 'PALTROW', 'MARX', 'KILMER', 'STREEP', 'BLOOM',\n",
       "       'CRAWFORD', 'MCQUEEN', 'HOFFMAN', 'WAYNE', 'PECK', 'SOBIESKI',\n",
       "       'HACKMAN', 'DEAN', 'DUKAKIS', 'BOLGER', 'MCKELLEN', 'BRODY',\n",
       "       'DEGENERES', 'MIRANDA', 'JOVOVICH', 'STALLONE', 'GOLDBERG',\n",
       "       'BARRYMORE', 'DAY-LEWIS', 'CRONYN', 'HOPKINS', 'PHOENIX', 'HUNT',\n",
       "       'TEMPLE', 'PINKETT', 'HARRIS', 'CRUISE', 'AKROYD', 'TAUTOU',\n",
       "       'NEESON', 'WRAY', 'HUDSON', 'TANDY', 'BAILEY', 'WINSLET',\n",
       "       'MCCONAUGHEY', 'GRANT', 'WILLIAMS', 'PENN', 'KEITEL', 'POSEY',\n",
       "       'ASTAIRE', 'SINATRA', 'CRUZ', 'DAMON', 'JOLIE', 'WILLIS', 'PITT',\n",
       "       'ZELLWEGER', 'CHAPLIN', 'PESCI', 'DENCH', 'PRESLEY', 'HAWKE',\n",
       "       'BRIDGES', 'DEPP', 'LEIGH', 'CROWE', 'DUNST', 'NOLTE', 'DERN',\n",
       "       'BACALL', 'MCDORMAND', 'BALE', 'ALLEN', 'JACKMAN', 'MONROE',\n",
       "       'BERGMAN', 'BENING', 'TOMEI', 'GARLAND', 'HOPPER', 'REYNOLDS',\n",
       "       'MANSFIELD', 'DEE', 'GOODING', 'HURT', 'RYDER', 'WITHERSPOON',\n",
       "       'HESTON', 'GIBSON', 'MALDEN', 'BASINGER', 'HOPE', 'WEST',\n",
       "       'BULLOCK', 'WILSON', 'PFEIFFER', 'DREYFUSS', 'SILVERSTONE',\n",
       "       'CARREY', 'CLOSE', 'BALL', 'BIRCH', 'SUVARI', 'WALKEN'],\n",
       "      dtype=object)"
      ]
     },
     "execution_count": 8,
     "metadata": {},
     "output_type": "execute_result"
    }
   ],
   "source": [
    "df_actor.last_name.unique()"
   ]
  },
  {
   "cell_type": "code",
   "execution_count": 9,
   "id": "331fa305",
   "metadata": {},
   "outputs": [
    {
     "data": {
      "text/plain": [
       "array(['2006-02-15 04:34:33'], dtype=object)"
      ]
     },
     "execution_count": 9,
     "metadata": {},
     "output_type": "execute_result"
    }
   ],
   "source": [
    "df_actor.last_update.unique()"
   ]
  },
  {
   "cell_type": "code",
   "execution_count": 10,
   "id": "49b3404d",
   "metadata": {},
   "outputs": [],
   "source": [
    "#al ser una columna constante y que nonos aporta nada de información, también la voy a eliminar"
   ]
  },
  {
   "cell_type": "code",
   "execution_count": 11,
   "id": "46cc502c",
   "metadata": {},
   "outputs": [],
   "source": [
    "df_actor.drop(columns=['last_update'], inplace=True)"
   ]
  },
  {
   "cell_type": "code",
   "execution_count": 12,
   "id": "e399c10b",
   "metadata": {},
   "outputs": [
    {
     "data": {
      "text/html": [
       "<div>\n",
       "<style scoped>\n",
       "    .dataframe tbody tr th:only-of-type {\n",
       "        vertical-align: middle;\n",
       "    }\n",
       "\n",
       "    .dataframe tbody tr th {\n",
       "        vertical-align: top;\n",
       "    }\n",
       "\n",
       "    .dataframe thead th {\n",
       "        text-align: right;\n",
       "    }\n",
       "</style>\n",
       "<table border=\"1\" class=\"dataframe\">\n",
       "  <thead>\n",
       "    <tr style=\"text-align: right;\">\n",
       "      <th></th>\n",
       "      <th>actor_id</th>\n",
       "      <th>first_name</th>\n",
       "      <th>last_name</th>\n",
       "    </tr>\n",
       "  </thead>\n",
       "  <tbody>\n",
       "    <tr>\n",
       "      <th>0</th>\n",
       "      <td>1</td>\n",
       "      <td>PENELOPE</td>\n",
       "      <td>GUINESS</td>\n",
       "    </tr>\n",
       "    <tr>\n",
       "      <th>1</th>\n",
       "      <td>2</td>\n",
       "      <td>NICK</td>\n",
       "      <td>WAHLBERG</td>\n",
       "    </tr>\n",
       "    <tr>\n",
       "      <th>2</th>\n",
       "      <td>3</td>\n",
       "      <td>ED</td>\n",
       "      <td>CHASE</td>\n",
       "    </tr>\n",
       "    <tr>\n",
       "      <th>3</th>\n",
       "      <td>4</td>\n",
       "      <td>JENNIFER</td>\n",
       "      <td>DAVIS</td>\n",
       "    </tr>\n",
       "    <tr>\n",
       "      <th>4</th>\n",
       "      <td>5</td>\n",
       "      <td>JOHNNY</td>\n",
       "      <td>LOLLOBRIGIDA</td>\n",
       "    </tr>\n",
       "  </tbody>\n",
       "</table>\n",
       "</div>"
      ],
      "text/plain": [
       "   actor_id first_name     last_name\n",
       "0         1   PENELOPE       GUINESS\n",
       "1         2       NICK      WAHLBERG\n",
       "2         3         ED         CHASE\n",
       "3         4   JENNIFER         DAVIS\n",
       "4         5     JOHNNY  LOLLOBRIGIDA"
      ]
     },
     "execution_count": 12,
     "metadata": {},
     "output_type": "execute_result"
    }
   ],
   "source": [
    "df_actor.head()"
   ]
  },
  {
   "cell_type": "code",
   "execution_count": 13,
   "id": "860e0cc7",
   "metadata": {},
   "outputs": [],
   "source": [
    "df_actor['actor_name'] = df_actor['first_name'] + ' ' + df_actor['last_name']"
   ]
  },
  {
   "cell_type": "code",
   "execution_count": 14,
   "id": "a8f30241",
   "metadata": {},
   "outputs": [],
   "source": [
    "#como he juntado dos columnas en una nueva voy a eliminar las dos que había y reordenarlo"
   ]
  },
  {
   "cell_type": "code",
   "execution_count": 15,
   "id": "d7e34ef7",
   "metadata": {},
   "outputs": [],
   "source": [
    "df_actor.drop(columns=['first_name'], inplace=True)\n",
    "df_actor.drop(columns=['last_name'], inplace=True)"
   ]
  },
  {
   "cell_type": "code",
   "execution_count": 16,
   "id": "00ad85b4",
   "metadata": {},
   "outputs": [],
   "source": [
    "nuevo_orden_actor = [\"actor_id\", \"actor_name\"]"
   ]
  },
  {
   "cell_type": "code",
   "execution_count": 17,
   "id": "0ef9c3ea",
   "metadata": {},
   "outputs": [
    {
     "data": {
      "text/html": [
       "<div>\n",
       "<style scoped>\n",
       "    .dataframe tbody tr th:only-of-type {\n",
       "        vertical-align: middle;\n",
       "    }\n",
       "\n",
       "    .dataframe tbody tr th {\n",
       "        vertical-align: top;\n",
       "    }\n",
       "\n",
       "    .dataframe thead th {\n",
       "        text-align: right;\n",
       "    }\n",
       "</style>\n",
       "<table border=\"1\" class=\"dataframe\">\n",
       "  <thead>\n",
       "    <tr style=\"text-align: right;\">\n",
       "      <th></th>\n",
       "      <th>actor_id</th>\n",
       "      <th>actor_name</th>\n",
       "    </tr>\n",
       "  </thead>\n",
       "  <tbody>\n",
       "    <tr>\n",
       "      <th>0</th>\n",
       "      <td>1</td>\n",
       "      <td>PENELOPE GUINESS</td>\n",
       "    </tr>\n",
       "    <tr>\n",
       "      <th>1</th>\n",
       "      <td>2</td>\n",
       "      <td>NICK WAHLBERG</td>\n",
       "    </tr>\n",
       "    <tr>\n",
       "      <th>2</th>\n",
       "      <td>3</td>\n",
       "      <td>ED CHASE</td>\n",
       "    </tr>\n",
       "    <tr>\n",
       "      <th>3</th>\n",
       "      <td>4</td>\n",
       "      <td>JENNIFER DAVIS</td>\n",
       "    </tr>\n",
       "    <tr>\n",
       "      <th>4</th>\n",
       "      <td>5</td>\n",
       "      <td>JOHNNY LOLLOBRIGIDA</td>\n",
       "    </tr>\n",
       "  </tbody>\n",
       "</table>\n",
       "</div>"
      ],
      "text/plain": [
       "   actor_id           actor_name\n",
       "0         1     PENELOPE GUINESS\n",
       "1         2        NICK WAHLBERG\n",
       "2         3             ED CHASE\n",
       "3         4       JENNIFER DAVIS\n",
       "4         5  JOHNNY LOLLOBRIGIDA"
      ]
     },
     "execution_count": 17,
     "metadata": {},
     "output_type": "execute_result"
    }
   ],
   "source": [
    "df_actor.head()"
   ]
  },
  {
   "cell_type": "code",
   "execution_count": 18,
   "id": "7186ce57",
   "metadata": {},
   "outputs": [
    {
     "data": {
      "text/plain": [
       "SUSAN DAVIS       2\n",
       "EWAN GOODING      1\n",
       "DARYL CRAWFORD    1\n",
       "GRETA KEITEL      1\n",
       "JANE JACKMAN      1\n",
       "Name: actor_name, dtype: int64"
      ]
     },
     "execution_count": 18,
     "metadata": {},
     "output_type": "execute_result"
    }
   ],
   "source": [
    "df_actor[\"actor_name\"].value_counts().head()"
   ]
  },
  {
   "cell_type": "code",
   "execution_count": 19,
   "id": "975e52dd",
   "metadata": {},
   "outputs": [
    {
     "data": {
      "text/html": [
       "<div>\n",
       "<style scoped>\n",
       "    .dataframe tbody tr th:only-of-type {\n",
       "        vertical-align: middle;\n",
       "    }\n",
       "\n",
       "    .dataframe tbody tr th {\n",
       "        vertical-align: top;\n",
       "    }\n",
       "\n",
       "    .dataframe thead th {\n",
       "        text-align: right;\n",
       "    }\n",
       "</style>\n",
       "<table border=\"1\" class=\"dataframe\">\n",
       "  <thead>\n",
       "    <tr style=\"text-align: right;\">\n",
       "      <th></th>\n",
       "      <th>actor_id</th>\n",
       "      <th>actor_name</th>\n",
       "    </tr>\n",
       "  </thead>\n",
       "  <tbody>\n",
       "    <tr>\n",
       "      <th>100</th>\n",
       "      <td>101</td>\n",
       "      <td>SUSAN DAVIS</td>\n",
       "    </tr>\n",
       "    <tr>\n",
       "      <th>109</th>\n",
       "      <td>110</td>\n",
       "      <td>SUSAN DAVIS</td>\n",
       "    </tr>\n",
       "  </tbody>\n",
       "</table>\n",
       "</div>"
      ],
      "text/plain": [
       "     actor_id   actor_name\n",
       "100       101  SUSAN DAVIS\n",
       "109       110  SUSAN DAVIS"
      ]
     },
     "execution_count": 19,
     "metadata": {},
     "output_type": "execute_result"
    }
   ],
   "source": [
    "fila_susan = df_actor[df_actor['actor_name'] == 'SUSAN DAVIS']\n",
    "fila_susan"
   ]
  },
  {
   "cell_type": "code",
   "execution_count": 20,
   "id": "46fe9e61",
   "metadata": {},
   "outputs": [],
   "source": [
    "df_actor = df_actor.drop(109)"
   ]
  },
  {
   "cell_type": "code",
   "execution_count": 21,
   "id": "3cbd8f09",
   "metadata": {},
   "outputs": [],
   "source": [
    "df_actor = df_actor.reset_index(drop=True)"
   ]
  },
  {
   "cell_type": "code",
   "execution_count": 22,
   "id": "27e03a58",
   "metadata": {},
   "outputs": [
    {
     "data": {
      "text/html": [
       "<div>\n",
       "<style scoped>\n",
       "    .dataframe tbody tr th:only-of-type {\n",
       "        vertical-align: middle;\n",
       "    }\n",
       "\n",
       "    .dataframe tbody tr th {\n",
       "        vertical-align: top;\n",
       "    }\n",
       "\n",
       "    .dataframe thead th {\n",
       "        text-align: right;\n",
       "    }\n",
       "</style>\n",
       "<table border=\"1\" class=\"dataframe\">\n",
       "  <thead>\n",
       "    <tr style=\"text-align: right;\">\n",
       "      <th></th>\n",
       "      <th>actor_id</th>\n",
       "      <th>actor_name</th>\n",
       "    </tr>\n",
       "  </thead>\n",
       "  <tbody>\n",
       "    <tr>\n",
       "      <th>0</th>\n",
       "      <td>1</td>\n",
       "      <td>PENELOPE GUINESS</td>\n",
       "    </tr>\n",
       "    <tr>\n",
       "      <th>1</th>\n",
       "      <td>2</td>\n",
       "      <td>NICK WAHLBERG</td>\n",
       "    </tr>\n",
       "    <tr>\n",
       "      <th>2</th>\n",
       "      <td>3</td>\n",
       "      <td>ED CHASE</td>\n",
       "    </tr>\n",
       "    <tr>\n",
       "      <th>3</th>\n",
       "      <td>4</td>\n",
       "      <td>JENNIFER DAVIS</td>\n",
       "    </tr>\n",
       "    <tr>\n",
       "      <th>4</th>\n",
       "      <td>5</td>\n",
       "      <td>JOHNNY LOLLOBRIGIDA</td>\n",
       "    </tr>\n",
       "  </tbody>\n",
       "</table>\n",
       "</div>"
      ],
      "text/plain": [
       "   actor_id           actor_name\n",
       "0         1     PENELOPE GUINESS\n",
       "1         2        NICK WAHLBERG\n",
       "2         3             ED CHASE\n",
       "3         4       JENNIFER DAVIS\n",
       "4         5  JOHNNY LOLLOBRIGIDA"
      ]
     },
     "execution_count": 22,
     "metadata": {},
     "output_type": "execute_result"
    }
   ],
   "source": [
    "df_actor.head()"
   ]
  },
  {
   "cell_type": "code",
   "execution_count": 23,
   "id": "8fb17463",
   "metadata": {},
   "outputs": [
    {
     "data": {
      "text/plain": [
       "(199, 2)"
      ]
     },
     "execution_count": 23,
     "metadata": {},
     "output_type": "execute_result"
    }
   ],
   "source": [
    "df_actor.shape"
   ]
  },
  {
   "cell_type": "markdown",
   "id": "08cd1e29",
   "metadata": {},
   "source": [
    "# 1.2 DataFrame Category."
   ]
  },
  {
   "cell_type": "code",
   "execution_count": 24,
   "id": "377c3ae1",
   "metadata": {},
   "outputs": [],
   "source": [
    "df_original_category = pd.read_csv('data/category.csv', encoding='latin1')\n",
    "df_category = df_original_category.copy()"
   ]
  },
  {
   "cell_type": "code",
   "execution_count": 25,
   "id": "07fd6fbb",
   "metadata": {},
   "outputs": [
    {
     "data": {
      "text/plain": [
       "(16, 3)"
      ]
     },
     "execution_count": 25,
     "metadata": {},
     "output_type": "execute_result"
    }
   ],
   "source": [
    "dim_original_category = df_category.shape # De esta forma guardo las dimensiones del data frame original.\n",
    "df_category.shape"
   ]
  },
  {
   "cell_type": "code",
   "execution_count": 26,
   "id": "4e845643",
   "metadata": {},
   "outputs": [
    {
     "data": {
      "text/html": [
       "<div>\n",
       "<style scoped>\n",
       "    .dataframe tbody tr th:only-of-type {\n",
       "        vertical-align: middle;\n",
       "    }\n",
       "\n",
       "    .dataframe tbody tr th {\n",
       "        vertical-align: top;\n",
       "    }\n",
       "\n",
       "    .dataframe thead th {\n",
       "        text-align: right;\n",
       "    }\n",
       "</style>\n",
       "<table border=\"1\" class=\"dataframe\">\n",
       "  <thead>\n",
       "    <tr style=\"text-align: right;\">\n",
       "      <th></th>\n",
       "      <th>category_id</th>\n",
       "      <th>name</th>\n",
       "      <th>last_update</th>\n",
       "    </tr>\n",
       "  </thead>\n",
       "  <tbody>\n",
       "    <tr>\n",
       "      <th>0</th>\n",
       "      <td>1</td>\n",
       "      <td>Action</td>\n",
       "      <td>2006-02-15 04:46:27</td>\n",
       "    </tr>\n",
       "    <tr>\n",
       "      <th>1</th>\n",
       "      <td>2</td>\n",
       "      <td>Animation</td>\n",
       "      <td>2006-02-15 04:46:27</td>\n",
       "    </tr>\n",
       "    <tr>\n",
       "      <th>2</th>\n",
       "      <td>3</td>\n",
       "      <td>Children</td>\n",
       "      <td>2006-02-15 04:46:27</td>\n",
       "    </tr>\n",
       "    <tr>\n",
       "      <th>3</th>\n",
       "      <td>4</td>\n",
       "      <td>Classics</td>\n",
       "      <td>2006-02-15 04:46:27</td>\n",
       "    </tr>\n",
       "    <tr>\n",
       "      <th>4</th>\n",
       "      <td>5</td>\n",
       "      <td>Comedy</td>\n",
       "      <td>2006-02-15 04:46:27</td>\n",
       "    </tr>\n",
       "  </tbody>\n",
       "</table>\n",
       "</div>"
      ],
      "text/plain": [
       "   category_id       name          last_update\n",
       "0            1     Action  2006-02-15 04:46:27\n",
       "1            2  Animation  2006-02-15 04:46:27\n",
       "2            3   Children  2006-02-15 04:46:27\n",
       "3            4   Classics  2006-02-15 04:46:27\n",
       "4            5     Comedy  2006-02-15 04:46:27"
      ]
     },
     "execution_count": 26,
     "metadata": {},
     "output_type": "execute_result"
    }
   ],
   "source": [
    "df_category.head()"
   ]
  },
  {
   "cell_type": "code",
   "execution_count": 27,
   "id": "df631f07",
   "metadata": {},
   "outputs": [
    {
     "name": "stdout",
     "output_type": "stream",
     "text": [
      "<class 'pandas.core.frame.DataFrame'>\n",
      "RangeIndex: 16 entries, 0 to 15\n",
      "Data columns (total 3 columns):\n",
      " #   Column       Non-Null Count  Dtype \n",
      "---  ------       --------------  ----- \n",
      " 0   category_id  16 non-null     int64 \n",
      " 1   name         16 non-null     object\n",
      " 2   last_update  16 non-null     object\n",
      "dtypes: int64(1), object(2)\n",
      "memory usage: 516.0+ bytes\n"
     ]
    }
   ],
   "source": [
    "df_category.info()"
   ]
  },
  {
   "cell_type": "code",
   "execution_count": 28,
   "id": "f271e8aa",
   "metadata": {},
   "outputs": [
    {
     "data": {
      "text/plain": [
       "array([ 1,  2,  3,  4,  5,  6,  7,  8,  9, 10, 11, 12, 13, 14, 15, 16])"
      ]
     },
     "execution_count": 28,
     "metadata": {},
     "output_type": "execute_result"
    }
   ],
   "source": [
    "df_category.category_id.unique()"
   ]
  },
  {
   "cell_type": "code",
   "execution_count": 29,
   "id": "39b84d53",
   "metadata": {},
   "outputs": [
    {
     "data": {
      "text/plain": [
       "array(['Action', 'Animation', 'Children', 'Classics', 'Comedy',\n",
       "       'Documentary', 'Drama', 'Family', 'Foreign', 'Games', 'Horror',\n",
       "       'Music', 'New', 'Sci-Fi', 'Sports', 'Travel'], dtype=object)"
      ]
     },
     "execution_count": 29,
     "metadata": {},
     "output_type": "execute_result"
    }
   ],
   "source": [
    "df_category.name.unique()"
   ]
  },
  {
   "cell_type": "code",
   "execution_count": 30,
   "id": "ce5498ac",
   "metadata": {},
   "outputs": [
    {
     "data": {
      "text/plain": [
       "array(['2006-02-15 04:46:27'], dtype=object)"
      ]
     },
     "execution_count": 30,
     "metadata": {},
     "output_type": "execute_result"
    }
   ],
   "source": [
    "df_category.last_update.unique()"
   ]
  },
  {
   "cell_type": "code",
   "execution_count": 31,
   "id": "f9644058",
   "metadata": {},
   "outputs": [],
   "source": [
    "#al ser una columna constante y que nonos aporta nada de información, la voy a eliminar."
   ]
  },
  {
   "cell_type": "code",
   "execution_count": 32,
   "id": "1ec2c54e",
   "metadata": {},
   "outputs": [],
   "source": [
    "df_category.drop(columns=['last_update'], inplace=True)"
   ]
  },
  {
   "cell_type": "code",
   "execution_count": 33,
   "id": "b881ca55",
   "metadata": {},
   "outputs": [
    {
     "data": {
      "text/plain": [
       "Action       1\n",
       "Animation    1\n",
       "Children     1\n",
       "Classics     1\n",
       "Comedy       1\n",
       "Name: name, dtype: int64"
      ]
     },
     "execution_count": 33,
     "metadata": {},
     "output_type": "execute_result"
    }
   ],
   "source": [
    "df_category[\"name\"].value_counts().head()"
   ]
  },
  {
   "cell_type": "code",
   "execution_count": 34,
   "id": "fd7609dc",
   "metadata": {},
   "outputs": [],
   "source": [
    "#quiero cambiar el nombre de la columna name"
   ]
  },
  {
   "cell_type": "code",
   "execution_count": 35,
   "id": "6604cbea",
   "metadata": {},
   "outputs": [],
   "source": [
    "df_category.rename(columns={'name': 'category_name'}, inplace=True)"
   ]
  },
  {
   "cell_type": "code",
   "execution_count": 36,
   "id": "cbc7e9da",
   "metadata": {},
   "outputs": [
    {
     "data": {
      "text/html": [
       "<div>\n",
       "<style scoped>\n",
       "    .dataframe tbody tr th:only-of-type {\n",
       "        vertical-align: middle;\n",
       "    }\n",
       "\n",
       "    .dataframe tbody tr th {\n",
       "        vertical-align: top;\n",
       "    }\n",
       "\n",
       "    .dataframe thead th {\n",
       "        text-align: right;\n",
       "    }\n",
       "</style>\n",
       "<table border=\"1\" class=\"dataframe\">\n",
       "  <thead>\n",
       "    <tr style=\"text-align: right;\">\n",
       "      <th></th>\n",
       "      <th>category_id</th>\n",
       "      <th>category_name</th>\n",
       "    </tr>\n",
       "  </thead>\n",
       "  <tbody>\n",
       "    <tr>\n",
       "      <th>0</th>\n",
       "      <td>1</td>\n",
       "      <td>Action</td>\n",
       "    </tr>\n",
       "    <tr>\n",
       "      <th>1</th>\n",
       "      <td>2</td>\n",
       "      <td>Animation</td>\n",
       "    </tr>\n",
       "    <tr>\n",
       "      <th>2</th>\n",
       "      <td>3</td>\n",
       "      <td>Children</td>\n",
       "    </tr>\n",
       "    <tr>\n",
       "      <th>3</th>\n",
       "      <td>4</td>\n",
       "      <td>Classics</td>\n",
       "    </tr>\n",
       "    <tr>\n",
       "      <th>4</th>\n",
       "      <td>5</td>\n",
       "      <td>Comedy</td>\n",
       "    </tr>\n",
       "  </tbody>\n",
       "</table>\n",
       "</div>"
      ],
      "text/plain": [
       "   category_id category_name\n",
       "0            1        Action\n",
       "1            2     Animation\n",
       "2            3      Children\n",
       "3            4      Classics\n",
       "4            5        Comedy"
      ]
     },
     "execution_count": 36,
     "metadata": {},
     "output_type": "execute_result"
    }
   ],
   "source": [
    "df_category.head()"
   ]
  },
  {
   "cell_type": "markdown",
   "id": "453aa134",
   "metadata": {},
   "source": [
    "# 1.3 DataFrame Film."
   ]
  },
  {
   "cell_type": "code",
   "execution_count": 37,
   "id": "fe5117ce",
   "metadata": {},
   "outputs": [],
   "source": [
    "df_original_film = pd.read_csv('data/film.csv', encoding='latin1')\n",
    "df_film = df_original_film.copy()"
   ]
  },
  {
   "cell_type": "code",
   "execution_count": 38,
   "id": "a30b9baf",
   "metadata": {},
   "outputs": [
    {
     "data": {
      "text/plain": [
       "(1000, 13)"
      ]
     },
     "execution_count": 38,
     "metadata": {},
     "output_type": "execute_result"
    }
   ],
   "source": [
    "dim_original_film = df_film.shape # De esta forma guardo las dimensiones del data frame original.\n",
    "df_film.shape"
   ]
  },
  {
   "cell_type": "code",
   "execution_count": 39,
   "id": "df9a6217",
   "metadata": {},
   "outputs": [
    {
     "data": {
      "text/html": [
       "<div>\n",
       "<style scoped>\n",
       "    .dataframe tbody tr th:only-of-type {\n",
       "        vertical-align: middle;\n",
       "    }\n",
       "\n",
       "    .dataframe tbody tr th {\n",
       "        vertical-align: top;\n",
       "    }\n",
       "\n",
       "    .dataframe thead th {\n",
       "        text-align: right;\n",
       "    }\n",
       "</style>\n",
       "<table border=\"1\" class=\"dataframe\">\n",
       "  <thead>\n",
       "    <tr style=\"text-align: right;\">\n",
       "      <th></th>\n",
       "      <th>film_id</th>\n",
       "      <th>title</th>\n",
       "      <th>description</th>\n",
       "      <th>release_year</th>\n",
       "      <th>language_id</th>\n",
       "      <th>original_language_id</th>\n",
       "      <th>rental_duration</th>\n",
       "      <th>rental_rate</th>\n",
       "      <th>length</th>\n",
       "      <th>replacement_cost</th>\n",
       "      <th>rating</th>\n",
       "      <th>special_features</th>\n",
       "      <th>last_update</th>\n",
       "    </tr>\n",
       "  </thead>\n",
       "  <tbody>\n",
       "    <tr>\n",
       "      <th>0</th>\n",
       "      <td>1</td>\n",
       "      <td>ACADEMY DINOSAUR</td>\n",
       "      <td>A Epic Drama of a Feminist And a Mad Scientist...</td>\n",
       "      <td>2006</td>\n",
       "      <td>1</td>\n",
       "      <td>NaN</td>\n",
       "      <td>6</td>\n",
       "      <td>0.99</td>\n",
       "      <td>86</td>\n",
       "      <td>20.99</td>\n",
       "      <td>PG</td>\n",
       "      <td>Deleted Scenes,Behind the Scenes</td>\n",
       "      <td>2006-02-15 05:03:42</td>\n",
       "    </tr>\n",
       "    <tr>\n",
       "      <th>1</th>\n",
       "      <td>2</td>\n",
       "      <td>ACE GOLDFINGER</td>\n",
       "      <td>A Astounding Epistle of a Database Administrat...</td>\n",
       "      <td>2006</td>\n",
       "      <td>1</td>\n",
       "      <td>NaN</td>\n",
       "      <td>3</td>\n",
       "      <td>4.99</td>\n",
       "      <td>48</td>\n",
       "      <td>12.99</td>\n",
       "      <td>G</td>\n",
       "      <td>Trailers,Deleted Scenes</td>\n",
       "      <td>2006-02-15 05:03:42</td>\n",
       "    </tr>\n",
       "    <tr>\n",
       "      <th>2</th>\n",
       "      <td>3</td>\n",
       "      <td>ADAPTATION HOLES</td>\n",
       "      <td>A Astounding Reflection of a Lumberjack And a ...</td>\n",
       "      <td>2006</td>\n",
       "      <td>1</td>\n",
       "      <td>NaN</td>\n",
       "      <td>7</td>\n",
       "      <td>2.99</td>\n",
       "      <td>50</td>\n",
       "      <td>18.99</td>\n",
       "      <td>NC-17</td>\n",
       "      <td>Trailers,Deleted Scenes</td>\n",
       "      <td>2006-02-15 05:03:42</td>\n",
       "    </tr>\n",
       "    <tr>\n",
       "      <th>3</th>\n",
       "      <td>4</td>\n",
       "      <td>AFFAIR PREJUDICE</td>\n",
       "      <td>A Fanciful Documentary of a Frisbee And a Lumb...</td>\n",
       "      <td>2006</td>\n",
       "      <td>1</td>\n",
       "      <td>NaN</td>\n",
       "      <td>5</td>\n",
       "      <td>2.99</td>\n",
       "      <td>117</td>\n",
       "      <td>26.99</td>\n",
       "      <td>G</td>\n",
       "      <td>Commentaries,Behind the Scenes</td>\n",
       "      <td>2006-02-15 05:03:42</td>\n",
       "    </tr>\n",
       "    <tr>\n",
       "      <th>4</th>\n",
       "      <td>5</td>\n",
       "      <td>AFRICAN EGG</td>\n",
       "      <td>A Fast-Paced Documentary of a Pastry Chef And ...</td>\n",
       "      <td>2006</td>\n",
       "      <td>1</td>\n",
       "      <td>NaN</td>\n",
       "      <td>6</td>\n",
       "      <td>2.99</td>\n",
       "      <td>130</td>\n",
       "      <td>22.99</td>\n",
       "      <td>G</td>\n",
       "      <td>Deleted Scenes</td>\n",
       "      <td>2006-02-15 05:03:42</td>\n",
       "    </tr>\n",
       "  </tbody>\n",
       "</table>\n",
       "</div>"
      ],
      "text/plain": [
       "   film_id             title  \\\n",
       "0        1  ACADEMY DINOSAUR   \n",
       "1        2    ACE GOLDFINGER   \n",
       "2        3  ADAPTATION HOLES   \n",
       "3        4  AFFAIR PREJUDICE   \n",
       "4        5       AFRICAN EGG   \n",
       "\n",
       "                                         description  release_year  \\\n",
       "0  A Epic Drama of a Feminist And a Mad Scientist...          2006   \n",
       "1  A Astounding Epistle of a Database Administrat...          2006   \n",
       "2  A Astounding Reflection of a Lumberjack And a ...          2006   \n",
       "3  A Fanciful Documentary of a Frisbee And a Lumb...          2006   \n",
       "4  A Fast-Paced Documentary of a Pastry Chef And ...          2006   \n",
       "\n",
       "   language_id  original_language_id  rental_duration  rental_rate  length  \\\n",
       "0            1                   NaN                6         0.99      86   \n",
       "1            1                   NaN                3         4.99      48   \n",
       "2            1                   NaN                7         2.99      50   \n",
       "3            1                   NaN                5         2.99     117   \n",
       "4            1                   NaN                6         2.99     130   \n",
       "\n",
       "   replacement_cost rating                  special_features  \\\n",
       "0             20.99     PG  Deleted Scenes,Behind the Scenes   \n",
       "1             12.99      G           Trailers,Deleted Scenes   \n",
       "2             18.99  NC-17           Trailers,Deleted Scenes   \n",
       "3             26.99      G    Commentaries,Behind the Scenes   \n",
       "4             22.99      G                    Deleted Scenes   \n",
       "\n",
       "           last_update  \n",
       "0  2006-02-15 05:03:42  \n",
       "1  2006-02-15 05:03:42  \n",
       "2  2006-02-15 05:03:42  \n",
       "3  2006-02-15 05:03:42  \n",
       "4  2006-02-15 05:03:42  "
      ]
     },
     "execution_count": 39,
     "metadata": {},
     "output_type": "execute_result"
    }
   ],
   "source": [
    "df_film.head()"
   ]
  },
  {
   "cell_type": "code",
   "execution_count": 40,
   "id": "74dee9b7",
   "metadata": {},
   "outputs": [
    {
     "name": "stdout",
     "output_type": "stream",
     "text": [
      "<class 'pandas.core.frame.DataFrame'>\n",
      "RangeIndex: 1000 entries, 0 to 999\n",
      "Data columns (total 13 columns):\n",
      " #   Column                Non-Null Count  Dtype  \n",
      "---  ------                --------------  -----  \n",
      " 0   film_id               1000 non-null   int64  \n",
      " 1   title                 1000 non-null   object \n",
      " 2   description           1000 non-null   object \n",
      " 3   release_year          1000 non-null   int64  \n",
      " 4   language_id           1000 non-null   int64  \n",
      " 5   original_language_id  0 non-null      float64\n",
      " 6   rental_duration       1000 non-null   int64  \n",
      " 7   rental_rate           1000 non-null   float64\n",
      " 8   length                1000 non-null   int64  \n",
      " 9   replacement_cost      1000 non-null   float64\n",
      " 10  rating                1000 non-null   object \n",
      " 11  special_features      1000 non-null   object \n",
      " 12  last_update           1000 non-null   object \n",
      "dtypes: float64(3), int64(5), object(5)\n",
      "memory usage: 101.7+ KB\n"
     ]
    }
   ],
   "source": [
    "df_film.info()"
   ]
  },
  {
   "cell_type": "code",
   "execution_count": 41,
   "id": "c44aedd3",
   "metadata": {},
   "outputs": [],
   "source": [
    "#Primero voy a eliminar la columna de original language porque son todos los valores nulos."
   ]
  },
  {
   "cell_type": "code",
   "execution_count": 42,
   "id": "fc6ff4c7",
   "metadata": {},
   "outputs": [],
   "source": [
    "df_film.drop(columns=['original_language_id'], inplace=True)"
   ]
  },
  {
   "cell_type": "code",
   "execution_count": 43,
   "id": "e4540638",
   "metadata": {},
   "outputs": [
    {
     "data": {
      "text/plain": [
       "['release_year', 'language_id']"
      ]
     },
     "execution_count": 43,
     "metadata": {},
     "output_type": "execute_result"
    }
   ],
   "source": [
    "cte_cols_film = []\n",
    "for c in df_film.select_dtypes(include=np.number):   # para cada columna numerica.....\n",
    "    if len(df_film[c].unique()) == 1:\n",
    "        cte_cols_film.append(c)\n",
    "cte_cols_film   "
   ]
  },
  {
   "cell_type": "code",
   "execution_count": 44,
   "id": "90c01277",
   "metadata": {},
   "outputs": [],
   "source": [
    "#En primer lugar, voy a eliminar las columnas de 'release_year' y 'language_id' al ser columnas constantes y que no nos aportan nada de información."
   ]
  },
  {
   "cell_type": "code",
   "execution_count": 45,
   "id": "7c34e2b3",
   "metadata": {},
   "outputs": [],
   "source": [
    "df_film.drop(columns=['release_year'], inplace=True)"
   ]
  },
  {
   "cell_type": "code",
   "execution_count": 46,
   "id": "f7bb4a7d",
   "metadata": {},
   "outputs": [],
   "source": [
    "df_film.drop(columns=['language_id'], inplace=True)"
   ]
  },
  {
   "cell_type": "code",
   "execution_count": 47,
   "id": "36d441d3",
   "metadata": {},
   "outputs": [],
   "source": [
    "#ahora voy a comprobar la columna last update porque con la función de arriba he identificado las ctes numéricas pero esta columna no lo es"
   ]
  },
  {
   "cell_type": "code",
   "execution_count": 48,
   "id": "8bf49d55",
   "metadata": {},
   "outputs": [
    {
     "data": {
      "text/plain": [
       "array(['2006-02-15 05:03:42'], dtype=object)"
      ]
     },
     "execution_count": 48,
     "metadata": {},
     "output_type": "execute_result"
    }
   ],
   "source": [
    "df_film.last_update.unique()"
   ]
  },
  {
   "cell_type": "code",
   "execution_count": 49,
   "id": "1439cdb4",
   "metadata": {},
   "outputs": [],
   "source": [
    "#parece ser que también lo es"
   ]
  },
  {
   "cell_type": "code",
   "execution_count": 50,
   "id": "e18c0dc6",
   "metadata": {},
   "outputs": [],
   "source": [
    "df_film.drop(columns=['last_update'], inplace=True)"
   ]
  },
  {
   "cell_type": "code",
   "execution_count": 51,
   "id": "56121628",
   "metadata": {},
   "outputs": [],
   "source": [
    "#df_film.film_id.unique()"
   ]
  },
  {
   "cell_type": "code",
   "execution_count": 52,
   "id": "95a75788",
   "metadata": {},
   "outputs": [],
   "source": [
    "#df_film.title.unique()"
   ]
  },
  {
   "cell_type": "code",
   "execution_count": 53,
   "id": "aced0624",
   "metadata": {},
   "outputs": [],
   "source": [
    "#df_film.description.unique()"
   ]
  },
  {
   "cell_type": "code",
   "execution_count": 54,
   "id": "4db0fc69",
   "metadata": {},
   "outputs": [
    {
     "data": {
      "text/plain": [
       "array([6, 3, 7, 5, 4])"
      ]
     },
     "execution_count": 54,
     "metadata": {},
     "output_type": "execute_result"
    }
   ],
   "source": [
    "df_film.rental_duration.unique()"
   ]
  },
  {
   "cell_type": "code",
   "execution_count": 55,
   "id": "ce5d92fe",
   "metadata": {},
   "outputs": [],
   "source": [
    "#df_film.rental_rate.unique()"
   ]
  },
  {
   "cell_type": "code",
   "execution_count": 56,
   "id": "8c5294ef",
   "metadata": {},
   "outputs": [],
   "source": [
    "#df_film.length.unique()"
   ]
  },
  {
   "cell_type": "code",
   "execution_count": 57,
   "id": "73579985",
   "metadata": {},
   "outputs": [],
   "source": [
    "#df_film.special_features.unique()"
   ]
  },
  {
   "cell_type": "code",
   "execution_count": 58,
   "id": "051e7145",
   "metadata": {},
   "outputs": [],
   "source": [
    "#df_film.length.unique()"
   ]
  },
  {
   "cell_type": "code",
   "execution_count": 59,
   "id": "226e8ecd",
   "metadata": {},
   "outputs": [],
   "source": [
    "#Vamos a mirar las columnas con baja varianza"
   ]
  },
  {
   "cell_type": "code",
   "execution_count": 60,
   "id": "d2a7c30b",
   "metadata": {},
   "outputs": [
    {
     "data": {
      "text/html": [
       "<div>\n",
       "<style scoped>\n",
       "    .dataframe tbody tr th:only-of-type {\n",
       "        vertical-align: middle;\n",
       "    }\n",
       "\n",
       "    .dataframe tbody tr th {\n",
       "        vertical-align: top;\n",
       "    }\n",
       "\n",
       "    .dataframe thead th {\n",
       "        text-align: right;\n",
       "    }\n",
       "</style>\n",
       "<table border=\"1\" class=\"dataframe\">\n",
       "  <thead>\n",
       "    <tr style=\"text-align: right;\">\n",
       "      <th></th>\n",
       "      <th>count</th>\n",
       "      <th>mean</th>\n",
       "      <th>std</th>\n",
       "      <th>min</th>\n",
       "      <th>25%</th>\n",
       "      <th>50%</th>\n",
       "      <th>75%</th>\n",
       "      <th>max</th>\n",
       "    </tr>\n",
       "  </thead>\n",
       "  <tbody>\n",
       "    <tr>\n",
       "      <th>film_id</th>\n",
       "      <td>1000.0</td>\n",
       "      <td>500.500</td>\n",
       "      <td>288.819436</td>\n",
       "      <td>1.00</td>\n",
       "      <td>250.75</td>\n",
       "      <td>500.50</td>\n",
       "      <td>750.25</td>\n",
       "      <td>1000.00</td>\n",
       "    </tr>\n",
       "    <tr>\n",
       "      <th>rental_duration</th>\n",
       "      <td>1000.0</td>\n",
       "      <td>4.985</td>\n",
       "      <td>1.411654</td>\n",
       "      <td>3.00</td>\n",
       "      <td>4.00</td>\n",
       "      <td>5.00</td>\n",
       "      <td>6.00</td>\n",
       "      <td>7.00</td>\n",
       "    </tr>\n",
       "    <tr>\n",
       "      <th>rental_rate</th>\n",
       "      <td>1000.0</td>\n",
       "      <td>2.980</td>\n",
       "      <td>1.646393</td>\n",
       "      <td>0.99</td>\n",
       "      <td>0.99</td>\n",
       "      <td>2.99</td>\n",
       "      <td>4.99</td>\n",
       "      <td>4.99</td>\n",
       "    </tr>\n",
       "    <tr>\n",
       "      <th>length</th>\n",
       "      <td>1000.0</td>\n",
       "      <td>115.272</td>\n",
       "      <td>40.426332</td>\n",
       "      <td>46.00</td>\n",
       "      <td>80.00</td>\n",
       "      <td>114.00</td>\n",
       "      <td>149.25</td>\n",
       "      <td>185.00</td>\n",
       "    </tr>\n",
       "    <tr>\n",
       "      <th>replacement_cost</th>\n",
       "      <td>1000.0</td>\n",
       "      <td>19.984</td>\n",
       "      <td>6.050833</td>\n",
       "      <td>9.99</td>\n",
       "      <td>14.99</td>\n",
       "      <td>19.99</td>\n",
       "      <td>24.99</td>\n",
       "      <td>29.99</td>\n",
       "    </tr>\n",
       "  </tbody>\n",
       "</table>\n",
       "</div>"
      ],
      "text/plain": [
       "                   count     mean         std    min     25%     50%     75%  \\\n",
       "film_id           1000.0  500.500  288.819436   1.00  250.75  500.50  750.25   \n",
       "rental_duration   1000.0    4.985    1.411654   3.00    4.00    5.00    6.00   \n",
       "rental_rate       1000.0    2.980    1.646393   0.99    0.99    2.99    4.99   \n",
       "length            1000.0  115.272   40.426332  46.00   80.00  114.00  149.25   \n",
       "replacement_cost  1000.0   19.984    6.050833   9.99   14.99   19.99   24.99   \n",
       "\n",
       "                      max  \n",
       "film_id           1000.00  \n",
       "rental_duration      7.00  \n",
       "rental_rate          4.99  \n",
       "length             185.00  \n",
       "replacement_cost    29.99  "
      ]
     },
     "execution_count": 60,
     "metadata": {},
     "output_type": "execute_result"
    }
   ],
   "source": [
    "df_film.describe().T"
   ]
  },
  {
   "cell_type": "code",
   "execution_count": 61,
   "id": "c2ce5724",
   "metadata": {},
   "outputs": [],
   "source": [
    "#observamos que no hay ningún valor especialemnte atípico."
   ]
  },
  {
   "cell_type": "code",
   "execution_count": 62,
   "id": "651ece10",
   "metadata": {},
   "outputs": [
    {
     "data": {
      "text/html": [
       "<div>\n",
       "<style scoped>\n",
       "    .dataframe tbody tr th:only-of-type {\n",
       "        vertical-align: middle;\n",
       "    }\n",
       "\n",
       "    .dataframe tbody tr th {\n",
       "        vertical-align: top;\n",
       "    }\n",
       "\n",
       "    .dataframe thead th {\n",
       "        text-align: right;\n",
       "    }\n",
       "</style>\n",
       "<table border=\"1\" class=\"dataframe\">\n",
       "  <thead>\n",
       "    <tr style=\"text-align: right;\">\n",
       "      <th></th>\n",
       "      <th>film_id</th>\n",
       "      <th>title</th>\n",
       "      <th>description</th>\n",
       "      <th>rental_duration</th>\n",
       "      <th>rental_rate</th>\n",
       "      <th>length</th>\n",
       "      <th>replacement_cost</th>\n",
       "      <th>rating</th>\n",
       "      <th>special_features</th>\n",
       "    </tr>\n",
       "  </thead>\n",
       "  <tbody>\n",
       "    <tr>\n",
       "      <th>0</th>\n",
       "      <td>1</td>\n",
       "      <td>ACADEMY DINOSAUR</td>\n",
       "      <td>A Epic Drama of a Feminist And a Mad Scientist...</td>\n",
       "      <td>6</td>\n",
       "      <td>0.99</td>\n",
       "      <td>86</td>\n",
       "      <td>20.99</td>\n",
       "      <td>PG</td>\n",
       "      <td>Deleted Scenes,Behind the Scenes</td>\n",
       "    </tr>\n",
       "    <tr>\n",
       "      <th>1</th>\n",
       "      <td>2</td>\n",
       "      <td>ACE GOLDFINGER</td>\n",
       "      <td>A Astounding Epistle of a Database Administrat...</td>\n",
       "      <td>3</td>\n",
       "      <td>4.99</td>\n",
       "      <td>48</td>\n",
       "      <td>12.99</td>\n",
       "      <td>G</td>\n",
       "      <td>Trailers,Deleted Scenes</td>\n",
       "    </tr>\n",
       "    <tr>\n",
       "      <th>2</th>\n",
       "      <td>3</td>\n",
       "      <td>ADAPTATION HOLES</td>\n",
       "      <td>A Astounding Reflection of a Lumberjack And a ...</td>\n",
       "      <td>7</td>\n",
       "      <td>2.99</td>\n",
       "      <td>50</td>\n",
       "      <td>18.99</td>\n",
       "      <td>NC-17</td>\n",
       "      <td>Trailers,Deleted Scenes</td>\n",
       "    </tr>\n",
       "    <tr>\n",
       "      <th>3</th>\n",
       "      <td>4</td>\n",
       "      <td>AFFAIR PREJUDICE</td>\n",
       "      <td>A Fanciful Documentary of a Frisbee And a Lumb...</td>\n",
       "      <td>5</td>\n",
       "      <td>2.99</td>\n",
       "      <td>117</td>\n",
       "      <td>26.99</td>\n",
       "      <td>G</td>\n",
       "      <td>Commentaries,Behind the Scenes</td>\n",
       "    </tr>\n",
       "    <tr>\n",
       "      <th>4</th>\n",
       "      <td>5</td>\n",
       "      <td>AFRICAN EGG</td>\n",
       "      <td>A Fast-Paced Documentary of a Pastry Chef And ...</td>\n",
       "      <td>6</td>\n",
       "      <td>2.99</td>\n",
       "      <td>130</td>\n",
       "      <td>22.99</td>\n",
       "      <td>G</td>\n",
       "      <td>Deleted Scenes</td>\n",
       "    </tr>\n",
       "  </tbody>\n",
       "</table>\n",
       "</div>"
      ],
      "text/plain": [
       "   film_id             title  \\\n",
       "0        1  ACADEMY DINOSAUR   \n",
       "1        2    ACE GOLDFINGER   \n",
       "2        3  ADAPTATION HOLES   \n",
       "3        4  AFFAIR PREJUDICE   \n",
       "4        5       AFRICAN EGG   \n",
       "\n",
       "                                         description  rental_duration  \\\n",
       "0  A Epic Drama of a Feminist And a Mad Scientist...                6   \n",
       "1  A Astounding Epistle of a Database Administrat...                3   \n",
       "2  A Astounding Reflection of a Lumberjack And a ...                7   \n",
       "3  A Fanciful Documentary of a Frisbee And a Lumb...                5   \n",
       "4  A Fast-Paced Documentary of a Pastry Chef And ...                6   \n",
       "\n",
       "   rental_rate  length  replacement_cost rating  \\\n",
       "0         0.99      86             20.99     PG   \n",
       "1         4.99      48             12.99      G   \n",
       "2         2.99      50             18.99  NC-17   \n",
       "3         2.99     117             26.99      G   \n",
       "4         2.99     130             22.99      G   \n",
       "\n",
       "                   special_features  \n",
       "0  Deleted Scenes,Behind the Scenes  \n",
       "1           Trailers,Deleted Scenes  \n",
       "2           Trailers,Deleted Scenes  \n",
       "3    Commentaries,Behind the Scenes  \n",
       "4                    Deleted Scenes  "
      ]
     },
     "execution_count": 62,
     "metadata": {},
     "output_type": "execute_result"
    }
   ],
   "source": [
    "df_film.head()"
   ]
  },
  {
   "cell_type": "code",
   "execution_count": 63,
   "id": "c8d57caa",
   "metadata": {},
   "outputs": [],
   "source": [
    "df_film['special_features'] = df_film['special_features'].str.replace(',', ', ') #tras ver el dataframe he visto que falta un hueco detras de la \",\" en la última columna."
   ]
  },
  {
   "cell_type": "code",
   "execution_count": 64,
   "id": "cd6903a2",
   "metadata": {},
   "outputs": [
    {
     "data": {
      "text/html": [
       "<div>\n",
       "<style scoped>\n",
       "    .dataframe tbody tr th:only-of-type {\n",
       "        vertical-align: middle;\n",
       "    }\n",
       "\n",
       "    .dataframe tbody tr th {\n",
       "        vertical-align: top;\n",
       "    }\n",
       "\n",
       "    .dataframe thead th {\n",
       "        text-align: right;\n",
       "    }\n",
       "</style>\n",
       "<table border=\"1\" class=\"dataframe\">\n",
       "  <thead>\n",
       "    <tr style=\"text-align: right;\">\n",
       "      <th></th>\n",
       "      <th>film_id</th>\n",
       "      <th>title</th>\n",
       "      <th>description</th>\n",
       "      <th>rental_duration</th>\n",
       "      <th>rental_rate</th>\n",
       "      <th>length</th>\n",
       "      <th>replacement_cost</th>\n",
       "      <th>rating</th>\n",
       "      <th>special_features</th>\n",
       "    </tr>\n",
       "  </thead>\n",
       "  <tbody>\n",
       "    <tr>\n",
       "      <th>0</th>\n",
       "      <td>1</td>\n",
       "      <td>ACADEMY DINOSAUR</td>\n",
       "      <td>A Epic Drama of a Feminist And a Mad Scientist...</td>\n",
       "      <td>6</td>\n",
       "      <td>0.99</td>\n",
       "      <td>86</td>\n",
       "      <td>20.99</td>\n",
       "      <td>PG</td>\n",
       "      <td>Deleted Scenes, Behind the Scenes</td>\n",
       "    </tr>\n",
       "    <tr>\n",
       "      <th>1</th>\n",
       "      <td>2</td>\n",
       "      <td>ACE GOLDFINGER</td>\n",
       "      <td>A Astounding Epistle of a Database Administrat...</td>\n",
       "      <td>3</td>\n",
       "      <td>4.99</td>\n",
       "      <td>48</td>\n",
       "      <td>12.99</td>\n",
       "      <td>G</td>\n",
       "      <td>Trailers, Deleted Scenes</td>\n",
       "    </tr>\n",
       "    <tr>\n",
       "      <th>2</th>\n",
       "      <td>3</td>\n",
       "      <td>ADAPTATION HOLES</td>\n",
       "      <td>A Astounding Reflection of a Lumberjack And a ...</td>\n",
       "      <td>7</td>\n",
       "      <td>2.99</td>\n",
       "      <td>50</td>\n",
       "      <td>18.99</td>\n",
       "      <td>NC-17</td>\n",
       "      <td>Trailers, Deleted Scenes</td>\n",
       "    </tr>\n",
       "    <tr>\n",
       "      <th>3</th>\n",
       "      <td>4</td>\n",
       "      <td>AFFAIR PREJUDICE</td>\n",
       "      <td>A Fanciful Documentary of a Frisbee And a Lumb...</td>\n",
       "      <td>5</td>\n",
       "      <td>2.99</td>\n",
       "      <td>117</td>\n",
       "      <td>26.99</td>\n",
       "      <td>G</td>\n",
       "      <td>Commentaries, Behind the Scenes</td>\n",
       "    </tr>\n",
       "    <tr>\n",
       "      <th>4</th>\n",
       "      <td>5</td>\n",
       "      <td>AFRICAN EGG</td>\n",
       "      <td>A Fast-Paced Documentary of a Pastry Chef And ...</td>\n",
       "      <td>6</td>\n",
       "      <td>2.99</td>\n",
       "      <td>130</td>\n",
       "      <td>22.99</td>\n",
       "      <td>G</td>\n",
       "      <td>Deleted Scenes</td>\n",
       "    </tr>\n",
       "  </tbody>\n",
       "</table>\n",
       "</div>"
      ],
      "text/plain": [
       "   film_id             title  \\\n",
       "0        1  ACADEMY DINOSAUR   \n",
       "1        2    ACE GOLDFINGER   \n",
       "2        3  ADAPTATION HOLES   \n",
       "3        4  AFFAIR PREJUDICE   \n",
       "4        5       AFRICAN EGG   \n",
       "\n",
       "                                         description  rental_duration  \\\n",
       "0  A Epic Drama of a Feminist And a Mad Scientist...                6   \n",
       "1  A Astounding Epistle of a Database Administrat...                3   \n",
       "2  A Astounding Reflection of a Lumberjack And a ...                7   \n",
       "3  A Fanciful Documentary of a Frisbee And a Lumb...                5   \n",
       "4  A Fast-Paced Documentary of a Pastry Chef And ...                6   \n",
       "\n",
       "   rental_rate  length  replacement_cost rating  \\\n",
       "0         0.99      86             20.99     PG   \n",
       "1         4.99      48             12.99      G   \n",
       "2         2.99      50             18.99  NC-17   \n",
       "3         2.99     117             26.99      G   \n",
       "4         2.99     130             22.99      G   \n",
       "\n",
       "                    special_features  \n",
       "0  Deleted Scenes, Behind the Scenes  \n",
       "1           Trailers, Deleted Scenes  \n",
       "2           Trailers, Deleted Scenes  \n",
       "3    Commentaries, Behind the Scenes  \n",
       "4                     Deleted Scenes  "
      ]
     },
     "execution_count": 64,
     "metadata": {},
     "output_type": "execute_result"
    }
   ],
   "source": [
    "df_film.head()"
   ]
  },
  {
   "cell_type": "markdown",
   "id": "e80d58ab",
   "metadata": {},
   "source": [
    "# 1.4 DataFrame Inventory."
   ]
  },
  {
   "cell_type": "code",
   "execution_count": 65,
   "id": "04992d51",
   "metadata": {},
   "outputs": [],
   "source": [
    "df_original_inventory = pd.read_csv('data/inventory.csv', encoding='latin1')\n",
    "df_inventory = df_original_inventory.copy()"
   ]
  },
  {
   "cell_type": "code",
   "execution_count": 66,
   "id": "83982fc0",
   "metadata": {},
   "outputs": [
    {
     "data": {
      "text/plain": [
       "(1000, 4)"
      ]
     },
     "execution_count": 66,
     "metadata": {},
     "output_type": "execute_result"
    }
   ],
   "source": [
    "dim_original_inventory = df_inventory.shape # De esta forma guardo las dimensiones del data frame original.\n",
    "df_inventory.shape"
   ]
  },
  {
   "cell_type": "code",
   "execution_count": 67,
   "id": "f0360b0f",
   "metadata": {},
   "outputs": [
    {
     "data": {
      "text/html": [
       "<div>\n",
       "<style scoped>\n",
       "    .dataframe tbody tr th:only-of-type {\n",
       "        vertical-align: middle;\n",
       "    }\n",
       "\n",
       "    .dataframe tbody tr th {\n",
       "        vertical-align: top;\n",
       "    }\n",
       "\n",
       "    .dataframe thead th {\n",
       "        text-align: right;\n",
       "    }\n",
       "</style>\n",
       "<table border=\"1\" class=\"dataframe\">\n",
       "  <thead>\n",
       "    <tr style=\"text-align: right;\">\n",
       "      <th></th>\n",
       "      <th>inventory_id</th>\n",
       "      <th>film_id</th>\n",
       "      <th>store_id</th>\n",
       "      <th>last_update</th>\n",
       "    </tr>\n",
       "  </thead>\n",
       "  <tbody>\n",
       "    <tr>\n",
       "      <th>0</th>\n",
       "      <td>1</td>\n",
       "      <td>1</td>\n",
       "      <td>1</td>\n",
       "      <td>2006-02-15 05:09:17</td>\n",
       "    </tr>\n",
       "    <tr>\n",
       "      <th>1</th>\n",
       "      <td>2</td>\n",
       "      <td>1</td>\n",
       "      <td>1</td>\n",
       "      <td>2006-02-15 05:09:17</td>\n",
       "    </tr>\n",
       "    <tr>\n",
       "      <th>2</th>\n",
       "      <td>3</td>\n",
       "      <td>1</td>\n",
       "      <td>1</td>\n",
       "      <td>2006-02-15 05:09:17</td>\n",
       "    </tr>\n",
       "    <tr>\n",
       "      <th>3</th>\n",
       "      <td>4</td>\n",
       "      <td>1</td>\n",
       "      <td>1</td>\n",
       "      <td>2006-02-15 05:09:17</td>\n",
       "    </tr>\n",
       "    <tr>\n",
       "      <th>4</th>\n",
       "      <td>5</td>\n",
       "      <td>1</td>\n",
       "      <td>2</td>\n",
       "      <td>2006-02-15 05:09:17</td>\n",
       "    </tr>\n",
       "  </tbody>\n",
       "</table>\n",
       "</div>"
      ],
      "text/plain": [
       "   inventory_id  film_id  store_id          last_update\n",
       "0             1        1         1  2006-02-15 05:09:17\n",
       "1             2        1         1  2006-02-15 05:09:17\n",
       "2             3        1         1  2006-02-15 05:09:17\n",
       "3             4        1         1  2006-02-15 05:09:17\n",
       "4             5        1         2  2006-02-15 05:09:17"
      ]
     },
     "execution_count": 67,
     "metadata": {},
     "output_type": "execute_result"
    }
   ],
   "source": [
    "df_inventory.head()"
   ]
  },
  {
   "cell_type": "code",
   "execution_count": 68,
   "id": "9871eba8",
   "metadata": {},
   "outputs": [
    {
     "name": "stdout",
     "output_type": "stream",
     "text": [
      "<class 'pandas.core.frame.DataFrame'>\n",
      "RangeIndex: 1000 entries, 0 to 999\n",
      "Data columns (total 4 columns):\n",
      " #   Column        Non-Null Count  Dtype \n",
      "---  ------        --------------  ----- \n",
      " 0   inventory_id  1000 non-null   int64 \n",
      " 1   film_id       1000 non-null   int64 \n",
      " 2   store_id      1000 non-null   int64 \n",
      " 3   last_update   1000 non-null   object\n",
      "dtypes: int64(3), object(1)\n",
      "memory usage: 31.4+ KB\n"
     ]
    }
   ],
   "source": [
    "df_inventory.info()"
   ]
  },
  {
   "cell_type": "code",
   "execution_count": 69,
   "id": "504812b5",
   "metadata": {},
   "outputs": [
    {
     "data": {
      "text/plain": [
       "[]"
      ]
     },
     "execution_count": 69,
     "metadata": {},
     "output_type": "execute_result"
    }
   ],
   "source": [
    "cte_cols_inventory = []\n",
    "for c in df_inventory.select_dtypes(include=np.number):   # para cada columna numerica.....\n",
    "    if len(df_inventory[c].unique()) == 1:\n",
    "        cte_cols.append(c)\n",
    "cte_cols_inventory   "
   ]
  },
  {
   "cell_type": "code",
   "execution_count": 70,
   "id": "b9311720",
   "metadata": {},
   "outputs": [],
   "source": [
    "#no hay ninguna columna numérica cte."
   ]
  },
  {
   "cell_type": "code",
   "execution_count": 71,
   "id": "bab7965c",
   "metadata": {},
   "outputs": [
    {
     "data": {
      "text/plain": [
       "array(['2006-02-15 05:09:17'], dtype=object)"
      ]
     },
     "execution_count": 71,
     "metadata": {},
     "output_type": "execute_result"
    }
   ],
   "source": [
    "df_inventory.last_update.unique()"
   ]
  },
  {
   "cell_type": "code",
   "execution_count": 72,
   "id": "707b70aa",
   "metadata": {},
   "outputs": [],
   "source": [
    "df_inventory.drop(columns=['last_update'], inplace=True)"
   ]
  },
  {
   "cell_type": "code",
   "execution_count": 73,
   "id": "4e3b5abc",
   "metadata": {},
   "outputs": [
    {
     "data": {
      "text/plain": [
       "array([1, 2])"
      ]
     },
     "execution_count": 73,
     "metadata": {},
     "output_type": "execute_result"
    }
   ],
   "source": [
    "df_inventory.store_id.unique()"
   ]
  },
  {
   "cell_type": "code",
   "execution_count": 74,
   "id": "47908d65",
   "metadata": {},
   "outputs": [],
   "source": [
    "#observamos que debía haber dos tindas, no se relaciona con ninguna otra tabla perp puede ser interesante para ver qué localización era mejor"
   ]
  },
  {
   "cell_type": "code",
   "execution_count": 75,
   "id": "da3e0a79",
   "metadata": {},
   "outputs": [
    {
     "data": {
      "text/html": [
       "<div>\n",
       "<style scoped>\n",
       "    .dataframe tbody tr th:only-of-type {\n",
       "        vertical-align: middle;\n",
       "    }\n",
       "\n",
       "    .dataframe tbody tr th {\n",
       "        vertical-align: top;\n",
       "    }\n",
       "\n",
       "    .dataframe thead th {\n",
       "        text-align: right;\n",
       "    }\n",
       "</style>\n",
       "<table border=\"1\" class=\"dataframe\">\n",
       "  <thead>\n",
       "    <tr style=\"text-align: right;\">\n",
       "      <th></th>\n",
       "      <th>inventory_id</th>\n",
       "      <th>film_id</th>\n",
       "      <th>store_id</th>\n",
       "    </tr>\n",
       "  </thead>\n",
       "  <tbody>\n",
       "    <tr>\n",
       "      <th>0</th>\n",
       "      <td>1</td>\n",
       "      <td>1</td>\n",
       "      <td>1</td>\n",
       "    </tr>\n",
       "    <tr>\n",
       "      <th>1</th>\n",
       "      <td>2</td>\n",
       "      <td>1</td>\n",
       "      <td>1</td>\n",
       "    </tr>\n",
       "    <tr>\n",
       "      <th>2</th>\n",
       "      <td>3</td>\n",
       "      <td>1</td>\n",
       "      <td>1</td>\n",
       "    </tr>\n",
       "    <tr>\n",
       "      <th>3</th>\n",
       "      <td>4</td>\n",
       "      <td>1</td>\n",
       "      <td>1</td>\n",
       "    </tr>\n",
       "    <tr>\n",
       "      <th>4</th>\n",
       "      <td>5</td>\n",
       "      <td>1</td>\n",
       "      <td>2</td>\n",
       "    </tr>\n",
       "  </tbody>\n",
       "</table>\n",
       "</div>"
      ],
      "text/plain": [
       "   inventory_id  film_id  store_id\n",
       "0             1        1         1\n",
       "1             2        1         1\n",
       "2             3        1         1\n",
       "3             4        1         1\n",
       "4             5        1         2"
      ]
     },
     "execution_count": 75,
     "metadata": {},
     "output_type": "execute_result"
    }
   ],
   "source": [
    "df_inventory.head()"
   ]
  },
  {
   "cell_type": "code",
   "execution_count": 76,
   "id": "4d85c08b",
   "metadata": {},
   "outputs": [],
   "source": [
    "#df_inventory.inventory_id.unique() #aquí  hay 1000 y en el de rental hay muchos más"
   ]
  },
  {
   "cell_type": "markdown",
   "id": "72968c27",
   "metadata": {},
   "source": [
    "# 1.4 DataFrame Language. (LIMPIA)"
   ]
  },
  {
   "cell_type": "code",
   "execution_count": 77,
   "id": "b7917df3",
   "metadata": {},
   "outputs": [],
   "source": [
    "df_original_language = pd.read_csv('data/language.csv', encoding='latin1')\n",
    "df_language = df_original_language.copy()"
   ]
  },
  {
   "cell_type": "code",
   "execution_count": 78,
   "id": "273f73b8",
   "metadata": {},
   "outputs": [
    {
     "data": {
      "text/plain": [
       "(6, 3)"
      ]
     },
     "execution_count": 78,
     "metadata": {},
     "output_type": "execute_result"
    }
   ],
   "source": [
    "dim_original_language = df_language.shape # De esta forma guardo las dimensiones del data frame original.\n",
    "df_language.shape"
   ]
  },
  {
   "cell_type": "code",
   "execution_count": 79,
   "id": "2a0690bb",
   "metadata": {},
   "outputs": [
    {
     "data": {
      "text/html": [
       "<div>\n",
       "<style scoped>\n",
       "    .dataframe tbody tr th:only-of-type {\n",
       "        vertical-align: middle;\n",
       "    }\n",
       "\n",
       "    .dataframe tbody tr th {\n",
       "        vertical-align: top;\n",
       "    }\n",
       "\n",
       "    .dataframe thead th {\n",
       "        text-align: right;\n",
       "    }\n",
       "</style>\n",
       "<table border=\"1\" class=\"dataframe\">\n",
       "  <thead>\n",
       "    <tr style=\"text-align: right;\">\n",
       "      <th></th>\n",
       "      <th>language_id</th>\n",
       "      <th>name</th>\n",
       "      <th>last_update</th>\n",
       "    </tr>\n",
       "  </thead>\n",
       "  <tbody>\n",
       "    <tr>\n",
       "      <th>0</th>\n",
       "      <td>1</td>\n",
       "      <td>English</td>\n",
       "      <td>2006-02-15 05:02:19</td>\n",
       "    </tr>\n",
       "    <tr>\n",
       "      <th>1</th>\n",
       "      <td>2</td>\n",
       "      <td>Italian</td>\n",
       "      <td>2006-02-15 05:02:19</td>\n",
       "    </tr>\n",
       "    <tr>\n",
       "      <th>2</th>\n",
       "      <td>3</td>\n",
       "      <td>Japanese</td>\n",
       "      <td>2006-02-15 05:02:19</td>\n",
       "    </tr>\n",
       "    <tr>\n",
       "      <th>3</th>\n",
       "      <td>4</td>\n",
       "      <td>Mandarin</td>\n",
       "      <td>2006-02-15 05:02:19</td>\n",
       "    </tr>\n",
       "    <tr>\n",
       "      <th>4</th>\n",
       "      <td>5</td>\n",
       "      <td>French</td>\n",
       "      <td>2006-02-15 05:02:19</td>\n",
       "    </tr>\n",
       "    <tr>\n",
       "      <th>5</th>\n",
       "      <td>6</td>\n",
       "      <td>German</td>\n",
       "      <td>2006-02-15 05:02:19</td>\n",
       "    </tr>\n",
       "  </tbody>\n",
       "</table>\n",
       "</div>"
      ],
      "text/plain": [
       "   language_id      name          last_update\n",
       "0            1   English  2006-02-15 05:02:19\n",
       "1            2   Italian  2006-02-15 05:02:19\n",
       "2            3  Japanese  2006-02-15 05:02:19\n",
       "3            4  Mandarin  2006-02-15 05:02:19\n",
       "4            5    French  2006-02-15 05:02:19\n",
       "5            6    German  2006-02-15 05:02:19"
      ]
     },
     "execution_count": 79,
     "metadata": {},
     "output_type": "execute_result"
    }
   ],
   "source": [
    "df_language.head(7)"
   ]
  },
  {
   "cell_type": "code",
   "execution_count": 80,
   "id": "b2c60724",
   "metadata": {},
   "outputs": [
    {
     "name": "stdout",
     "output_type": "stream",
     "text": [
      "<class 'pandas.core.frame.DataFrame'>\n",
      "RangeIndex: 6 entries, 0 to 5\n",
      "Data columns (total 3 columns):\n",
      " #   Column       Non-Null Count  Dtype \n",
      "---  ------       --------------  ----- \n",
      " 0   language_id  6 non-null      int64 \n",
      " 1   name         6 non-null      object\n",
      " 2   last_update  6 non-null      object\n",
      "dtypes: int64(1), object(2)\n",
      "memory usage: 276.0+ bytes\n"
     ]
    }
   ],
   "source": [
    "df_language.info()"
   ]
  },
  {
   "cell_type": "code",
   "execution_count": 81,
   "id": "c81667d5",
   "metadata": {},
   "outputs": [],
   "source": [
    "#otra vez más, nos deshacemos de la columna last-update"
   ]
  },
  {
   "cell_type": "code",
   "execution_count": 82,
   "id": "f2a15b8f",
   "metadata": {},
   "outputs": [
    {
     "data": {
      "text/plain": [
       "array(['2006-02-15 05:02:19'], dtype=object)"
      ]
     },
     "execution_count": 82,
     "metadata": {},
     "output_type": "execute_result"
    }
   ],
   "source": [
    "df_language.last_update.unique()"
   ]
  },
  {
   "cell_type": "code",
   "execution_count": 83,
   "id": "74495876",
   "metadata": {},
   "outputs": [],
   "source": [
    "df_language.drop(columns=['last_update'], inplace=True)"
   ]
  },
  {
   "cell_type": "code",
   "execution_count": 84,
   "id": "21c7a61c",
   "metadata": {},
   "outputs": [
    {
     "data": {
      "text/plain": [
       "array([1, 2, 3, 4, 5, 6])"
      ]
     },
     "execution_count": 84,
     "metadata": {},
     "output_type": "execute_result"
    }
   ],
   "source": [
    "df_language.language_id.unique()"
   ]
  },
  {
   "cell_type": "code",
   "execution_count": 85,
   "id": "97cc9e06",
   "metadata": {},
   "outputs": [
    {
     "data": {
      "text/plain": [
       "array(['English', 'Italian', 'Japanese', 'Mandarin', 'French', 'German'],\n",
       "      dtype=object)"
      ]
     },
     "execution_count": 85,
     "metadata": {},
     "output_type": "execute_result"
    }
   ],
   "source": [
    "df_language.name.unique()"
   ]
  },
  {
   "cell_type": "code",
   "execution_count": 86,
   "id": "7689895f",
   "metadata": {},
   "outputs": [
    {
     "data": {
      "text/html": [
       "<div>\n",
       "<style scoped>\n",
       "    .dataframe tbody tr th:only-of-type {\n",
       "        vertical-align: middle;\n",
       "    }\n",
       "\n",
       "    .dataframe tbody tr th {\n",
       "        vertical-align: top;\n",
       "    }\n",
       "\n",
       "    .dataframe thead th {\n",
       "        text-align: right;\n",
       "    }\n",
       "</style>\n",
       "<table border=\"1\" class=\"dataframe\">\n",
       "  <thead>\n",
       "    <tr style=\"text-align: right;\">\n",
       "      <th></th>\n",
       "      <th>language_id</th>\n",
       "      <th>name</th>\n",
       "    </tr>\n",
       "  </thead>\n",
       "  <tbody>\n",
       "    <tr>\n",
       "      <th>0</th>\n",
       "      <td>1</td>\n",
       "      <td>English</td>\n",
       "    </tr>\n",
       "    <tr>\n",
       "      <th>1</th>\n",
       "      <td>2</td>\n",
       "      <td>Italian</td>\n",
       "    </tr>\n",
       "    <tr>\n",
       "      <th>2</th>\n",
       "      <td>3</td>\n",
       "      <td>Japanese</td>\n",
       "    </tr>\n",
       "    <tr>\n",
       "      <th>3</th>\n",
       "      <td>4</td>\n",
       "      <td>Mandarin</td>\n",
       "    </tr>\n",
       "    <tr>\n",
       "      <th>4</th>\n",
       "      <td>5</td>\n",
       "      <td>French</td>\n",
       "    </tr>\n",
       "  </tbody>\n",
       "</table>\n",
       "</div>"
      ],
      "text/plain": [
       "   language_id      name\n",
       "0            1   English\n",
       "1            2   Italian\n",
       "2            3  Japanese\n",
       "3            4  Mandarin\n",
       "4            5    French"
      ]
     },
     "execution_count": 86,
     "metadata": {},
     "output_type": "execute_result"
    }
   ],
   "source": [
    "df_language.head()"
   ]
  },
  {
   "cell_type": "markdown",
   "id": "e8076169",
   "metadata": {},
   "source": [
    "# 1.5 DataFrame old_HDD. (lo del actor_id y el film_id no está bien tal y como está )"
   ]
  },
  {
   "cell_type": "code",
   "execution_count": 87,
   "id": "6c5d3b68",
   "metadata": {},
   "outputs": [],
   "source": [
    "df_original_old_hdd = pd.read_csv('data/old_HDD.csv', encoding='latin1')\n",
    "df_old_hdd = df_original_old_hdd.copy()"
   ]
  },
  {
   "cell_type": "code",
   "execution_count": 88,
   "id": "4f7b5b4c",
   "metadata": {},
   "outputs": [
    {
     "data": {
      "text/plain": [
       "(1000, 5)"
      ]
     },
     "execution_count": 88,
     "metadata": {},
     "output_type": "execute_result"
    }
   ],
   "source": [
    "dim_original_old_hdd = df_old_hdd.shape # De esta forma guardo las dimensiones del data frame original.\n",
    "df_old_hdd.shape"
   ]
  },
  {
   "cell_type": "code",
   "execution_count": 89,
   "id": "0b566812",
   "metadata": {},
   "outputs": [
    {
     "data": {
      "text/html": [
       "<div>\n",
       "<style scoped>\n",
       "    .dataframe tbody tr th:only-of-type {\n",
       "        vertical-align: middle;\n",
       "    }\n",
       "\n",
       "    .dataframe tbody tr th {\n",
       "        vertical-align: top;\n",
       "    }\n",
       "\n",
       "    .dataframe thead th {\n",
       "        text-align: right;\n",
       "    }\n",
       "</style>\n",
       "<table border=\"1\" class=\"dataframe\">\n",
       "  <thead>\n",
       "    <tr style=\"text-align: right;\">\n",
       "      <th></th>\n",
       "      <th>first_name</th>\n",
       "      <th>last_name</th>\n",
       "      <th>title</th>\n",
       "      <th>release_year</th>\n",
       "      <th>category_id</th>\n",
       "    </tr>\n",
       "  </thead>\n",
       "  <tbody>\n",
       "    <tr>\n",
       "      <th>0</th>\n",
       "      <td>PENELOPE</td>\n",
       "      <td>GUINESS</td>\n",
       "      <td>ACADEMY DINOSAUR</td>\n",
       "      <td>2006</td>\n",
       "      <td>6</td>\n",
       "    </tr>\n",
       "    <tr>\n",
       "      <th>1</th>\n",
       "      <td>PENELOPE</td>\n",
       "      <td>GUINESS</td>\n",
       "      <td>ANACONDA CONFESSIONS</td>\n",
       "      <td>2006</td>\n",
       "      <td>2</td>\n",
       "    </tr>\n",
       "    <tr>\n",
       "      <th>2</th>\n",
       "      <td>PENELOPE</td>\n",
       "      <td>GUINESS</td>\n",
       "      <td>ANGELS LIFE</td>\n",
       "      <td>2006</td>\n",
       "      <td>13</td>\n",
       "    </tr>\n",
       "    <tr>\n",
       "      <th>3</th>\n",
       "      <td>PENELOPE</td>\n",
       "      <td>GUINESS</td>\n",
       "      <td>BULWORTH COMMANDMENTS</td>\n",
       "      <td>2006</td>\n",
       "      <td>10</td>\n",
       "    </tr>\n",
       "    <tr>\n",
       "      <th>4</th>\n",
       "      <td>PENELOPE</td>\n",
       "      <td>GUINESS</td>\n",
       "      <td>CHEAPER CLYDE</td>\n",
       "      <td>2006</td>\n",
       "      <td>14</td>\n",
       "    </tr>\n",
       "  </tbody>\n",
       "</table>\n",
       "</div>"
      ],
      "text/plain": [
       "  first_name last_name                  title  release_year  category_id\n",
       "0   PENELOPE   GUINESS       ACADEMY DINOSAUR          2006            6\n",
       "1   PENELOPE   GUINESS   ANACONDA CONFESSIONS          2006            2\n",
       "2   PENELOPE   GUINESS            ANGELS LIFE          2006           13\n",
       "3   PENELOPE   GUINESS  BULWORTH COMMANDMENTS          2006           10\n",
       "4   PENELOPE   GUINESS          CHEAPER CLYDE          2006           14"
      ]
     },
     "execution_count": 89,
     "metadata": {},
     "output_type": "execute_result"
    }
   ],
   "source": [
    "df_old_hdd.head()"
   ]
  },
  {
   "cell_type": "code",
   "execution_count": 90,
   "id": "787517c9",
   "metadata": {},
   "outputs": [
    {
     "name": "stdout",
     "output_type": "stream",
     "text": [
      "<class 'pandas.core.frame.DataFrame'>\n",
      "RangeIndex: 1000 entries, 0 to 999\n",
      "Data columns (total 5 columns):\n",
      " #   Column        Non-Null Count  Dtype \n",
      "---  ------        --------------  ----- \n",
      " 0   first_name    1000 non-null   object\n",
      " 1   last_name     1000 non-null   object\n",
      " 2   title         1000 non-null   object\n",
      " 3   release_year  1000 non-null   int64 \n",
      " 4   category_id   1000 non-null   int64 \n",
      "dtypes: int64(2), object(3)\n",
      "memory usage: 39.2+ KB\n"
     ]
    }
   ],
   "source": [
    "df_old_hdd.info()"
   ]
  },
  {
   "cell_type": "code",
   "execution_count": 91,
   "id": "ebab394d",
   "metadata": {},
   "outputs": [
    {
     "data": {
      "text/plain": [
       "['release_year']"
      ]
     },
     "execution_count": 91,
     "metadata": {},
     "output_type": "execute_result"
    }
   ],
   "source": [
    "cte_cols_old_hdd = []\n",
    "for c in df_old_hdd.select_dtypes(include=np.number):   # para cada columna numerica.....   \n",
    "    if len(df_old_hdd[c].unique()) == 1:    \n",
    "        cte_cols_old_hdd.append(c)\n",
    "cte_cols_old_hdd   "
   ]
  },
  {
   "cell_type": "code",
   "execution_count": 92,
   "id": "ec458f00",
   "metadata": {},
   "outputs": [],
   "source": [
    "df_old_hdd.drop(columns=['release_year'], inplace=True)"
   ]
  },
  {
   "cell_type": "code",
   "execution_count": 93,
   "id": "fc0e65b6",
   "metadata": {},
   "outputs": [],
   "source": [
    "df_old_hdd['actor_name'] = df_old_hdd['first_name'] + ' ' + df_old_hdd['last_name']"
   ]
  },
  {
   "cell_type": "code",
   "execution_count": 94,
   "id": "ce1a47f2",
   "metadata": {},
   "outputs": [
    {
     "data": {
      "text/html": [
       "<div>\n",
       "<style scoped>\n",
       "    .dataframe tbody tr th:only-of-type {\n",
       "        vertical-align: middle;\n",
       "    }\n",
       "\n",
       "    .dataframe tbody tr th {\n",
       "        vertical-align: top;\n",
       "    }\n",
       "\n",
       "    .dataframe thead th {\n",
       "        text-align: right;\n",
       "    }\n",
       "</style>\n",
       "<table border=\"1\" class=\"dataframe\">\n",
       "  <thead>\n",
       "    <tr style=\"text-align: right;\">\n",
       "      <th></th>\n",
       "      <th>first_name</th>\n",
       "      <th>last_name</th>\n",
       "      <th>title</th>\n",
       "      <th>category_id</th>\n",
       "      <th>actor_name</th>\n",
       "    </tr>\n",
       "  </thead>\n",
       "  <tbody>\n",
       "    <tr>\n",
       "      <th>0</th>\n",
       "      <td>PENELOPE</td>\n",
       "      <td>GUINESS</td>\n",
       "      <td>ACADEMY DINOSAUR</td>\n",
       "      <td>6</td>\n",
       "      <td>PENELOPE GUINESS</td>\n",
       "    </tr>\n",
       "    <tr>\n",
       "      <th>1</th>\n",
       "      <td>PENELOPE</td>\n",
       "      <td>GUINESS</td>\n",
       "      <td>ANACONDA CONFESSIONS</td>\n",
       "      <td>2</td>\n",
       "      <td>PENELOPE GUINESS</td>\n",
       "    </tr>\n",
       "    <tr>\n",
       "      <th>2</th>\n",
       "      <td>PENELOPE</td>\n",
       "      <td>GUINESS</td>\n",
       "      <td>ANGELS LIFE</td>\n",
       "      <td>13</td>\n",
       "      <td>PENELOPE GUINESS</td>\n",
       "    </tr>\n",
       "    <tr>\n",
       "      <th>3</th>\n",
       "      <td>PENELOPE</td>\n",
       "      <td>GUINESS</td>\n",
       "      <td>BULWORTH COMMANDMENTS</td>\n",
       "      <td>10</td>\n",
       "      <td>PENELOPE GUINESS</td>\n",
       "    </tr>\n",
       "    <tr>\n",
       "      <th>4</th>\n",
       "      <td>PENELOPE</td>\n",
       "      <td>GUINESS</td>\n",
       "      <td>CHEAPER CLYDE</td>\n",
       "      <td>14</td>\n",
       "      <td>PENELOPE GUINESS</td>\n",
       "    </tr>\n",
       "  </tbody>\n",
       "</table>\n",
       "</div>"
      ],
      "text/plain": [
       "  first_name last_name                  title  category_id        actor_name\n",
       "0   PENELOPE   GUINESS       ACADEMY DINOSAUR            6  PENELOPE GUINESS\n",
       "1   PENELOPE   GUINESS   ANACONDA CONFESSIONS            2  PENELOPE GUINESS\n",
       "2   PENELOPE   GUINESS            ANGELS LIFE           13  PENELOPE GUINESS\n",
       "3   PENELOPE   GUINESS  BULWORTH COMMANDMENTS           10  PENELOPE GUINESS\n",
       "4   PENELOPE   GUINESS          CHEAPER CLYDE           14  PENELOPE GUINESS"
      ]
     },
     "execution_count": 94,
     "metadata": {},
     "output_type": "execute_result"
    }
   ],
   "source": [
    "df_old_hdd.head()"
   ]
  },
  {
   "cell_type": "code",
   "execution_count": 95,
   "id": "5c0cf934",
   "metadata": {},
   "outputs": [],
   "source": [
    "#y como he unido dos columnas en una, eliminaré las de name y apellidos"
   ]
  },
  {
   "cell_type": "code",
   "execution_count": 96,
   "id": "ca9b3517",
   "metadata": {},
   "outputs": [],
   "source": [
    "df_old_hdd.drop(columns=['first_name'], inplace=True)"
   ]
  },
  {
   "cell_type": "code",
   "execution_count": 97,
   "id": "da658561",
   "metadata": {},
   "outputs": [],
   "source": [
    "df_old_hdd.drop(columns=['last_name'], inplace=True)"
   ]
  },
  {
   "cell_type": "code",
   "execution_count": 98,
   "id": "02cd2e57",
   "metadata": {},
   "outputs": [
    {
     "data": {
      "text/html": [
       "<div>\n",
       "<style scoped>\n",
       "    .dataframe tbody tr th:only-of-type {\n",
       "        vertical-align: middle;\n",
       "    }\n",
       "\n",
       "    .dataframe tbody tr th {\n",
       "        vertical-align: top;\n",
       "    }\n",
       "\n",
       "    .dataframe thead th {\n",
       "        text-align: right;\n",
       "    }\n",
       "</style>\n",
       "<table border=\"1\" class=\"dataframe\">\n",
       "  <thead>\n",
       "    <tr style=\"text-align: right;\">\n",
       "      <th></th>\n",
       "      <th>title</th>\n",
       "      <th>category_id</th>\n",
       "      <th>actor_name</th>\n",
       "    </tr>\n",
       "  </thead>\n",
       "  <tbody>\n",
       "    <tr>\n",
       "      <th>0</th>\n",
       "      <td>ACADEMY DINOSAUR</td>\n",
       "      <td>6</td>\n",
       "      <td>PENELOPE GUINESS</td>\n",
       "    </tr>\n",
       "    <tr>\n",
       "      <th>1</th>\n",
       "      <td>ANACONDA CONFESSIONS</td>\n",
       "      <td>2</td>\n",
       "      <td>PENELOPE GUINESS</td>\n",
       "    </tr>\n",
       "    <tr>\n",
       "      <th>2</th>\n",
       "      <td>ANGELS LIFE</td>\n",
       "      <td>13</td>\n",
       "      <td>PENELOPE GUINESS</td>\n",
       "    </tr>\n",
       "    <tr>\n",
       "      <th>3</th>\n",
       "      <td>BULWORTH COMMANDMENTS</td>\n",
       "      <td>10</td>\n",
       "      <td>PENELOPE GUINESS</td>\n",
       "    </tr>\n",
       "    <tr>\n",
       "      <th>4</th>\n",
       "      <td>CHEAPER CLYDE</td>\n",
       "      <td>14</td>\n",
       "      <td>PENELOPE GUINESS</td>\n",
       "    </tr>\n",
       "  </tbody>\n",
       "</table>\n",
       "</div>"
      ],
      "text/plain": [
       "                   title  category_id        actor_name\n",
       "0       ACADEMY DINOSAUR            6  PENELOPE GUINESS\n",
       "1   ANACONDA CONFESSIONS            2  PENELOPE GUINESS\n",
       "2            ANGELS LIFE           13  PENELOPE GUINESS\n",
       "3  BULWORTH COMMANDMENTS           10  PENELOPE GUINESS\n",
       "4          CHEAPER CLYDE           14  PENELOPE GUINESS"
      ]
     },
     "execution_count": 98,
     "metadata": {},
     "output_type": "execute_result"
    }
   ],
   "source": [
    "df_old_hdd.head()"
   ]
  },
  {
   "cell_type": "code",
   "execution_count": 99,
   "id": "c7e0b3c7",
   "metadata": {},
   "outputs": [],
   "source": [
    "#He añadido actor_id y fil_id"
   ]
  },
  {
   "cell_type": "code",
   "execution_count": 100,
   "id": "2872d0ec",
   "metadata": {},
   "outputs": [],
   "source": [
    "df_old_hdd = df_old_hdd.merge(df_actor[['actor_name', 'actor_id']], on='actor_name', how='left')"
   ]
  },
  {
   "cell_type": "code",
   "execution_count": 101,
   "id": "e0f83155",
   "metadata": {},
   "outputs": [],
   "source": [
    "df_old_hdd = df_old_hdd.merge(df_film[['title', 'film_id']], on='title', how='left')"
   ]
  },
  {
   "cell_type": "code",
   "execution_count": 102,
   "id": "5d9f50b8",
   "metadata": {},
   "outputs": [
    {
     "data": {
      "text/html": [
       "<div>\n",
       "<style scoped>\n",
       "    .dataframe tbody tr th:only-of-type {\n",
       "        vertical-align: middle;\n",
       "    }\n",
       "\n",
       "    .dataframe tbody tr th {\n",
       "        vertical-align: top;\n",
       "    }\n",
       "\n",
       "    .dataframe thead th {\n",
       "        text-align: right;\n",
       "    }\n",
       "</style>\n",
       "<table border=\"1\" class=\"dataframe\">\n",
       "  <thead>\n",
       "    <tr style=\"text-align: right;\">\n",
       "      <th></th>\n",
       "      <th>title</th>\n",
       "      <th>category_id</th>\n",
       "      <th>actor_name</th>\n",
       "      <th>actor_id</th>\n",
       "      <th>film_id</th>\n",
       "    </tr>\n",
       "  </thead>\n",
       "  <tbody>\n",
       "    <tr>\n",
       "      <th>0</th>\n",
       "      <td>ACADEMY DINOSAUR</td>\n",
       "      <td>6</td>\n",
       "      <td>PENELOPE GUINESS</td>\n",
       "      <td>1</td>\n",
       "      <td>1</td>\n",
       "    </tr>\n",
       "    <tr>\n",
       "      <th>1</th>\n",
       "      <td>ANACONDA CONFESSIONS</td>\n",
       "      <td>2</td>\n",
       "      <td>PENELOPE GUINESS</td>\n",
       "      <td>1</td>\n",
       "      <td>23</td>\n",
       "    </tr>\n",
       "    <tr>\n",
       "      <th>2</th>\n",
       "      <td>ANGELS LIFE</td>\n",
       "      <td>13</td>\n",
       "      <td>PENELOPE GUINESS</td>\n",
       "      <td>1</td>\n",
       "      <td>25</td>\n",
       "    </tr>\n",
       "    <tr>\n",
       "      <th>3</th>\n",
       "      <td>BULWORTH COMMANDMENTS</td>\n",
       "      <td>10</td>\n",
       "      <td>PENELOPE GUINESS</td>\n",
       "      <td>1</td>\n",
       "      <td>106</td>\n",
       "    </tr>\n",
       "    <tr>\n",
       "      <th>4</th>\n",
       "      <td>CHEAPER CLYDE</td>\n",
       "      <td>14</td>\n",
       "      <td>PENELOPE GUINESS</td>\n",
       "      <td>1</td>\n",
       "      <td>140</td>\n",
       "    </tr>\n",
       "  </tbody>\n",
       "</table>\n",
       "</div>"
      ],
      "text/plain": [
       "                   title  category_id        actor_name  actor_id  film_id\n",
       "0       ACADEMY DINOSAUR            6  PENELOPE GUINESS         1        1\n",
       "1   ANACONDA CONFESSIONS            2  PENELOPE GUINESS         1       23\n",
       "2            ANGELS LIFE           13  PENELOPE GUINESS         1       25\n",
       "3  BULWORTH COMMANDMENTS           10  PENELOPE GUINESS         1      106\n",
       "4          CHEAPER CLYDE           14  PENELOPE GUINESS         1      140"
      ]
     },
     "execution_count": 102,
     "metadata": {},
     "output_type": "execute_result"
    }
   ],
   "source": [
    "df_old_hdd.head()"
   ]
  },
  {
   "cell_type": "markdown",
   "id": "e36cba66",
   "metadata": {},
   "source": [
    "#En el caso concreto que proporcionaste, donde tienes una tabla que contiene películas y otra tabla que contiene categorías, es razonable mantener la relación entre ambas tablas utilizando una clave externa (category_id) en la tabla de películas. Esto sigue el principio de normalización de bases de datos y presenta varios beneficios:\n",
    "\n",
    "Integridad de los datos: Al mantener una relación, puedes garantizar que las películas se asignen correctamente a las categorías mediante la clave externa (category_id). Esto previene la entrada de datos incorrectos o inconsistentes.\n",
    "Eficiencia en el almacenamiento: Evitas la duplicación de datos innecesaria, lo que ahorra espacio de almacenamiento, especialmente si tienes muchas películas en diferentes categorías.\n",
    "Facilita la actualización de categorías: Si necesitas modificar o agregar categorías en el futuro, solo tendrás que hacerlo en la tabla de categorías. Las películas relacionadas seguirán vinculadas a sus categorías correspondientes sin necesidad de cambios en la tabla de películas.\n",
    "Facilita las consultas complejas: Si en el futuro necesitas realizar consultas que involucren la relación entre películas y categorías, mantener la relación facilitará estas consultas.\n",
    "Por lo tanto, en este caso, te recomendaría mantener la relación y normalizar los datos, es decir, mantener las categorías en una tabla independiente y utilizar una clave externa para relacionar las películas con sus categorías. Esto ayudará a mantener la integridad de los datos y permitirá un mejor manejo de la información"
   ]
  },
  {
   "cell_type": "code",
   "execution_count": 103,
   "id": "d9882f48",
   "metadata": {},
   "outputs": [],
   "source": [
    "#ahora quiero cambiar el orden de las columnas"
   ]
  },
  {
   "cell_type": "code",
   "execution_count": 104,
   "id": "de0ed1fb",
   "metadata": {},
   "outputs": [],
   "source": [
    "nuevo_orden = ['actor_id', 'film_id', 'name', 'title', 'category_id']"
   ]
  },
  {
   "cell_type": "code",
   "execution_count": 105,
   "id": "6ab43ee0",
   "metadata": {},
   "outputs": [],
   "source": [
    "df_old_hdd = df_old_hdd.reindex(columns=nuevo_orden)"
   ]
  },
  {
   "cell_type": "code",
   "execution_count": 106,
   "id": "39d2004f",
   "metadata": {},
   "outputs": [
    {
     "data": {
      "text/html": [
       "<div>\n",
       "<style scoped>\n",
       "    .dataframe tbody tr th:only-of-type {\n",
       "        vertical-align: middle;\n",
       "    }\n",
       "\n",
       "    .dataframe tbody tr th {\n",
       "        vertical-align: top;\n",
       "    }\n",
       "\n",
       "    .dataframe thead th {\n",
       "        text-align: right;\n",
       "    }\n",
       "</style>\n",
       "<table border=\"1\" class=\"dataframe\">\n",
       "  <thead>\n",
       "    <tr style=\"text-align: right;\">\n",
       "      <th></th>\n",
       "      <th>actor_id</th>\n",
       "      <th>film_id</th>\n",
       "      <th>name</th>\n",
       "      <th>title</th>\n",
       "      <th>category_id</th>\n",
       "    </tr>\n",
       "  </thead>\n",
       "  <tbody>\n",
       "    <tr>\n",
       "      <th>0</th>\n",
       "      <td>1</td>\n",
       "      <td>1</td>\n",
       "      <td>NaN</td>\n",
       "      <td>ACADEMY DINOSAUR</td>\n",
       "      <td>6</td>\n",
       "    </tr>\n",
       "    <tr>\n",
       "      <th>1</th>\n",
       "      <td>1</td>\n",
       "      <td>23</td>\n",
       "      <td>NaN</td>\n",
       "      <td>ANACONDA CONFESSIONS</td>\n",
       "      <td>2</td>\n",
       "    </tr>\n",
       "    <tr>\n",
       "      <th>2</th>\n",
       "      <td>1</td>\n",
       "      <td>25</td>\n",
       "      <td>NaN</td>\n",
       "      <td>ANGELS LIFE</td>\n",
       "      <td>13</td>\n",
       "    </tr>\n",
       "    <tr>\n",
       "      <th>3</th>\n",
       "      <td>1</td>\n",
       "      <td>106</td>\n",
       "      <td>NaN</td>\n",
       "      <td>BULWORTH COMMANDMENTS</td>\n",
       "      <td>10</td>\n",
       "    </tr>\n",
       "    <tr>\n",
       "      <th>4</th>\n",
       "      <td>1</td>\n",
       "      <td>140</td>\n",
       "      <td>NaN</td>\n",
       "      <td>CHEAPER CLYDE</td>\n",
       "      <td>14</td>\n",
       "    </tr>\n",
       "  </tbody>\n",
       "</table>\n",
       "</div>"
      ],
      "text/plain": [
       "   actor_id  film_id  name                  title  category_id\n",
       "0         1        1   NaN       ACADEMY DINOSAUR            6\n",
       "1         1       23   NaN   ANACONDA CONFESSIONS            2\n",
       "2         1       25   NaN            ANGELS LIFE           13\n",
       "3         1      106   NaN  BULWORTH COMMANDMENTS           10\n",
       "4         1      140   NaN          CHEAPER CLYDE           14"
      ]
     },
     "execution_count": 106,
     "metadata": {},
     "output_type": "execute_result"
    }
   ],
   "source": [
    "df_old_hdd.head()"
   ]
  },
  {
   "cell_type": "markdown",
   "id": "944630e4",
   "metadata": {},
   "source": [
    "# 1.6 DataFrame rental. (LIMPIARLA)"
   ]
  },
  {
   "cell_type": "code",
   "execution_count": 107,
   "id": "57c9ae9b",
   "metadata": {},
   "outputs": [],
   "source": [
    "df_original_rental = pd.read_csv('data/rental.csv', encoding='latin1')\n",
    "df_rental = df_original_rental.copy()"
   ]
  },
  {
   "cell_type": "code",
   "execution_count": 108,
   "id": "45196733",
   "metadata": {},
   "outputs": [
    {
     "data": {
      "text/plain": [
       "(1000, 7)"
      ]
     },
     "execution_count": 108,
     "metadata": {},
     "output_type": "execute_result"
    }
   ],
   "source": [
    "dim_original_rental = df_rental.shape # De esta forma guardo las dimensiones del data frame original.\n",
    "df_rental.shape"
   ]
  },
  {
   "cell_type": "code",
   "execution_count": 109,
   "id": "c6824f22",
   "metadata": {},
   "outputs": [
    {
     "data": {
      "text/html": [
       "<div>\n",
       "<style scoped>\n",
       "    .dataframe tbody tr th:only-of-type {\n",
       "        vertical-align: middle;\n",
       "    }\n",
       "\n",
       "    .dataframe tbody tr th {\n",
       "        vertical-align: top;\n",
       "    }\n",
       "\n",
       "    .dataframe thead th {\n",
       "        text-align: right;\n",
       "    }\n",
       "</style>\n",
       "<table border=\"1\" class=\"dataframe\">\n",
       "  <thead>\n",
       "    <tr style=\"text-align: right;\">\n",
       "      <th></th>\n",
       "      <th>rental_id</th>\n",
       "      <th>rental_date</th>\n",
       "      <th>inventory_id</th>\n",
       "      <th>customer_id</th>\n",
       "      <th>return_date</th>\n",
       "      <th>staff_id</th>\n",
       "      <th>last_update</th>\n",
       "    </tr>\n",
       "  </thead>\n",
       "  <tbody>\n",
       "    <tr>\n",
       "      <th>0</th>\n",
       "      <td>1</td>\n",
       "      <td>2005-05-24 22:53:30</td>\n",
       "      <td>367</td>\n",
       "      <td>130</td>\n",
       "      <td>2005-05-26 22:04:30</td>\n",
       "      <td>1</td>\n",
       "      <td>2006-02-15 21:30:53</td>\n",
       "    </tr>\n",
       "    <tr>\n",
       "      <th>1</th>\n",
       "      <td>2</td>\n",
       "      <td>2005-05-24 22:54:33</td>\n",
       "      <td>1525</td>\n",
       "      <td>459</td>\n",
       "      <td>2005-05-28 19:40:33</td>\n",
       "      <td>1</td>\n",
       "      <td>2006-02-15 21:30:53</td>\n",
       "    </tr>\n",
       "    <tr>\n",
       "      <th>2</th>\n",
       "      <td>3</td>\n",
       "      <td>2005-05-24 23:03:39</td>\n",
       "      <td>1711</td>\n",
       "      <td>408</td>\n",
       "      <td>2005-06-01 22:12:39</td>\n",
       "      <td>1</td>\n",
       "      <td>2006-02-15 21:30:53</td>\n",
       "    </tr>\n",
       "    <tr>\n",
       "      <th>3</th>\n",
       "      <td>4</td>\n",
       "      <td>2005-05-24 23:04:41</td>\n",
       "      <td>2452</td>\n",
       "      <td>333</td>\n",
       "      <td>2005-06-03 01:43:41</td>\n",
       "      <td>2</td>\n",
       "      <td>2006-02-15 21:30:53</td>\n",
       "    </tr>\n",
       "    <tr>\n",
       "      <th>4</th>\n",
       "      <td>5</td>\n",
       "      <td>2005-05-24 23:05:21</td>\n",
       "      <td>2079</td>\n",
       "      <td>222</td>\n",
       "      <td>2005-06-02 04:33:21</td>\n",
       "      <td>1</td>\n",
       "      <td>2006-02-15 21:30:53</td>\n",
       "    </tr>\n",
       "  </tbody>\n",
       "</table>\n",
       "</div>"
      ],
      "text/plain": [
       "   rental_id          rental_date  inventory_id  customer_id  \\\n",
       "0          1  2005-05-24 22:53:30           367          130   \n",
       "1          2  2005-05-24 22:54:33          1525          459   \n",
       "2          3  2005-05-24 23:03:39          1711          408   \n",
       "3          4  2005-05-24 23:04:41          2452          333   \n",
       "4          5  2005-05-24 23:05:21          2079          222   \n",
       "\n",
       "           return_date  staff_id          last_update  \n",
       "0  2005-05-26 22:04:30         1  2006-02-15 21:30:53  \n",
       "1  2005-05-28 19:40:33         1  2006-02-15 21:30:53  \n",
       "2  2005-06-01 22:12:39         1  2006-02-15 21:30:53  \n",
       "3  2005-06-03 01:43:41         2  2006-02-15 21:30:53  \n",
       "4  2005-06-02 04:33:21         1  2006-02-15 21:30:53  "
      ]
     },
     "execution_count": 109,
     "metadata": {},
     "output_type": "execute_result"
    }
   ],
   "source": [
    "df_rental.head() "
   ]
  },
  {
   "cell_type": "code",
   "execution_count": 110,
   "id": "5960e1ed",
   "metadata": {},
   "outputs": [
    {
     "name": "stdout",
     "output_type": "stream",
     "text": [
      "<class 'pandas.core.frame.DataFrame'>\n",
      "RangeIndex: 1000 entries, 0 to 999\n",
      "Data columns (total 7 columns):\n",
      " #   Column        Non-Null Count  Dtype \n",
      "---  ------        --------------  ----- \n",
      " 0   rental_id     1000 non-null   int64 \n",
      " 1   rental_date   1000 non-null   object\n",
      " 2   inventory_id  1000 non-null   int64 \n",
      " 3   customer_id   1000 non-null   int64 \n",
      " 4   return_date   1000 non-null   object\n",
      " 5   staff_id      1000 non-null   int64 \n",
      " 6   last_update   1000 non-null   object\n",
      "dtypes: int64(4), object(3)\n",
      "memory usage: 54.8+ KB\n"
     ]
    }
   ],
   "source": [
    "df_rental.info()"
   ]
  },
  {
   "cell_type": "code",
   "execution_count": 111,
   "id": "009824d1",
   "metadata": {},
   "outputs": [
    {
     "data": {
      "text/plain": [
       "array(['2006-02-15 21:30:53'], dtype=object)"
      ]
     },
     "execution_count": 111,
     "metadata": {},
     "output_type": "execute_result"
    }
   ],
   "source": [
    "df_rental.last_update.unique()"
   ]
  },
  {
   "cell_type": "code",
   "execution_count": 112,
   "id": "04f35b4c",
   "metadata": {},
   "outputs": [],
   "source": [
    "df_rental.drop(columns=['last_update'], inplace=True)"
   ]
  },
  {
   "cell_type": "code",
   "execution_count": 113,
   "id": "14fd4c57",
   "metadata": {},
   "outputs": [],
   "source": [
    "df_rental['rental_date'] = pd.to_datetime(df_rental['rental_date'])"
   ]
  },
  {
   "cell_type": "code",
   "execution_count": 114,
   "id": "ece81fe0",
   "metadata": {},
   "outputs": [],
   "source": [
    "df_rental['rental_date'] = df_rental['rental_date'].dt.date"
   ]
  },
  {
   "cell_type": "code",
   "execution_count": 115,
   "id": "966fca10",
   "metadata": {},
   "outputs": [],
   "source": [
    "#y el tiempo concretoi nos da igual porque en el apartado de film solo tenemos cuanto tiempo (en días9 la gente ) ha alquiulado la película, por lo que la hora concreta nos da igual. "
   ]
  },
  {
   "cell_type": "code",
   "execution_count": 116,
   "id": "1935375a",
   "metadata": {},
   "outputs": [
    {
     "data": {
      "text/html": [
       "<div>\n",
       "<style scoped>\n",
       "    .dataframe tbody tr th:only-of-type {\n",
       "        vertical-align: middle;\n",
       "    }\n",
       "\n",
       "    .dataframe tbody tr th {\n",
       "        vertical-align: top;\n",
       "    }\n",
       "\n",
       "    .dataframe thead th {\n",
       "        text-align: right;\n",
       "    }\n",
       "</style>\n",
       "<table border=\"1\" class=\"dataframe\">\n",
       "  <thead>\n",
       "    <tr style=\"text-align: right;\">\n",
       "      <th></th>\n",
       "      <th>rental_id</th>\n",
       "      <th>rental_date</th>\n",
       "      <th>inventory_id</th>\n",
       "      <th>customer_id</th>\n",
       "      <th>return_date</th>\n",
       "      <th>staff_id</th>\n",
       "    </tr>\n",
       "  </thead>\n",
       "  <tbody>\n",
       "    <tr>\n",
       "      <th>0</th>\n",
       "      <td>1</td>\n",
       "      <td>2005-05-24</td>\n",
       "      <td>367</td>\n",
       "      <td>130</td>\n",
       "      <td>2005-05-26 22:04:30</td>\n",
       "      <td>1</td>\n",
       "    </tr>\n",
       "    <tr>\n",
       "      <th>1</th>\n",
       "      <td>2</td>\n",
       "      <td>2005-05-24</td>\n",
       "      <td>1525</td>\n",
       "      <td>459</td>\n",
       "      <td>2005-05-28 19:40:33</td>\n",
       "      <td>1</td>\n",
       "    </tr>\n",
       "    <tr>\n",
       "      <th>2</th>\n",
       "      <td>3</td>\n",
       "      <td>2005-05-24</td>\n",
       "      <td>1711</td>\n",
       "      <td>408</td>\n",
       "      <td>2005-06-01 22:12:39</td>\n",
       "      <td>1</td>\n",
       "    </tr>\n",
       "    <tr>\n",
       "      <th>3</th>\n",
       "      <td>4</td>\n",
       "      <td>2005-05-24</td>\n",
       "      <td>2452</td>\n",
       "      <td>333</td>\n",
       "      <td>2005-06-03 01:43:41</td>\n",
       "      <td>2</td>\n",
       "    </tr>\n",
       "    <tr>\n",
       "      <th>4</th>\n",
       "      <td>5</td>\n",
       "      <td>2005-05-24</td>\n",
       "      <td>2079</td>\n",
       "      <td>222</td>\n",
       "      <td>2005-06-02 04:33:21</td>\n",
       "      <td>1</td>\n",
       "    </tr>\n",
       "  </tbody>\n",
       "</table>\n",
       "</div>"
      ],
      "text/plain": [
       "   rental_id rental_date  inventory_id  customer_id          return_date  \\\n",
       "0          1  2005-05-24           367          130  2005-05-26 22:04:30   \n",
       "1          2  2005-05-24          1525          459  2005-05-28 19:40:33   \n",
       "2          3  2005-05-24          1711          408  2005-06-01 22:12:39   \n",
       "3          4  2005-05-24          2452          333  2005-06-03 01:43:41   \n",
       "4          5  2005-05-24          2079          222  2005-06-02 04:33:21   \n",
       "\n",
       "   staff_id  \n",
       "0         1  \n",
       "1         1  \n",
       "2         1  \n",
       "3         2  \n",
       "4         1  "
      ]
     },
     "execution_count": 116,
     "metadata": {},
     "output_type": "execute_result"
    }
   ],
   "source": [
    "df_rental.head()"
   ]
  },
  {
   "cell_type": "code",
   "execution_count": 117,
   "id": "3671c815",
   "metadata": {},
   "outputs": [],
   "source": [
    "df_rental['return_date'] = pd.to_datetime(df_rental['return_date'])"
   ]
  },
  {
   "cell_type": "code",
   "execution_count": 118,
   "id": "42f60827",
   "metadata": {},
   "outputs": [],
   "source": [
    "df_rental['return_date'] = df_rental['return_date'].dt.date"
   ]
  },
  {
   "cell_type": "code",
   "execution_count": 119,
   "id": "c4dd728f",
   "metadata": {},
   "outputs": [
    {
     "data": {
      "text/plain": [
       "array([datetime.date(2005, 5, 24), datetime.date(2005, 5, 25),\n",
       "       datetime.date(2005, 5, 26), datetime.date(2005, 5, 27),\n",
       "       datetime.date(2005, 5, 28), datetime.date(2005, 5, 29),\n",
       "       datetime.date(2005, 5, 30), datetime.date(2005, 5, 31)],\n",
       "      dtype=object)"
      ]
     },
     "execution_count": 119,
     "metadata": {},
     "output_type": "execute_result"
    }
   ],
   "source": [
    "df_rental.rental_date.unique()"
   ]
  },
  {
   "cell_type": "code",
   "execution_count": 120,
   "id": "25f5c1ee",
   "metadata": {},
   "outputs": [
    {
     "data": {
      "text/html": [
       "<div>\n",
       "<style scoped>\n",
       "    .dataframe tbody tr th:only-of-type {\n",
       "        vertical-align: middle;\n",
       "    }\n",
       "\n",
       "    .dataframe tbody tr th {\n",
       "        vertical-align: top;\n",
       "    }\n",
       "\n",
       "    .dataframe thead th {\n",
       "        text-align: right;\n",
       "    }\n",
       "</style>\n",
       "<table border=\"1\" class=\"dataframe\">\n",
       "  <thead>\n",
       "    <tr style=\"text-align: right;\">\n",
       "      <th></th>\n",
       "      <th>rental_id</th>\n",
       "      <th>rental_date</th>\n",
       "      <th>inventory_id</th>\n",
       "      <th>customer_id</th>\n",
       "      <th>return_date</th>\n",
       "      <th>staff_id</th>\n",
       "    </tr>\n",
       "  </thead>\n",
       "  <tbody>\n",
       "    <tr>\n",
       "      <th>0</th>\n",
       "      <td>1</td>\n",
       "      <td>2005-05-24</td>\n",
       "      <td>367</td>\n",
       "      <td>130</td>\n",
       "      <td>2005-05-26</td>\n",
       "      <td>1</td>\n",
       "    </tr>\n",
       "    <tr>\n",
       "      <th>1</th>\n",
       "      <td>2</td>\n",
       "      <td>2005-05-24</td>\n",
       "      <td>1525</td>\n",
       "      <td>459</td>\n",
       "      <td>2005-05-28</td>\n",
       "      <td>1</td>\n",
       "    </tr>\n",
       "    <tr>\n",
       "      <th>2</th>\n",
       "      <td>3</td>\n",
       "      <td>2005-05-24</td>\n",
       "      <td>1711</td>\n",
       "      <td>408</td>\n",
       "      <td>2005-06-01</td>\n",
       "      <td>1</td>\n",
       "    </tr>\n",
       "    <tr>\n",
       "      <th>3</th>\n",
       "      <td>4</td>\n",
       "      <td>2005-05-24</td>\n",
       "      <td>2452</td>\n",
       "      <td>333</td>\n",
       "      <td>2005-06-03</td>\n",
       "      <td>2</td>\n",
       "    </tr>\n",
       "    <tr>\n",
       "      <th>4</th>\n",
       "      <td>5</td>\n",
       "      <td>2005-05-24</td>\n",
       "      <td>2079</td>\n",
       "      <td>222</td>\n",
       "      <td>2005-06-02</td>\n",
       "      <td>1</td>\n",
       "    </tr>\n",
       "  </tbody>\n",
       "</table>\n",
       "</div>"
      ],
      "text/plain": [
       "   rental_id rental_date  inventory_id  customer_id return_date  staff_id\n",
       "0          1  2005-05-24           367          130  2005-05-26         1\n",
       "1          2  2005-05-24          1525          459  2005-05-28         1\n",
       "2          3  2005-05-24          1711          408  2005-06-01         1\n",
       "3          4  2005-05-24          2452          333  2005-06-03         2\n",
       "4          5  2005-05-24          2079          222  2005-06-02         1"
      ]
     },
     "execution_count": 120,
     "metadata": {},
     "output_type": "execute_result"
    }
   ],
   "source": [
    "df_rental.head() "
   ]
  },
  {
   "cell_type": "code",
   "execution_count": 121,
   "id": "052cac07",
   "metadata": {},
   "outputs": [
    {
     "data": {
      "text/plain": [
       "array([ 367, 1525, 1711, 2452, 2079, 2792, 3995, 2346, 2580, 1824, 4443,\n",
       "       1584, 2294, 2701, 3049,  389,  830, 3376, 1941, 3517,  146,  727,\n",
       "       4441, 3273, 3961, 4371, 1225, 4068,  611, 3744, 4482, 3832, 1681,\n",
       "       2613, 1286, 1308,  403, 2540, 4466, 2638, 1761,  380, 2578, 3098,\n",
       "       1853, 3318, 2211, 1780, 2965, 1983, 1257, 4017, 1255, 2787, 1139,\n",
       "       1352, 3938, 3050, 2884,  330, 4210,  261, 4008,   79, 3552, 1162,\n",
       "        239, 4029, 3207, 2168, 2408, 2260,  517, 1744, 3393, 3021, 1303,\n",
       "       4067, 3299, 2478, 2610, 1388,  466, 1829,  470, 2275, 1586, 2221,\n",
       "       2181, 2984,  139,  775, 4360, 1675,  178, 3418, 1283, 2970,  535,\n",
       "       2599,  617,  373, 3343, 4281,  794, 3627, 2833, 3289, 1044, 4108,\n",
       "       3725, 2153, 2963, 4502,  749, 4453, 4278,  872, 1359,   37, 1053,\n",
       "       2908, 1795,  212,  952, 2047, 2026, 4322, 4154, 3990,  815, 3367,\n",
       "        399, 2272,  103, 2296, 2591, 4134,  327,  655,  811, 4407,  847,\n",
       "       1689, 3905, 1431,  633, 4252, 1084,  909, 2942, 2622, 3888, 1354,\n",
       "        288, 3193,  887, 2395, 3453, 1885, 2941, 1229, 2306, 1070, 2735,\n",
       "       3894,  865, 2714, 1758, 3688, 4483, 2873, 3596, 3954, 4346,  851,\n",
       "       3545, 1489, 2575, 2752, 2417, 4396, 2877, 1970, 2598, 1799, 4004,\n",
       "       3342,  984, 3962, 4365, 1897, 3900, 1337,  506,  190, 4212, 1789,\n",
       "       2135, 3926,  776,  674, 3374, 1842,  303, 1717,  102, 3669,  729,\n",
       "       1801, 4005,  764, 1505, 1453,  679, 1398, 4395, 2291, 3074, 1259,\n",
       "       3578, 2745, 3121, 4285,  651, 4181,  214,  511, 1131, 1085, 4032,\n",
       "       2945,  715, 1321, 3537, 1265,  241,  503,  131, 3420, 4438, 2095,\n",
       "       1721, 1041, 3045, 2829, 4095, 1913, 2428,  368, 4352, 1203, 2969,\n",
       "       1835, 3264, 3194, 2570, 3534,   30,  435, 1369, 4261, 1160, 2069,\n",
       "       2276, 3303, 1206, 1714, 3501,  207, 2388,  971, 1590,  656, 1718,\n",
       "       1221, 1409,  182,  661, 1896, 1208, 4486, 3530,  350, 2486,  314,\n",
       "       3631, 3546, 2449, 2776,  485, 4264, 1828, 2751, 4030, 3878, 1594,\n",
       "       1083, 4376,  249, 3448, 2921, 1111, 1701, 2665, 2781, 1097,  187,\n",
       "       1946,  593, 2830, 2008, 4156, 2851, 2847, 3828,   26, 2559, 3024,\n",
       "       1090, 4556, 2362, 3364, 2510, 3979, 2678, 2524, 2659, 1536, 1872,\n",
       "       1529, 4001, 3973, 1411, 1811,  751, 2596, 2410,  946, 4168, 4019,\n",
       "       3301, 2327, 1396, 4319, 1625, 1825, 2920, 2756, 3371, 4369, 3989,\n",
       "       2058,  141, 2868, 4417, 1925, 1156, 3489,    6, 2324, 4282,  833,\n",
       "       2887,  360, 3437, 1247,  944, 3347, 1235, 4089, 1649, 4420, 1815,\n",
       "       3197, 3012, 2242, 3462, 1777, 2748, 4358,  955,  910, 1565, 1288,\n",
       "       2684,  434,  691, 3759, 2193,  263,  145, 1890,  752, 1020, 4193,\n",
       "       1686,  553,  258, 2179,  461, 3983, 1293, 4090, 2136, 1077, 1438,\n",
       "       3652, 4010, 1434, 1400, 3516, 1019, 3698, 2371, 2253, 3063, 2514,\n",
       "        619, 2985, 1152, 1783, 2815, 1518, 1103, 1677, 3349,  129, 1920,\n",
       "       4507, 1119, 4364, 3360, 3328, 4317, 1800, 4260,  354, 4452, 1578,\n",
       "       1457, 2021,  723, 1757, 1955, 3890, 2671, 2469, 1343,  205, 2993,\n",
       "       4425, 3499, 3344, 1699, 2368, 3350,  597, 4238, 2077, 2314,  826,\n",
       "       1313,   20, 1786,  339, 2656, 4463, 1613, 2872, 1338,  802, 1474,\n",
       "       2520, 2451, 2437,  424, 2060, 2108,   72, 4178, 1510, 3115, 2392,\n",
       "       1822, 3774,  393, 1940, 3524, 1326, 1999,  184, 1850, 1007, 1785,\n",
       "       2636,  458, 2381, 4500,  601, 3131, 3005, 2086,   71,  667, 3621,\n",
       "       4179, 3416, 4338, 3827, 2176,  225, 1697, 3369, 4357,  234, 4087,\n",
       "       3564, 3845, 2397, 3195, 1905, 1962, 1817, 1387,  266, 1655, 2624,\n",
       "       3332, 1113, 2793, 4306,  992, 4209, 2962, 3095, 2262, 3427, 3321,\n",
       "       1662, 4444,  530, 2964, 1086,  487, 2065, 3704, 1818, 3632, 3119,\n",
       "         23, 1349, 1951, 4397, 1814,  158, 4163, 1227,  644,  928, 3390,\n",
       "         53, 2973, 1494, 4330, 3308, 2232, 4534, 1122, 4250, 1899, 4020,\n",
       "       3883, 4451, 1866,  375, 2938, 3481, 3515, 1380, 4579, 2679, 1833,\n",
       "       3544,  898, 1413,   95, 4231,  473,  377,  638, 1810, 2766,  595,\n",
       "        821, 4469,  599, 4136, 1567, 3225, 1300, 3248, 1585, 4232, 3509,\n",
       "       2561, 4254, 2944, 3642, 1230, 2180,  270,  280, 3397,  989, 4142,\n",
       "       4445, 2482, 2444, 1144, 2363, 1222, 3660, 2889,  452,  425, 2513,\n",
       "       1527, 1254, 2465, 1287,   58, 2630, 1648, 4213, 1581, 2685, 4204,\n",
       "        495, 3548,  140, 3105, 4304, 3128, 1922, 3435, 3476, 1781, 4384,\n",
       "        739, 1201,  126, 2312,  331, 2846,  848, 3226, 1382, 1414, 2247,\n",
       "       2968, 3997,   87, 1012, 3075,  797, 3528, 3677,  227, 1027,  697,\n",
       "       1769, 1150, 1273, 2329, 4558, 3741,  907, 4147, 3346, 3160, 2038,\n",
       "       3242, 1385, 2441, 1731, 4135,  742, 2646, 4034,  800,  635,  592,\n",
       "       4276, 2076, 3949, 1412,  130,  500,  372, 2556, 1123, 2628, 2809,\n",
       "       2278,  819, 3133, 2459,  194, 4581, 4191, 3664, 2010, 2030,   85,\n",
       "       1383, 1736,  267, 3687, 1116, 4540, 3407, 3770, 4088,  933, 1629,\n",
       "        242, 1688, 3473, 4124, 2530, 2951, 3084, 3421, 3689,  769, 2284,\n",
       "       1183,  600, 3189,  273, 2528, 3722,  581, 4272, 1993, 2803, 1146,\n",
       "        730, 2711, 1720, 1021,  734, 3090, 3152, 1067, 1191, 2367, 3250,\n",
       "       2342, 3683, 2022, 1069,  515, 2154,  687, 2895, 1523, 2491,  353,\n",
       "       3319,  245, 1188, 1197, 4339,  451, 1816,  533, 1919,   88, 2255,\n",
       "       3046, 2936,   39, 2637, 3919,  763,  708, 2858, 1554, 2841,  379,\n",
       "       1995,  609, 2697, 1446, 1102, 1713,  441, 1642,  785, 1602, 3909,\n",
       "       3132, 2386, 2195, 1928, 2114, 2533, 4419, 1099, 4554, 1572, 3757,\n",
       "        630,  186, 4106,  623, 2584, 3380, 2634, 3249, 3518,  712, 2263,\n",
       "         62, 2468, 1684, 3464, 3912, 1381, 2898, 3628,  299, 3140,  977,\n",
       "       2859, 1886, 4049, 4318, 2328, 2214,  536, 2001,  938, 4387, 1363,\n",
       "       2424, 2390, 2780, 1622, 3693,  921, 2527, 3969, 2569, 1258, 3032,\n",
       "        578, 3711, 1186, 3999, 2777, 3183, 2867, 3389, 3604, 3399, 2903,\n",
       "       4573, 3904, 4568,  363, 1428, 1471,  886, 4265, 4021, 1819,  602,\n",
       "       3841, 2271, 4079,  646, 4356, 2727,  387, 1299, 1464, 2611,  471,\n",
       "       3260, 1118, 2744, 2817, 1334, 3497, 1096, 3543,  760, 1514, 2423,\n",
       "       2466, 4372, 1862, 3320, 4427, 3775, 2601, 1404, 3200, 3213, 1393,\n",
       "       1859, 1290, 3629,  818, 4052, 3860, 1827, 2442, 1884, 3279, 3203,\n",
       "       4327, 1158,  246, 4296, 2835, 3384,  719, 3672, 3595, 2421,  901,\n",
       "       1054, 1521, 1314, 1278, 3630, 4279, 3737,  151, 1441, 1264, 4478,\n",
       "        585, 2202,  491, 1395, 4389, 2194, 1231, 4140,  647, 4428,  548,\n",
       "       3108, 1966, 3293, 4535, 1921,  657, 3363, 1294, 1954,  119,  443,\n",
       "       1520, 2911,    2, 1914, 2617, 3109, 2290, 2029,  407, 3917, 4169,\n",
       "       2913, 3560,   63, 2305, 1573, 4045,  390, 1364, 4388, 4171, 2863,\n",
       "       3572, 2080, 2798,   17, 2075, 4243, 3395, 4433, 1774, 1498])"
      ]
     },
     "execution_count": 121,
     "metadata": {},
     "output_type": "execute_result"
    }
   ],
   "source": [
    "df_rental.inventory_id.unique()"
   ]
  },
  {
   "cell_type": "code",
   "execution_count": 122,
   "id": "a8560132",
   "metadata": {},
   "outputs": [],
   "source": [
    "#aquí hay muchos más regisros que en la parte de inventory_id en inventory, por lo que todos los números que sena más allá del 1000 los eliminaré."
   ]
  },
  {
   "cell_type": "code",
   "execution_count": 123,
   "id": "13373204",
   "metadata": {},
   "outputs": [],
   "source": [
    "df_rental = df_rental[df_rental.inventory_id < 1001]"
   ]
  },
  {
   "cell_type": "code",
   "execution_count": 124,
   "id": "b30e7633",
   "metadata": {},
   "outputs": [
    {
     "data": {
      "text/plain": [
       "array([367, 389, 830, 146, 727, 611, 403, 380, 330, 261,  79, 239, 517,\n",
       "       466, 470, 139, 775, 178, 535, 617, 373, 794, 749, 872,  37, 212,\n",
       "       952, 815, 399, 103, 327, 655, 811, 847, 633, 909, 288, 887, 865,\n",
       "       851, 984, 506, 190, 776, 674, 303, 102, 729, 764, 679, 651, 214,\n",
       "       511, 715, 241, 503, 131, 368,  30, 435, 207, 971, 656, 182, 661,\n",
       "       350, 314, 485, 249, 187, 593,  26, 751, 946, 141,   6, 833, 360,\n",
       "       944, 955, 910, 434, 691, 263, 145, 752, 553, 258, 461, 619, 129,\n",
       "       354, 723, 205, 597, 826,  20, 339, 802, 424,  72, 393, 184, 458,\n",
       "       601,  71, 667, 225, 234, 266, 992, 530, 487,  23, 158, 644, 928,\n",
       "        53, 375, 898,  95, 473, 377, 638, 595, 821, 599, 270, 280, 989,\n",
       "       452, 425,  58, 495, 140, 739, 126, 331, 848,  87, 797, 227, 697,\n",
       "       907, 742, 800, 635, 592, 130, 500, 372, 819, 194,  85, 267, 933,\n",
       "       242, 769, 600, 273, 581, 730, 734, 515, 687, 353, 245, 451, 533,\n",
       "        88,  39, 763, 708, 379, 609, 441, 785, 630, 186, 623, 712,  62,\n",
       "       299, 977, 536, 938, 921, 578, 363, 886, 602, 646, 387, 471, 760,\n",
       "       818, 246, 719, 901, 151, 585, 491, 647, 548, 657, 119, 443,   2,\n",
       "       407,  63, 390,  17])"
      ]
     },
     "execution_count": 124,
     "metadata": {},
     "output_type": "execute_result"
    }
   ],
   "source": [
    "df_rental.inventory_id.unique()"
   ]
  },
  {
   "cell_type": "code",
   "execution_count": null,
   "id": "758af536",
   "metadata": {},
   "outputs": [],
   "source": [
    "#Quiero restar el return date - el rental date para saber cuantos días se tienen las pelis en casa"
   ]
  },
  {
   "cell_type": "code",
   "execution_count": 129,
   "id": "d9706954",
   "metadata": {},
   "outputs": [],
   "source": [
    "\n",
    "# diferencia entre las fechas\n",
    "df_rental['rental_duration'] = (df_rental['return_date'] - df_rental['rental_date']).dt.days\n"
   ]
  },
  {
   "cell_type": "code",
   "execution_count": 130,
   "id": "8afe80b7",
   "metadata": {},
   "outputs": [
    {
     "data": {
      "text/plain": [
       "array([ 2,  1,  5,  4,  6,  9,  7,  8,  3,  0, 10])"
      ]
     },
     "execution_count": 130,
     "metadata": {},
     "output_type": "execute_result"
    }
   ],
   "source": [
    "df_rental.rental_duration.unique() #3,4,5,6,7"
   ]
  },
  {
   "cell_type": "code",
   "execution_count": 131,
   "id": "8475e6e5",
   "metadata": {},
   "outputs": [
    {
     "data": {
      "text/plain": [
       "array([datetime.date(2005, 5, 24), datetime.date(2005, 5, 25),\n",
       "       datetime.date(2005, 5, 26), datetime.date(2005, 5, 27),\n",
       "       datetime.date(2005, 5, 28), datetime.date(2005, 5, 29),\n",
       "       datetime.date(2005, 5, 30), datetime.date(2005, 5, 31)],\n",
       "      dtype=object)"
      ]
     },
     "execution_count": 131,
     "metadata": {},
     "output_type": "execute_result"
    }
   ],
   "source": [
    "df_rental.rental_date.unique()"
   ]
  },
  {
   "cell_type": "code",
   "execution_count": 132,
   "id": "e3c82b51",
   "metadata": {},
   "outputs": [
    {
     "data": {
      "text/plain": [
       "array([datetime.date(2005, 5, 26), datetime.date(2005, 5, 27),\n",
       "       datetime.date(2005, 5, 30), datetime.date(2005, 5, 29),\n",
       "       datetime.date(2005, 5, 31), datetime.date(2005, 6, 3),\n",
       "       datetime.date(2005, 6, 1), datetime.date(2005, 6, 2),\n",
       "       datetime.date(2005, 5, 28), datetime.date(2005, 6, 4),\n",
       "       datetime.date(2005, 6, 5), datetime.date(2005, 6, 6),\n",
       "       datetime.date(2005, 6, 7), datetime.date(2005, 6, 8)], dtype=object)"
      ]
     },
     "execution_count": 132,
     "metadata": {},
     "output_type": "execute_result"
    }
   ],
   "source": [
    "df_rental.return_date.unique()"
   ]
  },
  {
   "cell_type": "code",
   "execution_count": 133,
   "id": "56af2046",
   "metadata": {},
   "outputs": [],
   "source": [
    "#podemos ver que los datos aquí no son muy consistentes. Realmente no nos aportan gran informaación para el estudio `porque no podemos generalizarla.\n",
    "#en primer lugar, los datos están recogidos solo en un periodo muy corto de tiempo (solo el mes de mayo y junio) por lo que es una infotmación con la que no se puede hacer un estudio claro. Muestra muy pequeña.\n",
    "#en segundo lugar, el periordo en el que la gente se queda las peliculas es diferente con respecto al de films. Donde los periorod soo oscilan entre 2 y 7. por lo tanto, solo conservaremos esos datos, el resto de datos, lo que no contienenuno de estos números, los eliminaremos. No podemos fiarnos, al igua que con los número que tienen un inventory_id mayor de 1000. "
   ]
  },
  {
   "cell_type": "code",
   "execution_count": 134,
   "id": "a8a3635b",
   "metadata": {},
   "outputs": [],
   "source": [
    "#puede obeservarse que hay algo que tiene que estar mal porque la rental duration no coincide con la rental duration de la tabla fil. "
   ]
  },
  {
   "cell_type": "code",
   "execution_count": 135,
   "id": "d351ae8f",
   "metadata": {},
   "outputs": [],
   "source": [
    "rental_durations_coincidentes = [3, 4, 5, 6, 7]\n",
    "df_rental = df_rental[df_rental['rental_duration'].isin(rental_durations_coincidentes)]"
   ]
  },
  {
   "cell_type": "code",
   "execution_count": 136,
   "id": "e15c720c",
   "metadata": {},
   "outputs": [
    {
     "data": {
      "text/plain": [
       "array([5, 4, 6, 7, 3])"
      ]
     },
     "execution_count": 136,
     "metadata": {},
     "output_type": "execute_result"
    }
   ],
   "source": [
    "df_rental.rental_duration.unique()"
   ]
  }
 ],
 "metadata": {
  "kernelspec": {
   "display_name": "Python 3 (ipykernel)",
   "language": "python",
   "name": "python3"
  },
  "language_info": {
   "codemirror_mode": {
    "name": "ipython",
    "version": 3
   },
   "file_extension": ".py",
   "mimetype": "text/x-python",
   "name": "python",
   "nbconvert_exporter": "python",
   "pygments_lexer": "ipython3",
   "version": "3.11.4"
  }
 },
 "nbformat": 4,
 "nbformat_minor": 5
}
