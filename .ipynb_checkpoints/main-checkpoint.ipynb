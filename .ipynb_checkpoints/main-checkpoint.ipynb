{
 "cells": [
  {
   "cell_type": "markdown",
   "id": "21d7b9e5",
   "metadata": {},
   "source": [
    "# Building mySQL Data-base"
   ]
  },
  {
   "cell_type": "code",
   "execution_count": 3,
   "id": "a7615b68",
   "metadata": {},
   "outputs": [],
   "source": [
    "import pandas as pd\n",
    "pd.set_option('display.max_columns', None)\n",
    "\n",
    "import numpy as np\n",
    "\n",
    "import warnings\n",
    "warnings.filterwarnings('ignore')\n",
    "\n",
    "\n",
    "import pylab as plt  # import matplotlib.pyplot as plt\n",
    "import seaborn as sns"
   ]
  },
  {
   "cell_type": "markdown",
   "id": "fe94b8ee",
   "metadata": {},
   "source": [
    "# Exploración y limpieza de los datos."
   ]
  },
  {
   "cell_type": "markdown",
   "id": "6687879e",
   "metadata": {},
   "source": [
    "# 1. DataFrame Actor."
   ]
  },
  {
   "cell_type": "code",
   "execution_count": 4,
   "id": "cdb87e98",
   "metadata": {},
   "outputs": [],
   "source": [
    "df_original_actor = pd.read_csv('data/actor.csv', encoding='latin1')\n",
    "df_actor = df_original_actor.copy()"
   ]
  },
  {
   "cell_type": "code",
   "execution_count": 5,
   "id": "d1fcb9fc",
   "metadata": {},
   "outputs": [
    {
     "data": {
      "text/plain": [
       "(200, 4)"
      ]
     },
     "execution_count": 5,
     "metadata": {},
     "output_type": "execute_result"
    }
   ],
   "source": [
    "dim_original_actor = df_actor.shape # De esta forma guardo las dimensiones del data frame original.\n",
    "df_actor.shape"
   ]
  },
  {
   "cell_type": "code",
   "execution_count": 6,
   "id": "e9b10e44",
   "metadata": {},
   "outputs": [
    {
     "data": {
      "text/html": [
       "<div>\n",
       "<style scoped>\n",
       "    .dataframe tbody tr th:only-of-type {\n",
       "        vertical-align: middle;\n",
       "    }\n",
       "\n",
       "    .dataframe tbody tr th {\n",
       "        vertical-align: top;\n",
       "    }\n",
       "\n",
       "    .dataframe thead th {\n",
       "        text-align: right;\n",
       "    }\n",
       "</style>\n",
       "<table border=\"1\" class=\"dataframe\">\n",
       "  <thead>\n",
       "    <tr style=\"text-align: right;\">\n",
       "      <th></th>\n",
       "      <th>actor_id</th>\n",
       "      <th>first_name</th>\n",
       "      <th>last_name</th>\n",
       "      <th>last_update</th>\n",
       "    </tr>\n",
       "  </thead>\n",
       "  <tbody>\n",
       "    <tr>\n",
       "      <th>0</th>\n",
       "      <td>1</td>\n",
       "      <td>PENELOPE</td>\n",
       "      <td>GUINESS</td>\n",
       "      <td>2006-02-15 04:34:33</td>\n",
       "    </tr>\n",
       "    <tr>\n",
       "      <th>1</th>\n",
       "      <td>2</td>\n",
       "      <td>NICK</td>\n",
       "      <td>WAHLBERG</td>\n",
       "      <td>2006-02-15 04:34:33</td>\n",
       "    </tr>\n",
       "    <tr>\n",
       "      <th>2</th>\n",
       "      <td>3</td>\n",
       "      <td>ED</td>\n",
       "      <td>CHASE</td>\n",
       "      <td>2006-02-15 04:34:33</td>\n",
       "    </tr>\n",
       "    <tr>\n",
       "      <th>3</th>\n",
       "      <td>4</td>\n",
       "      <td>JENNIFER</td>\n",
       "      <td>DAVIS</td>\n",
       "      <td>2006-02-15 04:34:33</td>\n",
       "    </tr>\n",
       "    <tr>\n",
       "      <th>4</th>\n",
       "      <td>5</td>\n",
       "      <td>JOHNNY</td>\n",
       "      <td>LOLLOBRIGIDA</td>\n",
       "      <td>2006-02-15 04:34:33</td>\n",
       "    </tr>\n",
       "  </tbody>\n",
       "</table>\n",
       "</div>"
      ],
      "text/plain": [
       "   actor_id first_name     last_name          last_update\n",
       "0         1   PENELOPE       GUINESS  2006-02-15 04:34:33\n",
       "1         2       NICK      WAHLBERG  2006-02-15 04:34:33\n",
       "2         3         ED         CHASE  2006-02-15 04:34:33\n",
       "3         4   JENNIFER         DAVIS  2006-02-15 04:34:33\n",
       "4         5     JOHNNY  LOLLOBRIGIDA  2006-02-15 04:34:33"
      ]
     },
     "execution_count": 6,
     "metadata": {},
     "output_type": "execute_result"
    }
   ],
   "source": [
    "df_actor.head()"
   ]
  },
  {
   "cell_type": "code",
   "execution_count": 7,
   "id": "0749aa49",
   "metadata": {},
   "outputs": [
    {
     "name": "stdout",
     "output_type": "stream",
     "text": [
      "<class 'pandas.core.frame.DataFrame'>\n",
      "RangeIndex: 200 entries, 0 to 199\n",
      "Data columns (total 4 columns):\n",
      " #   Column       Non-Null Count  Dtype \n",
      "---  ------       --------------  ----- \n",
      " 0   actor_id     200 non-null    int64 \n",
      " 1   first_name   200 non-null    object\n",
      " 2   last_name    200 non-null    object\n",
      " 3   last_update  200 non-null    object\n",
      "dtypes: int64(1), object(3)\n",
      "memory usage: 6.4+ KB\n"
     ]
    }
   ],
   "source": [
    "df_actor.info() # De este modo conzco el tipo de dato y los valores nulos que tiene cada una de las columnas."
   ]
  },
  {
   "cell_type": "code",
   "execution_count": 8,
   "id": "659137ab",
   "metadata": {},
   "outputs": [
    {
     "data": {
      "text/plain": [
       "array([  1,   2,   3,   4,   5,   6,   7,   8,   9,  10,  11,  12,  13,\n",
       "        14,  15,  16,  17,  18,  19,  20,  21,  22,  23,  24,  25,  26,\n",
       "        27,  28,  29,  30,  31,  32,  33,  34,  35,  36,  37,  38,  39,\n",
       "        40,  41,  42,  43,  44,  45,  46,  47,  48,  49,  50,  51,  52,\n",
       "        53,  54,  55,  56,  57,  58,  59,  60,  61,  62,  63,  64,  65,\n",
       "        66,  67,  68,  69,  70,  71,  72,  73,  74,  75,  76,  77,  78,\n",
       "        79,  80,  81,  82,  83,  84,  85,  86,  87,  88,  89,  90,  91,\n",
       "        92,  93,  94,  95,  96,  97,  98,  99, 100, 101, 102, 103, 104,\n",
       "       105, 106, 107, 108, 109, 110, 111, 112, 113, 114, 115, 116, 117,\n",
       "       118, 119, 120, 121, 122, 123, 124, 125, 126, 127, 128, 129, 130,\n",
       "       131, 132, 133, 134, 135, 136, 137, 138, 139, 140, 141, 142, 143,\n",
       "       144, 145, 146, 147, 148, 149, 150, 151, 152, 153, 154, 155, 156,\n",
       "       157, 158, 159, 160, 161, 162, 163, 164, 165, 166, 167, 168, 169,\n",
       "       170, 171, 172, 173, 174, 175, 176, 177, 178, 179, 180, 181, 182,\n",
       "       183, 184, 185, 186, 187, 188, 189, 190, 191, 192, 193, 194, 195,\n",
       "       196, 197, 198, 199, 200])"
      ]
     },
     "execution_count": 8,
     "metadata": {},
     "output_type": "execute_result"
    }
   ],
   "source": [
    "df_actor.actor_id.unique() # Este procedimiento me ayuda a encontrar cada uno de los valores de la columna especificada."
   ]
  },
  {
   "cell_type": "code",
   "execution_count": 9,
   "id": "3c4209fe",
   "metadata": {},
   "outputs": [
    {
     "data": {
      "text/plain": [
       "array(['PENELOPE', 'NICK', 'ED', 'JENNIFER', 'JOHNNY', 'BETTE', 'GRACE',\n",
       "       'MATTHEW', 'JOE', 'CHRISTIAN', 'ZERO', 'KARL', 'UMA', 'VIVIEN',\n",
       "       'CUBA', 'FRED', 'HELEN', 'DAN', 'BOB', 'LUCILLE', 'KIRSTEN',\n",
       "       'ELVIS', 'SANDRA', 'CAMERON', 'KEVIN', 'RIP', 'JULIA', 'WOODY',\n",
       "       'ALEC', 'SISSY', 'TIM', 'MILLA', 'AUDREY', 'JUDY', 'BURT', 'VAL',\n",
       "       'TOM', 'GOLDIE', 'JODIE', 'KIRK', 'REESE', 'PARKER', 'FRANCES',\n",
       "       'ANNE', 'NATALIE', 'GARY', 'CARMEN', 'MENA', 'FAY', 'JUDE',\n",
       "       'DUSTIN', 'HENRY', 'JAYNE', 'RAY', 'ANGELA', 'MARY', 'JESSICA',\n",
       "       'KENNETH', 'MICHELLE', 'ADAM', 'SEAN', 'ANGELINA', 'CARY',\n",
       "       'GROUCHO', 'MAE', 'RALPH', 'SCARLETT', 'BEN', 'JAMES', 'MINNIE',\n",
       "       'GREG', 'SPENCER', 'CHARLIZE', 'CHRISTOPHER', 'ELLEN', 'DARYL',\n",
       "       'GENE', 'MEG', 'CHRIS', 'JIM', 'SUSAN', 'WALTER', 'SIDNEY', 'GINA',\n",
       "       'WARREN', 'SYLVESTER', 'RUSSELL', 'MORGAN', 'HARRISON', 'RENEE',\n",
       "       'LIZA', 'SALMA', 'JULIANNE', 'ALBERT', 'CATE', 'GRETA', 'JANE',\n",
       "       'RICHARD', 'RITA', 'EWAN', 'WHOOPI', 'JADA', 'RIVER', 'KIM',\n",
       "       'EMILY', 'GEOFFREY', 'MERYL', 'IAN', 'LAURA', 'HARVEY', 'OPRAH',\n",
       "       'HUMPHREY', 'AL', 'LAURENCE', 'WILL', 'OLYMPIA', 'ALAN', 'MICHAEL',\n",
       "       'WILLIAM', 'JON', 'LISA', 'JEFF', 'DEBBIE', 'ROCK', 'GREGORY',\n",
       "       'JOHN', 'BELA', 'THORA'], dtype=object)"
      ]
     },
     "execution_count": 9,
     "metadata": {},
     "output_type": "execute_result"
    }
   ],
   "source": [
    "df_actor.first_name.unique()"
   ]
  },
  {
   "cell_type": "code",
   "execution_count": 10,
   "id": "6374eff9",
   "metadata": {},
   "outputs": [
    {
     "data": {
      "text/plain": [
       "array(['GUINESS', 'WAHLBERG', 'CHASE', 'DAVIS', 'LOLLOBRIGIDA',\n",
       "       'NICHOLSON', 'MOSTEL', 'JOHANSSON', 'SWANK', 'GABLE', 'CAGE',\n",
       "       'BERRY', 'WOOD', 'BERGEN', 'OLIVIER', 'COSTNER', 'VOIGHT', 'TORN',\n",
       "       'FAWCETT', 'TRACY', 'PALTROW', 'MARX', 'KILMER', 'STREEP', 'BLOOM',\n",
       "       'CRAWFORD', 'MCQUEEN', 'HOFFMAN', 'WAYNE', 'PECK', 'SOBIESKI',\n",
       "       'HACKMAN', 'DEAN', 'DUKAKIS', 'BOLGER', 'MCKELLEN', 'BRODY',\n",
       "       'DEGENERES', 'MIRANDA', 'JOVOVICH', 'STALLONE', 'GOLDBERG',\n",
       "       'BARRYMORE', 'DAY-LEWIS', 'CRONYN', 'HOPKINS', 'PHOENIX', 'HUNT',\n",
       "       'TEMPLE', 'PINKETT', 'HARRIS', 'CRUISE', 'AKROYD', 'TAUTOU',\n",
       "       'NEESON', 'WRAY', 'HUDSON', 'TANDY', 'BAILEY', 'WINSLET',\n",
       "       'MCCONAUGHEY', 'GRANT', 'WILLIAMS', 'PENN', 'KEITEL', 'POSEY',\n",
       "       'ASTAIRE', 'SINATRA', 'CRUZ', 'DAMON', 'JOLIE', 'WILLIS', 'PITT',\n",
       "       'ZELLWEGER', 'CHAPLIN', 'PESCI', 'DENCH', 'PRESLEY', 'HAWKE',\n",
       "       'BRIDGES', 'DEPP', 'LEIGH', 'CROWE', 'DUNST', 'NOLTE', 'DERN',\n",
       "       'BACALL', 'MCDORMAND', 'BALE', 'ALLEN', 'JACKMAN', 'MONROE',\n",
       "       'BERGMAN', 'BENING', 'TOMEI', 'GARLAND', 'HOPPER', 'REYNOLDS',\n",
       "       'MANSFIELD', 'DEE', 'GOODING', 'HURT', 'RYDER', 'WITHERSPOON',\n",
       "       'HESTON', 'GIBSON', 'MALDEN', 'BASINGER', 'HOPE', 'WEST',\n",
       "       'BULLOCK', 'WILSON', 'PFEIFFER', 'DREYFUSS', 'SILVERSTONE',\n",
       "       'CARREY', 'CLOSE', 'BALL', 'BIRCH', 'SUVARI', 'WALKEN'],\n",
       "      dtype=object)"
      ]
     },
     "execution_count": 10,
     "metadata": {},
     "output_type": "execute_result"
    }
   ],
   "source": [
    "df_actor.last_name.unique()"
   ]
  },
  {
   "cell_type": "code",
   "execution_count": 11,
   "id": "331fa305",
   "metadata": {},
   "outputs": [
    {
     "data": {
      "text/plain": [
       "array(['2006-02-15 04:34:33'], dtype=object)"
      ]
     },
     "execution_count": 11,
     "metadata": {},
     "output_type": "execute_result"
    }
   ],
   "source": [
    "df_actor.last_update.unique()"
   ]
  },
  {
   "cell_type": "markdown",
   "id": "5e8406cd",
   "metadata": {},
   "source": [
    "Como se puede observar en la columna recién mencionada (\"last_update\"), todos sus valores son idénticos y se repiten de manera constante a lo largo de toda la columna. Por este motivo, al no aportar ninguna información relevante, se procede a su eliminación."
   ]
  },
  {
   "cell_type": "code",
   "execution_count": 12,
   "id": "03eaa1aa",
   "metadata": {},
   "outputs": [],
   "source": [
    "df_actor.drop(columns=[\"last_update\"], inplace=True)"
   ]
  },
  {
   "cell_type": "code",
   "execution_count": 13,
   "id": "634a215f",
   "metadata": {},
   "outputs": [
    {
     "data": {
      "text/html": [
       "<div>\n",
       "<style scoped>\n",
       "    .dataframe tbody tr th:only-of-type {\n",
       "        vertical-align: middle;\n",
       "    }\n",
       "\n",
       "    .dataframe tbody tr th {\n",
       "        vertical-align: top;\n",
       "    }\n",
       "\n",
       "    .dataframe thead th {\n",
       "        text-align: right;\n",
       "    }\n",
       "</style>\n",
       "<table border=\"1\" class=\"dataframe\">\n",
       "  <thead>\n",
       "    <tr style=\"text-align: right;\">\n",
       "      <th></th>\n",
       "      <th>actor_id</th>\n",
       "      <th>first_name</th>\n",
       "      <th>last_name</th>\n",
       "    </tr>\n",
       "  </thead>\n",
       "  <tbody>\n",
       "    <tr>\n",
       "      <th>0</th>\n",
       "      <td>1</td>\n",
       "      <td>PENELOPE</td>\n",
       "      <td>GUINESS</td>\n",
       "    </tr>\n",
       "    <tr>\n",
       "      <th>1</th>\n",
       "      <td>2</td>\n",
       "      <td>NICK</td>\n",
       "      <td>WAHLBERG</td>\n",
       "    </tr>\n",
       "    <tr>\n",
       "      <th>2</th>\n",
       "      <td>3</td>\n",
       "      <td>ED</td>\n",
       "      <td>CHASE</td>\n",
       "    </tr>\n",
       "    <tr>\n",
       "      <th>3</th>\n",
       "      <td>4</td>\n",
       "      <td>JENNIFER</td>\n",
       "      <td>DAVIS</td>\n",
       "    </tr>\n",
       "    <tr>\n",
       "      <th>4</th>\n",
       "      <td>5</td>\n",
       "      <td>JOHNNY</td>\n",
       "      <td>LOLLOBRIGIDA</td>\n",
       "    </tr>\n",
       "  </tbody>\n",
       "</table>\n",
       "</div>"
      ],
      "text/plain": [
       "   actor_id first_name     last_name\n",
       "0         1   PENELOPE       GUINESS\n",
       "1         2       NICK      WAHLBERG\n",
       "2         3         ED         CHASE\n",
       "3         4   JENNIFER         DAVIS\n",
       "4         5     JOHNNY  LOLLOBRIGIDA"
      ]
     },
     "execution_count": 13,
     "metadata": {},
     "output_type": "execute_result"
    }
   ],
   "source": [
    "df_actor.head()"
   ]
  },
  {
   "cell_type": "markdown",
   "id": "4b3a4734",
   "metadata": {},
   "source": [
    "Considero que la combinación de las columnas \"first_name\" y  \"last_name\" en una sola columna llamada \"actor_name,\" que contendría el nombre completo de la persona, simplicaría el posterior trabajo y manejo de la tabla."
   ]
  },
  {
   "cell_type": "code",
   "execution_count": 14,
   "id": "f826d8ea",
   "metadata": {},
   "outputs": [],
   "source": [
    "df_actor[\"actor_name\"] = df_actor[\"first_name\"] + ' ' + df_actor[\"last_name\"]"
   ]
  },
  {
   "cell_type": "code",
   "execution_count": 15,
   "id": "85db378c",
   "metadata": {},
   "outputs": [],
   "source": [
    "df_actor.drop(columns=[\"first_name\"], inplace=True) #Borro aquí las columnas que me ha proporcionado la información para la creación de la nueva columna.\n",
    "df_actor.drop(columns=[\"last_name\"], inplace=True)"
   ]
  },
  {
   "cell_type": "code",
   "execution_count": 16,
   "id": "556186ab",
   "metadata": {},
   "outputs": [
    {
     "data": {
      "text/html": [
       "<div>\n",
       "<style scoped>\n",
       "    .dataframe tbody tr th:only-of-type {\n",
       "        vertical-align: middle;\n",
       "    }\n",
       "\n",
       "    .dataframe tbody tr th {\n",
       "        vertical-align: top;\n",
       "    }\n",
       "\n",
       "    .dataframe thead th {\n",
       "        text-align: right;\n",
       "    }\n",
       "</style>\n",
       "<table border=\"1\" class=\"dataframe\">\n",
       "  <thead>\n",
       "    <tr style=\"text-align: right;\">\n",
       "      <th></th>\n",
       "      <th>actor_id</th>\n",
       "      <th>actor_name</th>\n",
       "    </tr>\n",
       "  </thead>\n",
       "  <tbody>\n",
       "    <tr>\n",
       "      <th>0</th>\n",
       "      <td>1</td>\n",
       "      <td>PENELOPE GUINESS</td>\n",
       "    </tr>\n",
       "    <tr>\n",
       "      <th>1</th>\n",
       "      <td>2</td>\n",
       "      <td>NICK WAHLBERG</td>\n",
       "    </tr>\n",
       "    <tr>\n",
       "      <th>2</th>\n",
       "      <td>3</td>\n",
       "      <td>ED CHASE</td>\n",
       "    </tr>\n",
       "    <tr>\n",
       "      <th>3</th>\n",
       "      <td>4</td>\n",
       "      <td>JENNIFER DAVIS</td>\n",
       "    </tr>\n",
       "    <tr>\n",
       "      <th>4</th>\n",
       "      <td>5</td>\n",
       "      <td>JOHNNY LOLLOBRIGIDA</td>\n",
       "    </tr>\n",
       "  </tbody>\n",
       "</table>\n",
       "</div>"
      ],
      "text/plain": [
       "   actor_id           actor_name\n",
       "0         1     PENELOPE GUINESS\n",
       "1         2        NICK WAHLBERG\n",
       "2         3             ED CHASE\n",
       "3         4       JENNIFER DAVIS\n",
       "4         5  JOHNNY LOLLOBRIGIDA"
      ]
     },
     "execution_count": 16,
     "metadata": {},
     "output_type": "execute_result"
    }
   ],
   "source": [
    "df_actor.head()"
   ]
  },
  {
   "cell_type": "code",
   "execution_count": 17,
   "id": "fad1a79f",
   "metadata": {},
   "outputs": [
    {
     "data": {
      "text/plain": [
       "SUSAN DAVIS             2\n",
       "EWAN GOODING            1\n",
       "DARYL CRAWFORD          1\n",
       "GRETA KEITEL            1\n",
       "JANE JACKMAN            1\n",
       "                       ..\n",
       "MICHELLE MCCONAUGHEY    1\n",
       "ADAM GRANT              1\n",
       "SEAN WILLIAMS           1\n",
       "GARY PENN               1\n",
       "THORA TEMPLE            1\n",
       "Name: actor_name, Length: 199, dtype: int64"
      ]
     },
     "execution_count": 17,
     "metadata": {},
     "output_type": "execute_result"
    }
   ],
   "source": [
    "df_actor[\"actor_name\"].value_counts()"
   ]
  },
  {
   "cell_type": "markdown",
   "id": "c4256edf",
   "metadata": {},
   "source": [
    "Al examinar los valores únicos en la columna \"actor_name,\" notamos la presencia de un valor repetido. Ante esta situación, cabrían dos opciones: mantenerlo tal como está, ya que los identificadores (ID) son diferentes, o eliminarlo. \n",
    "\n",
    "En este caso, vamos a ponernos en la situación y considerar que se trata de dos personas distintas y, por lo tanto, procedemos a eliminar una de las filas en las que se encuentra dicho valor."
   ]
  },
  {
   "cell_type": "code",
   "execution_count": 18,
   "id": "9544e617",
   "metadata": {},
   "outputs": [
    {
     "data": {
      "text/html": [
       "<div>\n",
       "<style scoped>\n",
       "    .dataframe tbody tr th:only-of-type {\n",
       "        vertical-align: middle;\n",
       "    }\n",
       "\n",
       "    .dataframe tbody tr th {\n",
       "        vertical-align: top;\n",
       "    }\n",
       "\n",
       "    .dataframe thead th {\n",
       "        text-align: right;\n",
       "    }\n",
       "</style>\n",
       "<table border=\"1\" class=\"dataframe\">\n",
       "  <thead>\n",
       "    <tr style=\"text-align: right;\">\n",
       "      <th></th>\n",
       "      <th>actor_id</th>\n",
       "      <th>actor_name</th>\n",
       "    </tr>\n",
       "  </thead>\n",
       "  <tbody>\n",
       "    <tr>\n",
       "      <th>100</th>\n",
       "      <td>101</td>\n",
       "      <td>SUSAN DAVIS</td>\n",
       "    </tr>\n",
       "    <tr>\n",
       "      <th>109</th>\n",
       "      <td>110</td>\n",
       "      <td>SUSAN DAVIS</td>\n",
       "    </tr>\n",
       "  </tbody>\n",
       "</table>\n",
       "</div>"
      ],
      "text/plain": [
       "     actor_id   actor_name\n",
       "100       101  SUSAN DAVIS\n",
       "109       110  SUSAN DAVIS"
      ]
     },
     "execution_count": 18,
     "metadata": {},
     "output_type": "execute_result"
    }
   ],
   "source": [
    "fila_susan = df_actor[df_actor[\"actor_name\"] == \"SUSAN DAVIS\"]\n",
    "fila_susan"
   ]
  },
  {
   "cell_type": "code",
   "execution_count": 19,
   "id": "2196fa1a",
   "metadata": {},
   "outputs": [],
   "source": [
    "df_actor = df_actor.drop(109)"
   ]
  },
  {
   "cell_type": "code",
   "execution_count": 20,
   "id": "63582abb",
   "metadata": {},
   "outputs": [],
   "source": [
    "df_actor = df_actor.reset_index(drop=True)"
   ]
  },
  {
   "cell_type": "code",
   "execution_count": 21,
   "id": "ee2c287b",
   "metadata": {},
   "outputs": [
    {
     "data": {
      "text/plain": [
       "(199, 2)"
      ]
     },
     "execution_count": 21,
     "metadata": {},
     "output_type": "execute_result"
    }
   ],
   "source": [
    "df_actor.shape"
   ]
  },
  {
   "cell_type": "code",
   "execution_count": 22,
   "id": "d067b921",
   "metadata": {},
   "outputs": [
    {
     "data": {
      "text/plain": [
       "Series([], dtype: int64)"
      ]
     },
     "execution_count": 22,
     "metadata": {},
     "output_type": "execute_result"
    }
   ],
   "source": [
    "# Columnas que contienen valores nulos y la cantidad de estos en cada una de ellas:\n",
    "\n",
    "nan_cols_actor = df_actor.isna().sum() #En este caso vemos que ninguna.\n",
    "nan_cols_actor[nan_cols_actor>0]"
   ]
  },
  {
   "cell_type": "code",
   "execution_count": 23,
   "id": "cff69e69",
   "metadata": {},
   "outputs": [
    {
     "data": {
      "text/plain": [
       "False"
      ]
     },
     "execution_count": 23,
     "metadata": {},
     "output_type": "execute_result"
    }
   ],
   "source": [
    "df_actor.duplicated().any() #Compruebo duplicados."
   ]
  },
  {
   "cell_type": "code",
   "execution_count": 24,
   "id": "cb91a335",
   "metadata": {},
   "outputs": [
    {
     "data": {
      "text/html": [
       "<div>\n",
       "<style scoped>\n",
       "    .dataframe tbody tr th:only-of-type {\n",
       "        vertical-align: middle;\n",
       "    }\n",
       "\n",
       "    .dataframe tbody tr th {\n",
       "        vertical-align: top;\n",
       "    }\n",
       "\n",
       "    .dataframe thead th {\n",
       "        text-align: right;\n",
       "    }\n",
       "</style>\n",
       "<table border=\"1\" class=\"dataframe\">\n",
       "  <thead>\n",
       "    <tr style=\"text-align: right;\">\n",
       "      <th></th>\n",
       "      <th>actor_id</th>\n",
       "      <th>actor_name</th>\n",
       "    </tr>\n",
       "  </thead>\n",
       "  <tbody>\n",
       "    <tr>\n",
       "      <th>0</th>\n",
       "      <td>1</td>\n",
       "      <td>PENELOPE GUINESS</td>\n",
       "    </tr>\n",
       "    <tr>\n",
       "      <th>1</th>\n",
       "      <td>2</td>\n",
       "      <td>NICK WAHLBERG</td>\n",
       "    </tr>\n",
       "    <tr>\n",
       "      <th>2</th>\n",
       "      <td>3</td>\n",
       "      <td>ED CHASE</td>\n",
       "    </tr>\n",
       "    <tr>\n",
       "      <th>3</th>\n",
       "      <td>4</td>\n",
       "      <td>JENNIFER DAVIS</td>\n",
       "    </tr>\n",
       "    <tr>\n",
       "      <th>4</th>\n",
       "      <td>5</td>\n",
       "      <td>JOHNNY LOLLOBRIGIDA</td>\n",
       "    </tr>\n",
       "  </tbody>\n",
       "</table>\n",
       "</div>"
      ],
      "text/plain": [
       "   actor_id           actor_name\n",
       "0         1     PENELOPE GUINESS\n",
       "1         2        NICK WAHLBERG\n",
       "2         3             ED CHASE\n",
       "3         4       JENNIFER DAVIS\n",
       "4         5  JOHNNY LOLLOBRIGIDA"
      ]
     },
     "execution_count": 24,
     "metadata": {},
     "output_type": "execute_result"
    }
   ],
   "source": [
    "df_actor.head()"
   ]
  },
  {
   "cell_type": "markdown",
   "id": "9ea0ce3b",
   "metadata": {},
   "source": [
    "# 2. DataFrame Category."
   ]
  },
  {
   "cell_type": "code",
   "execution_count": 32,
   "id": "377c3ae1",
   "metadata": {},
   "outputs": [],
   "source": [
    "df_original_category = pd.read_csv('data/category.csv', encoding='latin1')\n",
    "df_category = df_original_category.copy()"
   ]
  },
  {
   "cell_type": "code",
   "execution_count": 33,
   "id": "e4651293",
   "metadata": {},
   "outputs": [
    {
     "data": {
      "text/plain": [
       "(16, 3)"
      ]
     },
     "execution_count": 33,
     "metadata": {},
     "output_type": "execute_result"
    }
   ],
   "source": [
    "dim_original_category = df_category.shape # Del mismo modo que antes, guardo las dimensiones del data frame original.\n",
    "df_category.shape"
   ]
  },
  {
   "cell_type": "code",
   "execution_count": 34,
   "id": "c3952b43",
   "metadata": {},
   "outputs": [
    {
     "data": {
      "text/html": [
       "<div>\n",
       "<style scoped>\n",
       "    .dataframe tbody tr th:only-of-type {\n",
       "        vertical-align: middle;\n",
       "    }\n",
       "\n",
       "    .dataframe tbody tr th {\n",
       "        vertical-align: top;\n",
       "    }\n",
       "\n",
       "    .dataframe thead th {\n",
       "        text-align: right;\n",
       "    }\n",
       "</style>\n",
       "<table border=\"1\" class=\"dataframe\">\n",
       "  <thead>\n",
       "    <tr style=\"text-align: right;\">\n",
       "      <th></th>\n",
       "      <th>category_id</th>\n",
       "      <th>name</th>\n",
       "      <th>last_update</th>\n",
       "    </tr>\n",
       "  </thead>\n",
       "  <tbody>\n",
       "    <tr>\n",
       "      <th>0</th>\n",
       "      <td>1</td>\n",
       "      <td>Action</td>\n",
       "      <td>2006-02-15 04:46:27</td>\n",
       "    </tr>\n",
       "    <tr>\n",
       "      <th>1</th>\n",
       "      <td>2</td>\n",
       "      <td>Animation</td>\n",
       "      <td>2006-02-15 04:46:27</td>\n",
       "    </tr>\n",
       "    <tr>\n",
       "      <th>2</th>\n",
       "      <td>3</td>\n",
       "      <td>Children</td>\n",
       "      <td>2006-02-15 04:46:27</td>\n",
       "    </tr>\n",
       "    <tr>\n",
       "      <th>3</th>\n",
       "      <td>4</td>\n",
       "      <td>Classics</td>\n",
       "      <td>2006-02-15 04:46:27</td>\n",
       "    </tr>\n",
       "    <tr>\n",
       "      <th>4</th>\n",
       "      <td>5</td>\n",
       "      <td>Comedy</td>\n",
       "      <td>2006-02-15 04:46:27</td>\n",
       "    </tr>\n",
       "  </tbody>\n",
       "</table>\n",
       "</div>"
      ],
      "text/plain": [
       "   category_id       name          last_update\n",
       "0            1     Action  2006-02-15 04:46:27\n",
       "1            2  Animation  2006-02-15 04:46:27\n",
       "2            3   Children  2006-02-15 04:46:27\n",
       "3            4   Classics  2006-02-15 04:46:27\n",
       "4            5     Comedy  2006-02-15 04:46:27"
      ]
     },
     "execution_count": 34,
     "metadata": {},
     "output_type": "execute_result"
    }
   ],
   "source": [
    "df_category.head()"
   ]
  },
  {
   "cell_type": "code",
   "execution_count": 35,
   "id": "9e5d2fa2",
   "metadata": {},
   "outputs": [
    {
     "name": "stdout",
     "output_type": "stream",
     "text": [
      "<class 'pandas.core.frame.DataFrame'>\n",
      "RangeIndex: 16 entries, 0 to 15\n",
      "Data columns (total 3 columns):\n",
      " #   Column       Non-Null Count  Dtype \n",
      "---  ------       --------------  ----- \n",
      " 0   category_id  16 non-null     int64 \n",
      " 1   name         16 non-null     object\n",
      " 2   last_update  16 non-null     object\n",
      "dtypes: int64(1), object(2)\n",
      "memory usage: 516.0+ bytes\n"
     ]
    }
   ],
   "source": [
    "df_category.info() # Observamos el tipo de dato y los posibles valores nulos que tiene cada una de las columnas."
   ]
  },
  {
   "cell_type": "code",
   "execution_count": 36,
   "id": "2f615526",
   "metadata": {},
   "outputs": [
    {
     "data": {
      "text/plain": [
       "array([ 1,  2,  3,  4,  5,  6,  7,  8,  9, 10, 11, 12, 13, 14, 15, 16])"
      ]
     },
     "execution_count": 36,
     "metadata": {},
     "output_type": "execute_result"
    }
   ],
   "source": [
    "df_category.category_id.unique() # Ahora, los valores únicos de las diferentes columnas que componen el DataFrame."
   ]
  },
  {
   "cell_type": "code",
   "execution_count": 37,
   "id": "de517a1c",
   "metadata": {},
   "outputs": [
    {
     "data": {
      "text/plain": [
       "array(['Action', 'Animation', 'Children', 'Classics', 'Comedy',\n",
       "       'Documentary', 'Drama', 'Family', 'Foreign', 'Games', 'Horror',\n",
       "       'Music', 'New', 'Sci-Fi', 'Sports', 'Travel'], dtype=object)"
      ]
     },
     "execution_count": 37,
     "metadata": {},
     "output_type": "execute_result"
    }
   ],
   "source": [
    "df_category.name.unique()"
   ]
  },
  {
   "cell_type": "markdown",
   "id": "a0e114de",
   "metadata": {},
   "source": [
    "No se aprecia nada raro hasta que nos encontramos, al igual que en el caso anterior, con la columna \"last_update\", compuesta por un único valor que no nos aporta ninguna información destacable. Se procede a su eliminación:"
   ]
  },
  {
   "cell_type": "code",
   "execution_count": 38,
   "id": "6b9bbde5",
   "metadata": {},
   "outputs": [
    {
     "data": {
      "text/plain": [
       "array(['2006-02-15 04:46:27'], dtype=object)"
      ]
     },
     "execution_count": 38,
     "metadata": {},
     "output_type": "execute_result"
    }
   ],
   "source": [
    "df_category.last_update.unique() "
   ]
  },
  {
   "cell_type": "code",
   "execution_count": 39,
   "id": "ffb52c1d",
   "metadata": {},
   "outputs": [],
   "source": [
    "df_category.drop(columns=[\"last_update\"], inplace=True)"
   ]
  },
  {
   "cell_type": "code",
   "execution_count": 40,
   "id": "aec2a7e7",
   "metadata": {},
   "outputs": [
    {
     "data": {
      "text/plain": [
       "Action       1\n",
       "Animation    1\n",
       "Children     1\n",
       "Classics     1\n",
       "Comedy       1\n",
       "Name: name, dtype: int64"
      ]
     },
     "execution_count": 40,
     "metadata": {},
     "output_type": "execute_result"
    }
   ],
   "source": [
    "df_category[\"name\"].value_counts().head() # Revisamos en este caso si también hay algún valor repetido a lo largo de la columna."
   ]
  },
  {
   "cell_type": "markdown",
   "id": "0eb620e0",
   "metadata": {},
   "source": [
    "Considero que sería una buena práctica cambiar el nombre de la columna \"name\" por motivo de que este nombre de columna se repite en varias tablas con las que debemos trabajar. Esto podría causar confusión cuando manejemos todas las tablas en conjunto."
   ]
  },
  {
   "cell_type": "code",
   "execution_count": 41,
   "id": "d36940de",
   "metadata": {},
   "outputs": [],
   "source": [
    "df_category.rename(columns={\"name\": \"category_name\"}, inplace=True)"
   ]
  },
  {
   "cell_type": "code",
   "execution_count": 42,
   "id": "3c7f8a0e",
   "metadata": {},
   "outputs": [
    {
     "data": {
      "text/plain": [
       "Series([], dtype: int64)"
      ]
     },
     "execution_count": 42,
     "metadata": {},
     "output_type": "execute_result"
    }
   ],
   "source": [
    "# Columnas que contienen valores nulos y la cantidad de estos en cada una de ellas:\n",
    "\n",
    "nan_cols_category = df_category.isna().sum() #De nuevo, ninguna.\n",
    "nan_cols_category[nan_cols_category>0]"
   ]
  },
  {
   "cell_type": "code",
   "execution_count": 43,
   "id": "3fb54f58",
   "metadata": {},
   "outputs": [
    {
     "data": {
      "text/plain": [
       "False"
      ]
     },
     "execution_count": 43,
     "metadata": {},
     "output_type": "execute_result"
    }
   ],
   "source": [
    "df_category.duplicated().any() #Compruebo duplicados."
   ]
  },
  {
   "cell_type": "code",
   "execution_count": 44,
   "id": "aaf273e7",
   "metadata": {},
   "outputs": [
    {
     "data": {
      "text/html": [
       "<div>\n",
       "<style scoped>\n",
       "    .dataframe tbody tr th:only-of-type {\n",
       "        vertical-align: middle;\n",
       "    }\n",
       "\n",
       "    .dataframe tbody tr th {\n",
       "        vertical-align: top;\n",
       "    }\n",
       "\n",
       "    .dataframe thead th {\n",
       "        text-align: right;\n",
       "    }\n",
       "</style>\n",
       "<table border=\"1\" class=\"dataframe\">\n",
       "  <thead>\n",
       "    <tr style=\"text-align: right;\">\n",
       "      <th></th>\n",
       "      <th>category_id</th>\n",
       "      <th>category_name</th>\n",
       "    </tr>\n",
       "  </thead>\n",
       "  <tbody>\n",
       "    <tr>\n",
       "      <th>0</th>\n",
       "      <td>1</td>\n",
       "      <td>Action</td>\n",
       "    </tr>\n",
       "    <tr>\n",
       "      <th>1</th>\n",
       "      <td>2</td>\n",
       "      <td>Animation</td>\n",
       "    </tr>\n",
       "    <tr>\n",
       "      <th>2</th>\n",
       "      <td>3</td>\n",
       "      <td>Children</td>\n",
       "    </tr>\n",
       "    <tr>\n",
       "      <th>3</th>\n",
       "      <td>4</td>\n",
       "      <td>Classics</td>\n",
       "    </tr>\n",
       "    <tr>\n",
       "      <th>4</th>\n",
       "      <td>5</td>\n",
       "      <td>Comedy</td>\n",
       "    </tr>\n",
       "  </tbody>\n",
       "</table>\n",
       "</div>"
      ],
      "text/plain": [
       "   category_id category_name\n",
       "0            1        Action\n",
       "1            2     Animation\n",
       "2            3      Children\n",
       "3            4      Classics\n",
       "4            5        Comedy"
      ]
     },
     "execution_count": 44,
     "metadata": {},
     "output_type": "execute_result"
    }
   ],
   "source": [
    "df_category.head()"
   ]
  },
  {
   "cell_type": "markdown",
   "id": "31171847",
   "metadata": {},
   "source": [
    "# 3. DataFrame Film."
   ]
  },
  {
   "cell_type": "code",
   "execution_count": 45,
   "id": "8fc3b178",
   "metadata": {},
   "outputs": [],
   "source": [
    "df_original_film = pd.read_csv('data/film.csv', encoding='latin1')\n",
    "df_film = df_original_film.copy()"
   ]
  },
  {
   "cell_type": "code",
   "execution_count": 46,
   "id": "a30b9baf",
   "metadata": {},
   "outputs": [
    {
     "data": {
      "text/plain": [
       "(1000, 13)"
      ]
     },
     "execution_count": 46,
     "metadata": {},
     "output_type": "execute_result"
    }
   ],
   "source": [
    "dim_original_film = df_film.shape # Guardo aquí también las dimensiones del data frame original.\n",
    "df_film.shape"
   ]
  },
  {
   "cell_type": "code",
   "execution_count": 47,
   "id": "31e45c92",
   "metadata": {},
   "outputs": [
    {
     "data": {
      "text/html": [
       "<div>\n",
       "<style scoped>\n",
       "    .dataframe tbody tr th:only-of-type {\n",
       "        vertical-align: middle;\n",
       "    }\n",
       "\n",
       "    .dataframe tbody tr th {\n",
       "        vertical-align: top;\n",
       "    }\n",
       "\n",
       "    .dataframe thead th {\n",
       "        text-align: right;\n",
       "    }\n",
       "</style>\n",
       "<table border=\"1\" class=\"dataframe\">\n",
       "  <thead>\n",
       "    <tr style=\"text-align: right;\">\n",
       "      <th></th>\n",
       "      <th>film_id</th>\n",
       "      <th>title</th>\n",
       "      <th>description</th>\n",
       "      <th>release_year</th>\n",
       "      <th>language_id</th>\n",
       "      <th>original_language_id</th>\n",
       "      <th>rental_duration</th>\n",
       "      <th>rental_rate</th>\n",
       "      <th>length</th>\n",
       "      <th>replacement_cost</th>\n",
       "      <th>rating</th>\n",
       "      <th>special_features</th>\n",
       "      <th>last_update</th>\n",
       "    </tr>\n",
       "  </thead>\n",
       "  <tbody>\n",
       "    <tr>\n",
       "      <th>0</th>\n",
       "      <td>1</td>\n",
       "      <td>ACADEMY DINOSAUR</td>\n",
       "      <td>A Epic Drama of a Feminist And a Mad Scientist...</td>\n",
       "      <td>2006</td>\n",
       "      <td>1</td>\n",
       "      <td>NaN</td>\n",
       "      <td>6</td>\n",
       "      <td>0.99</td>\n",
       "      <td>86</td>\n",
       "      <td>20.99</td>\n",
       "      <td>PG</td>\n",
       "      <td>Deleted Scenes,Behind the Scenes</td>\n",
       "      <td>2006-02-15 05:03:42</td>\n",
       "    </tr>\n",
       "    <tr>\n",
       "      <th>1</th>\n",
       "      <td>2</td>\n",
       "      <td>ACE GOLDFINGER</td>\n",
       "      <td>A Astounding Epistle of a Database Administrat...</td>\n",
       "      <td>2006</td>\n",
       "      <td>1</td>\n",
       "      <td>NaN</td>\n",
       "      <td>3</td>\n",
       "      <td>4.99</td>\n",
       "      <td>48</td>\n",
       "      <td>12.99</td>\n",
       "      <td>G</td>\n",
       "      <td>Trailers,Deleted Scenes</td>\n",
       "      <td>2006-02-15 05:03:42</td>\n",
       "    </tr>\n",
       "    <tr>\n",
       "      <th>2</th>\n",
       "      <td>3</td>\n",
       "      <td>ADAPTATION HOLES</td>\n",
       "      <td>A Astounding Reflection of a Lumberjack And a ...</td>\n",
       "      <td>2006</td>\n",
       "      <td>1</td>\n",
       "      <td>NaN</td>\n",
       "      <td>7</td>\n",
       "      <td>2.99</td>\n",
       "      <td>50</td>\n",
       "      <td>18.99</td>\n",
       "      <td>NC-17</td>\n",
       "      <td>Trailers,Deleted Scenes</td>\n",
       "      <td>2006-02-15 05:03:42</td>\n",
       "    </tr>\n",
       "    <tr>\n",
       "      <th>3</th>\n",
       "      <td>4</td>\n",
       "      <td>AFFAIR PREJUDICE</td>\n",
       "      <td>A Fanciful Documentary of a Frisbee And a Lumb...</td>\n",
       "      <td>2006</td>\n",
       "      <td>1</td>\n",
       "      <td>NaN</td>\n",
       "      <td>5</td>\n",
       "      <td>2.99</td>\n",
       "      <td>117</td>\n",
       "      <td>26.99</td>\n",
       "      <td>G</td>\n",
       "      <td>Commentaries,Behind the Scenes</td>\n",
       "      <td>2006-02-15 05:03:42</td>\n",
       "    </tr>\n",
       "    <tr>\n",
       "      <th>4</th>\n",
       "      <td>5</td>\n",
       "      <td>AFRICAN EGG</td>\n",
       "      <td>A Fast-Paced Documentary of a Pastry Chef And ...</td>\n",
       "      <td>2006</td>\n",
       "      <td>1</td>\n",
       "      <td>NaN</td>\n",
       "      <td>6</td>\n",
       "      <td>2.99</td>\n",
       "      <td>130</td>\n",
       "      <td>22.99</td>\n",
       "      <td>G</td>\n",
       "      <td>Deleted Scenes</td>\n",
       "      <td>2006-02-15 05:03:42</td>\n",
       "    </tr>\n",
       "  </tbody>\n",
       "</table>\n",
       "</div>"
      ],
      "text/plain": [
       "   film_id             title  \\\n",
       "0        1  ACADEMY DINOSAUR   \n",
       "1        2    ACE GOLDFINGER   \n",
       "2        3  ADAPTATION HOLES   \n",
       "3        4  AFFAIR PREJUDICE   \n",
       "4        5       AFRICAN EGG   \n",
       "\n",
       "                                         description  release_year  \\\n",
       "0  A Epic Drama of a Feminist And a Mad Scientist...          2006   \n",
       "1  A Astounding Epistle of a Database Administrat...          2006   \n",
       "2  A Astounding Reflection of a Lumberjack And a ...          2006   \n",
       "3  A Fanciful Documentary of a Frisbee And a Lumb...          2006   \n",
       "4  A Fast-Paced Documentary of a Pastry Chef And ...          2006   \n",
       "\n",
       "   language_id  original_language_id  rental_duration  rental_rate  length  \\\n",
       "0            1                   NaN                6         0.99      86   \n",
       "1            1                   NaN                3         4.99      48   \n",
       "2            1                   NaN                7         2.99      50   \n",
       "3            1                   NaN                5         2.99     117   \n",
       "4            1                   NaN                6         2.99     130   \n",
       "\n",
       "   replacement_cost rating                  special_features  \\\n",
       "0             20.99     PG  Deleted Scenes,Behind the Scenes   \n",
       "1             12.99      G           Trailers,Deleted Scenes   \n",
       "2             18.99  NC-17           Trailers,Deleted Scenes   \n",
       "3             26.99      G    Commentaries,Behind the Scenes   \n",
       "4             22.99      G                    Deleted Scenes   \n",
       "\n",
       "           last_update  \n",
       "0  2006-02-15 05:03:42  \n",
       "1  2006-02-15 05:03:42  \n",
       "2  2006-02-15 05:03:42  \n",
       "3  2006-02-15 05:03:42  \n",
       "4  2006-02-15 05:03:42  "
      ]
     },
     "execution_count": 47,
     "metadata": {},
     "output_type": "execute_result"
    }
   ],
   "source": [
    "df_film.head()"
   ]
  },
  {
   "cell_type": "code",
   "execution_count": 48,
   "id": "74dee9b7",
   "metadata": {},
   "outputs": [
    {
     "name": "stdout",
     "output_type": "stream",
     "text": [
      "<class 'pandas.core.frame.DataFrame'>\n",
      "RangeIndex: 1000 entries, 0 to 999\n",
      "Data columns (total 13 columns):\n",
      " #   Column                Non-Null Count  Dtype  \n",
      "---  ------                --------------  -----  \n",
      " 0   film_id               1000 non-null   int64  \n",
      " 1   title                 1000 non-null   object \n",
      " 2   description           1000 non-null   object \n",
      " 3   release_year          1000 non-null   int64  \n",
      " 4   language_id           1000 non-null   int64  \n",
      " 5   original_language_id  0 non-null      float64\n",
      " 6   rental_duration       1000 non-null   int64  \n",
      " 7   rental_rate           1000 non-null   float64\n",
      " 8   length                1000 non-null   int64  \n",
      " 9   replacement_cost      1000 non-null   float64\n",
      " 10  rating                1000 non-null   object \n",
      " 11  special_features      1000 non-null   object \n",
      " 12  last_update           1000 non-null   object \n",
      "dtypes: float64(3), int64(5), object(5)\n",
      "memory usage: 101.7+ KB\n"
     ]
    }
   ],
   "source": [
    "df_film.info()"
   ]
  },
  {
   "cell_type": "markdown",
   "id": "59dbd65a",
   "metadata": {},
   "source": [
    "Primeramente, según la información proporcionada anteriormente, se aprecia que existe una columna en la que todos sus valores son nulos. Por lo tanto, el primer paso será eliminar dicha columna."
   ]
  },
  {
   "cell_type": "code",
   "execution_count": 49,
   "id": "fc6ff4c7",
   "metadata": {},
   "outputs": [],
   "source": [
    "df_film.drop(columns=[\"original_language_id\"], inplace=True)"
   ]
  },
  {
   "cell_type": "markdown",
   "id": "27dd4e65",
   "metadata": {},
   "source": [
    "Seguidamente, resulta de interés determinar si alguna de las columnas contiene valores constantes, ya que estos no aportan información adicional o especialmnete relevante. En caso de hallar dichas columnas, se considerará su eliminación."
   ]
  },
  {
   "cell_type": "code",
   "execution_count": 50,
   "id": "1774e1fc",
   "metadata": {},
   "outputs": [
    {
     "data": {
      "text/plain": [
       "['release_year', 'language_id']"
      ]
     },
     "execution_count": 50,
     "metadata": {},
     "output_type": "execute_result"
    }
   ],
   "source": [
    "cte_cols_film = []\n",
    "for c in df_film.select_dtypes(include=np.number):   # para cada columna numerica.....\n",
    "    if len(df_film[c].unique()) == 1:\n",
    "        cte_cols_film.append(c)\n",
    "cte_cols_film   "
   ]
  },
  {
   "cell_type": "markdown",
   "id": "fafee1b1",
   "metadata": {},
   "source": [
    "De hecho, se han identificado dos columnas que cumplen con esta condición (estas deberán eliminarse). \n",
    "\n",
    "Sin embargo, es relevante destacar que esta revisión se ha realizado únicamente en las columnas numéricas. No obstante, es necesario considerar que otras columnas podrían presentar la misma situación. Comprobémoslo:"
   ]
  },
  {
   "cell_type": "code",
   "execution_count": 51,
   "id": "5f5ca7cc",
   "metadata": {},
   "outputs": [],
   "source": [
    "df_film.drop(columns=[\"release_year\"], inplace=True) #primero eliminamos las dos columnas numéricas con valor constante.\n",
    "df_film.drop(columns=[\"language_id\"], inplace=True)"
   ]
  },
  {
   "cell_type": "code",
   "execution_count": 52,
   "id": "8bf49d55",
   "metadata": {},
   "outputs": [
    {
     "data": {
      "text/plain": [
       "array(['2006-02-15 05:03:42'], dtype=object)"
      ]
     },
     "execution_count": 52,
     "metadata": {},
     "output_type": "execute_result"
    }
   ],
   "source": [
    "df_film.last_update.unique()"
   ]
  },
  {
   "cell_type": "markdown",
   "id": "b31a5d92",
   "metadata": {},
   "source": [
    "Al parecer, esta también lo es, por lo que también debe eliminarse."
   ]
  },
  {
   "cell_type": "code",
   "execution_count": 53,
   "id": "e18c0dc6",
   "metadata": {},
   "outputs": [],
   "source": [
    "df_film.drop(columns=[\"last_update\"], inplace=True)"
   ]
  },
  {
   "cell_type": "markdown",
   "id": "025d392a",
   "metadata": {},
   "source": [
    "Realizamos la prueba con el resto de ellas, como se puede apreciar a continuación, por el momento, no se reconoce nada sospechoso en las mismas."
   ]
  },
  {
   "cell_type": "code",
   "execution_count": 54,
   "id": "22e9ac93",
   "metadata": {},
   "outputs": [],
   "source": [
    "#df_film.film_id.unique()"
   ]
  },
  {
   "cell_type": "code",
   "execution_count": 55,
   "id": "85479eb5",
   "metadata": {},
   "outputs": [],
   "source": [
    "#df_film.title.unique()"
   ]
  },
  {
   "cell_type": "code",
   "execution_count": 56,
   "id": "d9dc77f6",
   "metadata": {},
   "outputs": [],
   "source": [
    "#df_film.description.unique()"
   ]
  },
  {
   "cell_type": "code",
   "execution_count": 57,
   "id": "b6a75462",
   "metadata": {},
   "outputs": [
    {
     "data": {
      "text/plain": [
       "array([6, 3, 7, 5, 4])"
      ]
     },
     "execution_count": 57,
     "metadata": {},
     "output_type": "execute_result"
    }
   ],
   "source": [
    "df_film.rental_duration.unique()"
   ]
  },
  {
   "cell_type": "code",
   "execution_count": 58,
   "id": "d8c07eef",
   "metadata": {},
   "outputs": [],
   "source": [
    "#df_film.rental_rate.unique()"
   ]
  },
  {
   "cell_type": "code",
   "execution_count": 59,
   "id": "80af8879",
   "metadata": {},
   "outputs": [],
   "source": [
    "#df_film.length.unique()"
   ]
  },
  {
   "cell_type": "code",
   "execution_count": 60,
   "id": "7157a431",
   "metadata": {},
   "outputs": [],
   "source": [
    "#df_film.special_features.unique()"
   ]
  },
  {
   "cell_type": "code",
   "execution_count": 61,
   "id": "f76ffccb",
   "metadata": {},
   "outputs": [],
   "source": [
    "#df_film.length.unique()"
   ]
  },
  {
   "cell_type": "markdown",
   "id": "4e55e350",
   "metadata": {},
   "source": [
    "Ahora, procederé a buscar posibles valores repetidos en alguna de las columnas en las que esto resulte raro, es decir, las no numéricas, en las cuales no hay problema alguno en que el valor se repita:"
   ]
  },
  {
   "cell_type": "code",
   "execution_count": 62,
   "id": "ca8608ba",
   "metadata": {},
   "outputs": [
    {
     "data": {
      "text/plain": [
       "1       1\n",
       "672     1\n",
       "659     1\n",
       "660     1\n",
       "661     1\n",
       "       ..\n",
       "339     1\n",
       "340     1\n",
       "341     1\n",
       "342     1\n",
       "1000    1\n",
       "Name: film_id, Length: 1000, dtype: int64"
      ]
     },
     "execution_count": 62,
     "metadata": {},
     "output_type": "execute_result"
    }
   ],
   "source": [
    "df_film[\"film_id\"].value_counts()"
   ]
  },
  {
   "cell_type": "code",
   "execution_count": 63,
   "id": "86c1f440",
   "metadata": {},
   "outputs": [
    {
     "data": {
      "text/plain": [
       "ACADEMY DINOSAUR    1\n",
       "PERFECT GROOVE      1\n",
       "PARK CITIZEN        1\n",
       "PARTY KNOCK         1\n",
       "PAST SUICIDES       1\n",
       "                   ..\n",
       "FROGMEN BREAKING    1\n",
       "FRONTIER CABIN      1\n",
       "FROST HEAD          1\n",
       "FUGITIVE MAGUIRE    1\n",
       "ZORRO ARK           1\n",
       "Name: title, Length: 1000, dtype: int64"
      ]
     },
     "execution_count": 63,
     "metadata": {},
     "output_type": "execute_result"
    }
   ],
   "source": [
    "df_film[\"title\"].value_counts()"
   ]
  },
  {
   "cell_type": "code",
   "execution_count": 64,
   "id": "b4dab2bc",
   "metadata": {},
   "outputs": [
    {
     "data": {
      "text/plain": [
       "A Epic Drama of a Feminist And a Mad Scientist who must Battle a Teacher in The Canadian Rockies                   1\n",
       "A Thrilling Yarn of a Dog And a Dog who must Build a Husband in A Baloon                                           1\n",
       "A Taut Epistle of a Sumo Wrestler And a Girl who must Face a Husband in Ancient Japan                              1\n",
       "A Fateful Display of a Technical Writer And a Butler who must Battle a Sumo Wrestler in An Abandoned Mine Shaft    1\n",
       "A Intrepid Tale of a Madman And a Astronaut who must Challenge a Hunter in A Monastery                             1\n",
       "                                                                                                                  ..\n",
       "A Unbelieveable Yarn of a Mad Scientist And a Cat who must Chase a Lumberjack in Australia                         1\n",
       "A Emotional Story of a Madman And a Waitress who must Battle a Teacher in An Abandoned Fun House                   1\n",
       "A Amazing Reflection of a Lumberjack And a Cat who must Discover a Husband in A MySQL Convention                   1\n",
       "A Taut Epistle of a Feminist And a Sumo Wrestler who must Battle a Crocodile in Australia                          1\n",
       "A Intrepid Panorama of a Mad Scientist And a Boy who must Redeem a Boy in A Monastery                              1\n",
       "Name: description, Length: 1000, dtype: int64"
      ]
     },
     "execution_count": 64,
     "metadata": {},
     "output_type": "execute_result"
    }
   ],
   "source": [
    "df_film[\"description\"].value_counts()"
   ]
  },
  {
   "cell_type": "markdown",
   "id": "a06eca4a",
   "metadata": {},
   "source": [
    "Revisamos que no haya ningún valor especialemnte atípico para cada una de las columnas númericas de la tabla."
   ]
  },
  {
   "cell_type": "code",
   "execution_count": 65,
   "id": "20abb2da",
   "metadata": {},
   "outputs": [
    {
     "data": {
      "text/html": [
       "<div>\n",
       "<style scoped>\n",
       "    .dataframe tbody tr th:only-of-type {\n",
       "        vertical-align: middle;\n",
       "    }\n",
       "\n",
       "    .dataframe tbody tr th {\n",
       "        vertical-align: top;\n",
       "    }\n",
       "\n",
       "    .dataframe thead th {\n",
       "        text-align: right;\n",
       "    }\n",
       "</style>\n",
       "<table border=\"1\" class=\"dataframe\">\n",
       "  <thead>\n",
       "    <tr style=\"text-align: right;\">\n",
       "      <th></th>\n",
       "      <th>count</th>\n",
       "      <th>mean</th>\n",
       "      <th>std</th>\n",
       "      <th>min</th>\n",
       "      <th>25%</th>\n",
       "      <th>50%</th>\n",
       "      <th>75%</th>\n",
       "      <th>max</th>\n",
       "    </tr>\n",
       "  </thead>\n",
       "  <tbody>\n",
       "    <tr>\n",
       "      <th>film_id</th>\n",
       "      <td>1000.0</td>\n",
       "      <td>500.500</td>\n",
       "      <td>288.819436</td>\n",
       "      <td>1.00</td>\n",
       "      <td>250.75</td>\n",
       "      <td>500.50</td>\n",
       "      <td>750.25</td>\n",
       "      <td>1000.00</td>\n",
       "    </tr>\n",
       "    <tr>\n",
       "      <th>rental_duration</th>\n",
       "      <td>1000.0</td>\n",
       "      <td>4.985</td>\n",
       "      <td>1.411654</td>\n",
       "      <td>3.00</td>\n",
       "      <td>4.00</td>\n",
       "      <td>5.00</td>\n",
       "      <td>6.00</td>\n",
       "      <td>7.00</td>\n",
       "    </tr>\n",
       "    <tr>\n",
       "      <th>rental_rate</th>\n",
       "      <td>1000.0</td>\n",
       "      <td>2.980</td>\n",
       "      <td>1.646393</td>\n",
       "      <td>0.99</td>\n",
       "      <td>0.99</td>\n",
       "      <td>2.99</td>\n",
       "      <td>4.99</td>\n",
       "      <td>4.99</td>\n",
       "    </tr>\n",
       "    <tr>\n",
       "      <th>length</th>\n",
       "      <td>1000.0</td>\n",
       "      <td>115.272</td>\n",
       "      <td>40.426332</td>\n",
       "      <td>46.00</td>\n",
       "      <td>80.00</td>\n",
       "      <td>114.00</td>\n",
       "      <td>149.25</td>\n",
       "      <td>185.00</td>\n",
       "    </tr>\n",
       "    <tr>\n",
       "      <th>replacement_cost</th>\n",
       "      <td>1000.0</td>\n",
       "      <td>19.984</td>\n",
       "      <td>6.050833</td>\n",
       "      <td>9.99</td>\n",
       "      <td>14.99</td>\n",
       "      <td>19.99</td>\n",
       "      <td>24.99</td>\n",
       "      <td>29.99</td>\n",
       "    </tr>\n",
       "  </tbody>\n",
       "</table>\n",
       "</div>"
      ],
      "text/plain": [
       "                   count     mean         std    min     25%     50%     75%  \\\n",
       "film_id           1000.0  500.500  288.819436   1.00  250.75  500.50  750.25   \n",
       "rental_duration   1000.0    4.985    1.411654   3.00    4.00    5.00    6.00   \n",
       "rental_rate       1000.0    2.980    1.646393   0.99    0.99    2.99    4.99   \n",
       "length            1000.0  115.272   40.426332  46.00   80.00  114.00  149.25   \n",
       "replacement_cost  1000.0   19.984    6.050833   9.99   14.99   19.99   24.99   \n",
       "\n",
       "                      max  \n",
       "film_id           1000.00  \n",
       "rental_duration      7.00  \n",
       "rental_rate          4.99  \n",
       "length             185.00  \n",
       "replacement_cost    29.99  "
      ]
     },
     "execution_count": 65,
     "metadata": {},
     "output_type": "execute_result"
    }
   ],
   "source": [
    "df_film.describe().T"
   ]
  },
  {
   "cell_type": "markdown",
   "id": "5353edad",
   "metadata": {},
   "source": [
    "Tanto la duración del alquiler, el coste de este, la duración o los costes de reposición no presentan nada que sea digno de anotar."
   ]
  },
  {
   "cell_type": "code",
   "execution_count": 66,
   "id": "c1fde7e0",
   "metadata": {},
   "outputs": [
    {
     "data": {
      "text/html": [
       "<div>\n",
       "<style scoped>\n",
       "    .dataframe tbody tr th:only-of-type {\n",
       "        vertical-align: middle;\n",
       "    }\n",
       "\n",
       "    .dataframe tbody tr th {\n",
       "        vertical-align: top;\n",
       "    }\n",
       "\n",
       "    .dataframe thead th {\n",
       "        text-align: right;\n",
       "    }\n",
       "</style>\n",
       "<table border=\"1\" class=\"dataframe\">\n",
       "  <thead>\n",
       "    <tr style=\"text-align: right;\">\n",
       "      <th></th>\n",
       "      <th>film_id</th>\n",
       "      <th>title</th>\n",
       "      <th>description</th>\n",
       "      <th>rental_duration</th>\n",
       "      <th>rental_rate</th>\n",
       "      <th>length</th>\n",
       "      <th>replacement_cost</th>\n",
       "      <th>rating</th>\n",
       "      <th>special_features</th>\n",
       "    </tr>\n",
       "  </thead>\n",
       "  <tbody>\n",
       "    <tr>\n",
       "      <th>0</th>\n",
       "      <td>1</td>\n",
       "      <td>ACADEMY DINOSAUR</td>\n",
       "      <td>A Epic Drama of a Feminist And a Mad Scientist...</td>\n",
       "      <td>6</td>\n",
       "      <td>0.99</td>\n",
       "      <td>86</td>\n",
       "      <td>20.99</td>\n",
       "      <td>PG</td>\n",
       "      <td>Deleted Scenes,Behind the Scenes</td>\n",
       "    </tr>\n",
       "    <tr>\n",
       "      <th>1</th>\n",
       "      <td>2</td>\n",
       "      <td>ACE GOLDFINGER</td>\n",
       "      <td>A Astounding Epistle of a Database Administrat...</td>\n",
       "      <td>3</td>\n",
       "      <td>4.99</td>\n",
       "      <td>48</td>\n",
       "      <td>12.99</td>\n",
       "      <td>G</td>\n",
       "      <td>Trailers,Deleted Scenes</td>\n",
       "    </tr>\n",
       "    <tr>\n",
       "      <th>2</th>\n",
       "      <td>3</td>\n",
       "      <td>ADAPTATION HOLES</td>\n",
       "      <td>A Astounding Reflection of a Lumberjack And a ...</td>\n",
       "      <td>7</td>\n",
       "      <td>2.99</td>\n",
       "      <td>50</td>\n",
       "      <td>18.99</td>\n",
       "      <td>NC-17</td>\n",
       "      <td>Trailers,Deleted Scenes</td>\n",
       "    </tr>\n",
       "    <tr>\n",
       "      <th>3</th>\n",
       "      <td>4</td>\n",
       "      <td>AFFAIR PREJUDICE</td>\n",
       "      <td>A Fanciful Documentary of a Frisbee And a Lumb...</td>\n",
       "      <td>5</td>\n",
       "      <td>2.99</td>\n",
       "      <td>117</td>\n",
       "      <td>26.99</td>\n",
       "      <td>G</td>\n",
       "      <td>Commentaries,Behind the Scenes</td>\n",
       "    </tr>\n",
       "    <tr>\n",
       "      <th>4</th>\n",
       "      <td>5</td>\n",
       "      <td>AFRICAN EGG</td>\n",
       "      <td>A Fast-Paced Documentary of a Pastry Chef And ...</td>\n",
       "      <td>6</td>\n",
       "      <td>2.99</td>\n",
       "      <td>130</td>\n",
       "      <td>22.99</td>\n",
       "      <td>G</td>\n",
       "      <td>Deleted Scenes</td>\n",
       "    </tr>\n",
       "  </tbody>\n",
       "</table>\n",
       "</div>"
      ],
      "text/plain": [
       "   film_id             title  \\\n",
       "0        1  ACADEMY DINOSAUR   \n",
       "1        2    ACE GOLDFINGER   \n",
       "2        3  ADAPTATION HOLES   \n",
       "3        4  AFFAIR PREJUDICE   \n",
       "4        5       AFRICAN EGG   \n",
       "\n",
       "                                         description  rental_duration  \\\n",
       "0  A Epic Drama of a Feminist And a Mad Scientist...                6   \n",
       "1  A Astounding Epistle of a Database Administrat...                3   \n",
       "2  A Astounding Reflection of a Lumberjack And a ...                7   \n",
       "3  A Fanciful Documentary of a Frisbee And a Lumb...                5   \n",
       "4  A Fast-Paced Documentary of a Pastry Chef And ...                6   \n",
       "\n",
       "   rental_rate  length  replacement_cost rating  \\\n",
       "0         0.99      86             20.99     PG   \n",
       "1         4.99      48             12.99      G   \n",
       "2         2.99      50             18.99  NC-17   \n",
       "3         2.99     117             26.99      G   \n",
       "4         2.99     130             22.99      G   \n",
       "\n",
       "                   special_features  \n",
       "0  Deleted Scenes,Behind the Scenes  \n",
       "1           Trailers,Deleted Scenes  \n",
       "2           Trailers,Deleted Scenes  \n",
       "3    Commentaries,Behind the Scenes  \n",
       "4                    Deleted Scenes  "
      ]
     },
     "execution_count": 66,
     "metadata": {},
     "output_type": "execute_result"
    }
   ],
   "source": [
    "df_film.head()"
   ]
  },
  {
   "cell_type": "markdown",
   "id": "705f0310",
   "metadata": {},
   "source": [
    "Al ver el cabecero de la tabla, observo que en la columna de \"special_features\" las frases separadas por una \",\" no cuentan con el espacio que debe haber. Así, lo modifico:"
   ]
  },
  {
   "cell_type": "code",
   "execution_count": 67,
   "id": "e2350dca",
   "metadata": {},
   "outputs": [],
   "source": [
    "df_film[\"special_features\"] = df_film[\"special_features\"].str.replace(',', ', ')"
   ]
  },
  {
   "cell_type": "markdown",
   "id": "75dd3534",
   "metadata": {},
   "source": [
    "Voy, para concluir con esta tabla, reorganizar también el orden en el que están dispuestas las columnas:"
   ]
  },
  {
   "cell_type": "code",
   "execution_count": 68,
   "id": "e60df66e",
   "metadata": {},
   "outputs": [],
   "source": [
    "nuevo_orden = ['film_id', \"title\", \"description\", \"special_features\", \"rating\", \"length\", \"rental_duration\", \"rental_rate\", \"replacement_cost\"]"
   ]
  },
  {
   "cell_type": "code",
   "execution_count": 69,
   "id": "65ad39c2",
   "metadata": {},
   "outputs": [],
   "source": [
    "df_film = df_film.reindex(columns=nuevo_orden)"
   ]
  },
  {
   "cell_type": "code",
   "execution_count": 70,
   "id": "bc3cfd07",
   "metadata": {},
   "outputs": [
    {
     "data": {
      "text/plain": [
       "Series([], dtype: int64)"
      ]
     },
     "execution_count": 70,
     "metadata": {},
     "output_type": "execute_result"
    }
   ],
   "source": [
    "# Columnas que contienen valores nulos y la cantidad de estos en cada una de ellas:\n",
    "\n",
    "nan_cols_film = df_film.isna().sum() #De nuevo, ninguna.\n",
    "nan_cols_film[nan_cols_film>0]"
   ]
  },
  {
   "cell_type": "code",
   "execution_count": 71,
   "id": "8bf269ea",
   "metadata": {},
   "outputs": [
    {
     "data": {
      "text/plain": [
       "(1000, 9)"
      ]
     },
     "execution_count": 71,
     "metadata": {},
     "output_type": "execute_result"
    }
   ],
   "source": [
    "df_film.shape"
   ]
  },
  {
   "cell_type": "code",
   "execution_count": 72,
   "id": "41a90306",
   "metadata": {},
   "outputs": [
    {
     "data": {
      "text/plain": [
       "False"
      ]
     },
     "execution_count": 72,
     "metadata": {},
     "output_type": "execute_result"
    }
   ],
   "source": [
    "df_film.duplicated().any() #Compruebo duplicados."
   ]
  },
  {
   "cell_type": "code",
   "execution_count": 73,
   "id": "84102a3f",
   "metadata": {},
   "outputs": [
    {
     "data": {
      "text/html": [
       "<div>\n",
       "<style scoped>\n",
       "    .dataframe tbody tr th:only-of-type {\n",
       "        vertical-align: middle;\n",
       "    }\n",
       "\n",
       "    .dataframe tbody tr th {\n",
       "        vertical-align: top;\n",
       "    }\n",
       "\n",
       "    .dataframe thead th {\n",
       "        text-align: right;\n",
       "    }\n",
       "</style>\n",
       "<table border=\"1\" class=\"dataframe\">\n",
       "  <thead>\n",
       "    <tr style=\"text-align: right;\">\n",
       "      <th></th>\n",
       "      <th>film_id</th>\n",
       "      <th>title</th>\n",
       "      <th>description</th>\n",
       "      <th>special_features</th>\n",
       "      <th>rating</th>\n",
       "      <th>length</th>\n",
       "      <th>rental_duration</th>\n",
       "      <th>rental_rate</th>\n",
       "      <th>replacement_cost</th>\n",
       "    </tr>\n",
       "  </thead>\n",
       "  <tbody>\n",
       "    <tr>\n",
       "      <th>0</th>\n",
       "      <td>1</td>\n",
       "      <td>ACADEMY DINOSAUR</td>\n",
       "      <td>A Epic Drama of a Feminist And a Mad Scientist...</td>\n",
       "      <td>Deleted Scenes, Behind the Scenes</td>\n",
       "      <td>PG</td>\n",
       "      <td>86</td>\n",
       "      <td>6</td>\n",
       "      <td>0.99</td>\n",
       "      <td>20.99</td>\n",
       "    </tr>\n",
       "    <tr>\n",
       "      <th>1</th>\n",
       "      <td>2</td>\n",
       "      <td>ACE GOLDFINGER</td>\n",
       "      <td>A Astounding Epistle of a Database Administrat...</td>\n",
       "      <td>Trailers, Deleted Scenes</td>\n",
       "      <td>G</td>\n",
       "      <td>48</td>\n",
       "      <td>3</td>\n",
       "      <td>4.99</td>\n",
       "      <td>12.99</td>\n",
       "    </tr>\n",
       "    <tr>\n",
       "      <th>2</th>\n",
       "      <td>3</td>\n",
       "      <td>ADAPTATION HOLES</td>\n",
       "      <td>A Astounding Reflection of a Lumberjack And a ...</td>\n",
       "      <td>Trailers, Deleted Scenes</td>\n",
       "      <td>NC-17</td>\n",
       "      <td>50</td>\n",
       "      <td>7</td>\n",
       "      <td>2.99</td>\n",
       "      <td>18.99</td>\n",
       "    </tr>\n",
       "    <tr>\n",
       "      <th>3</th>\n",
       "      <td>4</td>\n",
       "      <td>AFFAIR PREJUDICE</td>\n",
       "      <td>A Fanciful Documentary of a Frisbee And a Lumb...</td>\n",
       "      <td>Commentaries, Behind the Scenes</td>\n",
       "      <td>G</td>\n",
       "      <td>117</td>\n",
       "      <td>5</td>\n",
       "      <td>2.99</td>\n",
       "      <td>26.99</td>\n",
       "    </tr>\n",
       "    <tr>\n",
       "      <th>4</th>\n",
       "      <td>5</td>\n",
       "      <td>AFRICAN EGG</td>\n",
       "      <td>A Fast-Paced Documentary of a Pastry Chef And ...</td>\n",
       "      <td>Deleted Scenes</td>\n",
       "      <td>G</td>\n",
       "      <td>130</td>\n",
       "      <td>6</td>\n",
       "      <td>2.99</td>\n",
       "      <td>22.99</td>\n",
       "    </tr>\n",
       "  </tbody>\n",
       "</table>\n",
       "</div>"
      ],
      "text/plain": [
       "   film_id             title  \\\n",
       "0        1  ACADEMY DINOSAUR   \n",
       "1        2    ACE GOLDFINGER   \n",
       "2        3  ADAPTATION HOLES   \n",
       "3        4  AFFAIR PREJUDICE   \n",
       "4        5       AFRICAN EGG   \n",
       "\n",
       "                                         description  \\\n",
       "0  A Epic Drama of a Feminist And a Mad Scientist...   \n",
       "1  A Astounding Epistle of a Database Administrat...   \n",
       "2  A Astounding Reflection of a Lumberjack And a ...   \n",
       "3  A Fanciful Documentary of a Frisbee And a Lumb...   \n",
       "4  A Fast-Paced Documentary of a Pastry Chef And ...   \n",
       "\n",
       "                    special_features rating  length  rental_duration  \\\n",
       "0  Deleted Scenes, Behind the Scenes     PG      86                6   \n",
       "1           Trailers, Deleted Scenes      G      48                3   \n",
       "2           Trailers, Deleted Scenes  NC-17      50                7   \n",
       "3    Commentaries, Behind the Scenes      G     117                5   \n",
       "4                     Deleted Scenes      G     130                6   \n",
       "\n",
       "   rental_rate  replacement_cost  \n",
       "0         0.99             20.99  \n",
       "1         4.99             12.99  \n",
       "2         2.99             18.99  \n",
       "3         2.99             26.99  \n",
       "4         2.99             22.99  "
      ]
     },
     "execution_count": 73,
     "metadata": {},
     "output_type": "execute_result"
    }
   ],
   "source": [
    "df_film.head()"
   ]
  },
  {
   "cell_type": "markdown",
   "id": "01b796e6",
   "metadata": {},
   "source": [
    "# 4. DataFrame Inventory."
   ]
  },
  {
   "cell_type": "code",
   "execution_count": 76,
   "id": "e154ccb9",
   "metadata": {},
   "outputs": [],
   "source": [
    "df_original_inventory = pd.read_csv('data/inventory.csv', encoding='latin1')\n",
    "df_inventory = df_original_inventory.copy()"
   ]
  },
  {
   "cell_type": "code",
   "execution_count": 77,
   "id": "91a72e7d",
   "metadata": {},
   "outputs": [
    {
     "data": {
      "text/plain": [
       "(1000, 4)"
      ]
     },
     "execution_count": 77,
     "metadata": {},
     "output_type": "execute_result"
    }
   ],
   "source": [
    "dim_original_inventory = df_inventory.shape # De esta forma guardo las dimensiones del data frame original.\n",
    "df_inventory.shape"
   ]
  },
  {
   "cell_type": "code",
   "execution_count": 78,
   "id": "9790699d",
   "metadata": {},
   "outputs": [
    {
     "data": {
      "text/html": [
       "<div>\n",
       "<style scoped>\n",
       "    .dataframe tbody tr th:only-of-type {\n",
       "        vertical-align: middle;\n",
       "    }\n",
       "\n",
       "    .dataframe tbody tr th {\n",
       "        vertical-align: top;\n",
       "    }\n",
       "\n",
       "    .dataframe thead th {\n",
       "        text-align: right;\n",
       "    }\n",
       "</style>\n",
       "<table border=\"1\" class=\"dataframe\">\n",
       "  <thead>\n",
       "    <tr style=\"text-align: right;\">\n",
       "      <th></th>\n",
       "      <th>inventory_id</th>\n",
       "      <th>film_id</th>\n",
       "      <th>store_id</th>\n",
       "      <th>last_update</th>\n",
       "    </tr>\n",
       "  </thead>\n",
       "  <tbody>\n",
       "    <tr>\n",
       "      <th>0</th>\n",
       "      <td>1</td>\n",
       "      <td>1</td>\n",
       "      <td>1</td>\n",
       "      <td>2006-02-15 05:09:17</td>\n",
       "    </tr>\n",
       "    <tr>\n",
       "      <th>1</th>\n",
       "      <td>2</td>\n",
       "      <td>1</td>\n",
       "      <td>1</td>\n",
       "      <td>2006-02-15 05:09:17</td>\n",
       "    </tr>\n",
       "    <tr>\n",
       "      <th>2</th>\n",
       "      <td>3</td>\n",
       "      <td>1</td>\n",
       "      <td>1</td>\n",
       "      <td>2006-02-15 05:09:17</td>\n",
       "    </tr>\n",
       "    <tr>\n",
       "      <th>3</th>\n",
       "      <td>4</td>\n",
       "      <td>1</td>\n",
       "      <td>1</td>\n",
       "      <td>2006-02-15 05:09:17</td>\n",
       "    </tr>\n",
       "    <tr>\n",
       "      <th>4</th>\n",
       "      <td>5</td>\n",
       "      <td>1</td>\n",
       "      <td>2</td>\n",
       "      <td>2006-02-15 05:09:17</td>\n",
       "    </tr>\n",
       "  </tbody>\n",
       "</table>\n",
       "</div>"
      ],
      "text/plain": [
       "   inventory_id  film_id  store_id          last_update\n",
       "0             1        1         1  2006-02-15 05:09:17\n",
       "1             2        1         1  2006-02-15 05:09:17\n",
       "2             3        1         1  2006-02-15 05:09:17\n",
       "3             4        1         1  2006-02-15 05:09:17\n",
       "4             5        1         2  2006-02-15 05:09:17"
      ]
     },
     "execution_count": 78,
     "metadata": {},
     "output_type": "execute_result"
    }
   ],
   "source": [
    "df_inventory.head()"
   ]
  },
  {
   "cell_type": "code",
   "execution_count": 79,
   "id": "439e8cdf",
   "metadata": {},
   "outputs": [
    {
     "name": "stdout",
     "output_type": "stream",
     "text": [
      "<class 'pandas.core.frame.DataFrame'>\n",
      "RangeIndex: 1000 entries, 0 to 999\n",
      "Data columns (total 4 columns):\n",
      " #   Column        Non-Null Count  Dtype \n",
      "---  ------        --------------  ----- \n",
      " 0   inventory_id  1000 non-null   int64 \n",
      " 1   film_id       1000 non-null   int64 \n",
      " 2   store_id      1000 non-null   int64 \n",
      " 3   last_update   1000 non-null   object\n",
      "dtypes: int64(3), object(1)\n",
      "memory usage: 31.4+ KB\n"
     ]
    }
   ],
   "source": [
    "df_inventory.info()"
   ]
  },
  {
   "cell_type": "code",
   "execution_count": 80,
   "id": "71b1de8e",
   "metadata": {},
   "outputs": [
    {
     "data": {
      "text/plain": [
       "array(['2006-02-15 05:09:17'], dtype=object)"
      ]
     },
     "execution_count": 80,
     "metadata": {},
     "output_type": "execute_result"
    }
   ],
   "source": [
    "df_inventory.last_update.unique() # De nuevo, el valor de esta columna está repetido a lo largo de todas ella. Lo eliminamos."
   ]
  },
  {
   "cell_type": "code",
   "execution_count": 81,
   "id": "42dca538",
   "metadata": {},
   "outputs": [],
   "source": [
    "df_inventory.drop(columns=[\"last_update\"], inplace=True)"
   ]
  },
  {
   "cell_type": "code",
   "execution_count": 82,
   "id": "b92f6c2d",
   "metadata": {},
   "outputs": [],
   "source": [
    "#df_inventory.inventory_id.unique()"
   ]
  },
  {
   "cell_type": "code",
   "execution_count": 83,
   "id": "af6e785e",
   "metadata": {},
   "outputs": [],
   "source": [
    "#df_inventory.film_id.unique()"
   ]
  },
  {
   "cell_type": "code",
   "execution_count": 84,
   "id": "a41683df",
   "metadata": {},
   "outputs": [
    {
     "data": {
      "text/plain": [
       "array([1, 2])"
      ]
     },
     "execution_count": 84,
     "metadata": {},
     "output_type": "execute_result"
    }
   ],
   "source": [
    "df_inventory.store_id.unique()"
   ]
  },
  {
   "cell_type": "markdown",
   "id": "3811dfeb",
   "metadata": {},
   "source": [
    "La columna recién mencionada, \"store_id\" no guarda ninguna relación con el resto de las tablas. Sin embargo, puede contener información relevante acerca de que ubicación tenía un mayor rendimiento o mayores gananciales, de cara a la localización de la nueva tienda. Es decir, si, por ejemplo, deseamos evaluar cuál de las dos tiendas tenía un mejor rendimiento de cara su reapertura, es valioso mantenerla en la base de datos."
   ]
  },
  {
   "cell_type": "code",
   "execution_count": 85,
   "id": "28afcece",
   "metadata": {},
   "outputs": [
    {
     "data": {
      "text/plain": [
       "Series([], dtype: int64)"
      ]
     },
     "execution_count": 85,
     "metadata": {},
     "output_type": "execute_result"
    }
   ],
   "source": [
    "nan_cols_inventory = df_inventory.isna().sum() # Observamos si la columnas tienen valores nulos\n",
    "nan_cols_inventory[nan_cols_inventory>0]"
   ]
  },
  {
   "cell_type": "code",
   "execution_count": 86,
   "id": "fb2d6422",
   "metadata": {},
   "outputs": [
    {
     "data": {
      "text/plain": [
       "False"
      ]
     },
     "execution_count": 86,
     "metadata": {},
     "output_type": "execute_result"
    }
   ],
   "source": [
    "df_inventory.duplicated().any() #Compruebo duplicados."
   ]
  },
  {
   "cell_type": "code",
   "execution_count": 87,
   "id": "74651eec",
   "metadata": {},
   "outputs": [
    {
     "data": {
      "text/html": [
       "<div>\n",
       "<style scoped>\n",
       "    .dataframe tbody tr th:only-of-type {\n",
       "        vertical-align: middle;\n",
       "    }\n",
       "\n",
       "    .dataframe tbody tr th {\n",
       "        vertical-align: top;\n",
       "    }\n",
       "\n",
       "    .dataframe thead th {\n",
       "        text-align: right;\n",
       "    }\n",
       "</style>\n",
       "<table border=\"1\" class=\"dataframe\">\n",
       "  <thead>\n",
       "    <tr style=\"text-align: right;\">\n",
       "      <th></th>\n",
       "      <th>inventory_id</th>\n",
       "      <th>film_id</th>\n",
       "      <th>store_id</th>\n",
       "    </tr>\n",
       "  </thead>\n",
       "  <tbody>\n",
       "    <tr>\n",
       "      <th>0</th>\n",
       "      <td>1</td>\n",
       "      <td>1</td>\n",
       "      <td>1</td>\n",
       "    </tr>\n",
       "    <tr>\n",
       "      <th>1</th>\n",
       "      <td>2</td>\n",
       "      <td>1</td>\n",
       "      <td>1</td>\n",
       "    </tr>\n",
       "    <tr>\n",
       "      <th>2</th>\n",
       "      <td>3</td>\n",
       "      <td>1</td>\n",
       "      <td>1</td>\n",
       "    </tr>\n",
       "    <tr>\n",
       "      <th>3</th>\n",
       "      <td>4</td>\n",
       "      <td>1</td>\n",
       "      <td>1</td>\n",
       "    </tr>\n",
       "    <tr>\n",
       "      <th>4</th>\n",
       "      <td>5</td>\n",
       "      <td>1</td>\n",
       "      <td>2</td>\n",
       "    </tr>\n",
       "  </tbody>\n",
       "</table>\n",
       "</div>"
      ],
      "text/plain": [
       "   inventory_id  film_id  store_id\n",
       "0             1        1         1\n",
       "1             2        1         1\n",
       "2             3        1         1\n",
       "3             4        1         1\n",
       "4             5        1         2"
      ]
     },
     "execution_count": 87,
     "metadata": {},
     "output_type": "execute_result"
    }
   ],
   "source": [
    "df_inventory.head()"
   ]
  },
  {
   "cell_type": "markdown",
   "id": "5f90c23c",
   "metadata": {},
   "source": [
    "# 5. DataFrame Language."
   ]
  },
  {
   "cell_type": "code",
   "execution_count": 88,
   "id": "b264970d",
   "metadata": {},
   "outputs": [],
   "source": [
    "df_original_language = pd.read_csv('data/language.csv', encoding='latin1')\n",
    "df_language = df_original_language.copy()"
   ]
  },
  {
   "cell_type": "code",
   "execution_count": 89,
   "id": "fcc21013",
   "metadata": {},
   "outputs": [
    {
     "data": {
      "text/plain": [
       "(6, 3)"
      ]
     },
     "execution_count": 89,
     "metadata": {},
     "output_type": "execute_result"
    }
   ],
   "source": [
    "dim_original_language = df_language.shape # Guardamos las dimensiones del data frame original.\n",
    "df_language.shape"
   ]
  },
  {
   "cell_type": "code",
   "execution_count": 90,
   "id": "ae6d8e62",
   "metadata": {},
   "outputs": [
    {
     "data": {
      "text/html": [
       "<div>\n",
       "<style scoped>\n",
       "    .dataframe tbody tr th:only-of-type {\n",
       "        vertical-align: middle;\n",
       "    }\n",
       "\n",
       "    .dataframe tbody tr th {\n",
       "        vertical-align: top;\n",
       "    }\n",
       "\n",
       "    .dataframe thead th {\n",
       "        text-align: right;\n",
       "    }\n",
       "</style>\n",
       "<table border=\"1\" class=\"dataframe\">\n",
       "  <thead>\n",
       "    <tr style=\"text-align: right;\">\n",
       "      <th></th>\n",
       "      <th>language_id</th>\n",
       "      <th>name</th>\n",
       "      <th>last_update</th>\n",
       "    </tr>\n",
       "  </thead>\n",
       "  <tbody>\n",
       "    <tr>\n",
       "      <th>0</th>\n",
       "      <td>1</td>\n",
       "      <td>English</td>\n",
       "      <td>2006-02-15 05:02:19</td>\n",
       "    </tr>\n",
       "    <tr>\n",
       "      <th>1</th>\n",
       "      <td>2</td>\n",
       "      <td>Italian</td>\n",
       "      <td>2006-02-15 05:02:19</td>\n",
       "    </tr>\n",
       "    <tr>\n",
       "      <th>2</th>\n",
       "      <td>3</td>\n",
       "      <td>Japanese</td>\n",
       "      <td>2006-02-15 05:02:19</td>\n",
       "    </tr>\n",
       "    <tr>\n",
       "      <th>3</th>\n",
       "      <td>4</td>\n",
       "      <td>Mandarin</td>\n",
       "      <td>2006-02-15 05:02:19</td>\n",
       "    </tr>\n",
       "    <tr>\n",
       "      <th>4</th>\n",
       "      <td>5</td>\n",
       "      <td>French</td>\n",
       "      <td>2006-02-15 05:02:19</td>\n",
       "    </tr>\n",
       "    <tr>\n",
       "      <th>5</th>\n",
       "      <td>6</td>\n",
       "      <td>German</td>\n",
       "      <td>2006-02-15 05:02:19</td>\n",
       "    </tr>\n",
       "  </tbody>\n",
       "</table>\n",
       "</div>"
      ],
      "text/plain": [
       "   language_id      name          last_update\n",
       "0            1   English  2006-02-15 05:02:19\n",
       "1            2   Italian  2006-02-15 05:02:19\n",
       "2            3  Japanese  2006-02-15 05:02:19\n",
       "3            4  Mandarin  2006-02-15 05:02:19\n",
       "4            5    French  2006-02-15 05:02:19\n",
       "5            6    German  2006-02-15 05:02:19"
      ]
     },
     "execution_count": 90,
     "metadata": {},
     "output_type": "execute_result"
    }
   ],
   "source": [
    "df_language.head(7)"
   ]
  },
  {
   "cell_type": "code",
   "execution_count": 91,
   "id": "ea4df3de",
   "metadata": {},
   "outputs": [
    {
     "name": "stdout",
     "output_type": "stream",
     "text": [
      "<class 'pandas.core.frame.DataFrame'>\n",
      "RangeIndex: 6 entries, 0 to 5\n",
      "Data columns (total 3 columns):\n",
      " #   Column       Non-Null Count  Dtype \n",
      "---  ------       --------------  ----- \n",
      " 0   language_id  6 non-null      int64 \n",
      " 1   name         6 non-null      object\n",
      " 2   last_update  6 non-null      object\n",
      "dtypes: int64(1), object(2)\n",
      "memory usage: 276.0+ bytes\n"
     ]
    }
   ],
   "source": [
    "df_language.info()"
   ]
  },
  {
   "cell_type": "markdown",
   "id": "821d0fc0",
   "metadata": {},
   "source": [
    "Nos deshacemos, por el mismo motivo que hasta ahora, de la columna otra vez más, nos deshacemos de la columna \"last_update\":"
   ]
  },
  {
   "cell_type": "code",
   "execution_count": 92,
   "id": "8dae8ed0",
   "metadata": {},
   "outputs": [
    {
     "data": {
      "text/plain": [
       "array(['2006-02-15 05:02:19'], dtype=object)"
      ]
     },
     "execution_count": 92,
     "metadata": {},
     "output_type": "execute_result"
    }
   ],
   "source": [
    "df_language.last_update.unique()"
   ]
  },
  {
   "cell_type": "code",
   "execution_count": 93,
   "id": "e244edc1",
   "metadata": {},
   "outputs": [],
   "source": [
    "df_language.drop(columns=[\"last_update\"], inplace=True)"
   ]
  },
  {
   "cell_type": "code",
   "execution_count": 94,
   "id": "9e18d27d",
   "metadata": {},
   "outputs": [
    {
     "data": {
      "text/plain": [
       "array([1, 2, 3, 4, 5, 6])"
      ]
     },
     "execution_count": 94,
     "metadata": {},
     "output_type": "execute_result"
    }
   ],
   "source": [
    "df_language.language_id.unique() #Esta información nos hace ver, al observar los "
   ]
  },
  {
   "cell_type": "markdown",
   "id": "3c446349",
   "metadata": {},
   "source": [
    "En el DataFrame \"df_film\", hemos eliminado una columna que indicaba el idioma de cada película. Esto se debió a que el valor en esa columna era idéntico en todas las filas, lo que sugiere que todas las películas en la base de datos están en el mismo idioma, en este caso, en inglés.\n",
    "\n",
    "Esta observación plantea la pregunta de si es necesario mantener una tabla para almacenar información de idioma cuando todas las películas tienen el mismo. \n",
    "\n",
    "Sin embargo, he decidido conservar esta tabla en caso de que en el futuro se agreguen películas en otros idiomas. Puede resultar útil para catalogar y gestionar películas en diferentes idiomas si surge esa necesidad."
   ]
  },
  {
   "cell_type": "code",
   "execution_count": 95,
   "id": "07f54146",
   "metadata": {},
   "outputs": [
    {
     "data": {
      "text/plain": [
       "array(['English', 'Italian', 'Japanese', 'Mandarin', 'French', 'German'],\n",
       "      dtype=object)"
      ]
     },
     "execution_count": 95,
     "metadata": {},
     "output_type": "execute_result"
    }
   ],
   "source": [
    "df_language.name.unique()"
   ]
  },
  {
   "cell_type": "markdown",
   "id": "5c83fb60",
   "metadata": {},
   "source": [
    "Al igual que en \"df_actor\" o \"df_category\", considero que sería una buena práctica cambiar el nombre de la columna \"name\" por motivo de que en caso de ser igual, podría causar confusión cuando manejemos todas las tablas en conjunto."
   ]
  },
  {
   "cell_type": "code",
   "execution_count": 96,
   "id": "66d8b0d7",
   "metadata": {},
   "outputs": [],
   "source": [
    "df_language.rename(columns={\"name\": \"language_name\"}, inplace=True)"
   ]
  },
  {
   "cell_type": "code",
   "execution_count": 97,
   "id": "94ed0307",
   "metadata": {},
   "outputs": [
    {
     "data": {
      "text/plain": [
       "False"
      ]
     },
     "execution_count": 97,
     "metadata": {},
     "output_type": "execute_result"
    }
   ],
   "source": [
    "df_language.duplicated().any() #Comprobamos duplicados."
   ]
  },
  {
   "cell_type": "code",
   "execution_count": 98,
   "id": "36632958",
   "metadata": {},
   "outputs": [
    {
     "data": {
      "text/html": [
       "<div>\n",
       "<style scoped>\n",
       "    .dataframe tbody tr th:only-of-type {\n",
       "        vertical-align: middle;\n",
       "    }\n",
       "\n",
       "    .dataframe tbody tr th {\n",
       "        vertical-align: top;\n",
       "    }\n",
       "\n",
       "    .dataframe thead th {\n",
       "        text-align: right;\n",
       "    }\n",
       "</style>\n",
       "<table border=\"1\" class=\"dataframe\">\n",
       "  <thead>\n",
       "    <tr style=\"text-align: right;\">\n",
       "      <th></th>\n",
       "      <th>language_id</th>\n",
       "      <th>language_name</th>\n",
       "    </tr>\n",
       "  </thead>\n",
       "  <tbody>\n",
       "    <tr>\n",
       "      <th>0</th>\n",
       "      <td>1</td>\n",
       "      <td>English</td>\n",
       "    </tr>\n",
       "    <tr>\n",
       "      <th>1</th>\n",
       "      <td>2</td>\n",
       "      <td>Italian</td>\n",
       "    </tr>\n",
       "    <tr>\n",
       "      <th>2</th>\n",
       "      <td>3</td>\n",
       "      <td>Japanese</td>\n",
       "    </tr>\n",
       "    <tr>\n",
       "      <th>3</th>\n",
       "      <td>4</td>\n",
       "      <td>Mandarin</td>\n",
       "    </tr>\n",
       "    <tr>\n",
       "      <th>4</th>\n",
       "      <td>5</td>\n",
       "      <td>French</td>\n",
       "    </tr>\n",
       "  </tbody>\n",
       "</table>\n",
       "</div>"
      ],
      "text/plain": [
       "   language_id language_name\n",
       "0            1       English\n",
       "1            2       Italian\n",
       "2            3      Japanese\n",
       "3            4      Mandarin\n",
       "4            5        French"
      ]
     },
     "execution_count": 98,
     "metadata": {},
     "output_type": "execute_result"
    }
   ],
   "source": [
    "df_language.head()"
   ]
  },
  {
   "cell_type": "markdown",
   "id": "f9c53841",
   "metadata": {},
   "source": [
    "# 6. DataFrame old_HDD."
   ]
  },
  {
   "cell_type": "code",
   "execution_count": 100,
   "id": "5634d10c",
   "metadata": {},
   "outputs": [],
   "source": [
    "df_original_old_hdd = pd.read_csv('data/old_HDD.csv', encoding='latin1')\n",
    "df_old_hdd = df_original_old_hdd.copy()"
   ]
  },
  {
   "cell_type": "code",
   "execution_count": 101,
   "id": "4f7b5b4c",
   "metadata": {},
   "outputs": [
    {
     "data": {
      "text/plain": [
       "(1000, 5)"
      ]
     },
     "execution_count": 101,
     "metadata": {},
     "output_type": "execute_result"
    }
   ],
   "source": [
    "dim_original_old_hdd = df_old_hdd.shape\n",
    "df_old_hdd.shape"
   ]
  },
  {
   "cell_type": "code",
   "execution_count": 102,
   "id": "0b566812",
   "metadata": {},
   "outputs": [
    {
     "data": {
      "text/html": [
       "<div>\n",
       "<style scoped>\n",
       "    .dataframe tbody tr th:only-of-type {\n",
       "        vertical-align: middle;\n",
       "    }\n",
       "\n",
       "    .dataframe tbody tr th {\n",
       "        vertical-align: top;\n",
       "    }\n",
       "\n",
       "    .dataframe thead th {\n",
       "        text-align: right;\n",
       "    }\n",
       "</style>\n",
       "<table border=\"1\" class=\"dataframe\">\n",
       "  <thead>\n",
       "    <tr style=\"text-align: right;\">\n",
       "      <th></th>\n",
       "      <th>first_name</th>\n",
       "      <th>last_name</th>\n",
       "      <th>title</th>\n",
       "      <th>release_year</th>\n",
       "      <th>category_id</th>\n",
       "    </tr>\n",
       "  </thead>\n",
       "  <tbody>\n",
       "    <tr>\n",
       "      <th>0</th>\n",
       "      <td>PENELOPE</td>\n",
       "      <td>GUINESS</td>\n",
       "      <td>ACADEMY DINOSAUR</td>\n",
       "      <td>2006</td>\n",
       "      <td>6</td>\n",
       "    </tr>\n",
       "    <tr>\n",
       "      <th>1</th>\n",
       "      <td>PENELOPE</td>\n",
       "      <td>GUINESS</td>\n",
       "      <td>ANACONDA CONFESSIONS</td>\n",
       "      <td>2006</td>\n",
       "      <td>2</td>\n",
       "    </tr>\n",
       "    <tr>\n",
       "      <th>2</th>\n",
       "      <td>PENELOPE</td>\n",
       "      <td>GUINESS</td>\n",
       "      <td>ANGELS LIFE</td>\n",
       "      <td>2006</td>\n",
       "      <td>13</td>\n",
       "    </tr>\n",
       "    <tr>\n",
       "      <th>3</th>\n",
       "      <td>PENELOPE</td>\n",
       "      <td>GUINESS</td>\n",
       "      <td>BULWORTH COMMANDMENTS</td>\n",
       "      <td>2006</td>\n",
       "      <td>10</td>\n",
       "    </tr>\n",
       "    <tr>\n",
       "      <th>4</th>\n",
       "      <td>PENELOPE</td>\n",
       "      <td>GUINESS</td>\n",
       "      <td>CHEAPER CLYDE</td>\n",
       "      <td>2006</td>\n",
       "      <td>14</td>\n",
       "    </tr>\n",
       "  </tbody>\n",
       "</table>\n",
       "</div>"
      ],
      "text/plain": [
       "  first_name last_name                  title  release_year  category_id\n",
       "0   PENELOPE   GUINESS       ACADEMY DINOSAUR          2006            6\n",
       "1   PENELOPE   GUINESS   ANACONDA CONFESSIONS          2006            2\n",
       "2   PENELOPE   GUINESS            ANGELS LIFE          2006           13\n",
       "3   PENELOPE   GUINESS  BULWORTH COMMANDMENTS          2006           10\n",
       "4   PENELOPE   GUINESS          CHEAPER CLYDE          2006           14"
      ]
     },
     "execution_count": 102,
     "metadata": {},
     "output_type": "execute_result"
    }
   ],
   "source": [
    "df_old_hdd.head()"
   ]
  },
  {
   "cell_type": "code",
   "execution_count": 103,
   "id": "b9fb46c6",
   "metadata": {},
   "outputs": [
    {
     "name": "stdout",
     "output_type": "stream",
     "text": [
      "<class 'pandas.core.frame.DataFrame'>\n",
      "RangeIndex: 1000 entries, 0 to 999\n",
      "Data columns (total 5 columns):\n",
      " #   Column        Non-Null Count  Dtype \n",
      "---  ------        --------------  ----- \n",
      " 0   first_name    1000 non-null   object\n",
      " 1   last_name     1000 non-null   object\n",
      " 2   title         1000 non-null   object\n",
      " 3   release_year  1000 non-null   int64 \n",
      " 4   category_id   1000 non-null   int64 \n",
      "dtypes: int64(2), object(3)\n",
      "memory usage: 39.2+ KB\n"
     ]
    }
   ],
   "source": [
    "df_old_hdd.info()"
   ]
  },
  {
   "cell_type": "markdown",
   "id": "ba792a77",
   "metadata": {},
   "source": [
    "Determinamos si alguna de las columnas contiene valores constantes con el fin de eliminarlos, por motivo de que no aportan información relevante."
   ]
  },
  {
   "cell_type": "code",
   "execution_count": 104,
   "id": "cdc6ce01",
   "metadata": {},
   "outputs": [
    {
     "data": {
      "text/plain": [
       "['release_year']"
      ]
     },
     "execution_count": 104,
     "metadata": {},
     "output_type": "execute_result"
    }
   ],
   "source": [
    "cte_cols_old_hdd = []\n",
    "for c in df_old_hdd.select_dtypes(include=np.number):   # para cada columna numerica.....   \n",
    "    if len(df_old_hdd[c].unique()) == 1:    \n",
    "        cte_cols_old_hdd.append(c)\n",
    "cte_cols_old_hdd   "
   ]
  },
  {
   "cell_type": "markdown",
   "id": "376a8c46",
   "metadata": {},
   "source": [
    "Vemos que hay uno, lo eliminamos:"
   ]
  },
  {
   "cell_type": "code",
   "execution_count": 105,
   "id": "e4babec6",
   "metadata": {},
   "outputs": [],
   "source": [
    "df_old_hdd.drop(columns=[\"release_year\"], inplace=True)"
   ]
  },
  {
   "cell_type": "markdown",
   "id": "72b6954f",
   "metadata": {},
   "source": [
    "A continuación, igual que en la tabla \"df_actor\", combino de las columnas \"first_name\" y \"last_name\" en una sola columna llamada \"actor_name,\" que contendría el nombre completo de la persona.\n",
    "\n",
    "Luego, elimino las recién combinadas: \"first_name\" y \"last_name\"."
   ]
  },
  {
   "cell_type": "code",
   "execution_count": 106,
   "id": "0de210fb",
   "metadata": {},
   "outputs": [],
   "source": [
    "df_old_hdd[\"actor_name\"] = df_old_hdd[\"first_name\"] + ' ' + df_old_hdd[\"last_name\"]"
   ]
  },
  {
   "cell_type": "code",
   "execution_count": 107,
   "id": "6b00ca02",
   "metadata": {},
   "outputs": [
    {
     "data": {
      "text/html": [
       "<div>\n",
       "<style scoped>\n",
       "    .dataframe tbody tr th:only-of-type {\n",
       "        vertical-align: middle;\n",
       "    }\n",
       "\n",
       "    .dataframe tbody tr th {\n",
       "        vertical-align: top;\n",
       "    }\n",
       "\n",
       "    .dataframe thead th {\n",
       "        text-align: right;\n",
       "    }\n",
       "</style>\n",
       "<table border=\"1\" class=\"dataframe\">\n",
       "  <thead>\n",
       "    <tr style=\"text-align: right;\">\n",
       "      <th></th>\n",
       "      <th>first_name</th>\n",
       "      <th>last_name</th>\n",
       "      <th>title</th>\n",
       "      <th>category_id</th>\n",
       "      <th>actor_name</th>\n",
       "    </tr>\n",
       "  </thead>\n",
       "  <tbody>\n",
       "    <tr>\n",
       "      <th>0</th>\n",
       "      <td>PENELOPE</td>\n",
       "      <td>GUINESS</td>\n",
       "      <td>ACADEMY DINOSAUR</td>\n",
       "      <td>6</td>\n",
       "      <td>PENELOPE GUINESS</td>\n",
       "    </tr>\n",
       "    <tr>\n",
       "      <th>1</th>\n",
       "      <td>PENELOPE</td>\n",
       "      <td>GUINESS</td>\n",
       "      <td>ANACONDA CONFESSIONS</td>\n",
       "      <td>2</td>\n",
       "      <td>PENELOPE GUINESS</td>\n",
       "    </tr>\n",
       "    <tr>\n",
       "      <th>2</th>\n",
       "      <td>PENELOPE</td>\n",
       "      <td>GUINESS</td>\n",
       "      <td>ANGELS LIFE</td>\n",
       "      <td>13</td>\n",
       "      <td>PENELOPE GUINESS</td>\n",
       "    </tr>\n",
       "    <tr>\n",
       "      <th>3</th>\n",
       "      <td>PENELOPE</td>\n",
       "      <td>GUINESS</td>\n",
       "      <td>BULWORTH COMMANDMENTS</td>\n",
       "      <td>10</td>\n",
       "      <td>PENELOPE GUINESS</td>\n",
       "    </tr>\n",
       "    <tr>\n",
       "      <th>4</th>\n",
       "      <td>PENELOPE</td>\n",
       "      <td>GUINESS</td>\n",
       "      <td>CHEAPER CLYDE</td>\n",
       "      <td>14</td>\n",
       "      <td>PENELOPE GUINESS</td>\n",
       "    </tr>\n",
       "  </tbody>\n",
       "</table>\n",
       "</div>"
      ],
      "text/plain": [
       "  first_name last_name                  title  category_id        actor_name\n",
       "0   PENELOPE   GUINESS       ACADEMY DINOSAUR            6  PENELOPE GUINESS\n",
       "1   PENELOPE   GUINESS   ANACONDA CONFESSIONS            2  PENELOPE GUINESS\n",
       "2   PENELOPE   GUINESS            ANGELS LIFE           13  PENELOPE GUINESS\n",
       "3   PENELOPE   GUINESS  BULWORTH COMMANDMENTS           10  PENELOPE GUINESS\n",
       "4   PENELOPE   GUINESS          CHEAPER CLYDE           14  PENELOPE GUINESS"
      ]
     },
     "execution_count": 107,
     "metadata": {},
     "output_type": "execute_result"
    }
   ],
   "source": [
    "df_old_hdd.head()"
   ]
  },
  {
   "cell_type": "code",
   "execution_count": 108,
   "id": "91fc0b07",
   "metadata": {},
   "outputs": [],
   "source": [
    "df_old_hdd.drop(columns=[\"first_name\"], inplace=True)\n",
    "df_old_hdd.drop(columns=[\"last_name\"], inplace=True)"
   ]
  },
  {
   "cell_type": "markdown",
   "id": "7a8d4573",
   "metadata": {},
   "source": [
    "Después de un análisis, he llegado a la conclusión de que esta tabla contiene información valiosa en lo que respecta a los títulos de las películas y los nombres de los actores. Esta información podría servir como un vínculo entre las tablas \"df_actor\" y \"df_film\", algo que resulta de especial importancia.\n",
    "\n",
    "Para lograr esto, planeo unir esta tabla con las columnas de \"actor_id\" y de \"film_id\" mediante \"merge\". Al hacerlo, incorporaré los identificadores (IDs) de actores y películas a esta tabla, lo que permitirá futuras consultas y análisis que involucren a ambas tablas."
   ]
  },
  {
   "cell_type": "code",
   "execution_count": 109,
   "id": "e7c3debc",
   "metadata": {},
   "outputs": [],
   "source": [
    "df_old_hdd = df_old_hdd.merge(df_actor[[\"actor_name\", \"actor_id\"]], on=\"actor_name\", how=\"left\")\n",
    "df_old_hdd = df_old_hdd.merge(df_film[[\"title\", \"film_id\"]], on=\"title\", how=\"left\")"
   ]
  },
  {
   "cell_type": "code",
   "execution_count": 110,
   "id": "cf384838",
   "metadata": {},
   "outputs": [
    {
     "data": {
      "text/html": [
       "<div>\n",
       "<style scoped>\n",
       "    .dataframe tbody tr th:only-of-type {\n",
       "        vertical-align: middle;\n",
       "    }\n",
       "\n",
       "    .dataframe tbody tr th {\n",
       "        vertical-align: top;\n",
       "    }\n",
       "\n",
       "    .dataframe thead th {\n",
       "        text-align: right;\n",
       "    }\n",
       "</style>\n",
       "<table border=\"1\" class=\"dataframe\">\n",
       "  <thead>\n",
       "    <tr style=\"text-align: right;\">\n",
       "      <th></th>\n",
       "      <th>title</th>\n",
       "      <th>category_id</th>\n",
       "      <th>actor_name</th>\n",
       "      <th>actor_id</th>\n",
       "      <th>film_id</th>\n",
       "    </tr>\n",
       "  </thead>\n",
       "  <tbody>\n",
       "    <tr>\n",
       "      <th>0</th>\n",
       "      <td>ACADEMY DINOSAUR</td>\n",
       "      <td>6</td>\n",
       "      <td>PENELOPE GUINESS</td>\n",
       "      <td>1</td>\n",
       "      <td>1</td>\n",
       "    </tr>\n",
       "    <tr>\n",
       "      <th>1</th>\n",
       "      <td>ANACONDA CONFESSIONS</td>\n",
       "      <td>2</td>\n",
       "      <td>PENELOPE GUINESS</td>\n",
       "      <td>1</td>\n",
       "      <td>23</td>\n",
       "    </tr>\n",
       "    <tr>\n",
       "      <th>2</th>\n",
       "      <td>ANGELS LIFE</td>\n",
       "      <td>13</td>\n",
       "      <td>PENELOPE GUINESS</td>\n",
       "      <td>1</td>\n",
       "      <td>25</td>\n",
       "    </tr>\n",
       "    <tr>\n",
       "      <th>3</th>\n",
       "      <td>BULWORTH COMMANDMENTS</td>\n",
       "      <td>10</td>\n",
       "      <td>PENELOPE GUINESS</td>\n",
       "      <td>1</td>\n",
       "      <td>106</td>\n",
       "    </tr>\n",
       "    <tr>\n",
       "      <th>4</th>\n",
       "      <td>CHEAPER CLYDE</td>\n",
       "      <td>14</td>\n",
       "      <td>PENELOPE GUINESS</td>\n",
       "      <td>1</td>\n",
       "      <td>140</td>\n",
       "    </tr>\n",
       "  </tbody>\n",
       "</table>\n",
       "</div>"
      ],
      "text/plain": [
       "                   title  category_id        actor_name  actor_id  film_id\n",
       "0       ACADEMY DINOSAUR            6  PENELOPE GUINESS         1        1\n",
       "1   ANACONDA CONFESSIONS            2  PENELOPE GUINESS         1       23\n",
       "2            ANGELS LIFE           13  PENELOPE GUINESS         1       25\n",
       "3  BULWORTH COMMANDMENTS           10  PENELOPE GUINESS         1      106\n",
       "4          CHEAPER CLYDE           14  PENELOPE GUINESS         1      140"
      ]
     },
     "execution_count": 110,
     "metadata": {},
     "output_type": "execute_result"
    }
   ],
   "source": [
    "df_old_hdd.head()"
   ]
  },
  {
   "cell_type": "markdown",
   "id": "129b8601",
   "metadata": {},
   "source": [
    "En este punto, me planteo si tiene sentido mantener la tabla de categorías o si sería preferible juntarla con esta. Tras algo de investigación, llego a la conclusión de que tiene sentido mantener la conexión entre ellas a través de una clave externa (category_id), pues conlleva varias ventajas.\n",
    "\n",
    "En primer lugar, al establecer una relación, nos aseguramos que las películas se asignen correctamente a las categorías mediante la clave externa (category_id), lo cual evita la entrada de datos incorrectos o inconsistentes.\n",
    "Además, se evita la duplicación innecesaria de datos, lo que ahorra espacio de almacenamiento, especialmente si hay muchas películas en distintas categorías.\n",
    "Por último, facilita las actualizaciones de categorías, es decir, si resulta necesario hacer cambios o agregar nuevas categorías en un futuro, solo tendrá que hacerse en la tabla de categorías. Las películas relacionadas seguirán estando vinculadas a sus respectivas categorías sin necesidad de modificar la tabla de películas."
   ]
  },
  {
   "cell_type": "code",
   "execution_count": 111,
   "id": "828116eb",
   "metadata": {},
   "outputs": [
    {
     "data": {
      "text/plain": [
       "SANDRA KILMER          37\n",
       "VAL BOLGER             35\n",
       "UMA WOOD               35\n",
       "RIP CRAWFORD           33\n",
       "JULIA MCQUEEN          33\n",
       "HELEN VOIGHT           32\n",
       "KARL BERRY             31\n",
       "WOODY HOFFMAN          31\n",
       "VIVIEN BERGEN          30\n",
       "LUCILLE TRACY          30\n",
       "GRACE MOSTEL           30\n",
       "ALEC WAYNE             29\n",
       "JOHNNY LOLLOBRIGIDA    29\n",
       "BURT DUKAKIS           29\n",
       "CUBA OLIVIER           28\n",
       "KIRSTEN PALTROW        27\n",
       "FRED COSTNER           27\n",
       "ELVIS MARX             26\n",
       "TOM MCKELLEN           25\n",
       "AUDREY OLIVIER         25\n",
       "NICK WAHLBERG          25\n",
       "BOB FAWCETT            25\n",
       "ZERO CAGE              25\n",
       "JOE SWANK              25\n",
       "CAMERON STREEP         24\n",
       "MILLA PECK             24\n",
       "TIM HACKMAN            23\n",
       "CHRISTIAN GABLE        22\n",
       "JENNIFER DAVIS         22\n",
       "ED CHASE               22\n",
       "DAN TORN               22\n",
       "KEVIN BLOOM            21\n",
       "MATTHEW JOHANSSON      20\n",
       "BETTE NICHOLSON        20\n",
       "PENELOPE GUINESS       19\n",
       "SANDRA PECK            19\n",
       "SISSY SOBIESKI         18\n",
       "JUDY DEAN              15\n",
       "GOLDIE BRODY            7\n",
       "Name: actor_name, dtype: int64"
      ]
     },
     "execution_count": 111,
     "metadata": {},
     "output_type": "execute_result"
    }
   ],
   "source": [
    "df_old_hdd[\"actor_name\"].value_counts()"
   ]
  },
  {
   "cell_type": "code",
   "execution_count": 112,
   "id": "30792684",
   "metadata": {},
   "outputs": [
    {
     "data": {
      "text/plain": [
       "BOONDOCK BALLROOM     6\n",
       "FLASH WARS            5\n",
       "STRANGER STRANGERS    5\n",
       "OKLAHOMA JUMANJI      5\n",
       "CHITTY LOCK           5\n",
       "                     ..\n",
       "FLYING HOOK           1\n",
       "EGYPT TENENBAUMS      1\n",
       "BUTCH PANTHER         1\n",
       "TYCOON GATHERING      1\n",
       "EXORCIST STING        1\n",
       "Name: title, Length: 614, dtype: int64"
      ]
     },
     "execution_count": 112,
     "metadata": {},
     "output_type": "execute_result"
    }
   ],
   "source": [
    "df_old_hdd[\"title\"].value_counts()"
   ]
  },
  {
   "cell_type": "markdown",
   "id": "7130464f",
   "metadata": {},
   "source": [
    "Creo que sería apropiado reorganizar la disposición de las columnas:"
   ]
  },
  {
   "cell_type": "code",
   "execution_count": 113,
   "id": "3d2b6873",
   "metadata": {},
   "outputs": [],
   "source": [
    "nuevo_orden = [\"actor_id\", \"film_id\", \"actor_name\", \"title\", \"category_id\"]"
   ]
  },
  {
   "cell_type": "code",
   "execution_count": 114,
   "id": "86559819",
   "metadata": {},
   "outputs": [],
   "source": [
    "df_old_hdd = df_old_hdd.reindex(columns=nuevo_orden)"
   ]
  },
  {
   "cell_type": "code",
   "execution_count": 115,
   "id": "678da7d3",
   "metadata": {},
   "outputs": [
    {
     "data": {
      "text/plain": [
       "Series([], dtype: int64)"
      ]
     },
     "execution_count": 115,
     "metadata": {},
     "output_type": "execute_result"
    }
   ],
   "source": [
    "nan_cols_old_hdd = df_old_hdd.isna().sum() # Observamos si hay valores nulos en alguna de la columnas. \n",
    "nan_cols_old_hdd[nan_cols_old_hdd>0]"
   ]
  },
  {
   "cell_type": "code",
   "execution_count": 116,
   "id": "d7e7872b",
   "metadata": {},
   "outputs": [
    {
     "data": {
      "text/plain": [
       "False"
      ]
     },
     "execution_count": 116,
     "metadata": {},
     "output_type": "execute_result"
    }
   ],
   "source": [
    "#Comprobamos duplicados:\n",
    "\n",
    "df_old_hdd.duplicated().any()"
   ]
  },
  {
   "cell_type": "code",
   "execution_count": 117,
   "id": "0e35bf23",
   "metadata": {},
   "outputs": [
    {
     "data": {
      "text/html": [
       "<div>\n",
       "<style scoped>\n",
       "    .dataframe tbody tr th:only-of-type {\n",
       "        vertical-align: middle;\n",
       "    }\n",
       "\n",
       "    .dataframe tbody tr th {\n",
       "        vertical-align: top;\n",
       "    }\n",
       "\n",
       "    .dataframe thead th {\n",
       "        text-align: right;\n",
       "    }\n",
       "</style>\n",
       "<table border=\"1\" class=\"dataframe\">\n",
       "  <thead>\n",
       "    <tr style=\"text-align: right;\">\n",
       "      <th></th>\n",
       "      <th>actor_id</th>\n",
       "      <th>film_id</th>\n",
       "      <th>actor_name</th>\n",
       "      <th>title</th>\n",
       "      <th>category_id</th>\n",
       "    </tr>\n",
       "  </thead>\n",
       "  <tbody>\n",
       "    <tr>\n",
       "      <th>0</th>\n",
       "      <td>1</td>\n",
       "      <td>1</td>\n",
       "      <td>PENELOPE GUINESS</td>\n",
       "      <td>ACADEMY DINOSAUR</td>\n",
       "      <td>6</td>\n",
       "    </tr>\n",
       "    <tr>\n",
       "      <th>1</th>\n",
       "      <td>1</td>\n",
       "      <td>23</td>\n",
       "      <td>PENELOPE GUINESS</td>\n",
       "      <td>ANACONDA CONFESSIONS</td>\n",
       "      <td>2</td>\n",
       "    </tr>\n",
       "    <tr>\n",
       "      <th>2</th>\n",
       "      <td>1</td>\n",
       "      <td>25</td>\n",
       "      <td>PENELOPE GUINESS</td>\n",
       "      <td>ANGELS LIFE</td>\n",
       "      <td>13</td>\n",
       "    </tr>\n",
       "    <tr>\n",
       "      <th>3</th>\n",
       "      <td>1</td>\n",
       "      <td>106</td>\n",
       "      <td>PENELOPE GUINESS</td>\n",
       "      <td>BULWORTH COMMANDMENTS</td>\n",
       "      <td>10</td>\n",
       "    </tr>\n",
       "    <tr>\n",
       "      <th>4</th>\n",
       "      <td>1</td>\n",
       "      <td>140</td>\n",
       "      <td>PENELOPE GUINESS</td>\n",
       "      <td>CHEAPER CLYDE</td>\n",
       "      <td>14</td>\n",
       "    </tr>\n",
       "  </tbody>\n",
       "</table>\n",
       "</div>"
      ],
      "text/plain": [
       "   actor_id  film_id        actor_name                  title  category_id\n",
       "0         1        1  PENELOPE GUINESS       ACADEMY DINOSAUR            6\n",
       "1         1       23  PENELOPE GUINESS   ANACONDA CONFESSIONS            2\n",
       "2         1       25  PENELOPE GUINESS            ANGELS LIFE           13\n",
       "3         1      106  PENELOPE GUINESS  BULWORTH COMMANDMENTS           10\n",
       "4         1      140  PENELOPE GUINESS          CHEAPER CLYDE           14"
      ]
     },
     "execution_count": 117,
     "metadata": {},
     "output_type": "execute_result"
    }
   ],
   "source": [
    "df_old_hdd.head()"
   ]
  },
  {
   "cell_type": "markdown",
   "id": "ac57ee9a",
   "metadata": {},
   "source": [
    "# 7. DataFrame Rental."
   ]
  },
  {
   "cell_type": "code",
   "execution_count": 118,
   "id": "57c9ae9b",
   "metadata": {},
   "outputs": [],
   "source": [
    "df_original_rental = pd.read_csv('data/rental.csv', encoding='latin1')\n",
    "df_rental = df_original_rental.copy()"
   ]
  },
  {
   "cell_type": "code",
   "execution_count": 119,
   "id": "45196733",
   "metadata": {},
   "outputs": [
    {
     "data": {
      "text/plain": [
       "(1000, 7)"
      ]
     },
     "execution_count": 119,
     "metadata": {},
     "output_type": "execute_result"
    }
   ],
   "source": [
    "dim_original_rental = df_rental.shape\n",
    "df_rental.shape"
   ]
  },
  {
   "cell_type": "code",
   "execution_count": 120,
   "id": "c6824f22",
   "metadata": {},
   "outputs": [
    {
     "data": {
      "text/html": [
       "<div>\n",
       "<style scoped>\n",
       "    .dataframe tbody tr th:only-of-type {\n",
       "        vertical-align: middle;\n",
       "    }\n",
       "\n",
       "    .dataframe tbody tr th {\n",
       "        vertical-align: top;\n",
       "    }\n",
       "\n",
       "    .dataframe thead th {\n",
       "        text-align: right;\n",
       "    }\n",
       "</style>\n",
       "<table border=\"1\" class=\"dataframe\">\n",
       "  <thead>\n",
       "    <tr style=\"text-align: right;\">\n",
       "      <th></th>\n",
       "      <th>rental_id</th>\n",
       "      <th>rental_date</th>\n",
       "      <th>inventory_id</th>\n",
       "      <th>customer_id</th>\n",
       "      <th>return_date</th>\n",
       "      <th>staff_id</th>\n",
       "      <th>last_update</th>\n",
       "    </tr>\n",
       "  </thead>\n",
       "  <tbody>\n",
       "    <tr>\n",
       "      <th>0</th>\n",
       "      <td>1</td>\n",
       "      <td>2005-05-24 22:53:30</td>\n",
       "      <td>367</td>\n",
       "      <td>130</td>\n",
       "      <td>2005-05-26 22:04:30</td>\n",
       "      <td>1</td>\n",
       "      <td>2006-02-15 21:30:53</td>\n",
       "    </tr>\n",
       "    <tr>\n",
       "      <th>1</th>\n",
       "      <td>2</td>\n",
       "      <td>2005-05-24 22:54:33</td>\n",
       "      <td>1525</td>\n",
       "      <td>459</td>\n",
       "      <td>2005-05-28 19:40:33</td>\n",
       "      <td>1</td>\n",
       "      <td>2006-02-15 21:30:53</td>\n",
       "    </tr>\n",
       "    <tr>\n",
       "      <th>2</th>\n",
       "      <td>3</td>\n",
       "      <td>2005-05-24 23:03:39</td>\n",
       "      <td>1711</td>\n",
       "      <td>408</td>\n",
       "      <td>2005-06-01 22:12:39</td>\n",
       "      <td>1</td>\n",
       "      <td>2006-02-15 21:30:53</td>\n",
       "    </tr>\n",
       "    <tr>\n",
       "      <th>3</th>\n",
       "      <td>4</td>\n",
       "      <td>2005-05-24 23:04:41</td>\n",
       "      <td>2452</td>\n",
       "      <td>333</td>\n",
       "      <td>2005-06-03 01:43:41</td>\n",
       "      <td>2</td>\n",
       "      <td>2006-02-15 21:30:53</td>\n",
       "    </tr>\n",
       "    <tr>\n",
       "      <th>4</th>\n",
       "      <td>5</td>\n",
       "      <td>2005-05-24 23:05:21</td>\n",
       "      <td>2079</td>\n",
       "      <td>222</td>\n",
       "      <td>2005-06-02 04:33:21</td>\n",
       "      <td>1</td>\n",
       "      <td>2006-02-15 21:30:53</td>\n",
       "    </tr>\n",
       "  </tbody>\n",
       "</table>\n",
       "</div>"
      ],
      "text/plain": [
       "   rental_id          rental_date  inventory_id  customer_id  \\\n",
       "0          1  2005-05-24 22:53:30           367          130   \n",
       "1          2  2005-05-24 22:54:33          1525          459   \n",
       "2          3  2005-05-24 23:03:39          1711          408   \n",
       "3          4  2005-05-24 23:04:41          2452          333   \n",
       "4          5  2005-05-24 23:05:21          2079          222   \n",
       "\n",
       "           return_date  staff_id          last_update  \n",
       "0  2005-05-26 22:04:30         1  2006-02-15 21:30:53  \n",
       "1  2005-05-28 19:40:33         1  2006-02-15 21:30:53  \n",
       "2  2005-06-01 22:12:39         1  2006-02-15 21:30:53  \n",
       "3  2005-06-03 01:43:41         2  2006-02-15 21:30:53  \n",
       "4  2005-06-02 04:33:21         1  2006-02-15 21:30:53  "
      ]
     },
     "execution_count": 120,
     "metadata": {},
     "output_type": "execute_result"
    }
   ],
   "source": [
    "df_rental.head() "
   ]
  },
  {
   "cell_type": "code",
   "execution_count": 121,
   "id": "3482120f",
   "metadata": {},
   "outputs": [
    {
     "name": "stdout",
     "output_type": "stream",
     "text": [
      "<class 'pandas.core.frame.DataFrame'>\n",
      "RangeIndex: 1000 entries, 0 to 999\n",
      "Data columns (total 7 columns):\n",
      " #   Column        Non-Null Count  Dtype \n",
      "---  ------        --------------  ----- \n",
      " 0   rental_id     1000 non-null   int64 \n",
      " 1   rental_date   1000 non-null   object\n",
      " 2   inventory_id  1000 non-null   int64 \n",
      " 3   customer_id   1000 non-null   int64 \n",
      " 4   return_date   1000 non-null   object\n",
      " 5   staff_id      1000 non-null   int64 \n",
      " 6   last_update   1000 non-null   object\n",
      "dtypes: int64(4), object(3)\n",
      "memory usage: 54.8+ KB\n"
     ]
    }
   ],
   "source": [
    "df_rental.info()"
   ]
  },
  {
   "cell_type": "code",
   "execution_count": 122,
   "id": "0533d47b",
   "metadata": {},
   "outputs": [
    {
     "data": {
      "text/plain": [
       "array(['2006-02-15 21:30:53'], dtype=object)"
      ]
     },
     "execution_count": 122,
     "metadata": {},
     "output_type": "execute_result"
    }
   ],
   "source": [
    "df_rental.last_update.unique()"
   ]
  },
  {
   "cell_type": "markdown",
   "id": "bc6f5cf3",
   "metadata": {},
   "source": [
    "También en este caso la columna \"last_update\" contiene un solo valor único. La eliminamos: "
   ]
  },
  {
   "cell_type": "code",
   "execution_count": 123,
   "id": "ba6064f7",
   "metadata": {},
   "outputs": [],
   "source": [
    "df_rental.drop(columns=[\"last_update\"], inplace=True)"
   ]
  },
  {
   "cell_type": "markdown",
   "id": "0fc2aeb3",
   "metadata": {},
   "source": [
    "Ahora, he decidido que posiblemente la hora de recogida y devolución de una película no aporta ningún valor significativo, ya que la \"rental_duration\" se expresa en días completos. Por lo tanto, convertiré ahora estas dos columnas en formato datetime, separaré la fecha y la hora, y eliminaré esta última información:"
   ]
  },
  {
   "cell_type": "code",
   "execution_count": 124,
   "id": "92124f2d",
   "metadata": {},
   "outputs": [],
   "source": [
    "df_rental[\"rental_date\"] = pd.to_datetime(df_rental[\"rental_date\"])\n",
    "df_rental[\"return_date\"] = pd.to_datetime(df_rental[\"return_date\"])"
   ]
  },
  {
   "cell_type": "code",
   "execution_count": 125,
   "id": "8f8a3cff",
   "metadata": {},
   "outputs": [],
   "source": [
    "df_rental[\"rental_date\"] = df_rental[\"rental_date\"].dt.date\n",
    "df_rental[\"return_date\"] = df_rental[\"return_date\"].dt.date"
   ]
  },
  {
   "cell_type": "code",
   "execution_count": 126,
   "id": "60bea3b6",
   "metadata": {},
   "outputs": [
    {
     "data": {
      "text/plain": [
       "array([datetime.date(2005, 5, 24), datetime.date(2005, 5, 25),\n",
       "       datetime.date(2005, 5, 26), datetime.date(2005, 5, 27),\n",
       "       datetime.date(2005, 5, 28), datetime.date(2005, 5, 29),\n",
       "       datetime.date(2005, 5, 30), datetime.date(2005, 5, 31)],\n",
       "      dtype=object)"
      ]
     },
     "execution_count": 126,
     "metadata": {},
     "output_type": "execute_result"
    }
   ],
   "source": [
    "df_rental.rental_date.unique()"
   ]
  },
  {
   "cell_type": "code",
   "execution_count": 127,
   "id": "fd71d787",
   "metadata": {},
   "outputs": [],
   "source": [
    "#df_rental.inventory_id.unique()"
   ]
  },
  {
   "cell_type": "markdown",
   "id": "b847d9e6",
   "metadata": {},
   "source": [
    "Puede observarse que existen valores de \"inventory_id\" que no están presentes en la tabla \"df_inventory\".\n",
    "\n",
    "Para abordar esta situación, se plantean dos posibles soluciones: Como primera opción, dejarlos; o como segunda (la cual he decidio seguir), implica eliminar dichos valores. \n",
    "Baso esta dedcisión en no dispongo de información que indique su origen. Se asume que las tablas pueden estar incompletas."
   ]
  },
  {
   "cell_type": "code",
   "execution_count": 128,
   "id": "4788e118",
   "metadata": {},
   "outputs": [],
   "source": [
    "df_rental = df_rental[df_rental.inventory_id < 1001]"
   ]
  },
  {
   "cell_type": "markdown",
   "id": "358c80ab",
   "metadata": {},
   "source": [
    "En la tabla \"df_film\", existe una columna denominada \"rental_duration\". Esta información se puede obtener calculando la diferencia entre el \"rental_date\" y el \"return_date\". Procedemos:"
   ]
  },
  {
   "cell_type": "code",
   "execution_count": 129,
   "id": "5df2c86e",
   "metadata": {},
   "outputs": [],
   "source": [
    "df_rental[\"rental_duration\"] = (df_rental[\"return_date\"] - df_rental[\"rental_date\"]).dt.days"
   ]
  },
  {
   "cell_type": "code",
   "execution_count": 130,
   "id": "0588e67c",
   "metadata": {},
   "outputs": [
    {
     "data": {
      "text/plain": [
       "array([ 2,  1,  5,  4,  6,  9,  7,  8,  3,  0, 10])"
      ]
     },
     "execution_count": 130,
     "metadata": {},
     "output_type": "execute_result"
    }
   ],
   "source": [
    "df_rental.rental_duration.unique() #3,4,5,6,7"
   ]
  },
  {
   "cell_type": "markdown",
   "id": "b57cb3ce",
   "metadata": {},
   "source": [
    "Al igual que sucedía con los valores de \"inventory_id,\" que no concordaban con los de la tabla \"df_inventory,\" nos encontramos, en este caso, en una situación similar: existen más valores en la columna \"rental_duration\" de lo esperado. \n",
    "\n",
    "Por tanto, siguiendo la misma lógica que en el caso anterior, optaré por eliminar estos valores adicionales, ya que no se dispone de información que explique esta discrepancia."
   ]
  },
  {
   "cell_type": "code",
   "execution_count": 131,
   "id": "a003e20f",
   "metadata": {},
   "outputs": [],
   "source": [
    "rental_durations_coincidentes = [3, 4, 5, 6, 7]\n",
    "df_rental = df_rental[df_rental[\"rental_duration\"].isin(rental_durations_coincidentes)]"
   ]
  },
  {
   "cell_type": "code",
   "execution_count": 132,
   "id": "00ea3ee7",
   "metadata": {},
   "outputs": [
    {
     "data": {
      "text/plain": [
       "array([5, 4, 6, 7, 3])"
      ]
     },
     "execution_count": 132,
     "metadata": {},
     "output_type": "execute_result"
    }
   ],
   "source": [
    "df_rental.rental_duration.unique()"
   ]
  },
  {
   "cell_type": "code",
   "execution_count": 133,
   "id": "614fe0da",
   "metadata": {},
   "outputs": [
    {
     "data": {
      "text/plain": [
       "array([datetime.date(2005, 5, 25), datetime.date(2005, 5, 26),\n",
       "       datetime.date(2005, 5, 27), datetime.date(2005, 5, 28),\n",
       "       datetime.date(2005, 5, 29), datetime.date(2005, 5, 30),\n",
       "       datetime.date(2005, 5, 31)], dtype=object)"
      ]
     },
     "execution_count": 133,
     "metadata": {},
     "output_type": "execute_result"
    }
   ],
   "source": [
    "df_rental.rental_date.unique()"
   ]
  },
  {
   "cell_type": "code",
   "execution_count": 134,
   "id": "c9ae7d78",
   "metadata": {},
   "outputs": [
    {
     "data": {
      "text/plain": [
       "array([datetime.date(2005, 5, 30), datetime.date(2005, 5, 29),\n",
       "       datetime.date(2005, 5, 31), datetime.date(2005, 6, 1),\n",
       "       datetime.date(2005, 5, 28), datetime.date(2005, 6, 2),\n",
       "       datetime.date(2005, 6, 3), datetime.date(2005, 6, 4),\n",
       "       datetime.date(2005, 6, 5), datetime.date(2005, 6, 6)], dtype=object)"
      ]
     },
     "execution_count": 134,
     "metadata": {},
     "output_type": "execute_result"
    }
   ],
   "source": [
    "df_rental.return_date.unique()"
   ]
  },
  {
   "cell_type": "markdown",
   "id": "e3dbcff6",
   "metadata": {},
   "source": [
    "Al examinar los datos, resulta evidente que no son demasiado consistentes. En realidad, estos datos ofrecen una información limitada para su estudio.\n",
    "\n",
    "La recopilación de datos se limita a un corto período de tiempo, específicamente los meses de mayo y junio. Esto resulta en una muestra extremadamente reducida como para predecir cualquier o determinar cualquiero suceso futuro con respecto a la reapertura del videoclub."
   ]
  },
  {
   "cell_type": "code",
   "execution_count": 135,
   "id": "473558a2",
   "metadata": {},
   "outputs": [
    {
     "data": {
      "text/plain": [
       "551    3\n",
       "44     2\n",
       "246    2\n",
       "287    2\n",
       "360    2\n",
       "      ..\n",
       "508    1\n",
       "430    1\n",
       "587    1\n",
       "446    1\n",
       "150    1\n",
       "Name: customer_id, Length: 100, dtype: int64"
      ]
     },
     "execution_count": 135,
     "metadata": {},
     "output_type": "execute_result"
    }
   ],
   "source": [
    "df_rental.customer_id.value_counts()"
   ]
  },
  {
   "cell_type": "code",
   "execution_count": 136,
   "id": "9b71f64f",
   "metadata": {},
   "outputs": [
    {
     "data": {
      "text/plain": [
       "array([2, 1])"
      ]
     },
     "execution_count": 136,
     "metadata": {},
     "output_type": "execute_result"
    }
   ],
   "source": [
    "df_rental.staff_id.unique()"
   ]
  },
  {
   "cell_type": "markdown",
   "id": "256c7fd3",
   "metadata": {},
   "source": [
    "De manera similar a lo que mencionamos con la columna \"store_id,\" en este caso, tanto \"customer_id\" como \"staff_id\" no están directamente relacionados ni vinculados a otra tabla. No obstante, es importante destacar que podrían contener información relevante, como la eficacia del personal en sus funciones o si existen clientes habituales que repiten debido a una experiencia positiva."
   ]
  },
  {
   "cell_type": "markdown",
   "id": "ebc66224",
   "metadata": {},
   "source": [
    "Para ir concluyendo, procederé a reorganizar las columnas de acuerdo a un orden que considero más claro."
   ]
  },
  {
   "cell_type": "code",
   "execution_count": 137,
   "id": "c4b786c9",
   "metadata": {},
   "outputs": [],
   "source": [
    "nuevo_orden = [\"rental_id\", \"rental_duration\", \"rental_date\", \"return_date\", \"customer_id\", \"staff_id\"]"
   ]
  },
  {
   "cell_type": "code",
   "execution_count": 138,
   "id": "b1b362a5",
   "metadata": {},
   "outputs": [],
   "source": [
    "df_rental = df_rental.reindex(columns=nuevo_orden)"
   ]
  },
  {
   "cell_type": "code",
   "execution_count": 139,
   "id": "d607cfeb",
   "metadata": {},
   "outputs": [
    {
     "data": {
      "text/plain": [
       "Series([], dtype: int64)"
      ]
     },
     "execution_count": 139,
     "metadata": {},
     "output_type": "execute_result"
    }
   ],
   "source": [
    "nan_cols_rental = df_rental.isna().sum() # Observamos si la columnas tienen valores nulos\n",
    "nan_cols_rental[nan_cols_rental>0]"
   ]
  },
  {
   "cell_type": "code",
   "execution_count": 140,
   "id": "7385ef66",
   "metadata": {},
   "outputs": [
    {
     "data": {
      "text/plain": [
       "False"
      ]
     },
     "execution_count": 140,
     "metadata": {},
     "output_type": "execute_result"
    }
   ],
   "source": [
    "#Por último, comprobamos duplicados:\n",
    "\n",
    "df_rental.duplicated().any()"
   ]
  },
  {
   "cell_type": "code",
   "execution_count": 141,
   "id": "58341ced",
   "metadata": {},
   "outputs": [
    {
     "data": {
      "text/html": [
       "<div>\n",
       "<style scoped>\n",
       "    .dataframe tbody tr th:only-of-type {\n",
       "        vertical-align: middle;\n",
       "    }\n",
       "\n",
       "    .dataframe tbody tr th {\n",
       "        vertical-align: top;\n",
       "    }\n",
       "\n",
       "    .dataframe thead th {\n",
       "        text-align: right;\n",
       "    }\n",
       "</style>\n",
       "<table border=\"1\" class=\"dataframe\">\n",
       "  <thead>\n",
       "    <tr style=\"text-align: right;\">\n",
       "      <th></th>\n",
       "      <th>rental_id</th>\n",
       "      <th>rental_duration</th>\n",
       "      <th>rental_date</th>\n",
       "      <th>return_date</th>\n",
       "      <th>customer_id</th>\n",
       "      <th>staff_id</th>\n",
       "    </tr>\n",
       "  </thead>\n",
       "  <tbody>\n",
       "    <tr>\n",
       "      <th>28</th>\n",
       "      <td>29</td>\n",
       "      <td>5</td>\n",
       "      <td>2005-05-25</td>\n",
       "      <td>2005-05-30</td>\n",
       "      <td>44</td>\n",
       "      <td>2</td>\n",
       "    </tr>\n",
       "    <tr>\n",
       "      <th>36</th>\n",
       "      <td>37</td>\n",
       "      <td>4</td>\n",
       "      <td>2005-05-25</td>\n",
       "      <td>2005-05-29</td>\n",
       "      <td>535</td>\n",
       "      <td>1</td>\n",
       "    </tr>\n",
       "    <tr>\n",
       "      <th>41</th>\n",
       "      <td>42</td>\n",
       "      <td>6</td>\n",
       "      <td>2005-05-25</td>\n",
       "      <td>2005-05-31</td>\n",
       "      <td>523</td>\n",
       "      <td>2</td>\n",
       "    </tr>\n",
       "    <tr>\n",
       "      <th>59</th>\n",
       "      <td>60</td>\n",
       "      <td>5</td>\n",
       "      <td>2005-05-25</td>\n",
       "      <td>2005-05-30</td>\n",
       "      <td>470</td>\n",
       "      <td>1</td>\n",
       "    </tr>\n",
       "    <tr>\n",
       "      <th>61</th>\n",
       "      <td>62</td>\n",
       "      <td>5</td>\n",
       "      <td>2005-05-25</td>\n",
       "      <td>2005-05-30</td>\n",
       "      <td>419</td>\n",
       "      <td>1</td>\n",
       "    </tr>\n",
       "  </tbody>\n",
       "</table>\n",
       "</div>"
      ],
      "text/plain": [
       "    rental_id  rental_duration rental_date return_date  customer_id  staff_id\n",
       "28         29                5  2005-05-25  2005-05-30           44         2\n",
       "36         37                4  2005-05-25  2005-05-29          535         1\n",
       "41         42                6  2005-05-25  2005-05-31          523         2\n",
       "59         60                5  2005-05-25  2005-05-30          470         1\n",
       "61         62                5  2005-05-25  2005-05-30          419         1"
      ]
     },
     "execution_count": 141,
     "metadata": {},
     "output_type": "execute_result"
    }
   ],
   "source": [
    "df_rental.head()"
   ]
  }
 ],
 "metadata": {
  "kernelspec": {
   "display_name": "Python 3 (ipykernel)",
   "language": "python",
   "name": "python3"
  },
  "language_info": {
   "codemirror_mode": {
    "name": "ipython",
    "version": 3
   },
   "file_extension": ".py",
   "mimetype": "text/x-python",
   "name": "python",
   "nbconvert_exporter": "python",
   "pygments_lexer": "ipython3",
   "version": "3.11.4"
  }
 },
 "nbformat": 4,
 "nbformat_minor": 5
}
