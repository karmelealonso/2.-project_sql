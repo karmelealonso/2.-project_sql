{
 "cells": [
  {
   "cell_type": "markdown",
   "id": "21d7b9e5",
   "metadata": {},
   "source": [
    "# Building mySQL Data-base"
   ]
  },
  {
   "cell_type": "code",
   "execution_count": 1,
   "id": "a7615b68",
   "metadata": {},
   "outputs": [],
   "source": [
    "import pandas as pd\n",
    "pd.set_option('display.max_columns', None)\n",
    "\n",
    "import numpy as np\n",
    "\n",
    "import warnings\n",
    "warnings.filterwarnings('ignore')\n",
    "\n",
    "\n",
    "import pylab as plt  # import matplotlib.pyplot as plt\n",
    "import seaborn as sns"
   ]
  },
  {
   "cell_type": "markdown",
   "id": "fe94b8ee",
   "metadata": {},
   "source": [
    "# 1. Exploración y limpieza de los datos."
   ]
  },
  {
   "cell_type": "markdown",
   "id": "58cb2fde",
   "metadata": {},
   "source": [
    "# 1.1 DataFrame Actor."
   ]
  },
  {
   "cell_type": "code",
   "execution_count": 2,
   "id": "cdb87e98",
   "metadata": {},
   "outputs": [],
   "source": [
    "df_original_actor = pd.read_csv('data/actor.csv', encoding='latin1')\n",
    "df_actor = df_original_actor.copy()"
   ]
  },
  {
   "cell_type": "code",
   "execution_count": 3,
   "id": "d1fcb9fc",
   "metadata": {},
   "outputs": [
    {
     "data": {
      "text/plain": [
       "(200, 4)"
      ]
     },
     "execution_count": 3,
     "metadata": {},
     "output_type": "execute_result"
    }
   ],
   "source": [
    "dim_original_actor = df_actor.shape # De esta forma guardo las dimensiones del data frame original.\n",
    "df_actor.shape"
   ]
  },
  {
   "cell_type": "code",
   "execution_count": 4,
   "id": "e9b10e44",
   "metadata": {},
   "outputs": [
    {
     "data": {
      "text/html": [
       "<div>\n",
       "<style scoped>\n",
       "    .dataframe tbody tr th:only-of-type {\n",
       "        vertical-align: middle;\n",
       "    }\n",
       "\n",
       "    .dataframe tbody tr th {\n",
       "        vertical-align: top;\n",
       "    }\n",
       "\n",
       "    .dataframe thead th {\n",
       "        text-align: right;\n",
       "    }\n",
       "</style>\n",
       "<table border=\"1\" class=\"dataframe\">\n",
       "  <thead>\n",
       "    <tr style=\"text-align: right;\">\n",
       "      <th></th>\n",
       "      <th>actor_id</th>\n",
       "      <th>first_name</th>\n",
       "      <th>last_name</th>\n",
       "      <th>last_update</th>\n",
       "    </tr>\n",
       "  </thead>\n",
       "  <tbody>\n",
       "    <tr>\n",
       "      <th>0</th>\n",
       "      <td>1</td>\n",
       "      <td>PENELOPE</td>\n",
       "      <td>GUINESS</td>\n",
       "      <td>2006-02-15 04:34:33</td>\n",
       "    </tr>\n",
       "    <tr>\n",
       "      <th>1</th>\n",
       "      <td>2</td>\n",
       "      <td>NICK</td>\n",
       "      <td>WAHLBERG</td>\n",
       "      <td>2006-02-15 04:34:33</td>\n",
       "    </tr>\n",
       "    <tr>\n",
       "      <th>2</th>\n",
       "      <td>3</td>\n",
       "      <td>ED</td>\n",
       "      <td>CHASE</td>\n",
       "      <td>2006-02-15 04:34:33</td>\n",
       "    </tr>\n",
       "    <tr>\n",
       "      <th>3</th>\n",
       "      <td>4</td>\n",
       "      <td>JENNIFER</td>\n",
       "      <td>DAVIS</td>\n",
       "      <td>2006-02-15 04:34:33</td>\n",
       "    </tr>\n",
       "    <tr>\n",
       "      <th>4</th>\n",
       "      <td>5</td>\n",
       "      <td>JOHNNY</td>\n",
       "      <td>LOLLOBRIGIDA</td>\n",
       "      <td>2006-02-15 04:34:33</td>\n",
       "    </tr>\n",
       "  </tbody>\n",
       "</table>\n",
       "</div>"
      ],
      "text/plain": [
       "   actor_id first_name     last_name          last_update\n",
       "0         1   PENELOPE       GUINESS  2006-02-15 04:34:33\n",
       "1         2       NICK      WAHLBERG  2006-02-15 04:34:33\n",
       "2         3         ED         CHASE  2006-02-15 04:34:33\n",
       "3         4   JENNIFER         DAVIS  2006-02-15 04:34:33\n",
       "4         5     JOHNNY  LOLLOBRIGIDA  2006-02-15 04:34:33"
      ]
     },
     "execution_count": 4,
     "metadata": {},
     "output_type": "execute_result"
    }
   ],
   "source": [
    "df_actor.head()"
   ]
  },
  {
   "cell_type": "code",
   "execution_count": 5,
   "id": "0749aa49",
   "metadata": {},
   "outputs": [
    {
     "name": "stdout",
     "output_type": "stream",
     "text": [
      "<class 'pandas.core.frame.DataFrame'>\n",
      "RangeIndex: 200 entries, 0 to 199\n",
      "Data columns (total 4 columns):\n",
      " #   Column       Non-Null Count  Dtype \n",
      "---  ------       --------------  ----- \n",
      " 0   actor_id     200 non-null    int64 \n",
      " 1   first_name   200 non-null    object\n",
      " 2   last_name    200 non-null    object\n",
      " 3   last_update  200 non-null    object\n",
      "dtypes: int64(1), object(3)\n",
      "memory usage: 6.4+ KB\n"
     ]
    }
   ],
   "source": [
    "df_actor.info() # De este modo conzco el tipo de dato y los valores nulos que tiene cada una de las columnas."
   ]
  },
  {
   "cell_type": "code",
   "execution_count": 6,
   "id": "659137ab",
   "metadata": {},
   "outputs": [
    {
     "data": {
      "text/plain": [
       "array([  1,   2,   3,   4,   5,   6,   7,   8,   9,  10,  11,  12,  13,\n",
       "        14,  15,  16,  17,  18,  19,  20,  21,  22,  23,  24,  25,  26,\n",
       "        27,  28,  29,  30,  31,  32,  33,  34,  35,  36,  37,  38,  39,\n",
       "        40,  41,  42,  43,  44,  45,  46,  47,  48,  49,  50,  51,  52,\n",
       "        53,  54,  55,  56,  57,  58,  59,  60,  61,  62,  63,  64,  65,\n",
       "        66,  67,  68,  69,  70,  71,  72,  73,  74,  75,  76,  77,  78,\n",
       "        79,  80,  81,  82,  83,  84,  85,  86,  87,  88,  89,  90,  91,\n",
       "        92,  93,  94,  95,  96,  97,  98,  99, 100, 101, 102, 103, 104,\n",
       "       105, 106, 107, 108, 109, 110, 111, 112, 113, 114, 115, 116, 117,\n",
       "       118, 119, 120, 121, 122, 123, 124, 125, 126, 127, 128, 129, 130,\n",
       "       131, 132, 133, 134, 135, 136, 137, 138, 139, 140, 141, 142, 143,\n",
       "       144, 145, 146, 147, 148, 149, 150, 151, 152, 153, 154, 155, 156,\n",
       "       157, 158, 159, 160, 161, 162, 163, 164, 165, 166, 167, 168, 169,\n",
       "       170, 171, 172, 173, 174, 175, 176, 177, 178, 179, 180, 181, 182,\n",
       "       183, 184, 185, 186, 187, 188, 189, 190, 191, 192, 193, 194, 195,\n",
       "       196, 197, 198, 199, 200])"
      ]
     },
     "execution_count": 6,
     "metadata": {},
     "output_type": "execute_result"
    }
   ],
   "source": [
    "df_actor.actor_id.unique() # Este procedimiento me ayuda a encontrar cada uno de los valores de la columna especificada."
   ]
  },
  {
   "cell_type": "code",
   "execution_count": 7,
   "id": "63b3a991",
   "metadata": {},
   "outputs": [
    {
     "data": {
      "text/plain": [
       "array(['PENELOPE', 'NICK', 'ED', 'JENNIFER', 'JOHNNY', 'BETTE', 'GRACE',\n",
       "       'MATTHEW', 'JOE', 'CHRISTIAN', 'ZERO', 'KARL', 'UMA', 'VIVIEN',\n",
       "       'CUBA', 'FRED', 'HELEN', 'DAN', 'BOB', 'LUCILLE', 'KIRSTEN',\n",
       "       'ELVIS', 'SANDRA', 'CAMERON', 'KEVIN', 'RIP', 'JULIA', 'WOODY',\n",
       "       'ALEC', 'SISSY', 'TIM', 'MILLA', 'AUDREY', 'JUDY', 'BURT', 'VAL',\n",
       "       'TOM', 'GOLDIE', 'JODIE', 'KIRK', 'REESE', 'PARKER', 'FRANCES',\n",
       "       'ANNE', 'NATALIE', 'GARY', 'CARMEN', 'MENA', 'FAY', 'JUDE',\n",
       "       'DUSTIN', 'HENRY', 'JAYNE', 'RAY', 'ANGELA', 'MARY', 'JESSICA',\n",
       "       'KENNETH', 'MICHELLE', 'ADAM', 'SEAN', 'ANGELINA', 'CARY',\n",
       "       'GROUCHO', 'MAE', 'RALPH', 'SCARLETT', 'BEN', 'JAMES', 'MINNIE',\n",
       "       'GREG', 'SPENCER', 'CHARLIZE', 'CHRISTOPHER', 'ELLEN', 'DARYL',\n",
       "       'GENE', 'MEG', 'CHRIS', 'JIM', 'SUSAN', 'WALTER', 'SIDNEY', 'GINA',\n",
       "       'WARREN', 'SYLVESTER', 'RUSSELL', 'MORGAN', 'HARRISON', 'RENEE',\n",
       "       'LIZA', 'SALMA', 'JULIANNE', 'ALBERT', 'CATE', 'GRETA', 'JANE',\n",
       "       'RICHARD', 'RITA', 'EWAN', 'WHOOPI', 'JADA', 'RIVER', 'KIM',\n",
       "       'EMILY', 'GEOFFREY', 'MERYL', 'IAN', 'LAURA', 'HARVEY', 'OPRAH',\n",
       "       'HUMPHREY', 'AL', 'LAURENCE', 'WILL', 'OLYMPIA', 'ALAN', 'MICHAEL',\n",
       "       'WILLIAM', 'JON', 'LISA', 'JEFF', 'DEBBIE', 'ROCK', 'GREGORY',\n",
       "       'JOHN', 'BELA', 'THORA'], dtype=object)"
      ]
     },
     "execution_count": 7,
     "metadata": {},
     "output_type": "execute_result"
    }
   ],
   "source": [
    "df_actor.first_name.unique()"
   ]
  },
  {
   "cell_type": "code",
   "execution_count": 8,
   "id": "7a513e3d",
   "metadata": {},
   "outputs": [
    {
     "data": {
      "text/plain": [
       "array(['GUINESS', 'WAHLBERG', 'CHASE', 'DAVIS', 'LOLLOBRIGIDA',\n",
       "       'NICHOLSON', 'MOSTEL', 'JOHANSSON', 'SWANK', 'GABLE', 'CAGE',\n",
       "       'BERRY', 'WOOD', 'BERGEN', 'OLIVIER', 'COSTNER', 'VOIGHT', 'TORN',\n",
       "       'FAWCETT', 'TRACY', 'PALTROW', 'MARX', 'KILMER', 'STREEP', 'BLOOM',\n",
       "       'CRAWFORD', 'MCQUEEN', 'HOFFMAN', 'WAYNE', 'PECK', 'SOBIESKI',\n",
       "       'HACKMAN', 'DEAN', 'DUKAKIS', 'BOLGER', 'MCKELLEN', 'BRODY',\n",
       "       'DEGENERES', 'MIRANDA', 'JOVOVICH', 'STALLONE', 'GOLDBERG',\n",
       "       'BARRYMORE', 'DAY-LEWIS', 'CRONYN', 'HOPKINS', 'PHOENIX', 'HUNT',\n",
       "       'TEMPLE', 'PINKETT', 'HARRIS', 'CRUISE', 'AKROYD', 'TAUTOU',\n",
       "       'NEESON', 'WRAY', 'HUDSON', 'TANDY', 'BAILEY', 'WINSLET',\n",
       "       'MCCONAUGHEY', 'GRANT', 'WILLIAMS', 'PENN', 'KEITEL', 'POSEY',\n",
       "       'ASTAIRE', 'SINATRA', 'CRUZ', 'DAMON', 'JOLIE', 'WILLIS', 'PITT',\n",
       "       'ZELLWEGER', 'CHAPLIN', 'PESCI', 'DENCH', 'PRESLEY', 'HAWKE',\n",
       "       'BRIDGES', 'DEPP', 'LEIGH', 'CROWE', 'DUNST', 'NOLTE', 'DERN',\n",
       "       'BACALL', 'MCDORMAND', 'BALE', 'ALLEN', 'JACKMAN', 'MONROE',\n",
       "       'BERGMAN', 'BENING', 'TOMEI', 'GARLAND', 'HOPPER', 'REYNOLDS',\n",
       "       'MANSFIELD', 'DEE', 'GOODING', 'HURT', 'RYDER', 'WITHERSPOON',\n",
       "       'HESTON', 'GIBSON', 'MALDEN', 'BASINGER', 'HOPE', 'WEST',\n",
       "       'BULLOCK', 'WILSON', 'PFEIFFER', 'DREYFUSS', 'SILVERSTONE',\n",
       "       'CARREY', 'CLOSE', 'BALL', 'BIRCH', 'SUVARI', 'WALKEN'],\n",
       "      dtype=object)"
      ]
     },
     "execution_count": 8,
     "metadata": {},
     "output_type": "execute_result"
    }
   ],
   "source": [
    "df_actor.last_name.unique()"
   ]
  },
  {
   "cell_type": "code",
   "execution_count": 9,
   "id": "331fa305",
   "metadata": {},
   "outputs": [
    {
     "data": {
      "text/plain": [
       "array(['2006-02-15 04:34:33'], dtype=object)"
      ]
     },
     "execution_count": 9,
     "metadata": {},
     "output_type": "execute_result"
    }
   ],
   "source": [
    "df_actor.last_update.unique()"
   ]
  },
  {
   "cell_type": "markdown",
   "id": "977b5b2b",
   "metadata": {},
   "source": [
    "Como se puede observar en la columna recién mencionada (\"last_update\"), todos sus valores son idénticos y se repiten de manera constante a lo largo de toda la columna. Por este motivo, al no aportar ninguna información relevante, se procede a su eliminación."
   ]
  },
  {
   "cell_type": "code",
   "execution_count": 10,
   "id": "e8bd8bf2",
   "metadata": {},
   "outputs": [],
   "source": [
    "df_actor.drop(columns=[\"last_update\"], inplace=True)"
   ]
  },
  {
   "cell_type": "code",
   "execution_count": 11,
   "id": "0cfbec47",
   "metadata": {},
   "outputs": [
    {
     "data": {
      "text/html": [
       "<div>\n",
       "<style scoped>\n",
       "    .dataframe tbody tr th:only-of-type {\n",
       "        vertical-align: middle;\n",
       "    }\n",
       "\n",
       "    .dataframe tbody tr th {\n",
       "        vertical-align: top;\n",
       "    }\n",
       "\n",
       "    .dataframe thead th {\n",
       "        text-align: right;\n",
       "    }\n",
       "</style>\n",
       "<table border=\"1\" class=\"dataframe\">\n",
       "  <thead>\n",
       "    <tr style=\"text-align: right;\">\n",
       "      <th></th>\n",
       "      <th>actor_id</th>\n",
       "      <th>first_name</th>\n",
       "      <th>last_name</th>\n",
       "    </tr>\n",
       "  </thead>\n",
       "  <tbody>\n",
       "    <tr>\n",
       "      <th>0</th>\n",
       "      <td>1</td>\n",
       "      <td>PENELOPE</td>\n",
       "      <td>GUINESS</td>\n",
       "    </tr>\n",
       "    <tr>\n",
       "      <th>1</th>\n",
       "      <td>2</td>\n",
       "      <td>NICK</td>\n",
       "      <td>WAHLBERG</td>\n",
       "    </tr>\n",
       "    <tr>\n",
       "      <th>2</th>\n",
       "      <td>3</td>\n",
       "      <td>ED</td>\n",
       "      <td>CHASE</td>\n",
       "    </tr>\n",
       "    <tr>\n",
       "      <th>3</th>\n",
       "      <td>4</td>\n",
       "      <td>JENNIFER</td>\n",
       "      <td>DAVIS</td>\n",
       "    </tr>\n",
       "    <tr>\n",
       "      <th>4</th>\n",
       "      <td>5</td>\n",
       "      <td>JOHNNY</td>\n",
       "      <td>LOLLOBRIGIDA</td>\n",
       "    </tr>\n",
       "  </tbody>\n",
       "</table>\n",
       "</div>"
      ],
      "text/plain": [
       "   actor_id first_name     last_name\n",
       "0         1   PENELOPE       GUINESS\n",
       "1         2       NICK      WAHLBERG\n",
       "2         3         ED         CHASE\n",
       "3         4   JENNIFER         DAVIS\n",
       "4         5     JOHNNY  LOLLOBRIGIDA"
      ]
     },
     "execution_count": 11,
     "metadata": {},
     "output_type": "execute_result"
    }
   ],
   "source": [
    "df_actor.head()"
   ]
  },
  {
   "cell_type": "markdown",
   "id": "beb8056e",
   "metadata": {},
   "source": [
    "Considero que la combinación de las columnas \"first_name\" y  \"last_name\" en una sola columna llamada \"actor_name,\" que contendría el nombre completo de la persona, simplicaría el posterior trabajo y manejo de la tabla."
   ]
  },
  {
   "cell_type": "code",
   "execution_count": 12,
   "id": "4d0b7c83",
   "metadata": {},
   "outputs": [],
   "source": [
    "df_actor[\"actor_name\"] = df_actor[\"first_name\"] + ' ' + df_actor[\"last_name\"]"
   ]
  },
  {
   "cell_type": "code",
   "execution_count": 13,
   "id": "ad950b76",
   "metadata": {},
   "outputs": [],
   "source": [
    "df_actor.drop(columns=[\"first_name\"], inplace=True) #Borro aquí las columnas que me ha proporcionado la información para la creación de la nueva columna.\n",
    "df_actor.drop(columns=[\"last_name\"], inplace=True)"
   ]
  },
  {
   "cell_type": "code",
   "execution_count": 14,
   "id": "cc1ae109",
   "metadata": {},
   "outputs": [
    {
     "data": {
      "text/html": [
       "<div>\n",
       "<style scoped>\n",
       "    .dataframe tbody tr th:only-of-type {\n",
       "        vertical-align: middle;\n",
       "    }\n",
       "\n",
       "    .dataframe tbody tr th {\n",
       "        vertical-align: top;\n",
       "    }\n",
       "\n",
       "    .dataframe thead th {\n",
       "        text-align: right;\n",
       "    }\n",
       "</style>\n",
       "<table border=\"1\" class=\"dataframe\">\n",
       "  <thead>\n",
       "    <tr style=\"text-align: right;\">\n",
       "      <th></th>\n",
       "      <th>actor_id</th>\n",
       "      <th>actor_name</th>\n",
       "    </tr>\n",
       "  </thead>\n",
       "  <tbody>\n",
       "    <tr>\n",
       "      <th>0</th>\n",
       "      <td>1</td>\n",
       "      <td>PENELOPE GUINESS</td>\n",
       "    </tr>\n",
       "    <tr>\n",
       "      <th>1</th>\n",
       "      <td>2</td>\n",
       "      <td>NICK WAHLBERG</td>\n",
       "    </tr>\n",
       "    <tr>\n",
       "      <th>2</th>\n",
       "      <td>3</td>\n",
       "      <td>ED CHASE</td>\n",
       "    </tr>\n",
       "    <tr>\n",
       "      <th>3</th>\n",
       "      <td>4</td>\n",
       "      <td>JENNIFER DAVIS</td>\n",
       "    </tr>\n",
       "    <tr>\n",
       "      <th>4</th>\n",
       "      <td>5</td>\n",
       "      <td>JOHNNY LOLLOBRIGIDA</td>\n",
       "    </tr>\n",
       "  </tbody>\n",
       "</table>\n",
       "</div>"
      ],
      "text/plain": [
       "   actor_id           actor_name\n",
       "0         1     PENELOPE GUINESS\n",
       "1         2        NICK WAHLBERG\n",
       "2         3             ED CHASE\n",
       "3         4       JENNIFER DAVIS\n",
       "4         5  JOHNNY LOLLOBRIGIDA"
      ]
     },
     "execution_count": 14,
     "metadata": {},
     "output_type": "execute_result"
    }
   ],
   "source": [
    "df_actor.head()"
   ]
  },
  {
   "cell_type": "code",
   "execution_count": 72,
   "id": "d985818a",
   "metadata": {},
   "outputs": [
    {
     "data": {
      "text/plain": [
       "PENELOPE GUINESS        1\n",
       "KEVIN GARLAND           1\n",
       "DARYL CRAWFORD          1\n",
       "GRETA KEITEL            1\n",
       "JANE JACKMAN            1\n",
       "                       ..\n",
       "MICHELLE MCCONAUGHEY    1\n",
       "ADAM GRANT              1\n",
       "SEAN WILLIAMS           1\n",
       "GARY PENN               1\n",
       "THORA TEMPLE            1\n",
       "Name: actor_name, Length: 199, dtype: int64"
      ]
     },
     "execution_count": 72,
     "metadata": {},
     "output_type": "execute_result"
    }
   ],
   "source": [
    "df_actor[\"actor_name\"].value_counts()"
   ]
  },
  {
   "cell_type": "markdown",
   "id": "f4fa60d3",
   "metadata": {},
   "source": [
    "Al examinar los valores únicos en la columna \"actor_name,\" notamos la presencia de un valor repetido. Ante esta situación, cabrían dos opciones: mantenerlo tal como está, ya que los identificadores (ID) son diferentes, o eliminarlo. \n",
    "\n",
    "En este caso, vamos a ponernos en la situación y considerar que se trata de dos personas distintas y, por lo tanto, procedemos a eliminar una de las filas en las que se encuentra dicho valor."
   ]
  },
  {
   "cell_type": "code",
   "execution_count": 17,
   "id": "79e8a124",
   "metadata": {},
   "outputs": [
    {
     "data": {
      "text/html": [
       "<div>\n",
       "<style scoped>\n",
       "    .dataframe tbody tr th:only-of-type {\n",
       "        vertical-align: middle;\n",
       "    }\n",
       "\n",
       "    .dataframe tbody tr th {\n",
       "        vertical-align: top;\n",
       "    }\n",
       "\n",
       "    .dataframe thead th {\n",
       "        text-align: right;\n",
       "    }\n",
       "</style>\n",
       "<table border=\"1\" class=\"dataframe\">\n",
       "  <thead>\n",
       "    <tr style=\"text-align: right;\">\n",
       "      <th></th>\n",
       "      <th>actor_id</th>\n",
       "      <th>actor_name</th>\n",
       "    </tr>\n",
       "  </thead>\n",
       "  <tbody>\n",
       "    <tr>\n",
       "      <th>100</th>\n",
       "      <td>101</td>\n",
       "      <td>SUSAN DAVIS</td>\n",
       "    </tr>\n",
       "    <tr>\n",
       "      <th>109</th>\n",
       "      <td>110</td>\n",
       "      <td>SUSAN DAVIS</td>\n",
       "    </tr>\n",
       "  </tbody>\n",
       "</table>\n",
       "</div>"
      ],
      "text/plain": [
       "     actor_id   actor_name\n",
       "100       101  SUSAN DAVIS\n",
       "109       110  SUSAN DAVIS"
      ]
     },
     "execution_count": 17,
     "metadata": {},
     "output_type": "execute_result"
    }
   ],
   "source": [
    "fila_susan = df_actor[df_actor[\"actor_name\"] == \"SUSAN DAVIS\"]\n",
    "fila_susan"
   ]
  },
  {
   "cell_type": "code",
   "execution_count": 18,
   "id": "76c6f3f3",
   "metadata": {},
   "outputs": [],
   "source": [
    "df_actor = df_actor.drop(109)"
   ]
  },
  {
   "cell_type": "code",
   "execution_count": 19,
   "id": "25691043",
   "metadata": {},
   "outputs": [],
   "source": [
    "df_actor = df_actor.reset_index(drop=True)"
   ]
  },
  {
   "cell_type": "code",
   "execution_count": 20,
   "id": "bd69ddb5",
   "metadata": {},
   "outputs": [
    {
     "data": {
      "text/html": [
       "<div>\n",
       "<style scoped>\n",
       "    .dataframe tbody tr th:only-of-type {\n",
       "        vertical-align: middle;\n",
       "    }\n",
       "\n",
       "    .dataframe tbody tr th {\n",
       "        vertical-align: top;\n",
       "    }\n",
       "\n",
       "    .dataframe thead th {\n",
       "        text-align: right;\n",
       "    }\n",
       "</style>\n",
       "<table border=\"1\" class=\"dataframe\">\n",
       "  <thead>\n",
       "    <tr style=\"text-align: right;\">\n",
       "      <th></th>\n",
       "      <th>actor_id</th>\n",
       "      <th>actor_name</th>\n",
       "    </tr>\n",
       "  </thead>\n",
       "  <tbody>\n",
       "    <tr>\n",
       "      <th>0</th>\n",
       "      <td>1</td>\n",
       "      <td>PENELOPE GUINESS</td>\n",
       "    </tr>\n",
       "    <tr>\n",
       "      <th>1</th>\n",
       "      <td>2</td>\n",
       "      <td>NICK WAHLBERG</td>\n",
       "    </tr>\n",
       "    <tr>\n",
       "      <th>2</th>\n",
       "      <td>3</td>\n",
       "      <td>ED CHASE</td>\n",
       "    </tr>\n",
       "    <tr>\n",
       "      <th>3</th>\n",
       "      <td>4</td>\n",
       "      <td>JENNIFER DAVIS</td>\n",
       "    </tr>\n",
       "    <tr>\n",
       "      <th>4</th>\n",
       "      <td>5</td>\n",
       "      <td>JOHNNY LOLLOBRIGIDA</td>\n",
       "    </tr>\n",
       "  </tbody>\n",
       "</table>\n",
       "</div>"
      ],
      "text/plain": [
       "   actor_id           actor_name\n",
       "0         1     PENELOPE GUINESS\n",
       "1         2        NICK WAHLBERG\n",
       "2         3             ED CHASE\n",
       "3         4       JENNIFER DAVIS\n",
       "4         5  JOHNNY LOLLOBRIGIDA"
      ]
     },
     "execution_count": 20,
     "metadata": {},
     "output_type": "execute_result"
    }
   ],
   "source": [
    "df_actor.head()"
   ]
  },
  {
   "cell_type": "code",
   "execution_count": 21,
   "id": "2d165fc8",
   "metadata": {},
   "outputs": [
    {
     "data": {
      "text/plain": [
       "(199, 2)"
      ]
     },
     "execution_count": 21,
     "metadata": {},
     "output_type": "execute_result"
    }
   ],
   "source": [
    "df_actor.shape"
   ]
  },
  {
   "cell_type": "code",
   "execution_count": 23,
   "id": "2d932427",
   "metadata": {},
   "outputs": [
    {
     "data": {
      "text/plain": [
       "Series([], dtype: int64)"
      ]
     },
     "execution_count": 23,
     "metadata": {},
     "output_type": "execute_result"
    }
   ],
   "source": [
    "# Columnas que contienen valores nulos y la cantidad de estos en cada una de ellas:\n",
    "\n",
    "nan_cols_actor = df_actor.isna().sum() #En este caso vemos que ninguna.\n",
    "nan_cols_actor[nan_cols_actor>0]"
   ]
  },
  {
   "cell_type": "markdown",
   "id": "85d778b1",
   "metadata": {},
   "source": [
    "# 1.2 DataFrame Category."
   ]
  },
  {
   "cell_type": "code",
   "execution_count": 24,
   "id": "377c3ae1",
   "metadata": {},
   "outputs": [],
   "source": [
    "df_original_category = pd.read_csv('data/category.csv', encoding='latin1')\n",
    "df_category = df_original_category.copy()"
   ]
  },
  {
   "cell_type": "code",
   "execution_count": 26,
   "id": "88df6b94",
   "metadata": {},
   "outputs": [
    {
     "data": {
      "text/plain": [
       "(16, 3)"
      ]
     },
     "execution_count": 26,
     "metadata": {},
     "output_type": "execute_result"
    }
   ],
   "source": [
    "dim_original_category = df_category.shape # Del mismo modo que antes, guardo las dimensiones del data frame original.\n",
    "df_category.shape"
   ]
  },
  {
   "cell_type": "code",
   "execution_count": 27,
   "id": "77678b24",
   "metadata": {},
   "outputs": [
    {
     "data": {
      "text/html": [
       "<div>\n",
       "<style scoped>\n",
       "    .dataframe tbody tr th:only-of-type {\n",
       "        vertical-align: middle;\n",
       "    }\n",
       "\n",
       "    .dataframe tbody tr th {\n",
       "        vertical-align: top;\n",
       "    }\n",
       "\n",
       "    .dataframe thead th {\n",
       "        text-align: right;\n",
       "    }\n",
       "</style>\n",
       "<table border=\"1\" class=\"dataframe\">\n",
       "  <thead>\n",
       "    <tr style=\"text-align: right;\">\n",
       "      <th></th>\n",
       "      <th>category_id</th>\n",
       "      <th>name</th>\n",
       "      <th>last_update</th>\n",
       "    </tr>\n",
       "  </thead>\n",
       "  <tbody>\n",
       "    <tr>\n",
       "      <th>0</th>\n",
       "      <td>1</td>\n",
       "      <td>Action</td>\n",
       "      <td>2006-02-15 04:46:27</td>\n",
       "    </tr>\n",
       "    <tr>\n",
       "      <th>1</th>\n",
       "      <td>2</td>\n",
       "      <td>Animation</td>\n",
       "      <td>2006-02-15 04:46:27</td>\n",
       "    </tr>\n",
       "    <tr>\n",
       "      <th>2</th>\n",
       "      <td>3</td>\n",
       "      <td>Children</td>\n",
       "      <td>2006-02-15 04:46:27</td>\n",
       "    </tr>\n",
       "    <tr>\n",
       "      <th>3</th>\n",
       "      <td>4</td>\n",
       "      <td>Classics</td>\n",
       "      <td>2006-02-15 04:46:27</td>\n",
       "    </tr>\n",
       "    <tr>\n",
       "      <th>4</th>\n",
       "      <td>5</td>\n",
       "      <td>Comedy</td>\n",
       "      <td>2006-02-15 04:46:27</td>\n",
       "    </tr>\n",
       "  </tbody>\n",
       "</table>\n",
       "</div>"
      ],
      "text/plain": [
       "   category_id       name          last_update\n",
       "0            1     Action  2006-02-15 04:46:27\n",
       "1            2  Animation  2006-02-15 04:46:27\n",
       "2            3   Children  2006-02-15 04:46:27\n",
       "3            4   Classics  2006-02-15 04:46:27\n",
       "4            5     Comedy  2006-02-15 04:46:27"
      ]
     },
     "execution_count": 27,
     "metadata": {},
     "output_type": "execute_result"
    }
   ],
   "source": [
    "df_category.head()"
   ]
  },
  {
   "cell_type": "code",
   "execution_count": 29,
   "id": "8edb143b",
   "metadata": {},
   "outputs": [
    {
     "name": "stdout",
     "output_type": "stream",
     "text": [
      "<class 'pandas.core.frame.DataFrame'>\n",
      "RangeIndex: 16 entries, 0 to 15\n",
      "Data columns (total 3 columns):\n",
      " #   Column       Non-Null Count  Dtype \n",
      "---  ------       --------------  ----- \n",
      " 0   category_id  16 non-null     int64 \n",
      " 1   name         16 non-null     object\n",
      " 2   last_update  16 non-null     object\n",
      "dtypes: int64(1), object(2)\n",
      "memory usage: 516.0+ bytes\n"
     ]
    }
   ],
   "source": [
    "df_category.info() # Observamos el tipo de dato y los posibles valores nulos que tiene cada una de las columnas."
   ]
  },
  {
   "cell_type": "code",
   "execution_count": 31,
   "id": "a5f088ca",
   "metadata": {},
   "outputs": [
    {
     "data": {
      "text/plain": [
       "array([ 1,  2,  3,  4,  5,  6,  7,  8,  9, 10, 11, 12, 13, 14, 15, 16])"
      ]
     },
     "execution_count": 31,
     "metadata": {},
     "output_type": "execute_result"
    }
   ],
   "source": [
    "df_category.category_id.unique() # Ahora, los valores únicos de las diferentes columnas que componen el DataFrame."
   ]
  },
  {
   "cell_type": "code",
   "execution_count": 32,
   "id": "9c3580ec",
   "metadata": {},
   "outputs": [
    {
     "data": {
      "text/plain": [
       "array(['Action', 'Animation', 'Children', 'Classics', 'Comedy',\n",
       "       'Documentary', 'Drama', 'Family', 'Foreign', 'Games', 'Horror',\n",
       "       'Music', 'New', 'Sci-Fi', 'Sports', 'Travel'], dtype=object)"
      ]
     },
     "execution_count": 32,
     "metadata": {},
     "output_type": "execute_result"
    }
   ],
   "source": [
    "df_category.name.unique()"
   ]
  },
  {
   "cell_type": "markdown",
   "id": "f97694e3",
   "metadata": {},
   "source": [
    "No se aprecia nada raro hasta que nos encontramos, al igual que en el caso anterior, con la columna \"last_update\", compuesta por un único valor que no nos aporta ninguna información destacable. Se procede a su eliminación:"
   ]
  },
  {
   "cell_type": "code",
   "execution_count": 35,
   "id": "5d25f79c",
   "metadata": {},
   "outputs": [
    {
     "data": {
      "text/plain": [
       "array(['2006-02-15 04:46:27'], dtype=object)"
      ]
     },
     "execution_count": 35,
     "metadata": {},
     "output_type": "execute_result"
    }
   ],
   "source": [
    "df_category.last_update.unique() "
   ]
  },
  {
   "cell_type": "code",
   "execution_count": 36,
   "id": "1b9d047b",
   "metadata": {},
   "outputs": [],
   "source": [
    "df_category.drop(columns=[\"last_update\"], inplace=True)"
   ]
  },
  {
   "cell_type": "code",
   "execution_count": 39,
   "id": "4895e0a5",
   "metadata": {},
   "outputs": [
    {
     "data": {
      "text/plain": [
       "Action       1\n",
       "Animation    1\n",
       "Children     1\n",
       "Classics     1\n",
       "Comedy       1\n",
       "Name: name, dtype: int64"
      ]
     },
     "execution_count": 39,
     "metadata": {},
     "output_type": "execute_result"
    }
   ],
   "source": [
    "df_category[\"name\"].value_counts().head() # Revisamos en este caso si también hay algún valor repetido a lo largo de la columna."
   ]
  },
  {
   "cell_type": "markdown",
   "id": "9ddc6e06",
   "metadata": {},
   "source": [
    "Considero que sería una buena práctica cambiar el nombre de la columna \"name\" por motivo de que este nombre de columna se repite en varias tablas con las que debemos trabajar. Esto podría causar confusión cuando manejemos todas las tablas en conjunto."
   ]
  },
  {
   "cell_type": "code",
   "execution_count": 42,
   "id": "1ebb7248",
   "metadata": {},
   "outputs": [],
   "source": [
    "df_category.rename(columns={\"name\": \"category_name\"}, inplace=True)"
   ]
  },
  {
   "cell_type": "code",
   "execution_count": 47,
   "id": "c22f089f",
   "metadata": {},
   "outputs": [
    {
     "data": {
      "text/plain": [
       "Series([], dtype: int64)"
      ]
     },
     "execution_count": 47,
     "metadata": {},
     "output_type": "execute_result"
    }
   ],
   "source": [
    "# Columnas que contienen valores nulos y la cantidad de estos en cada una de ellas:\n",
    "\n",
    "nan_cols_category = df_category.isna().sum() #De nuevo, ninguna.\n",
    "nan_cols_category[nan_cols_category>0]"
   ]
  },
  {
   "cell_type": "code",
   "execution_count": 43,
   "id": "0f99922a",
   "metadata": {},
   "outputs": [
    {
     "data": {
      "text/html": [
       "<div>\n",
       "<style scoped>\n",
       "    .dataframe tbody tr th:only-of-type {\n",
       "        vertical-align: middle;\n",
       "    }\n",
       "\n",
       "    .dataframe tbody tr th {\n",
       "        vertical-align: top;\n",
       "    }\n",
       "\n",
       "    .dataframe thead th {\n",
       "        text-align: right;\n",
       "    }\n",
       "</style>\n",
       "<table border=\"1\" class=\"dataframe\">\n",
       "  <thead>\n",
       "    <tr style=\"text-align: right;\">\n",
       "      <th></th>\n",
       "      <th>category_id</th>\n",
       "      <th>category_name</th>\n",
       "    </tr>\n",
       "  </thead>\n",
       "  <tbody>\n",
       "    <tr>\n",
       "      <th>0</th>\n",
       "      <td>1</td>\n",
       "      <td>Action</td>\n",
       "    </tr>\n",
       "    <tr>\n",
       "      <th>1</th>\n",
       "      <td>2</td>\n",
       "      <td>Animation</td>\n",
       "    </tr>\n",
       "    <tr>\n",
       "      <th>2</th>\n",
       "      <td>3</td>\n",
       "      <td>Children</td>\n",
       "    </tr>\n",
       "    <tr>\n",
       "      <th>3</th>\n",
       "      <td>4</td>\n",
       "      <td>Classics</td>\n",
       "    </tr>\n",
       "    <tr>\n",
       "      <th>4</th>\n",
       "      <td>5</td>\n",
       "      <td>Comedy</td>\n",
       "    </tr>\n",
       "  </tbody>\n",
       "</table>\n",
       "</div>"
      ],
      "text/plain": [
       "   category_id category_name\n",
       "0            1        Action\n",
       "1            2     Animation\n",
       "2            3      Children\n",
       "3            4      Classics\n",
       "4            5        Comedy"
      ]
     },
     "execution_count": 43,
     "metadata": {},
     "output_type": "execute_result"
    }
   ],
   "source": [
    "df_category.head()"
   ]
  },
  {
   "cell_type": "markdown",
   "id": "7a597c73",
   "metadata": {},
   "source": [
    "# 1.3 DataFrame Film."
   ]
  },
  {
   "cell_type": "code",
   "execution_count": 44,
   "id": "2710e8e4",
   "metadata": {},
   "outputs": [],
   "source": [
    "df_original_film = pd.read_csv('data/film.csv', encoding='latin1')\n",
    "df_film = df_original_film.copy()"
   ]
  },
  {
   "cell_type": "code",
   "execution_count": 48,
   "id": "a30b9baf",
   "metadata": {},
   "outputs": [
    {
     "data": {
      "text/plain": [
       "(1000, 13)"
      ]
     },
     "execution_count": 48,
     "metadata": {},
     "output_type": "execute_result"
    }
   ],
   "source": [
    "dim_original_film = df_film.shape # Guardo aquí también las dimensiones del data frame original.\n",
    "df_film.shape"
   ]
  },
  {
   "cell_type": "code",
   "execution_count": 49,
   "id": "e085bf81",
   "metadata": {},
   "outputs": [
    {
     "data": {
      "text/html": [
       "<div>\n",
       "<style scoped>\n",
       "    .dataframe tbody tr th:only-of-type {\n",
       "        vertical-align: middle;\n",
       "    }\n",
       "\n",
       "    .dataframe tbody tr th {\n",
       "        vertical-align: top;\n",
       "    }\n",
       "\n",
       "    .dataframe thead th {\n",
       "        text-align: right;\n",
       "    }\n",
       "</style>\n",
       "<table border=\"1\" class=\"dataframe\">\n",
       "  <thead>\n",
       "    <tr style=\"text-align: right;\">\n",
       "      <th></th>\n",
       "      <th>film_id</th>\n",
       "      <th>title</th>\n",
       "      <th>description</th>\n",
       "      <th>release_year</th>\n",
       "      <th>language_id</th>\n",
       "      <th>original_language_id</th>\n",
       "      <th>rental_duration</th>\n",
       "      <th>rental_rate</th>\n",
       "      <th>length</th>\n",
       "      <th>replacement_cost</th>\n",
       "      <th>rating</th>\n",
       "      <th>special_features</th>\n",
       "      <th>last_update</th>\n",
       "    </tr>\n",
       "  </thead>\n",
       "  <tbody>\n",
       "    <tr>\n",
       "      <th>0</th>\n",
       "      <td>1</td>\n",
       "      <td>ACADEMY DINOSAUR</td>\n",
       "      <td>A Epic Drama of a Feminist And a Mad Scientist...</td>\n",
       "      <td>2006</td>\n",
       "      <td>1</td>\n",
       "      <td>NaN</td>\n",
       "      <td>6</td>\n",
       "      <td>0.99</td>\n",
       "      <td>86</td>\n",
       "      <td>20.99</td>\n",
       "      <td>PG</td>\n",
       "      <td>Deleted Scenes,Behind the Scenes</td>\n",
       "      <td>2006-02-15 05:03:42</td>\n",
       "    </tr>\n",
       "    <tr>\n",
       "      <th>1</th>\n",
       "      <td>2</td>\n",
       "      <td>ACE GOLDFINGER</td>\n",
       "      <td>A Astounding Epistle of a Database Administrat...</td>\n",
       "      <td>2006</td>\n",
       "      <td>1</td>\n",
       "      <td>NaN</td>\n",
       "      <td>3</td>\n",
       "      <td>4.99</td>\n",
       "      <td>48</td>\n",
       "      <td>12.99</td>\n",
       "      <td>G</td>\n",
       "      <td>Trailers,Deleted Scenes</td>\n",
       "      <td>2006-02-15 05:03:42</td>\n",
       "    </tr>\n",
       "    <tr>\n",
       "      <th>2</th>\n",
       "      <td>3</td>\n",
       "      <td>ADAPTATION HOLES</td>\n",
       "      <td>A Astounding Reflection of a Lumberjack And a ...</td>\n",
       "      <td>2006</td>\n",
       "      <td>1</td>\n",
       "      <td>NaN</td>\n",
       "      <td>7</td>\n",
       "      <td>2.99</td>\n",
       "      <td>50</td>\n",
       "      <td>18.99</td>\n",
       "      <td>NC-17</td>\n",
       "      <td>Trailers,Deleted Scenes</td>\n",
       "      <td>2006-02-15 05:03:42</td>\n",
       "    </tr>\n",
       "    <tr>\n",
       "      <th>3</th>\n",
       "      <td>4</td>\n",
       "      <td>AFFAIR PREJUDICE</td>\n",
       "      <td>A Fanciful Documentary of a Frisbee And a Lumb...</td>\n",
       "      <td>2006</td>\n",
       "      <td>1</td>\n",
       "      <td>NaN</td>\n",
       "      <td>5</td>\n",
       "      <td>2.99</td>\n",
       "      <td>117</td>\n",
       "      <td>26.99</td>\n",
       "      <td>G</td>\n",
       "      <td>Commentaries,Behind the Scenes</td>\n",
       "      <td>2006-02-15 05:03:42</td>\n",
       "    </tr>\n",
       "    <tr>\n",
       "      <th>4</th>\n",
       "      <td>5</td>\n",
       "      <td>AFRICAN EGG</td>\n",
       "      <td>A Fast-Paced Documentary of a Pastry Chef And ...</td>\n",
       "      <td>2006</td>\n",
       "      <td>1</td>\n",
       "      <td>NaN</td>\n",
       "      <td>6</td>\n",
       "      <td>2.99</td>\n",
       "      <td>130</td>\n",
       "      <td>22.99</td>\n",
       "      <td>G</td>\n",
       "      <td>Deleted Scenes</td>\n",
       "      <td>2006-02-15 05:03:42</td>\n",
       "    </tr>\n",
       "  </tbody>\n",
       "</table>\n",
       "</div>"
      ],
      "text/plain": [
       "   film_id             title  \\\n",
       "0        1  ACADEMY DINOSAUR   \n",
       "1        2    ACE GOLDFINGER   \n",
       "2        3  ADAPTATION HOLES   \n",
       "3        4  AFFAIR PREJUDICE   \n",
       "4        5       AFRICAN EGG   \n",
       "\n",
       "                                         description  release_year  \\\n",
       "0  A Epic Drama of a Feminist And a Mad Scientist...          2006   \n",
       "1  A Astounding Epistle of a Database Administrat...          2006   \n",
       "2  A Astounding Reflection of a Lumberjack And a ...          2006   \n",
       "3  A Fanciful Documentary of a Frisbee And a Lumb...          2006   \n",
       "4  A Fast-Paced Documentary of a Pastry Chef And ...          2006   \n",
       "\n",
       "   language_id  original_language_id  rental_duration  rental_rate  length  \\\n",
       "0            1                   NaN                6         0.99      86   \n",
       "1            1                   NaN                3         4.99      48   \n",
       "2            1                   NaN                7         2.99      50   \n",
       "3            1                   NaN                5         2.99     117   \n",
       "4            1                   NaN                6         2.99     130   \n",
       "\n",
       "   replacement_cost rating                  special_features  \\\n",
       "0             20.99     PG  Deleted Scenes,Behind the Scenes   \n",
       "1             12.99      G           Trailers,Deleted Scenes   \n",
       "2             18.99  NC-17           Trailers,Deleted Scenes   \n",
       "3             26.99      G    Commentaries,Behind the Scenes   \n",
       "4             22.99      G                    Deleted Scenes   \n",
       "\n",
       "           last_update  \n",
       "0  2006-02-15 05:03:42  \n",
       "1  2006-02-15 05:03:42  \n",
       "2  2006-02-15 05:03:42  \n",
       "3  2006-02-15 05:03:42  \n",
       "4  2006-02-15 05:03:42  "
      ]
     },
     "execution_count": 49,
     "metadata": {},
     "output_type": "execute_result"
    }
   ],
   "source": [
    "df_film.head()"
   ]
  },
  {
   "cell_type": "code",
   "execution_count": 50,
   "id": "74dee9b7",
   "metadata": {},
   "outputs": [
    {
     "name": "stdout",
     "output_type": "stream",
     "text": [
      "<class 'pandas.core.frame.DataFrame'>\n",
      "RangeIndex: 1000 entries, 0 to 999\n",
      "Data columns (total 13 columns):\n",
      " #   Column                Non-Null Count  Dtype  \n",
      "---  ------                --------------  -----  \n",
      " 0   film_id               1000 non-null   int64  \n",
      " 1   title                 1000 non-null   object \n",
      " 2   description           1000 non-null   object \n",
      " 3   release_year          1000 non-null   int64  \n",
      " 4   language_id           1000 non-null   int64  \n",
      " 5   original_language_id  0 non-null      float64\n",
      " 6   rental_duration       1000 non-null   int64  \n",
      " 7   rental_rate           1000 non-null   float64\n",
      " 8   length                1000 non-null   int64  \n",
      " 9   replacement_cost      1000 non-null   float64\n",
      " 10  rating                1000 non-null   object \n",
      " 11  special_features      1000 non-null   object \n",
      " 12  last_update           1000 non-null   object \n",
      "dtypes: float64(3), int64(5), object(5)\n",
      "memory usage: 101.7+ KB\n"
     ]
    }
   ],
   "source": [
    "df_film.info()"
   ]
  },
  {
   "cell_type": "markdown",
   "id": "d36b48d7",
   "metadata": {},
   "source": [
    "Primeramente, según la información proporcionada anteriormente, se aprecia que existe una columna en la que todos sus valores son nulos. Por lo tanto, el primer paso será eliminar dicha columna."
   ]
  },
  {
   "cell_type": "code",
   "execution_count": 51,
   "id": "fc6ff4c7",
   "metadata": {},
   "outputs": [],
   "source": [
    "df_film.drop(columns=['original_language_id'], inplace=True)"
   ]
  },
  {
   "cell_type": "markdown",
   "id": "0c72827f",
   "metadata": {},
   "source": [
    "Seguidamente, resulta de interés determinar si alguna de las columnas contiene valores constantes, ya que estos no aportan información adicional o especialmnete relevante. En caso de hallar dichas columnas, se considerará su eliminación."
   ]
  },
  {
   "cell_type": "code",
   "execution_count": 52,
   "id": "d612d7be",
   "metadata": {},
   "outputs": [
    {
     "data": {
      "text/plain": [
       "['release_year', 'language_id']"
      ]
     },
     "execution_count": 52,
     "metadata": {},
     "output_type": "execute_result"
    }
   ],
   "source": [
    "cte_cols_film = []\n",
    "for c in df_film.select_dtypes(include=np.number):   # para cada columna numerica.....\n",
    "    if len(df_film[c].unique()) == 1:\n",
    "        cte_cols_film.append(c)\n",
    "cte_cols_film   "
   ]
  },
  {
   "cell_type": "markdown",
   "id": "04022b94",
   "metadata": {},
   "source": [
    "De hecho, se han identificado dos columnas que cumplen con esta condición (estas deberán eliminarse). \n",
    "\n",
    "Sin embargo, es relevante destacar que esta revisión se ha realizado únicamente en las columnas numéricas. No obstante, es necesario considerar que otras columnas podrían presentar la misma situación. Comprobémoslo:"
   ]
  },
  {
   "cell_type": "code",
   "execution_count": 54,
   "id": "7a2050a9",
   "metadata": {},
   "outputs": [
    {
     "ename": "KeyError",
     "evalue": "\"['release_year'] not found in axis\"",
     "output_type": "error",
     "traceback": [
      "\u001b[0;31m---------------------------------------------------------------------------\u001b[0m",
      "\u001b[0;31mKeyError\u001b[0m                                  Traceback (most recent call last)",
      "Cell \u001b[0;32mIn[54], line 1\u001b[0m\n\u001b[0;32m----> 1\u001b[0m df_film\u001b[38;5;241m.\u001b[39mdrop(columns\u001b[38;5;241m=\u001b[39m[\u001b[38;5;124m'\u001b[39m\u001b[38;5;124mrelease_year\u001b[39m\u001b[38;5;124m'\u001b[39m], inplace\u001b[38;5;241m=\u001b[39m\u001b[38;5;28;01mTrue\u001b[39;00m) \u001b[38;5;66;03m#primero eliminamos las dos columnas numéricas con valor constante.\u001b[39;00m\n\u001b[1;32m      2\u001b[0m df_film\u001b[38;5;241m.\u001b[39mdrop(columns\u001b[38;5;241m=\u001b[39m[\u001b[38;5;124m'\u001b[39m\u001b[38;5;124mlanguage_id\u001b[39m\u001b[38;5;124m'\u001b[39m], inplace\u001b[38;5;241m=\u001b[39m\u001b[38;5;28;01mTrue\u001b[39;00m)\n",
      "File \u001b[0;32m~/anaconda3/lib/python3.11/site-packages/pandas/util/_decorators.py:331\u001b[0m, in \u001b[0;36mdeprecate_nonkeyword_arguments.<locals>.decorate.<locals>.wrapper\u001b[0;34m(*args, **kwargs)\u001b[0m\n\u001b[1;32m    325\u001b[0m \u001b[38;5;28;01mif\u001b[39;00m \u001b[38;5;28mlen\u001b[39m(args) \u001b[38;5;241m>\u001b[39m num_allow_args:\n\u001b[1;32m    326\u001b[0m     warnings\u001b[38;5;241m.\u001b[39mwarn(\n\u001b[1;32m    327\u001b[0m         msg\u001b[38;5;241m.\u001b[39mformat(arguments\u001b[38;5;241m=\u001b[39m_format_argument_list(allow_args)),\n\u001b[1;32m    328\u001b[0m         \u001b[38;5;167;01mFutureWarning\u001b[39;00m,\n\u001b[1;32m    329\u001b[0m         stacklevel\u001b[38;5;241m=\u001b[39mfind_stack_level(),\n\u001b[1;32m    330\u001b[0m     )\n\u001b[0;32m--> 331\u001b[0m \u001b[38;5;28;01mreturn\u001b[39;00m func(\u001b[38;5;241m*\u001b[39margs, \u001b[38;5;241m*\u001b[39m\u001b[38;5;241m*\u001b[39mkwargs)\n",
      "File \u001b[0;32m~/anaconda3/lib/python3.11/site-packages/pandas/core/frame.py:5399\u001b[0m, in \u001b[0;36mDataFrame.drop\u001b[0;34m(self, labels, axis, index, columns, level, inplace, errors)\u001b[0m\n\u001b[1;32m   5251\u001b[0m \u001b[38;5;129m@deprecate_nonkeyword_arguments\u001b[39m(version\u001b[38;5;241m=\u001b[39m\u001b[38;5;28;01mNone\u001b[39;00m, allowed_args\u001b[38;5;241m=\u001b[39m[\u001b[38;5;124m\"\u001b[39m\u001b[38;5;124mself\u001b[39m\u001b[38;5;124m\"\u001b[39m, \u001b[38;5;124m\"\u001b[39m\u001b[38;5;124mlabels\u001b[39m\u001b[38;5;124m\"\u001b[39m])\n\u001b[1;32m   5252\u001b[0m \u001b[38;5;28;01mdef\u001b[39;00m \u001b[38;5;21mdrop\u001b[39m(  \u001b[38;5;66;03m# type: ignore[override]\u001b[39;00m\n\u001b[1;32m   5253\u001b[0m     \u001b[38;5;28mself\u001b[39m,\n\u001b[0;32m   (...)\u001b[0m\n\u001b[1;32m   5260\u001b[0m     errors: IgnoreRaise \u001b[38;5;241m=\u001b[39m \u001b[38;5;124m\"\u001b[39m\u001b[38;5;124mraise\u001b[39m\u001b[38;5;124m\"\u001b[39m,\n\u001b[1;32m   5261\u001b[0m ) \u001b[38;5;241m-\u001b[39m\u001b[38;5;241m>\u001b[39m DataFrame \u001b[38;5;241m|\u001b[39m \u001b[38;5;28;01mNone\u001b[39;00m:\n\u001b[1;32m   5262\u001b[0m \u001b[38;5;250m    \u001b[39m\u001b[38;5;124;03m\"\"\"\u001b[39;00m\n\u001b[1;32m   5263\u001b[0m \u001b[38;5;124;03m    Drop specified labels from rows or columns.\u001b[39;00m\n\u001b[1;32m   5264\u001b[0m \n\u001b[0;32m   (...)\u001b[0m\n\u001b[1;32m   5397\u001b[0m \u001b[38;5;124;03m            weight  1.0     0.8\u001b[39;00m\n\u001b[1;32m   5398\u001b[0m \u001b[38;5;124;03m    \"\"\"\u001b[39;00m\n\u001b[0;32m-> 5399\u001b[0m     \u001b[38;5;28;01mreturn\u001b[39;00m \u001b[38;5;28msuper\u001b[39m()\u001b[38;5;241m.\u001b[39mdrop(\n\u001b[1;32m   5400\u001b[0m         labels\u001b[38;5;241m=\u001b[39mlabels,\n\u001b[1;32m   5401\u001b[0m         axis\u001b[38;5;241m=\u001b[39maxis,\n\u001b[1;32m   5402\u001b[0m         index\u001b[38;5;241m=\u001b[39mindex,\n\u001b[1;32m   5403\u001b[0m         columns\u001b[38;5;241m=\u001b[39mcolumns,\n\u001b[1;32m   5404\u001b[0m         level\u001b[38;5;241m=\u001b[39mlevel,\n\u001b[1;32m   5405\u001b[0m         inplace\u001b[38;5;241m=\u001b[39minplace,\n\u001b[1;32m   5406\u001b[0m         errors\u001b[38;5;241m=\u001b[39merrors,\n\u001b[1;32m   5407\u001b[0m     )\n",
      "File \u001b[0;32m~/anaconda3/lib/python3.11/site-packages/pandas/util/_decorators.py:331\u001b[0m, in \u001b[0;36mdeprecate_nonkeyword_arguments.<locals>.decorate.<locals>.wrapper\u001b[0;34m(*args, **kwargs)\u001b[0m\n\u001b[1;32m    325\u001b[0m \u001b[38;5;28;01mif\u001b[39;00m \u001b[38;5;28mlen\u001b[39m(args) \u001b[38;5;241m>\u001b[39m num_allow_args:\n\u001b[1;32m    326\u001b[0m     warnings\u001b[38;5;241m.\u001b[39mwarn(\n\u001b[1;32m    327\u001b[0m         msg\u001b[38;5;241m.\u001b[39mformat(arguments\u001b[38;5;241m=\u001b[39m_format_argument_list(allow_args)),\n\u001b[1;32m    328\u001b[0m         \u001b[38;5;167;01mFutureWarning\u001b[39;00m,\n\u001b[1;32m    329\u001b[0m         stacklevel\u001b[38;5;241m=\u001b[39mfind_stack_level(),\n\u001b[1;32m    330\u001b[0m     )\n\u001b[0;32m--> 331\u001b[0m \u001b[38;5;28;01mreturn\u001b[39;00m func(\u001b[38;5;241m*\u001b[39margs, \u001b[38;5;241m*\u001b[39m\u001b[38;5;241m*\u001b[39mkwargs)\n",
      "File \u001b[0;32m~/anaconda3/lib/python3.11/site-packages/pandas/core/generic.py:4505\u001b[0m, in \u001b[0;36mNDFrame.drop\u001b[0;34m(self, labels, axis, index, columns, level, inplace, errors)\u001b[0m\n\u001b[1;32m   4503\u001b[0m \u001b[38;5;28;01mfor\u001b[39;00m axis, labels \u001b[38;5;129;01min\u001b[39;00m axes\u001b[38;5;241m.\u001b[39mitems():\n\u001b[1;32m   4504\u001b[0m     \u001b[38;5;28;01mif\u001b[39;00m labels \u001b[38;5;129;01mis\u001b[39;00m \u001b[38;5;129;01mnot\u001b[39;00m \u001b[38;5;28;01mNone\u001b[39;00m:\n\u001b[0;32m-> 4505\u001b[0m         obj \u001b[38;5;241m=\u001b[39m obj\u001b[38;5;241m.\u001b[39m_drop_axis(labels, axis, level\u001b[38;5;241m=\u001b[39mlevel, errors\u001b[38;5;241m=\u001b[39merrors)\n\u001b[1;32m   4507\u001b[0m \u001b[38;5;28;01mif\u001b[39;00m inplace:\n\u001b[1;32m   4508\u001b[0m     \u001b[38;5;28mself\u001b[39m\u001b[38;5;241m.\u001b[39m_update_inplace(obj)\n",
      "File \u001b[0;32m~/anaconda3/lib/python3.11/site-packages/pandas/core/generic.py:4546\u001b[0m, in \u001b[0;36mNDFrame._drop_axis\u001b[0;34m(self, labels, axis, level, errors, only_slice)\u001b[0m\n\u001b[1;32m   4544\u001b[0m         new_axis \u001b[38;5;241m=\u001b[39m axis\u001b[38;5;241m.\u001b[39mdrop(labels, level\u001b[38;5;241m=\u001b[39mlevel, errors\u001b[38;5;241m=\u001b[39merrors)\n\u001b[1;32m   4545\u001b[0m     \u001b[38;5;28;01melse\u001b[39;00m:\n\u001b[0;32m-> 4546\u001b[0m         new_axis \u001b[38;5;241m=\u001b[39m axis\u001b[38;5;241m.\u001b[39mdrop(labels, errors\u001b[38;5;241m=\u001b[39merrors)\n\u001b[1;32m   4547\u001b[0m     indexer \u001b[38;5;241m=\u001b[39m axis\u001b[38;5;241m.\u001b[39mget_indexer(new_axis)\n\u001b[1;32m   4549\u001b[0m \u001b[38;5;66;03m# Case for non-unique axis\u001b[39;00m\n\u001b[1;32m   4550\u001b[0m \u001b[38;5;28;01melse\u001b[39;00m:\n",
      "File \u001b[0;32m~/anaconda3/lib/python3.11/site-packages/pandas/core/indexes/base.py:6934\u001b[0m, in \u001b[0;36mIndex.drop\u001b[0;34m(self, labels, errors)\u001b[0m\n\u001b[1;32m   6932\u001b[0m \u001b[38;5;28;01mif\u001b[39;00m mask\u001b[38;5;241m.\u001b[39many():\n\u001b[1;32m   6933\u001b[0m     \u001b[38;5;28;01mif\u001b[39;00m errors \u001b[38;5;241m!=\u001b[39m \u001b[38;5;124m\"\u001b[39m\u001b[38;5;124mignore\u001b[39m\u001b[38;5;124m\"\u001b[39m:\n\u001b[0;32m-> 6934\u001b[0m         \u001b[38;5;28;01mraise\u001b[39;00m \u001b[38;5;167;01mKeyError\u001b[39;00m(\u001b[38;5;124mf\u001b[39m\u001b[38;5;124m\"\u001b[39m\u001b[38;5;132;01m{\u001b[39;00m\u001b[38;5;28mlist\u001b[39m(labels[mask])\u001b[38;5;132;01m}\u001b[39;00m\u001b[38;5;124m not found in axis\u001b[39m\u001b[38;5;124m\"\u001b[39m)\n\u001b[1;32m   6935\u001b[0m     indexer \u001b[38;5;241m=\u001b[39m indexer[\u001b[38;5;241m~\u001b[39mmask]\n\u001b[1;32m   6936\u001b[0m \u001b[38;5;28;01mreturn\u001b[39;00m \u001b[38;5;28mself\u001b[39m\u001b[38;5;241m.\u001b[39mdelete(indexer)\n",
      "\u001b[0;31mKeyError\u001b[0m: \"['release_year'] not found in axis\""
     ]
    }
   ],
   "source": [
    "df_film.drop(columns=['release_year'], inplace=True) #primero eliminamos las dos columnas numéricas con valor constante.\n",
    "df_film.drop(columns=['language_id'], inplace=True)"
   ]
  },
  {
   "cell_type": "code",
   "execution_count": 55,
   "id": "8bf49d55",
   "metadata": {},
   "outputs": [
    {
     "data": {
      "text/plain": [
       "array(['2006-02-15 05:03:42'], dtype=object)"
      ]
     },
     "execution_count": 55,
     "metadata": {},
     "output_type": "execute_result"
    }
   ],
   "source": [
    "df_film.last_update.unique()"
   ]
  },
  {
   "cell_type": "markdown",
   "id": "211c07b6",
   "metadata": {},
   "source": [
    "Al parecer, esta también lo es, por lo que también debe eliminarse."
   ]
  },
  {
   "cell_type": "code",
   "execution_count": 56,
   "id": "e18c0dc6",
   "metadata": {},
   "outputs": [],
   "source": [
    "df_film.drop(columns=['last_update'], inplace=True)"
   ]
  },
  {
   "cell_type": "markdown",
   "id": "9c746c21",
   "metadata": {},
   "source": [
    "Realizamos la prueba con el resto de ellas, como se puede apreciar a continuación, por el momento, no se reconoce nada sospechoso en las mismas."
   ]
  },
  {
   "cell_type": "code",
   "execution_count": 57,
   "id": "cfc50f98",
   "metadata": {},
   "outputs": [],
   "source": [
    "#df_film.film_id.unique()"
   ]
  },
  {
   "cell_type": "code",
   "execution_count": 58,
   "id": "e76fe0c8",
   "metadata": {},
   "outputs": [],
   "source": [
    "#df_film.title.unique()"
   ]
  },
  {
   "cell_type": "code",
   "execution_count": 59,
   "id": "ce572178",
   "metadata": {},
   "outputs": [],
   "source": [
    "#df_film.description.unique()"
   ]
  },
  {
   "cell_type": "code",
   "execution_count": 60,
   "id": "a6886d11",
   "metadata": {},
   "outputs": [
    {
     "data": {
      "text/plain": [
       "array([6, 3, 7, 5, 4])"
      ]
     },
     "execution_count": 60,
     "metadata": {},
     "output_type": "execute_result"
    }
   ],
   "source": [
    "df_film.rental_duration.unique()"
   ]
  },
  {
   "cell_type": "code",
   "execution_count": 61,
   "id": "9ed6bdd3",
   "metadata": {},
   "outputs": [],
   "source": [
    "#df_film.rental_rate.unique()"
   ]
  },
  {
   "cell_type": "code",
   "execution_count": 62,
   "id": "8b71b8c1",
   "metadata": {},
   "outputs": [],
   "source": [
    "#df_film.length.unique()"
   ]
  },
  {
   "cell_type": "code",
   "execution_count": 63,
   "id": "7f8db553",
   "metadata": {},
   "outputs": [],
   "source": [
    "#df_film.special_features.unique()"
   ]
  },
  {
   "cell_type": "code",
   "execution_count": 64,
   "id": "31d194db",
   "metadata": {},
   "outputs": [],
   "source": [
    "#df_film.length.unique()"
   ]
  },
  {
   "cell_type": "markdown",
   "id": "c8973336",
   "metadata": {},
   "source": [
    "Ahora, procederé a buscar posibles valores repetidos en alguna de las columnas en las que esto resulte raro, es decir, las no numéricas, en las cuales no hay problema alguno en que el valor se repita:"
   ]
  },
  {
   "cell_type": "code",
   "execution_count": 76,
   "id": "a2a4a865",
   "metadata": {},
   "outputs": [
    {
     "data": {
      "text/plain": [
       "1       1\n",
       "672     1\n",
       "659     1\n",
       "660     1\n",
       "661     1\n",
       "       ..\n",
       "339     1\n",
       "340     1\n",
       "341     1\n",
       "342     1\n",
       "1000    1\n",
       "Name: film_id, Length: 1000, dtype: int64"
      ]
     },
     "execution_count": 76,
     "metadata": {},
     "output_type": "execute_result"
    }
   ],
   "source": [
    "df_film[\"film_id\"].value_counts()"
   ]
  },
  {
   "cell_type": "code",
   "execution_count": 77,
   "id": "026d0349",
   "metadata": {},
   "outputs": [
    {
     "data": {
      "text/plain": [
       "ACADEMY DINOSAUR    1\n",
       "PERFECT GROOVE      1\n",
       "PARK CITIZEN        1\n",
       "PARTY KNOCK         1\n",
       "PAST SUICIDES       1\n",
       "                   ..\n",
       "FROGMEN BREAKING    1\n",
       "FRONTIER CABIN      1\n",
       "FROST HEAD          1\n",
       "FUGITIVE MAGUIRE    1\n",
       "ZORRO ARK           1\n",
       "Name: title, Length: 1000, dtype: int64"
      ]
     },
     "execution_count": 77,
     "metadata": {},
     "output_type": "execute_result"
    }
   ],
   "source": [
    "df_film[\"title\"].value_counts()"
   ]
  },
  {
   "cell_type": "code",
   "execution_count": 78,
   "id": "43338d48",
   "metadata": {},
   "outputs": [
    {
     "data": {
      "text/plain": [
       "A Epic Drama of a Feminist And a Mad Scientist who must Battle a Teacher in The Canadian Rockies                   1\n",
       "A Thrilling Yarn of a Dog And a Dog who must Build a Husband in A Baloon                                           1\n",
       "A Taut Epistle of a Sumo Wrestler And a Girl who must Face a Husband in Ancient Japan                              1\n",
       "A Fateful Display of a Technical Writer And a Butler who must Battle a Sumo Wrestler in An Abandoned Mine Shaft    1\n",
       "A Intrepid Tale of a Madman And a Astronaut who must Challenge a Hunter in A Monastery                             1\n",
       "                                                                                                                  ..\n",
       "A Unbelieveable Yarn of a Mad Scientist And a Cat who must Chase a Lumberjack in Australia                         1\n",
       "A Emotional Story of a Madman And a Waitress who must Battle a Teacher in An Abandoned Fun House                   1\n",
       "A Amazing Reflection of a Lumberjack And a Cat who must Discover a Husband in A MySQL Convention                   1\n",
       "A Taut Epistle of a Feminist And a Sumo Wrestler who must Battle a Crocodile in Australia                          1\n",
       "A Intrepid Panorama of a Mad Scientist And a Boy who must Redeem a Boy in A Monastery                              1\n",
       "Name: description, Length: 1000, dtype: int64"
      ]
     },
     "execution_count": 78,
     "metadata": {},
     "output_type": "execute_result"
    }
   ],
   "source": [
    "df_film[\"description\"].value_counts()"
   ]
  },
  {
   "cell_type": "markdown",
   "id": "be78d83b",
   "metadata": {},
   "source": [
    "Revisamos que no haya ningún valor especialemnte atípico para cada una de las columnas númericas de la tabla."
   ]
  },
  {
   "cell_type": "code",
   "execution_count": 65,
   "id": "bb98fe77",
   "metadata": {},
   "outputs": [
    {
     "data": {
      "text/html": [
       "<div>\n",
       "<style scoped>\n",
       "    .dataframe tbody tr th:only-of-type {\n",
       "        vertical-align: middle;\n",
       "    }\n",
       "\n",
       "    .dataframe tbody tr th {\n",
       "        vertical-align: top;\n",
       "    }\n",
       "\n",
       "    .dataframe thead th {\n",
       "        text-align: right;\n",
       "    }\n",
       "</style>\n",
       "<table border=\"1\" class=\"dataframe\">\n",
       "  <thead>\n",
       "    <tr style=\"text-align: right;\">\n",
       "      <th></th>\n",
       "      <th>count</th>\n",
       "      <th>mean</th>\n",
       "      <th>std</th>\n",
       "      <th>min</th>\n",
       "      <th>25%</th>\n",
       "      <th>50%</th>\n",
       "      <th>75%</th>\n",
       "      <th>max</th>\n",
       "    </tr>\n",
       "  </thead>\n",
       "  <tbody>\n",
       "    <tr>\n",
       "      <th>film_id</th>\n",
       "      <td>1000.0</td>\n",
       "      <td>500.500</td>\n",
       "      <td>288.819436</td>\n",
       "      <td>1.00</td>\n",
       "      <td>250.75</td>\n",
       "      <td>500.50</td>\n",
       "      <td>750.25</td>\n",
       "      <td>1000.00</td>\n",
       "    </tr>\n",
       "    <tr>\n",
       "      <th>rental_duration</th>\n",
       "      <td>1000.0</td>\n",
       "      <td>4.985</td>\n",
       "      <td>1.411654</td>\n",
       "      <td>3.00</td>\n",
       "      <td>4.00</td>\n",
       "      <td>5.00</td>\n",
       "      <td>6.00</td>\n",
       "      <td>7.00</td>\n",
       "    </tr>\n",
       "    <tr>\n",
       "      <th>rental_rate</th>\n",
       "      <td>1000.0</td>\n",
       "      <td>2.980</td>\n",
       "      <td>1.646393</td>\n",
       "      <td>0.99</td>\n",
       "      <td>0.99</td>\n",
       "      <td>2.99</td>\n",
       "      <td>4.99</td>\n",
       "      <td>4.99</td>\n",
       "    </tr>\n",
       "    <tr>\n",
       "      <th>length</th>\n",
       "      <td>1000.0</td>\n",
       "      <td>115.272</td>\n",
       "      <td>40.426332</td>\n",
       "      <td>46.00</td>\n",
       "      <td>80.00</td>\n",
       "      <td>114.00</td>\n",
       "      <td>149.25</td>\n",
       "      <td>185.00</td>\n",
       "    </tr>\n",
       "    <tr>\n",
       "      <th>replacement_cost</th>\n",
       "      <td>1000.0</td>\n",
       "      <td>19.984</td>\n",
       "      <td>6.050833</td>\n",
       "      <td>9.99</td>\n",
       "      <td>14.99</td>\n",
       "      <td>19.99</td>\n",
       "      <td>24.99</td>\n",
       "      <td>29.99</td>\n",
       "    </tr>\n",
       "  </tbody>\n",
       "</table>\n",
       "</div>"
      ],
      "text/plain": [
       "                   count     mean         std    min     25%     50%     75%  \\\n",
       "film_id           1000.0  500.500  288.819436   1.00  250.75  500.50  750.25   \n",
       "rental_duration   1000.0    4.985    1.411654   3.00    4.00    5.00    6.00   \n",
       "rental_rate       1000.0    2.980    1.646393   0.99    0.99    2.99    4.99   \n",
       "length            1000.0  115.272   40.426332  46.00   80.00  114.00  149.25   \n",
       "replacement_cost  1000.0   19.984    6.050833   9.99   14.99   19.99   24.99   \n",
       "\n",
       "                      max  \n",
       "film_id           1000.00  \n",
       "rental_duration      7.00  \n",
       "rental_rate          4.99  \n",
       "length             185.00  \n",
       "replacement_cost    29.99  "
      ]
     },
     "execution_count": 65,
     "metadata": {},
     "output_type": "execute_result"
    }
   ],
   "source": [
    "df_film.describe().T"
   ]
  },
  {
   "cell_type": "markdown",
   "id": "fa63e1ee",
   "metadata": {},
   "source": [
    "Tanto la duración del alquiler, el coste de este, la duración o los costes de reposición no presentan nada que sea digno de anotar."
   ]
  },
  {
   "cell_type": "code",
   "execution_count": 66,
   "id": "7bdf7469",
   "metadata": {},
   "outputs": [
    {
     "data": {
      "text/html": [
       "<div>\n",
       "<style scoped>\n",
       "    .dataframe tbody tr th:only-of-type {\n",
       "        vertical-align: middle;\n",
       "    }\n",
       "\n",
       "    .dataframe tbody tr th {\n",
       "        vertical-align: top;\n",
       "    }\n",
       "\n",
       "    .dataframe thead th {\n",
       "        text-align: right;\n",
       "    }\n",
       "</style>\n",
       "<table border=\"1\" class=\"dataframe\">\n",
       "  <thead>\n",
       "    <tr style=\"text-align: right;\">\n",
       "      <th></th>\n",
       "      <th>film_id</th>\n",
       "      <th>title</th>\n",
       "      <th>description</th>\n",
       "      <th>rental_duration</th>\n",
       "      <th>rental_rate</th>\n",
       "      <th>length</th>\n",
       "      <th>replacement_cost</th>\n",
       "      <th>rating</th>\n",
       "      <th>special_features</th>\n",
       "    </tr>\n",
       "  </thead>\n",
       "  <tbody>\n",
       "    <tr>\n",
       "      <th>0</th>\n",
       "      <td>1</td>\n",
       "      <td>ACADEMY DINOSAUR</td>\n",
       "      <td>A Epic Drama of a Feminist And a Mad Scientist...</td>\n",
       "      <td>6</td>\n",
       "      <td>0.99</td>\n",
       "      <td>86</td>\n",
       "      <td>20.99</td>\n",
       "      <td>PG</td>\n",
       "      <td>Deleted Scenes,Behind the Scenes</td>\n",
       "    </tr>\n",
       "    <tr>\n",
       "      <th>1</th>\n",
       "      <td>2</td>\n",
       "      <td>ACE GOLDFINGER</td>\n",
       "      <td>A Astounding Epistle of a Database Administrat...</td>\n",
       "      <td>3</td>\n",
       "      <td>4.99</td>\n",
       "      <td>48</td>\n",
       "      <td>12.99</td>\n",
       "      <td>G</td>\n",
       "      <td>Trailers,Deleted Scenes</td>\n",
       "    </tr>\n",
       "    <tr>\n",
       "      <th>2</th>\n",
       "      <td>3</td>\n",
       "      <td>ADAPTATION HOLES</td>\n",
       "      <td>A Astounding Reflection of a Lumberjack And a ...</td>\n",
       "      <td>7</td>\n",
       "      <td>2.99</td>\n",
       "      <td>50</td>\n",
       "      <td>18.99</td>\n",
       "      <td>NC-17</td>\n",
       "      <td>Trailers,Deleted Scenes</td>\n",
       "    </tr>\n",
       "    <tr>\n",
       "      <th>3</th>\n",
       "      <td>4</td>\n",
       "      <td>AFFAIR PREJUDICE</td>\n",
       "      <td>A Fanciful Documentary of a Frisbee And a Lumb...</td>\n",
       "      <td>5</td>\n",
       "      <td>2.99</td>\n",
       "      <td>117</td>\n",
       "      <td>26.99</td>\n",
       "      <td>G</td>\n",
       "      <td>Commentaries,Behind the Scenes</td>\n",
       "    </tr>\n",
       "    <tr>\n",
       "      <th>4</th>\n",
       "      <td>5</td>\n",
       "      <td>AFRICAN EGG</td>\n",
       "      <td>A Fast-Paced Documentary of a Pastry Chef And ...</td>\n",
       "      <td>6</td>\n",
       "      <td>2.99</td>\n",
       "      <td>130</td>\n",
       "      <td>22.99</td>\n",
       "      <td>G</td>\n",
       "      <td>Deleted Scenes</td>\n",
       "    </tr>\n",
       "  </tbody>\n",
       "</table>\n",
       "</div>"
      ],
      "text/plain": [
       "   film_id             title  \\\n",
       "0        1  ACADEMY DINOSAUR   \n",
       "1        2    ACE GOLDFINGER   \n",
       "2        3  ADAPTATION HOLES   \n",
       "3        4  AFFAIR PREJUDICE   \n",
       "4        5       AFRICAN EGG   \n",
       "\n",
       "                                         description  rental_duration  \\\n",
       "0  A Epic Drama of a Feminist And a Mad Scientist...                6   \n",
       "1  A Astounding Epistle of a Database Administrat...                3   \n",
       "2  A Astounding Reflection of a Lumberjack And a ...                7   \n",
       "3  A Fanciful Documentary of a Frisbee And a Lumb...                5   \n",
       "4  A Fast-Paced Documentary of a Pastry Chef And ...                6   \n",
       "\n",
       "   rental_rate  length  replacement_cost rating  \\\n",
       "0         0.99      86             20.99     PG   \n",
       "1         4.99      48             12.99      G   \n",
       "2         2.99      50             18.99  NC-17   \n",
       "3         2.99     117             26.99      G   \n",
       "4         2.99     130             22.99      G   \n",
       "\n",
       "                   special_features  \n",
       "0  Deleted Scenes,Behind the Scenes  \n",
       "1           Trailers,Deleted Scenes  \n",
       "2           Trailers,Deleted Scenes  \n",
       "3    Commentaries,Behind the Scenes  \n",
       "4                    Deleted Scenes  "
      ]
     },
     "execution_count": 66,
     "metadata": {},
     "output_type": "execute_result"
    }
   ],
   "source": [
    "df_film.head()"
   ]
  },
  {
   "cell_type": "markdown",
   "id": "98c109d9",
   "metadata": {},
   "source": [
    "Al ver el cabecero de la tabla, observo que en la columna de \"special_features\" las frases separadas por una \",\" no cuentan con el espacio que debe haber. Así, lo modifico:"
   ]
  },
  {
   "cell_type": "code",
   "execution_count": 69,
   "id": "db910d19",
   "metadata": {},
   "outputs": [],
   "source": [
    "df_film['special_features'] = df_film['special_features'].str.replace(',', ', ')"
   ]
  },
  {
   "cell_type": "code",
   "execution_count": 71,
   "id": "21218bd0",
   "metadata": {},
   "outputs": [
    {
     "data": {
      "text/plain": [
       "Series([], dtype: int64)"
      ]
     },
     "execution_count": 71,
     "metadata": {},
     "output_type": "execute_result"
    }
   ],
   "source": [
    "# Columnas que contienen valores nulos y la cantidad de estos en cada una de ellas:\n",
    "\n",
    "nan_cols_film = df_film.isna().sum() #De nuevo, ninguna.\n",
    "nan_cols_film[nan_cols_film>0]"
   ]
  },
  {
   "cell_type": "code",
   "execution_count": 70,
   "id": "44fd6453",
   "metadata": {},
   "outputs": [
    {
     "data": {
      "text/html": [
       "<div>\n",
       "<style scoped>\n",
       "    .dataframe tbody tr th:only-of-type {\n",
       "        vertical-align: middle;\n",
       "    }\n",
       "\n",
       "    .dataframe tbody tr th {\n",
       "        vertical-align: top;\n",
       "    }\n",
       "\n",
       "    .dataframe thead th {\n",
       "        text-align: right;\n",
       "    }\n",
       "</style>\n",
       "<table border=\"1\" class=\"dataframe\">\n",
       "  <thead>\n",
       "    <tr style=\"text-align: right;\">\n",
       "      <th></th>\n",
       "      <th>film_id</th>\n",
       "      <th>title</th>\n",
       "      <th>description</th>\n",
       "      <th>rental_duration</th>\n",
       "      <th>rental_rate</th>\n",
       "      <th>length</th>\n",
       "      <th>replacement_cost</th>\n",
       "      <th>rating</th>\n",
       "      <th>special_features</th>\n",
       "    </tr>\n",
       "  </thead>\n",
       "  <tbody>\n",
       "    <tr>\n",
       "      <th>0</th>\n",
       "      <td>1</td>\n",
       "      <td>ACADEMY DINOSAUR</td>\n",
       "      <td>A Epic Drama of a Feminist And a Mad Scientist...</td>\n",
       "      <td>6</td>\n",
       "      <td>0.99</td>\n",
       "      <td>86</td>\n",
       "      <td>20.99</td>\n",
       "      <td>PG</td>\n",
       "      <td>Deleted Scenes,   Behind the Scenes</td>\n",
       "    </tr>\n",
       "    <tr>\n",
       "      <th>1</th>\n",
       "      <td>2</td>\n",
       "      <td>ACE GOLDFINGER</td>\n",
       "      <td>A Astounding Epistle of a Database Administrat...</td>\n",
       "      <td>3</td>\n",
       "      <td>4.99</td>\n",
       "      <td>48</td>\n",
       "      <td>12.99</td>\n",
       "      <td>G</td>\n",
       "      <td>Trailers,   Deleted Scenes</td>\n",
       "    </tr>\n",
       "    <tr>\n",
       "      <th>2</th>\n",
       "      <td>3</td>\n",
       "      <td>ADAPTATION HOLES</td>\n",
       "      <td>A Astounding Reflection of a Lumberjack And a ...</td>\n",
       "      <td>7</td>\n",
       "      <td>2.99</td>\n",
       "      <td>50</td>\n",
       "      <td>18.99</td>\n",
       "      <td>NC-17</td>\n",
       "      <td>Trailers,   Deleted Scenes</td>\n",
       "    </tr>\n",
       "    <tr>\n",
       "      <th>3</th>\n",
       "      <td>4</td>\n",
       "      <td>AFFAIR PREJUDICE</td>\n",
       "      <td>A Fanciful Documentary of a Frisbee And a Lumb...</td>\n",
       "      <td>5</td>\n",
       "      <td>2.99</td>\n",
       "      <td>117</td>\n",
       "      <td>26.99</td>\n",
       "      <td>G</td>\n",
       "      <td>Commentaries,   Behind the Scenes</td>\n",
       "    </tr>\n",
       "    <tr>\n",
       "      <th>4</th>\n",
       "      <td>5</td>\n",
       "      <td>AFRICAN EGG</td>\n",
       "      <td>A Fast-Paced Documentary of a Pastry Chef And ...</td>\n",
       "      <td>6</td>\n",
       "      <td>2.99</td>\n",
       "      <td>130</td>\n",
       "      <td>22.99</td>\n",
       "      <td>G</td>\n",
       "      <td>Deleted Scenes</td>\n",
       "    </tr>\n",
       "  </tbody>\n",
       "</table>\n",
       "</div>"
      ],
      "text/plain": [
       "   film_id             title  \\\n",
       "0        1  ACADEMY DINOSAUR   \n",
       "1        2    ACE GOLDFINGER   \n",
       "2        3  ADAPTATION HOLES   \n",
       "3        4  AFFAIR PREJUDICE   \n",
       "4        5       AFRICAN EGG   \n",
       "\n",
       "                                         description  rental_duration  \\\n",
       "0  A Epic Drama of a Feminist And a Mad Scientist...                6   \n",
       "1  A Astounding Epistle of a Database Administrat...                3   \n",
       "2  A Astounding Reflection of a Lumberjack And a ...                7   \n",
       "3  A Fanciful Documentary of a Frisbee And a Lumb...                5   \n",
       "4  A Fast-Paced Documentary of a Pastry Chef And ...                6   \n",
       "\n",
       "   rental_rate  length  replacement_cost rating  \\\n",
       "0         0.99      86             20.99     PG   \n",
       "1         4.99      48             12.99      G   \n",
       "2         2.99      50             18.99  NC-17   \n",
       "3         2.99     117             26.99      G   \n",
       "4         2.99     130             22.99      G   \n",
       "\n",
       "                      special_features  \n",
       "0  Deleted Scenes,   Behind the Scenes  \n",
       "1           Trailers,   Deleted Scenes  \n",
       "2           Trailers,   Deleted Scenes  \n",
       "3    Commentaries,   Behind the Scenes  \n",
       "4                       Deleted Scenes  "
      ]
     },
     "execution_count": 70,
     "metadata": {},
     "output_type": "execute_result"
    }
   ],
   "source": [
    "df_film.head()"
   ]
  },
  {
   "cell_type": "code",
   "execution_count": 74,
   "id": "f46fde2c",
   "metadata": {},
   "outputs": [
    {
     "data": {
      "text/plain": [
       "(1000, 9)"
      ]
     },
     "execution_count": 74,
     "metadata": {},
     "output_type": "execute_result"
    }
   ],
   "source": [
    "df_film.shape"
   ]
  },
  {
   "cell_type": "markdown",
   "id": "017e55c0",
   "metadata": {},
   "source": [
    "# 1.4 DataFrame Inventory."
   ]
  },
  {
   "cell_type": "code",
   "execution_count": 81,
   "id": "943d6a4e",
   "metadata": {},
   "outputs": [],
   "source": [
    "df_original_inventory = pd.read_csv('data/inventory.csv', encoding='latin1')\n",
    "df_inventory = df_original_inventory.copy()"
   ]
  },
  {
   "cell_type": "code",
   "execution_count": 82,
   "id": "3f6aa3e9",
   "metadata": {},
   "outputs": [
    {
     "data": {
      "text/plain": [
       "(1000, 4)"
      ]
     },
     "execution_count": 82,
     "metadata": {},
     "output_type": "execute_result"
    }
   ],
   "source": [
    "dim_original_inventory = df_inventory.shape # De esta forma guardo las dimensiones del data frame original.\n",
    "df_inventory.shape"
   ]
  },
  {
   "cell_type": "code",
   "execution_count": 83,
   "id": "4ab08609",
   "metadata": {},
   "outputs": [
    {
     "data": {
      "text/html": [
       "<div>\n",
       "<style scoped>\n",
       "    .dataframe tbody tr th:only-of-type {\n",
       "        vertical-align: middle;\n",
       "    }\n",
       "\n",
       "    .dataframe tbody tr th {\n",
       "        vertical-align: top;\n",
       "    }\n",
       "\n",
       "    .dataframe thead th {\n",
       "        text-align: right;\n",
       "    }\n",
       "</style>\n",
       "<table border=\"1\" class=\"dataframe\">\n",
       "  <thead>\n",
       "    <tr style=\"text-align: right;\">\n",
       "      <th></th>\n",
       "      <th>inventory_id</th>\n",
       "      <th>film_id</th>\n",
       "      <th>store_id</th>\n",
       "      <th>last_update</th>\n",
       "    </tr>\n",
       "  </thead>\n",
       "  <tbody>\n",
       "    <tr>\n",
       "      <th>0</th>\n",
       "      <td>1</td>\n",
       "      <td>1</td>\n",
       "      <td>1</td>\n",
       "      <td>2006-02-15 05:09:17</td>\n",
       "    </tr>\n",
       "    <tr>\n",
       "      <th>1</th>\n",
       "      <td>2</td>\n",
       "      <td>1</td>\n",
       "      <td>1</td>\n",
       "      <td>2006-02-15 05:09:17</td>\n",
       "    </tr>\n",
       "    <tr>\n",
       "      <th>2</th>\n",
       "      <td>3</td>\n",
       "      <td>1</td>\n",
       "      <td>1</td>\n",
       "      <td>2006-02-15 05:09:17</td>\n",
       "    </tr>\n",
       "    <tr>\n",
       "      <th>3</th>\n",
       "      <td>4</td>\n",
       "      <td>1</td>\n",
       "      <td>1</td>\n",
       "      <td>2006-02-15 05:09:17</td>\n",
       "    </tr>\n",
       "    <tr>\n",
       "      <th>4</th>\n",
       "      <td>5</td>\n",
       "      <td>1</td>\n",
       "      <td>2</td>\n",
       "      <td>2006-02-15 05:09:17</td>\n",
       "    </tr>\n",
       "  </tbody>\n",
       "</table>\n",
       "</div>"
      ],
      "text/plain": [
       "   inventory_id  film_id  store_id          last_update\n",
       "0             1        1         1  2006-02-15 05:09:17\n",
       "1             2        1         1  2006-02-15 05:09:17\n",
       "2             3        1         1  2006-02-15 05:09:17\n",
       "3             4        1         1  2006-02-15 05:09:17\n",
       "4             5        1         2  2006-02-15 05:09:17"
      ]
     },
     "execution_count": 83,
     "metadata": {},
     "output_type": "execute_result"
    }
   ],
   "source": [
    "df_inventory.head()"
   ]
  },
  {
   "cell_type": "code",
   "execution_count": 84,
   "id": "aadddf61",
   "metadata": {},
   "outputs": [
    {
     "name": "stdout",
     "output_type": "stream",
     "text": [
      "<class 'pandas.core.frame.DataFrame'>\n",
      "RangeIndex: 1000 entries, 0 to 999\n",
      "Data columns (total 4 columns):\n",
      " #   Column        Non-Null Count  Dtype \n",
      "---  ------        --------------  ----- \n",
      " 0   inventory_id  1000 non-null   int64 \n",
      " 1   film_id       1000 non-null   int64 \n",
      " 2   store_id      1000 non-null   int64 \n",
      " 3   last_update   1000 non-null   object\n",
      "dtypes: int64(3), object(1)\n",
      "memory usage: 31.4+ KB\n"
     ]
    }
   ],
   "source": [
    "df_inventory.info()"
   ]
  },
  {
   "cell_type": "code",
   "execution_count": 87,
   "id": "30d857d1",
   "metadata": {},
   "outputs": [
    {
     "data": {
      "text/plain": [
       "array(['2006-02-15 05:09:17'], dtype=object)"
      ]
     },
     "execution_count": 87,
     "metadata": {},
     "output_type": "execute_result"
    }
   ],
   "source": [
    "df_inventory.last_update.unique() # De nuevo, el valor de esta columna está repetido a lo largo de todas ella. Lo eliminamos."
   ]
  },
  {
   "cell_type": "code",
   "execution_count": 88,
   "id": "ccf489ae",
   "metadata": {},
   "outputs": [],
   "source": [
    "df_inventory.drop(columns=['last_update'], inplace=True)"
   ]
  },
  {
   "cell_type": "code",
   "execution_count": 94,
   "id": "a5413a1d",
   "metadata": {},
   "outputs": [],
   "source": [
    "#df_inventory.inventory_id.unique()"
   ]
  },
  {
   "cell_type": "code",
   "execution_count": 96,
   "id": "45f924b6",
   "metadata": {},
   "outputs": [],
   "source": [
    "#df_inventory.film_id.unique()"
   ]
  },
  {
   "cell_type": "code",
   "execution_count": 97,
   "id": "6d613e57",
   "metadata": {},
   "outputs": [
    {
     "data": {
      "text/plain": [
       "array([1, 2])"
      ]
     },
     "execution_count": 97,
     "metadata": {},
     "output_type": "execute_result"
    }
   ],
   "source": [
    "df_inventory.store_id.unique()"
   ]
  },
  {
   "cell_type": "markdown",
   "id": "7c0bc957",
   "metadata": {},
   "source": [
    "La columna recién mencionada, \"store_id\" no guarda ninguna relación con el resto de las tablas. Sin embargo, puede contener información relevante acerca de que ubicación tenía un mayor rendimiento o mayores gananciales, de cara a la localización de la nueva tienda. Es decir, si, por ejemplo, deseamos evaluar cuál de las dos tiendas tenía un mejor rendimiento de cara su reapertura, es valioso mantenerla en la base de datos."
   ]
  },
  {
   "cell_type": "code",
   "execution_count": 90,
   "id": "90b34f70",
   "metadata": {},
   "outputs": [
    {
     "data": {
      "text/html": [
       "<div>\n",
       "<style scoped>\n",
       "    .dataframe tbody tr th:only-of-type {\n",
       "        vertical-align: middle;\n",
       "    }\n",
       "\n",
       "    .dataframe tbody tr th {\n",
       "        vertical-align: top;\n",
       "    }\n",
       "\n",
       "    .dataframe thead th {\n",
       "        text-align: right;\n",
       "    }\n",
       "</style>\n",
       "<table border=\"1\" class=\"dataframe\">\n",
       "  <thead>\n",
       "    <tr style=\"text-align: right;\">\n",
       "      <th></th>\n",
       "      <th>inventory_id</th>\n",
       "      <th>film_id</th>\n",
       "      <th>store_id</th>\n",
       "    </tr>\n",
       "  </thead>\n",
       "  <tbody>\n",
       "    <tr>\n",
       "      <th>0</th>\n",
       "      <td>1</td>\n",
       "      <td>1</td>\n",
       "      <td>1</td>\n",
       "    </tr>\n",
       "    <tr>\n",
       "      <th>1</th>\n",
       "      <td>2</td>\n",
       "      <td>1</td>\n",
       "      <td>1</td>\n",
       "    </tr>\n",
       "    <tr>\n",
       "      <th>2</th>\n",
       "      <td>3</td>\n",
       "      <td>1</td>\n",
       "      <td>1</td>\n",
       "    </tr>\n",
       "    <tr>\n",
       "      <th>3</th>\n",
       "      <td>4</td>\n",
       "      <td>1</td>\n",
       "      <td>1</td>\n",
       "    </tr>\n",
       "    <tr>\n",
       "      <th>4</th>\n",
       "      <td>5</td>\n",
       "      <td>1</td>\n",
       "      <td>2</td>\n",
       "    </tr>\n",
       "  </tbody>\n",
       "</table>\n",
       "</div>"
      ],
      "text/plain": [
       "   inventory_id  film_id  store_id\n",
       "0             1        1         1\n",
       "1             2        1         1\n",
       "2             3        1         1\n",
       "3             4        1         1\n",
       "4             5        1         2"
      ]
     },
     "execution_count": 90,
     "metadata": {},
     "output_type": "execute_result"
    }
   ],
   "source": [
    "df_inventory.head()"
   ]
  },
  {
   "cell_type": "markdown",
   "id": "80e457a8",
   "metadata": {},
   "source": [
    "# 1.4 DataFrame Language."
   ]
  },
  {
   "cell_type": "code",
   "execution_count": 98,
   "id": "3b7d6c99",
   "metadata": {},
   "outputs": [],
   "source": [
    "df_original_language = pd.read_csv('data/language.csv', encoding='latin1')\n",
    "df_language = df_original_language.copy()"
   ]
  },
  {
   "cell_type": "code",
   "execution_count": 101,
   "id": "6c6f4937",
   "metadata": {},
   "outputs": [
    {
     "data": {
      "text/plain": [
       "(6, 3)"
      ]
     },
     "execution_count": 101,
     "metadata": {},
     "output_type": "execute_result"
    }
   ],
   "source": [
    "dim_original_language = df_language.shape # Guardamos las dimensiones del data frame original.\n",
    "df_language.shape"
   ]
  },
  {
   "cell_type": "code",
   "execution_count": 102,
   "id": "02bb0518",
   "metadata": {},
   "outputs": [
    {
     "data": {
      "text/html": [
       "<div>\n",
       "<style scoped>\n",
       "    .dataframe tbody tr th:only-of-type {\n",
       "        vertical-align: middle;\n",
       "    }\n",
       "\n",
       "    .dataframe tbody tr th {\n",
       "        vertical-align: top;\n",
       "    }\n",
       "\n",
       "    .dataframe thead th {\n",
       "        text-align: right;\n",
       "    }\n",
       "</style>\n",
       "<table border=\"1\" class=\"dataframe\">\n",
       "  <thead>\n",
       "    <tr style=\"text-align: right;\">\n",
       "      <th></th>\n",
       "      <th>language_id</th>\n",
       "      <th>name</th>\n",
       "      <th>last_update</th>\n",
       "    </tr>\n",
       "  </thead>\n",
       "  <tbody>\n",
       "    <tr>\n",
       "      <th>0</th>\n",
       "      <td>1</td>\n",
       "      <td>English</td>\n",
       "      <td>2006-02-15 05:02:19</td>\n",
       "    </tr>\n",
       "    <tr>\n",
       "      <th>1</th>\n",
       "      <td>2</td>\n",
       "      <td>Italian</td>\n",
       "      <td>2006-02-15 05:02:19</td>\n",
       "    </tr>\n",
       "    <tr>\n",
       "      <th>2</th>\n",
       "      <td>3</td>\n",
       "      <td>Japanese</td>\n",
       "      <td>2006-02-15 05:02:19</td>\n",
       "    </tr>\n",
       "    <tr>\n",
       "      <th>3</th>\n",
       "      <td>4</td>\n",
       "      <td>Mandarin</td>\n",
       "      <td>2006-02-15 05:02:19</td>\n",
       "    </tr>\n",
       "    <tr>\n",
       "      <th>4</th>\n",
       "      <td>5</td>\n",
       "      <td>French</td>\n",
       "      <td>2006-02-15 05:02:19</td>\n",
       "    </tr>\n",
       "    <tr>\n",
       "      <th>5</th>\n",
       "      <td>6</td>\n",
       "      <td>German</td>\n",
       "      <td>2006-02-15 05:02:19</td>\n",
       "    </tr>\n",
       "  </tbody>\n",
       "</table>\n",
       "</div>"
      ],
      "text/plain": [
       "   language_id      name          last_update\n",
       "0            1   English  2006-02-15 05:02:19\n",
       "1            2   Italian  2006-02-15 05:02:19\n",
       "2            3  Japanese  2006-02-15 05:02:19\n",
       "3            4  Mandarin  2006-02-15 05:02:19\n",
       "4            5    French  2006-02-15 05:02:19\n",
       "5            6    German  2006-02-15 05:02:19"
      ]
     },
     "execution_count": 102,
     "metadata": {},
     "output_type": "execute_result"
    }
   ],
   "source": [
    "df_language.head(7)"
   ]
  },
  {
   "cell_type": "code",
   "execution_count": 103,
   "id": "8618bb81",
   "metadata": {},
   "outputs": [
    {
     "name": "stdout",
     "output_type": "stream",
     "text": [
      "<class 'pandas.core.frame.DataFrame'>\n",
      "RangeIndex: 6 entries, 0 to 5\n",
      "Data columns (total 3 columns):\n",
      " #   Column       Non-Null Count  Dtype \n",
      "---  ------       --------------  ----- \n",
      " 0   language_id  6 non-null      int64 \n",
      " 1   name         6 non-null      object\n",
      " 2   last_update  6 non-null      object\n",
      "dtypes: int64(1), object(2)\n",
      "memory usage: 276.0+ bytes\n"
     ]
    }
   ],
   "source": [
    "df_language.info()"
   ]
  },
  {
   "cell_type": "markdown",
   "id": "34c6e1fb",
   "metadata": {},
   "source": [
    "Nos deshacemos, por el mismo motivo que hasta ahora, de la columna otra vez más, nos deshacemos de la columna \"last_update\":"
   ]
  },
  {
   "cell_type": "code",
   "execution_count": 104,
   "id": "2123c106",
   "metadata": {},
   "outputs": [
    {
     "data": {
      "text/plain": [
       "array(['2006-02-15 05:02:19'], dtype=object)"
      ]
     },
     "execution_count": 104,
     "metadata": {},
     "output_type": "execute_result"
    }
   ],
   "source": [
    "df_language.last_update.unique()"
   ]
  },
  {
   "cell_type": "code",
   "execution_count": 105,
   "id": "0e3d0bfb",
   "metadata": {},
   "outputs": [],
   "source": [
    "df_language.drop(columns=['last_update'], inplace=True)"
   ]
  },
  {
   "cell_type": "code",
   "execution_count": 106,
   "id": "a52c5fc4",
   "metadata": {},
   "outputs": [
    {
     "data": {
      "text/plain": [
       "array([1, 2, 3, 4, 5, 6])"
      ]
     },
     "execution_count": 106,
     "metadata": {},
     "output_type": "execute_result"
    }
   ],
   "source": [
    "df_language.language_id.unique() #Esta información nos hace ver, al observar los "
   ]
  },
  {
   "cell_type": "markdown",
   "id": "af687586",
   "metadata": {},
   "source": [
    "En el DataFrame \"df_film\", hemos eliminado una columna que indicaba el idioma de cada película. Esto se debió a que el valor en esa columna era idéntico en todas las filas, lo que sugiere que todas las películas en la base de datos están en el mismo idioma, en este caso, en inglés.\n",
    "\n",
    "Esta observación plantea la pregunta de si es necesario mantener una tabla para almacenar información de idioma cuando todas las películas tienen el mismo. \n",
    "\n",
    "Sin embargo, he decidido conservar esta tabla en caso de que en el futuro se agreguen películas en otros idiomas. Puede resultar útil para catalogar y gestionar películas en diferentes idiomas si surge esa necesidad."
   ]
  },
  {
   "cell_type": "code",
   "execution_count": 109,
   "id": "fb49f33d",
   "metadata": {},
   "outputs": [
    {
     "data": {
      "text/plain": [
       "array(['English', 'Italian', 'Japanese', 'Mandarin', 'French', 'German'],\n",
       "      dtype=object)"
      ]
     },
     "execution_count": 109,
     "metadata": {},
     "output_type": "execute_result"
    }
   ],
   "source": [
    "df_language.name.unique()"
   ]
  },
  {
   "cell_type": "code",
   "execution_count": 110,
   "id": "d6da20a3",
   "metadata": {},
   "outputs": [
    {
     "data": {
      "text/html": [
       "<div>\n",
       "<style scoped>\n",
       "    .dataframe tbody tr th:only-of-type {\n",
       "        vertical-align: middle;\n",
       "    }\n",
       "\n",
       "    .dataframe tbody tr th {\n",
       "        vertical-align: top;\n",
       "    }\n",
       "\n",
       "    .dataframe thead th {\n",
       "        text-align: right;\n",
       "    }\n",
       "</style>\n",
       "<table border=\"1\" class=\"dataframe\">\n",
       "  <thead>\n",
       "    <tr style=\"text-align: right;\">\n",
       "      <th></th>\n",
       "      <th>language_id</th>\n",
       "      <th>name</th>\n",
       "    </tr>\n",
       "  </thead>\n",
       "  <tbody>\n",
       "    <tr>\n",
       "      <th>0</th>\n",
       "      <td>1</td>\n",
       "      <td>English</td>\n",
       "    </tr>\n",
       "    <tr>\n",
       "      <th>1</th>\n",
       "      <td>2</td>\n",
       "      <td>Italian</td>\n",
       "    </tr>\n",
       "    <tr>\n",
       "      <th>2</th>\n",
       "      <td>3</td>\n",
       "      <td>Japanese</td>\n",
       "    </tr>\n",
       "    <tr>\n",
       "      <th>3</th>\n",
       "      <td>4</td>\n",
       "      <td>Mandarin</td>\n",
       "    </tr>\n",
       "    <tr>\n",
       "      <th>4</th>\n",
       "      <td>5</td>\n",
       "      <td>French</td>\n",
       "    </tr>\n",
       "  </tbody>\n",
       "</table>\n",
       "</div>"
      ],
      "text/plain": [
       "   language_id      name\n",
       "0            1   English\n",
       "1            2   Italian\n",
       "2            3  Japanese\n",
       "3            4  Mandarin\n",
       "4            5    French"
      ]
     },
     "execution_count": 110,
     "metadata": {},
     "output_type": "execute_result"
    }
   ],
   "source": [
    "df_language.head()"
   ]
  },
  {
   "cell_type": "markdown",
   "id": "0e26565c",
   "metadata": {},
   "source": [
    "# 1.5 DataFrame old_HDD."
   ]
  },
  {
   "cell_type": "code",
   "execution_count": 111,
   "id": "4d876276",
   "metadata": {},
   "outputs": [],
   "source": [
    "df_original_old_hdd = pd.read_csv('data/old_HDD.csv', encoding='latin1')\n",
    "df_old_hdd = df_original_old_hdd.copy()"
   ]
  },
  {
   "cell_type": "code",
   "execution_count": 112,
   "id": "4f7b5b4c",
   "metadata": {},
   "outputs": [
    {
     "data": {
      "text/plain": [
       "(1000, 5)"
      ]
     },
     "execution_count": 112,
     "metadata": {},
     "output_type": "execute_result"
    }
   ],
   "source": [
    "dim_original_old_hdd = df_old_hdd.shape\n",
    "df_old_hdd.shape"
   ]
  },
  {
   "cell_type": "code",
   "execution_count": 113,
   "id": "0b566812",
   "metadata": {},
   "outputs": [
    {
     "data": {
      "text/html": [
       "<div>\n",
       "<style scoped>\n",
       "    .dataframe tbody tr th:only-of-type {\n",
       "        vertical-align: middle;\n",
       "    }\n",
       "\n",
       "    .dataframe tbody tr th {\n",
       "        vertical-align: top;\n",
       "    }\n",
       "\n",
       "    .dataframe thead th {\n",
       "        text-align: right;\n",
       "    }\n",
       "</style>\n",
       "<table border=\"1\" class=\"dataframe\">\n",
       "  <thead>\n",
       "    <tr style=\"text-align: right;\">\n",
       "      <th></th>\n",
       "      <th>first_name</th>\n",
       "      <th>last_name</th>\n",
       "      <th>title</th>\n",
       "      <th>release_year</th>\n",
       "      <th>category_id</th>\n",
       "    </tr>\n",
       "  </thead>\n",
       "  <tbody>\n",
       "    <tr>\n",
       "      <th>0</th>\n",
       "      <td>PENELOPE</td>\n",
       "      <td>GUINESS</td>\n",
       "      <td>ACADEMY DINOSAUR</td>\n",
       "      <td>2006</td>\n",
       "      <td>6</td>\n",
       "    </tr>\n",
       "    <tr>\n",
       "      <th>1</th>\n",
       "      <td>PENELOPE</td>\n",
       "      <td>GUINESS</td>\n",
       "      <td>ANACONDA CONFESSIONS</td>\n",
       "      <td>2006</td>\n",
       "      <td>2</td>\n",
       "    </tr>\n",
       "    <tr>\n",
       "      <th>2</th>\n",
       "      <td>PENELOPE</td>\n",
       "      <td>GUINESS</td>\n",
       "      <td>ANGELS LIFE</td>\n",
       "      <td>2006</td>\n",
       "      <td>13</td>\n",
       "    </tr>\n",
       "    <tr>\n",
       "      <th>3</th>\n",
       "      <td>PENELOPE</td>\n",
       "      <td>GUINESS</td>\n",
       "      <td>BULWORTH COMMANDMENTS</td>\n",
       "      <td>2006</td>\n",
       "      <td>10</td>\n",
       "    </tr>\n",
       "    <tr>\n",
       "      <th>4</th>\n",
       "      <td>PENELOPE</td>\n",
       "      <td>GUINESS</td>\n",
       "      <td>CHEAPER CLYDE</td>\n",
       "      <td>2006</td>\n",
       "      <td>14</td>\n",
       "    </tr>\n",
       "  </tbody>\n",
       "</table>\n",
       "</div>"
      ],
      "text/plain": [
       "  first_name last_name                  title  release_year  category_id\n",
       "0   PENELOPE   GUINESS       ACADEMY DINOSAUR          2006            6\n",
       "1   PENELOPE   GUINESS   ANACONDA CONFESSIONS          2006            2\n",
       "2   PENELOPE   GUINESS            ANGELS LIFE          2006           13\n",
       "3   PENELOPE   GUINESS  BULWORTH COMMANDMENTS          2006           10\n",
       "4   PENELOPE   GUINESS          CHEAPER CLYDE          2006           14"
      ]
     },
     "execution_count": 113,
     "metadata": {},
     "output_type": "execute_result"
    }
   ],
   "source": [
    "df_old_hdd.head()"
   ]
  },
  {
   "cell_type": "code",
   "execution_count": 114,
   "id": "b46f2d2b",
   "metadata": {},
   "outputs": [
    {
     "name": "stdout",
     "output_type": "stream",
     "text": [
      "<class 'pandas.core.frame.DataFrame'>\n",
      "RangeIndex: 1000 entries, 0 to 999\n",
      "Data columns (total 5 columns):\n",
      " #   Column        Non-Null Count  Dtype \n",
      "---  ------        --------------  ----- \n",
      " 0   first_name    1000 non-null   object\n",
      " 1   last_name     1000 non-null   object\n",
      " 2   title         1000 non-null   object\n",
      " 3   release_year  1000 non-null   int64 \n",
      " 4   category_id   1000 non-null   int64 \n",
      "dtypes: int64(2), object(3)\n",
      "memory usage: 39.2+ KB\n"
     ]
    }
   ],
   "source": [
    "df_old_hdd.info()"
   ]
  },
  {
   "cell_type": "markdown",
   "id": "8341a6c0",
   "metadata": {},
   "source": [
    "Determinamos si alguna de las columnas contiene valores constantes con el fin de eliminarlos, por motivo de que no aportan información relevante."
   ]
  },
  {
   "cell_type": "code",
   "execution_count": 115,
   "id": "382bb2de",
   "metadata": {},
   "outputs": [
    {
     "data": {
      "text/plain": [
       "['release_year']"
      ]
     },
     "execution_count": 115,
     "metadata": {},
     "output_type": "execute_result"
    }
   ],
   "source": [
    "cte_cols_old_hdd = []\n",
    "for c in df_old_hdd.select_dtypes(include=np.number):   # para cada columna numerica.....   \n",
    "    if len(df_old_hdd[c].unique()) == 1:    \n",
    "        cte_cols_old_hdd.append(c)\n",
    "cte_cols_old_hdd   "
   ]
  },
  {
   "cell_type": "markdown",
   "id": "8dbc15e9",
   "metadata": {},
   "source": [
    "Vemos que hay uno, lo eliminamos:"
   ]
  },
  {
   "cell_type": "code",
   "execution_count": 117,
   "id": "8453e4d5",
   "metadata": {},
   "outputs": [],
   "source": [
    "df_old_hdd.drop(columns=['release_year'], inplace=True)"
   ]
  },
  {
   "cell_type": "markdown",
   "id": "e7d5c5d6",
   "metadata": {},
   "source": [
    "A continuación, igual que en la tabla \"df_actor\", combino de las columnas \"first_name\" y \"last_name\" en una sola columna llamada \"actor_name,\" que contendría el nombre completo de la persona.\n",
    "\n",
    "Luego, elimino las recién combinadas: \"first_name\" y \"last_name\"."
   ]
  },
  {
   "cell_type": "code",
   "execution_count": 119,
   "id": "8823698c",
   "metadata": {},
   "outputs": [],
   "source": [
    "df_old_hdd['actor_name'] = df_old_hdd['first_name'] + ' ' + df_old_hdd['last_name']"
   ]
  },
  {
   "cell_type": "code",
   "execution_count": 120,
   "id": "db333050",
   "metadata": {},
   "outputs": [
    {
     "data": {
      "text/html": [
       "<div>\n",
       "<style scoped>\n",
       "    .dataframe tbody tr th:only-of-type {\n",
       "        vertical-align: middle;\n",
       "    }\n",
       "\n",
       "    .dataframe tbody tr th {\n",
       "        vertical-align: top;\n",
       "    }\n",
       "\n",
       "    .dataframe thead th {\n",
       "        text-align: right;\n",
       "    }\n",
       "</style>\n",
       "<table border=\"1\" class=\"dataframe\">\n",
       "  <thead>\n",
       "    <tr style=\"text-align: right;\">\n",
       "      <th></th>\n",
       "      <th>first_name</th>\n",
       "      <th>last_name</th>\n",
       "      <th>title</th>\n",
       "      <th>category_id</th>\n",
       "      <th>actor_name</th>\n",
       "    </tr>\n",
       "  </thead>\n",
       "  <tbody>\n",
       "    <tr>\n",
       "      <th>0</th>\n",
       "      <td>PENELOPE</td>\n",
       "      <td>GUINESS</td>\n",
       "      <td>ACADEMY DINOSAUR</td>\n",
       "      <td>6</td>\n",
       "      <td>PENELOPE GUINESS</td>\n",
       "    </tr>\n",
       "    <tr>\n",
       "      <th>1</th>\n",
       "      <td>PENELOPE</td>\n",
       "      <td>GUINESS</td>\n",
       "      <td>ANACONDA CONFESSIONS</td>\n",
       "      <td>2</td>\n",
       "      <td>PENELOPE GUINESS</td>\n",
       "    </tr>\n",
       "    <tr>\n",
       "      <th>2</th>\n",
       "      <td>PENELOPE</td>\n",
       "      <td>GUINESS</td>\n",
       "      <td>ANGELS LIFE</td>\n",
       "      <td>13</td>\n",
       "      <td>PENELOPE GUINESS</td>\n",
       "    </tr>\n",
       "    <tr>\n",
       "      <th>3</th>\n",
       "      <td>PENELOPE</td>\n",
       "      <td>GUINESS</td>\n",
       "      <td>BULWORTH COMMANDMENTS</td>\n",
       "      <td>10</td>\n",
       "      <td>PENELOPE GUINESS</td>\n",
       "    </tr>\n",
       "    <tr>\n",
       "      <th>4</th>\n",
       "      <td>PENELOPE</td>\n",
       "      <td>GUINESS</td>\n",
       "      <td>CHEAPER CLYDE</td>\n",
       "      <td>14</td>\n",
       "      <td>PENELOPE GUINESS</td>\n",
       "    </tr>\n",
       "  </tbody>\n",
       "</table>\n",
       "</div>"
      ],
      "text/plain": [
       "  first_name last_name                  title  category_id        actor_name\n",
       "0   PENELOPE   GUINESS       ACADEMY DINOSAUR            6  PENELOPE GUINESS\n",
       "1   PENELOPE   GUINESS   ANACONDA CONFESSIONS            2  PENELOPE GUINESS\n",
       "2   PENELOPE   GUINESS            ANGELS LIFE           13  PENELOPE GUINESS\n",
       "3   PENELOPE   GUINESS  BULWORTH COMMANDMENTS           10  PENELOPE GUINESS\n",
       "4   PENELOPE   GUINESS          CHEAPER CLYDE           14  PENELOPE GUINESS"
      ]
     },
     "execution_count": 120,
     "metadata": {},
     "output_type": "execute_result"
    }
   ],
   "source": [
    "df_old_hdd.head()"
   ]
  },
  {
   "cell_type": "code",
   "execution_count": 127,
   "id": "f6af9588",
   "metadata": {},
   "outputs": [
    {
     "ename": "KeyError",
     "evalue": "\"['first_name'] not found in axis\"",
     "output_type": "error",
     "traceback": [
      "\u001b[0;31m---------------------------------------------------------------------------\u001b[0m",
      "\u001b[0;31mKeyError\u001b[0m                                  Traceback (most recent call last)",
      "Cell \u001b[0;32mIn[127], line 1\u001b[0m\n\u001b[0;32m----> 1\u001b[0m df_old_hdd\u001b[38;5;241m.\u001b[39mdrop(columns\u001b[38;5;241m=\u001b[39m[\u001b[38;5;124m'\u001b[39m\u001b[38;5;124mfirst_name\u001b[39m\u001b[38;5;124m'\u001b[39m], inplace\u001b[38;5;241m=\u001b[39m\u001b[38;5;28;01mTrue\u001b[39;00m)\n\u001b[1;32m      2\u001b[0m df_old_hdd\u001b[38;5;241m.\u001b[39mdrop(columns\u001b[38;5;241m=\u001b[39m[\u001b[38;5;124m'\u001b[39m\u001b[38;5;124mlast_name\u001b[39m\u001b[38;5;124m'\u001b[39m], inplace\u001b[38;5;241m=\u001b[39m\u001b[38;5;28;01mTrue\u001b[39;00m)\n",
      "File \u001b[0;32m~/anaconda3/lib/python3.11/site-packages/pandas/util/_decorators.py:331\u001b[0m, in \u001b[0;36mdeprecate_nonkeyword_arguments.<locals>.decorate.<locals>.wrapper\u001b[0;34m(*args, **kwargs)\u001b[0m\n\u001b[1;32m    325\u001b[0m \u001b[38;5;28;01mif\u001b[39;00m \u001b[38;5;28mlen\u001b[39m(args) \u001b[38;5;241m>\u001b[39m num_allow_args:\n\u001b[1;32m    326\u001b[0m     warnings\u001b[38;5;241m.\u001b[39mwarn(\n\u001b[1;32m    327\u001b[0m         msg\u001b[38;5;241m.\u001b[39mformat(arguments\u001b[38;5;241m=\u001b[39m_format_argument_list(allow_args)),\n\u001b[1;32m    328\u001b[0m         \u001b[38;5;167;01mFutureWarning\u001b[39;00m,\n\u001b[1;32m    329\u001b[0m         stacklevel\u001b[38;5;241m=\u001b[39mfind_stack_level(),\n\u001b[1;32m    330\u001b[0m     )\n\u001b[0;32m--> 331\u001b[0m \u001b[38;5;28;01mreturn\u001b[39;00m func(\u001b[38;5;241m*\u001b[39margs, \u001b[38;5;241m*\u001b[39m\u001b[38;5;241m*\u001b[39mkwargs)\n",
      "File \u001b[0;32m~/anaconda3/lib/python3.11/site-packages/pandas/core/frame.py:5399\u001b[0m, in \u001b[0;36mDataFrame.drop\u001b[0;34m(self, labels, axis, index, columns, level, inplace, errors)\u001b[0m\n\u001b[1;32m   5251\u001b[0m \u001b[38;5;129m@deprecate_nonkeyword_arguments\u001b[39m(version\u001b[38;5;241m=\u001b[39m\u001b[38;5;28;01mNone\u001b[39;00m, allowed_args\u001b[38;5;241m=\u001b[39m[\u001b[38;5;124m\"\u001b[39m\u001b[38;5;124mself\u001b[39m\u001b[38;5;124m\"\u001b[39m, \u001b[38;5;124m\"\u001b[39m\u001b[38;5;124mlabels\u001b[39m\u001b[38;5;124m\"\u001b[39m])\n\u001b[1;32m   5252\u001b[0m \u001b[38;5;28;01mdef\u001b[39;00m \u001b[38;5;21mdrop\u001b[39m(  \u001b[38;5;66;03m# type: ignore[override]\u001b[39;00m\n\u001b[1;32m   5253\u001b[0m     \u001b[38;5;28mself\u001b[39m,\n\u001b[0;32m   (...)\u001b[0m\n\u001b[1;32m   5260\u001b[0m     errors: IgnoreRaise \u001b[38;5;241m=\u001b[39m \u001b[38;5;124m\"\u001b[39m\u001b[38;5;124mraise\u001b[39m\u001b[38;5;124m\"\u001b[39m,\n\u001b[1;32m   5261\u001b[0m ) \u001b[38;5;241m-\u001b[39m\u001b[38;5;241m>\u001b[39m DataFrame \u001b[38;5;241m|\u001b[39m \u001b[38;5;28;01mNone\u001b[39;00m:\n\u001b[1;32m   5262\u001b[0m \u001b[38;5;250m    \u001b[39m\u001b[38;5;124;03m\"\"\"\u001b[39;00m\n\u001b[1;32m   5263\u001b[0m \u001b[38;5;124;03m    Drop specified labels from rows or columns.\u001b[39;00m\n\u001b[1;32m   5264\u001b[0m \n\u001b[0;32m   (...)\u001b[0m\n\u001b[1;32m   5397\u001b[0m \u001b[38;5;124;03m            weight  1.0     0.8\u001b[39;00m\n\u001b[1;32m   5398\u001b[0m \u001b[38;5;124;03m    \"\"\"\u001b[39;00m\n\u001b[0;32m-> 5399\u001b[0m     \u001b[38;5;28;01mreturn\u001b[39;00m \u001b[38;5;28msuper\u001b[39m()\u001b[38;5;241m.\u001b[39mdrop(\n\u001b[1;32m   5400\u001b[0m         labels\u001b[38;5;241m=\u001b[39mlabels,\n\u001b[1;32m   5401\u001b[0m         axis\u001b[38;5;241m=\u001b[39maxis,\n\u001b[1;32m   5402\u001b[0m         index\u001b[38;5;241m=\u001b[39mindex,\n\u001b[1;32m   5403\u001b[0m         columns\u001b[38;5;241m=\u001b[39mcolumns,\n\u001b[1;32m   5404\u001b[0m         level\u001b[38;5;241m=\u001b[39mlevel,\n\u001b[1;32m   5405\u001b[0m         inplace\u001b[38;5;241m=\u001b[39minplace,\n\u001b[1;32m   5406\u001b[0m         errors\u001b[38;5;241m=\u001b[39merrors,\n\u001b[1;32m   5407\u001b[0m     )\n",
      "File \u001b[0;32m~/anaconda3/lib/python3.11/site-packages/pandas/util/_decorators.py:331\u001b[0m, in \u001b[0;36mdeprecate_nonkeyword_arguments.<locals>.decorate.<locals>.wrapper\u001b[0;34m(*args, **kwargs)\u001b[0m\n\u001b[1;32m    325\u001b[0m \u001b[38;5;28;01mif\u001b[39;00m \u001b[38;5;28mlen\u001b[39m(args) \u001b[38;5;241m>\u001b[39m num_allow_args:\n\u001b[1;32m    326\u001b[0m     warnings\u001b[38;5;241m.\u001b[39mwarn(\n\u001b[1;32m    327\u001b[0m         msg\u001b[38;5;241m.\u001b[39mformat(arguments\u001b[38;5;241m=\u001b[39m_format_argument_list(allow_args)),\n\u001b[1;32m    328\u001b[0m         \u001b[38;5;167;01mFutureWarning\u001b[39;00m,\n\u001b[1;32m    329\u001b[0m         stacklevel\u001b[38;5;241m=\u001b[39mfind_stack_level(),\n\u001b[1;32m    330\u001b[0m     )\n\u001b[0;32m--> 331\u001b[0m \u001b[38;5;28;01mreturn\u001b[39;00m func(\u001b[38;5;241m*\u001b[39margs, \u001b[38;5;241m*\u001b[39m\u001b[38;5;241m*\u001b[39mkwargs)\n",
      "File \u001b[0;32m~/anaconda3/lib/python3.11/site-packages/pandas/core/generic.py:4505\u001b[0m, in \u001b[0;36mNDFrame.drop\u001b[0;34m(self, labels, axis, index, columns, level, inplace, errors)\u001b[0m\n\u001b[1;32m   4503\u001b[0m \u001b[38;5;28;01mfor\u001b[39;00m axis, labels \u001b[38;5;129;01min\u001b[39;00m axes\u001b[38;5;241m.\u001b[39mitems():\n\u001b[1;32m   4504\u001b[0m     \u001b[38;5;28;01mif\u001b[39;00m labels \u001b[38;5;129;01mis\u001b[39;00m \u001b[38;5;129;01mnot\u001b[39;00m \u001b[38;5;28;01mNone\u001b[39;00m:\n\u001b[0;32m-> 4505\u001b[0m         obj \u001b[38;5;241m=\u001b[39m obj\u001b[38;5;241m.\u001b[39m_drop_axis(labels, axis, level\u001b[38;5;241m=\u001b[39mlevel, errors\u001b[38;5;241m=\u001b[39merrors)\n\u001b[1;32m   4507\u001b[0m \u001b[38;5;28;01mif\u001b[39;00m inplace:\n\u001b[1;32m   4508\u001b[0m     \u001b[38;5;28mself\u001b[39m\u001b[38;5;241m.\u001b[39m_update_inplace(obj)\n",
      "File \u001b[0;32m~/anaconda3/lib/python3.11/site-packages/pandas/core/generic.py:4546\u001b[0m, in \u001b[0;36mNDFrame._drop_axis\u001b[0;34m(self, labels, axis, level, errors, only_slice)\u001b[0m\n\u001b[1;32m   4544\u001b[0m         new_axis \u001b[38;5;241m=\u001b[39m axis\u001b[38;5;241m.\u001b[39mdrop(labels, level\u001b[38;5;241m=\u001b[39mlevel, errors\u001b[38;5;241m=\u001b[39merrors)\n\u001b[1;32m   4545\u001b[0m     \u001b[38;5;28;01melse\u001b[39;00m:\n\u001b[0;32m-> 4546\u001b[0m         new_axis \u001b[38;5;241m=\u001b[39m axis\u001b[38;5;241m.\u001b[39mdrop(labels, errors\u001b[38;5;241m=\u001b[39merrors)\n\u001b[1;32m   4547\u001b[0m     indexer \u001b[38;5;241m=\u001b[39m axis\u001b[38;5;241m.\u001b[39mget_indexer(new_axis)\n\u001b[1;32m   4549\u001b[0m \u001b[38;5;66;03m# Case for non-unique axis\u001b[39;00m\n\u001b[1;32m   4550\u001b[0m \u001b[38;5;28;01melse\u001b[39;00m:\n",
      "File \u001b[0;32m~/anaconda3/lib/python3.11/site-packages/pandas/core/indexes/base.py:6934\u001b[0m, in \u001b[0;36mIndex.drop\u001b[0;34m(self, labels, errors)\u001b[0m\n\u001b[1;32m   6932\u001b[0m \u001b[38;5;28;01mif\u001b[39;00m mask\u001b[38;5;241m.\u001b[39many():\n\u001b[1;32m   6933\u001b[0m     \u001b[38;5;28;01mif\u001b[39;00m errors \u001b[38;5;241m!=\u001b[39m \u001b[38;5;124m\"\u001b[39m\u001b[38;5;124mignore\u001b[39m\u001b[38;5;124m\"\u001b[39m:\n\u001b[0;32m-> 6934\u001b[0m         \u001b[38;5;28;01mraise\u001b[39;00m \u001b[38;5;167;01mKeyError\u001b[39;00m(\u001b[38;5;124mf\u001b[39m\u001b[38;5;124m\"\u001b[39m\u001b[38;5;132;01m{\u001b[39;00m\u001b[38;5;28mlist\u001b[39m(labels[mask])\u001b[38;5;132;01m}\u001b[39;00m\u001b[38;5;124m not found in axis\u001b[39m\u001b[38;5;124m\"\u001b[39m)\n\u001b[1;32m   6935\u001b[0m     indexer \u001b[38;5;241m=\u001b[39m indexer[\u001b[38;5;241m~\u001b[39mmask]\n\u001b[1;32m   6936\u001b[0m \u001b[38;5;28;01mreturn\u001b[39;00m \u001b[38;5;28mself\u001b[39m\u001b[38;5;241m.\u001b[39mdelete(indexer)\n",
      "\u001b[0;31mKeyError\u001b[0m: \"['first_name'] not found in axis\""
     ]
    }
   ],
   "source": [
    "df_old_hdd.drop(columns=['first_name'], inplace=True)\n",
    "df_old_hdd.drop(columns=['last_name'], inplace=True)"
   ]
  },
  {
   "cell_type": "markdown",
   "id": "940e9137",
   "metadata": {},
   "source": [
    "Después de un análisis, he llegado a la conclusión de que esta tabla contiene información valiosa en lo que respecta a los títulos de las películas y los nombres de los actores. Esta información podría servir como un vínculo entre las tablas \"df_actor\" y \"df_film\", algo que resulta de especial importancia.\n",
    "\n",
    "Para lograr esto, planeo unir esta tabla con las columnas de \"actor_id\" y de \"film_id\" mediante \"merge\". Al hacerlo, incorporaré los identificadores (IDs) de actores y películas a esta tabla, lo que permitirá futuras consultas y análisis que involucren a ambas tablas."
   ]
  },
  {
   "cell_type": "code",
   "execution_count": 128,
   "id": "4f2157ca",
   "metadata": {},
   "outputs": [],
   "source": [
    "df_old_hdd = df_old_hdd.merge(df_actor[['actor_name', 'actor_id']], on='actor_name', how='left')\n",
    "df_old_hdd = df_old_hdd.merge(df_film[['title', 'film_id']], on='title', how='left')"
   ]
  },
  {
   "cell_type": "code",
   "execution_count": 125,
   "id": "47d625ca",
   "metadata": {},
   "outputs": [
    {
     "data": {
      "text/html": [
       "<div>\n",
       "<style scoped>\n",
       "    .dataframe tbody tr th:only-of-type {\n",
       "        vertical-align: middle;\n",
       "    }\n",
       "\n",
       "    .dataframe tbody tr th {\n",
       "        vertical-align: top;\n",
       "    }\n",
       "\n",
       "    .dataframe thead th {\n",
       "        text-align: right;\n",
       "    }\n",
       "</style>\n",
       "<table border=\"1\" class=\"dataframe\">\n",
       "  <thead>\n",
       "    <tr style=\"text-align: right;\">\n",
       "      <th></th>\n",
       "      <th>title</th>\n",
       "      <th>category_id</th>\n",
       "      <th>actor_name</th>\n",
       "      <th>film_id_x</th>\n",
       "      <th>actor_id</th>\n",
       "      <th>film_id_y</th>\n",
       "    </tr>\n",
       "  </thead>\n",
       "  <tbody>\n",
       "    <tr>\n",
       "      <th>0</th>\n",
       "      <td>ACADEMY DINOSAUR</td>\n",
       "      <td>6</td>\n",
       "      <td>PENELOPE GUINESS</td>\n",
       "      <td>1</td>\n",
       "      <td>1</td>\n",
       "      <td>1</td>\n",
       "    </tr>\n",
       "    <tr>\n",
       "      <th>1</th>\n",
       "      <td>ANACONDA CONFESSIONS</td>\n",
       "      <td>2</td>\n",
       "      <td>PENELOPE GUINESS</td>\n",
       "      <td>23</td>\n",
       "      <td>1</td>\n",
       "      <td>23</td>\n",
       "    </tr>\n",
       "    <tr>\n",
       "      <th>2</th>\n",
       "      <td>ANGELS LIFE</td>\n",
       "      <td>13</td>\n",
       "      <td>PENELOPE GUINESS</td>\n",
       "      <td>25</td>\n",
       "      <td>1</td>\n",
       "      <td>25</td>\n",
       "    </tr>\n",
       "    <tr>\n",
       "      <th>3</th>\n",
       "      <td>BULWORTH COMMANDMENTS</td>\n",
       "      <td>10</td>\n",
       "      <td>PENELOPE GUINESS</td>\n",
       "      <td>106</td>\n",
       "      <td>1</td>\n",
       "      <td>106</td>\n",
       "    </tr>\n",
       "    <tr>\n",
       "      <th>4</th>\n",
       "      <td>CHEAPER CLYDE</td>\n",
       "      <td>14</td>\n",
       "      <td>PENELOPE GUINESS</td>\n",
       "      <td>140</td>\n",
       "      <td>1</td>\n",
       "      <td>140</td>\n",
       "    </tr>\n",
       "  </tbody>\n",
       "</table>\n",
       "</div>"
      ],
      "text/plain": [
       "                   title  category_id        actor_name  film_id_x  actor_id  \\\n",
       "0       ACADEMY DINOSAUR            6  PENELOPE GUINESS          1         1   \n",
       "1   ANACONDA CONFESSIONS            2  PENELOPE GUINESS         23         1   \n",
       "2            ANGELS LIFE           13  PENELOPE GUINESS         25         1   \n",
       "3  BULWORTH COMMANDMENTS           10  PENELOPE GUINESS        106         1   \n",
       "4          CHEAPER CLYDE           14  PENELOPE GUINESS        140         1   \n",
       "\n",
       "   film_id_y  \n",
       "0          1  \n",
       "1         23  \n",
       "2         25  \n",
       "3        106  \n",
       "4        140  "
      ]
     },
     "execution_count": 125,
     "metadata": {},
     "output_type": "execute_result"
    }
   ],
   "source": [
    "df_old_hdd.head()"
   ]
  },
  {
   "cell_type": "markdown",
   "id": "f36e6291",
   "metadata": {},
   "source": [
    "#En el caso concreto que proporcionaste, donde tienes una tabla que contiene películas y otra tabla que contiene categorías, es razonable mantener la relación entre ambas tablas utilizando una clave externa (category_id) en la tabla de películas. Esto sigue el principio de normalización de bases de datos y presenta varios beneficios:\n",
    "\n",
    "Integridad de los datos: Al mantener una relación, puedes garantizar que las películas se asignen correctamente a las categorías mediante la clave externa (category_id). Esto previene la entrada de datos incorrectos o inconsistentes.\n",
    "Eficiencia en el almacenamiento: Evitas la duplicación de datos innecesaria, lo que ahorra espacio de almacenamiento, especialmente si tienes muchas películas en diferentes categorías.\n",
    "Facilita la actualización de categorías: Si necesitas modificar o agregar categorías en el futuro, solo tendrás que hacerlo en la tabla de categorías. Las películas relacionadas seguirán vinculadas a sus categorías correspondientes sin necesidad de cambios en la tabla de películas.\n",
    "Facilita las consultas complejas: Si en el futuro necesitas realizar consultas que involucren la relación entre películas y categorías, mantener la relación facilitará estas consultas.\n",
    "Por lo tanto, en este caso, te recomendaría mantener la relación y normalizar los datos, es decir, mantener las categorías en una tabla independiente y utilizar una clave externa para relacionar las películas con sus categorías. Esto ayudará a mantener la integridad de los datos y permitirá un mejor manejo de la información"
   ]
  },
  {
   "cell_type": "code",
   "execution_count": null,
   "id": "10a0a876",
   "metadata": {},
   "outputs": [],
   "source": [
    "#ahora quiero cambiar el orden de las columnas"
   ]
  },
  {
   "cell_type": "code",
   "execution_count": 131,
   "id": "739ef397",
   "metadata": {},
   "outputs": [
    {
     "data": {
      "text/plain": [
       "SANDRA KILMER          37\n",
       "VAL BOLGER             35\n",
       "UMA WOOD               35\n",
       "RIP CRAWFORD           33\n",
       "JULIA MCQUEEN          33\n",
       "HELEN VOIGHT           32\n",
       "KARL BERRY             31\n",
       "WOODY HOFFMAN          31\n",
       "VIVIEN BERGEN          30\n",
       "LUCILLE TRACY          30\n",
       "GRACE MOSTEL           30\n",
       "ALEC WAYNE             29\n",
       "JOHNNY LOLLOBRIGIDA    29\n",
       "BURT DUKAKIS           29\n",
       "CUBA OLIVIER           28\n",
       "KIRSTEN PALTROW        27\n",
       "FRED COSTNER           27\n",
       "ELVIS MARX             26\n",
       "TOM MCKELLEN           25\n",
       "AUDREY OLIVIER         25\n",
       "NICK WAHLBERG          25\n",
       "BOB FAWCETT            25\n",
       "ZERO CAGE              25\n",
       "JOE SWANK              25\n",
       "CAMERON STREEP         24\n",
       "MILLA PECK             24\n",
       "TIM HACKMAN            23\n",
       "CHRISTIAN GABLE        22\n",
       "JENNIFER DAVIS         22\n",
       "ED CHASE               22\n",
       "DAN TORN               22\n",
       "KEVIN BLOOM            21\n",
       "MATTHEW JOHANSSON      20\n",
       "BETTE NICHOLSON        20\n",
       "PENELOPE GUINESS       19\n",
       "SANDRA PECK            19\n",
       "SISSY SOBIESKI         18\n",
       "JUDY DEAN              15\n",
       "GOLDIE BRODY            7\n",
       "Name: actor_name, dtype: int64"
      ]
     },
     "execution_count": 131,
     "metadata": {},
     "output_type": "execute_result"
    }
   ],
   "source": [
    "df_old_hdd[\"actor_name\"].value_counts()"
   ]
  },
  {
   "cell_type": "code",
   "execution_count": 132,
   "id": "36670bbd",
   "metadata": {},
   "outputs": [
    {
     "data": {
      "text/plain": [
       "BOONDOCK BALLROOM     6\n",
       "FLASH WARS            5\n",
       "STRANGER STRANGERS    5\n",
       "OKLAHOMA JUMANJI      5\n",
       "CHITTY LOCK           5\n",
       "                     ..\n",
       "FLYING HOOK           1\n",
       "EGYPT TENENBAUMS      1\n",
       "BUTCH PANTHER         1\n",
       "TYCOON GATHERING      1\n",
       "EXORCIST STING        1\n",
       "Name: title, Length: 614, dtype: int64"
      ]
     },
     "execution_count": 132,
     "metadata": {},
     "output_type": "execute_result"
    }
   ],
   "source": [
    "df_old_hdd[\"title\"].value_counts()"
   ]
  },
  {
   "cell_type": "code",
   "execution_count": null,
   "id": "905b1f47",
   "metadata": {},
   "outputs": [],
   "source": [
    "nuevo_orden = ['actor_id', 'film_id', 'name', 'title', 'category_id']"
   ]
  },
  {
   "cell_type": "code",
   "execution_count": null,
   "id": "cff95529",
   "metadata": {},
   "outputs": [],
   "source": [
    "df_old_hdd = df_old_hdd.reindex(columns=nuevo_orden)"
   ]
  },
  {
   "cell_type": "code",
   "execution_count": null,
   "id": "3d1c2a9b",
   "metadata": {},
   "outputs": [],
   "source": [
    "df_old_hdd.head()"
   ]
  },
  {
   "cell_type": "markdown",
   "id": "3fdc3ff0",
   "metadata": {},
   "source": [
    "# 1.6 DataFrame rental. (LIMPIARLA)"
   ]
  },
  {
   "cell_type": "code",
   "execution_count": null,
   "id": "57c9ae9b",
   "metadata": {},
   "outputs": [],
   "source": [
    "df_original_rental = pd.read_csv('data/rental.csv', encoding='latin1')\n",
    "df_rental = df_original_rental.copy()"
   ]
  },
  {
   "cell_type": "code",
   "execution_count": null,
   "id": "45196733",
   "metadata": {},
   "outputs": [],
   "source": [
    "dim_original_rental = df_rental.shape # De esta forma guardo las dimensiones del data frame original.\n",
    "df_rental.shape"
   ]
  },
  {
   "cell_type": "code",
   "execution_count": null,
   "id": "c6824f22",
   "metadata": {},
   "outputs": [],
   "source": [
    "df_rental.head() "
   ]
  },
  {
   "cell_type": "code",
   "execution_count": null,
   "id": "e0669991",
   "metadata": {},
   "outputs": [],
   "source": [
    "df_rental.info()"
   ]
  },
  {
   "cell_type": "code",
   "execution_count": null,
   "id": "ffac79e7",
   "metadata": {},
   "outputs": [],
   "source": [
    "df_rental.last_update.unique()"
   ]
  },
  {
   "cell_type": "code",
   "execution_count": null,
   "id": "c7b8c3b6",
   "metadata": {},
   "outputs": [],
   "source": [
    "df_rental.drop(columns=['last_update'], inplace=True)"
   ]
  },
  {
   "cell_type": "code",
   "execution_count": null,
   "id": "b0f400e6",
   "metadata": {},
   "outputs": [],
   "source": [
    "df_rental['rental_date'] = pd.to_datetime(df_rental['rental_date'])"
   ]
  },
  {
   "cell_type": "code",
   "execution_count": null,
   "id": "4ab50a7b",
   "metadata": {},
   "outputs": [],
   "source": [
    "df_rental['rental_date'] = df_rental['rental_date'].dt.date"
   ]
  },
  {
   "cell_type": "code",
   "execution_count": null,
   "id": "52a5cfff",
   "metadata": {},
   "outputs": [],
   "source": [
    "#y el tiempo concretoi nos da igual porque en el apartado de film solo tenemos cuanto tiempo (en días9 la gente ) ha alquiulado la película, por lo que la hora concreta nos da igual. "
   ]
  },
  {
   "cell_type": "code",
   "execution_count": null,
   "id": "a424fe53",
   "metadata": {},
   "outputs": [],
   "source": [
    "df_rental.head()"
   ]
  },
  {
   "cell_type": "code",
   "execution_count": null,
   "id": "2db08f08",
   "metadata": {},
   "outputs": [],
   "source": [
    "df_rental['return_date'] = pd.to_datetime(df_rental['return_date'])"
   ]
  },
  {
   "cell_type": "code",
   "execution_count": null,
   "id": "438d8fa8",
   "metadata": {},
   "outputs": [],
   "source": [
    "df_rental['return_date'] = df_rental['return_date'].dt.date"
   ]
  },
  {
   "cell_type": "code",
   "execution_count": null,
   "id": "0ed9908f",
   "metadata": {},
   "outputs": [],
   "source": [
    "df_rental.rental_date.unique()"
   ]
  },
  {
   "cell_type": "code",
   "execution_count": null,
   "id": "436dc219",
   "metadata": {},
   "outputs": [],
   "source": [
    "df_rental.head() "
   ]
  },
  {
   "cell_type": "code",
   "execution_count": null,
   "id": "13fc90c5",
   "metadata": {},
   "outputs": [],
   "source": [
    "df_rental.inventory_id.unique()"
   ]
  },
  {
   "cell_type": "code",
   "execution_count": null,
   "id": "7031217c",
   "metadata": {},
   "outputs": [],
   "source": [
    "#aquí hay muchos más regisros que en la parte de inventory_id en inventory, por lo que todos los números que sena más allá del 1000 los eliminaré."
   ]
  },
  {
   "cell_type": "code",
   "execution_count": null,
   "id": "7a833155",
   "metadata": {},
   "outputs": [],
   "source": [
    "df_rental = df_rental[df_rental.inventory_id < 1001]"
   ]
  },
  {
   "cell_type": "code",
   "execution_count": null,
   "id": "154a2c57",
   "metadata": {},
   "outputs": [],
   "source": [
    "df_rental.inventory_id.unique()"
   ]
  },
  {
   "cell_type": "code",
   "execution_count": null,
   "id": "6d25f4f3",
   "metadata": {},
   "outputs": [],
   "source": [
    "#Quiero restar el return date - el rental date para saber cuantos días se tienen las pelis en casa"
   ]
  },
  {
   "cell_type": "code",
   "execution_count": null,
   "id": "214a9a32",
   "metadata": {},
   "outputs": [],
   "source": [
    "\n",
    "# diferencia entre las fechas\n",
    "df_rental['rental_duration'] = (df_rental['return_date'] - df_rental['rental_date']).dt.days\n"
   ]
  },
  {
   "cell_type": "code",
   "execution_count": null,
   "id": "ed950edf",
   "metadata": {},
   "outputs": [],
   "source": [
    "df_rental.rental_duration.unique() #3,4,5,6,7"
   ]
  },
  {
   "cell_type": "code",
   "execution_count": null,
   "id": "02dc3001",
   "metadata": {},
   "outputs": [],
   "source": [
    "df_rental.rental_date.unique()"
   ]
  },
  {
   "cell_type": "code",
   "execution_count": null,
   "id": "7bcea844",
   "metadata": {},
   "outputs": [],
   "source": [
    "df_rental.return_date.unique()"
   ]
  },
  {
   "cell_type": "code",
   "execution_count": null,
   "id": "dc498f2a",
   "metadata": {},
   "outputs": [],
   "source": [
    "#podemos ver que los datos aquí no son muy consistentes. Realmente no nos aportan gran informaación para el estudio `porque no podemos generalizarla.\n",
    "#en primer lugar, los datos están recogidos solo en un periodo muy corto de tiempo (solo el mes de mayo y junio) por lo que es una infotmación con la que no se puede hacer un estudio claro. Muestra muy pequeña.\n",
    "#en segundo lugar, el periordo en el que la gente se queda las peliculas es diferente con respecto al de films. Donde los periorod soo oscilan entre 2 y 7. por lo tanto, solo conservaremos esos datos, el resto de datos, lo que no contienenuno de estos números, los eliminaremos. No podemos fiarnos, al igua que con los número que tienen un inventory_id mayor de 1000. "
   ]
  },
  {
   "cell_type": "code",
   "execution_count": null,
   "id": "d8d31fd8",
   "metadata": {},
   "outputs": [],
   "source": [
    "#puede obeservarse que hay algo que tiene que estar mal porque la rental duration no coincide con la rental duration de la tabla fil. "
   ]
  },
  {
   "cell_type": "code",
   "execution_count": null,
   "id": "8e75f54c",
   "metadata": {},
   "outputs": [],
   "source": [
    "rental_durations_coincidentes = [3, 4, 5, 6, 7]\n",
    "df_rental = df_rental[df_rental['rental_duration'].isin(rental_durations_coincidentes)]"
   ]
  },
  {
   "cell_type": "code",
   "execution_count": null,
   "id": "19ecfae3",
   "metadata": {},
   "outputs": [],
   "source": [
    "df_rental.rental_duration.unique()"
   ]
  }
 ],
 "metadata": {
  "kernelspec": {
   "display_name": "Python 3 (ipykernel)",
   "language": "python",
   "name": "python3"
  },
  "language_info": {
   "codemirror_mode": {
    "name": "ipython",
    "version": 3
   },
   "file_extension": ".py",
   "mimetype": "text/x-python",
   "name": "python",
   "nbconvert_exporter": "python",
   "pygments_lexer": "ipython3",
   "version": "3.11.4"
  }
 },
 "nbformat": 4,
 "nbformat_minor": 5
}
